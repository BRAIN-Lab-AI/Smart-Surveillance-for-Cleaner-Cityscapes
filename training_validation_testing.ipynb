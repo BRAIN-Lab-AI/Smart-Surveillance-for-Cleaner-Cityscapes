{
      "cells": [
            {
                  "cell_type": "markdown",
                  "id": "5d490cb4",
                  "metadata": {},
                  "source": [
                        "# Urban-Eye YOLOv11 Training & Evaluation\n",
                        "\n",
                        "This notebook walks through training and evaluating the YOLOv11 model on the Urban-Eye dataset, including baseline runs, synthetic data augmentation, hyperparameter tuning, and final comparative evaluation.\n"
                  ]
            },
            {
                  "cell_type": "markdown",
                  "id": "ed84e437",
                  "metadata": {},
                  "source": [
                        "## 1. Environment Check\n",
                        "\n",
                        "Ensure that a GPU is available and correctly configured before starting any training.\n"
                  ]
            },
            {
                  "cell_type": "code",
                  "execution_count": 6,
                  "id": "df6cdce4",
                  "metadata": {},
                  "outputs": [
                        {
                              "name": "stdout",
                              "output_type": "stream",
                              "text": [
                                    "Wed Apr 23 12:54:00 2025       \n",
                                    "+-----------------------------------------------------------------------------------------+\n",
                                    "| NVIDIA-SMI 560.35.03              Driver Version: 560.35.03      CUDA Version: 12.6     |\n",
                                    "|-----------------------------------------+------------------------+----------------------+\n",
                                    "| GPU  Name                 Persistence-M | Bus-Id          Disp.A | Volatile Uncorr. ECC |\n",
                                    "| Fan  Temp   Perf          Pwr:Usage/Cap |           Memory-Usage | GPU-Util  Compute M. |\n",
                                    "|                                         |                        |               MIG M. |\n",
                                    "|=========================================+========================+======================|\n",
                                    "|   0  NVIDIA H100 80GB HBM3          On  |   00000000:CF:00.0 Off |                    0 |\n",
                                    "| N/A   31C    P0            142W /  700W |   62474MiB /  81559MiB |      0%      Default |\n",
                                    "|                                         |                        |             Disabled |\n",
                                    "+-----------------------------------------+------------------------+----------------------+\n",
                                    "                                                                                         \n",
                                    "+-----------------------------------------------------------------------------------------+\n",
                                    "| Processes:                                                                              |\n",
                                    "|  GPU   GI   CI        PID   Type   Process name                              GPU Memory |\n",
                                    "|        ID   ID                                                               Usage      |\n",
                                    "|=========================================================================================|\n",
                                    "+-----------------------------------------------------------------------------------------+\n"
                              ]
                        }
                  ],
                  "source": [
                        "!nvidia-smi"
                  ]
            },
            {
                  "cell_type": "markdown",
                  "id": "a5669e4d",
                  "metadata": {},
                  "source": [
                        "## 2. Import Dependencies & Verify Ultralytics Dependencies\n",
                        "\n",
                        "Load the YOLO library and run internal checks to confirm everything is up to date.\n"
                  ]
            },
            {
                  "cell_type": "code",
                  "execution_count": null,
                  "id": "afd6291d",
                  "metadata": {},
                  "outputs": [
                        {
                              "name": "stdout",
                              "output_type": "stream",
                              "text": [
                                    "Ultralytics 8.3.72  Python-3.10.16 torch-2.6.0+cu126 CUDA:0 (NVIDIA GeForce RTX 3070, 8192MiB)\n",
                                    "Setup complete  (20 CPUs, 31.9 GB RAM, 546.1/634.8 GB disk)\n"
                              ]
                        }
                  ],
                  "source": [
                        "import ultralytics\n",
                        "ultralytics.checks()"
                  ]
            },
            {
                  "cell_type": "markdown",
                  "id": "bda47090",
                  "metadata": {},
                  "source": [
                        "## 3. Configure Experiment Logging\n",
                        "\n",
                        "Set up Comet.ml (or local) logging so that each training run is tracked under a clear experiment name.\n"
                  ]
            },
            {
                  "cell_type": "code",
                  "execution_count": 9,
                  "id": "8e9fe185",
                  "metadata": {},
                  "outputs": [
                        {
                              "name": "stdout",
                              "output_type": "stream",
                              "text": [
                                    "\n",
                                    "\u001b[1m[\u001b[0m\u001b[34;49mnotice\u001b[0m\u001b[1;39;49m]\u001b[0m\u001b[39;49m A new release of pip is available: \u001b[0m\u001b[31;49m24.0\u001b[0m\u001b[39;49m -> \u001b[0m\u001b[32;49m25.0.1\u001b[0m\n",
                                    "\u001b[1m[\u001b[0m\u001b[34;49mnotice\u001b[0m\u001b[1;39;49m]\u001b[0m\u001b[39;49m To update, run: \u001b[0m\u001b[32;49mpip install --upgrade pip\u001b[0m\n"
                              ]
                        },
                        {
                              "name": "stderr",
                              "output_type": "stream",
                              "text": [
                                    "\u001b[1;38;5;214mCOMET WARNING:\u001b[0m comet_ml.init() is deprecated and will be removed soon. Please use comet_ml.login()\n"
                              ]
                        },
                        {
                              "name": "stdout",
                              "output_type": "stream",
                              "text": [
                                    "Note: you may need to restart the kernel to use updated packages.\n"
                              ]
                        }
                  ],
                  "source": [
                        "#@title Select YOLO11 🚀 logger {run: 'auto'}\n",
                        "logger = 'Comet' #@param ['Comet', 'TensorBoard']\n",
                        "import os\n",
                        "os.environ.pop(\"COMET_EXPERIMENT_NAME\", None)\n",
                        "os.environ[\"COMET_MODE\"] = \"offline\"\n",
                        "if logger == 'Comet':\n",
                        "  %pip install -q comet_ml\n",
                        "  import comet_ml; comet_ml.init()\n",
                        "elif logger == 'TensorBoard':\n",
                        "  %load_ext tensorboard\n",
                        "  %tensorboard --logdir ."
                  ]
            },
            {
                  "cell_type": "markdown",
                  "id": "82a24294",
                  "metadata": {},
                  "source": [
                        "Baseline with resized images\n",
                        "Baseline with resized images and synthetic images\n",
                        "improved with resized images\n",
                        "improved with resized images and synthetic images\n",
                        "improved with resized images and synthetic images and class weights\n",
                        "\n",
                        "Datasets yamls:  \n",
                        "    urbanEye_synth_clsw.yaml  \n",
                        "    urbanEye-no-clsw-no-Synth.yaml  \n",
                        "    urbanEye-synth-no_clsw.yaml  \n",
                        "    urbanEye-no_synth-clws.yaml  \n",
                        "\n",
                        "experiment 1: baseline model with resized images\n"
                  ]
            },
            {
                  "cell_type": "markdown",
                  "id": "0ea92fe2",
                  "metadata": {},
                  "source": [
                        "## 4. Baseline with Resized Images\n",
                        "\n",
                        "rain the out-of-the-box YOLOv11-L model on Urban-Eye with default settings to see the impact on convergence.\n"
                  ]
            },
            {
                  "cell_type": "code",
                  "execution_count": 10,
                  "id": "7887a4ae",
                  "metadata": {},
                  "outputs": [
                        {
                              "name": "stdout",
                              "output_type": "stream",
                              "text": [
                                    "=========================================================================\n",
                                    "New https://pypi.org/project/ultralytics/8.3.114 available 😃 Update with 'pip install -U ultralytics'\n",
                                    "Ultralytics 8.3.72 🚀 Python-3.11.10 torch-2.6.0+cu124 CUDA:0 (NVIDIA H100 80GB HBM3, 81110MiB)\n",
                                    "\u001b[34m\u001b[1mengine/trainer: \u001b[0mtask=detect, mode=train, model=yolo11l.pt, data=urbanEye-no-clsw-no-Synth.yaml, epochs=100, time=None, patience=100, batch=100, imgsz=640, save=True, save_period=-1, cache=disk, device=0, workers=32, project=DL504, name=train49, exist_ok=False, pretrained=True, optimizer=auto, verbose=True, seed=0, deterministic=True, single_cls=False, rect=False, cos_lr=True, close_mosaic=0, resume=False, amp=True, fraction=1.0, profile=False, freeze=None, multi_scale=False, overlap_mask=True, mask_ratio=4, dropout=0.0, val=True, split=val, save_json=False, save_hybrid=False, conf=0.25, iou=0.65, max_det=300, half=False, dnn=False, plots=True, source=None, vid_stride=1, stream_buffer=False, visualize=False, augment=False, agnostic_nms=False, classes=None, retina_masks=False, embed=None, show=False, save_frames=False, save_txt=False, save_conf=False, save_crop=False, show_labels=True, show_conf=True, show_boxes=True, line_width=None, format=torchscript, keras=False, optimize=False, int8=False, dynamic=False, simplify=True, opset=None, workspace=0, nms=False, lr0=0.001, lrf=0.01, momentum=0.937, weight_decay=0.0, warmup_epochs=3.0, warmup_momentum=0.8, warmup_bias_lr=0.1, box=7.5, cls=0.5, dfl=1.5, pose=12.0, kobj=1.0, nbs=64, hsv_h=0.0, hsv_s=0.0, hsv_v=0.0, degrees=0.0, translate=0.0, scale=0.0, shear=0.0, perspective=0.0, flipud=0.0, fliplr=0.0, bgr=0.0, mosaic=0.0, mixup=0.0, copy_paste=0.0, copy_paste_mode=flip, auto_augment=none, erasing=0.0, crop_fraction=1.0, cfg=cfg/default-no-reg.yaml, tracker=botsort.yaml, save_dir=DL504/train49\n",
                                    "Overriding model.yaml nc=80 with nc=11\n",
                                    "\n",
                                    "                   from  n    params  module                                       arguments                     \n",
                                    "  0                  -1  1      1856  ultralytics.nn.modules.conv.Conv             [3, 64, 3, 2]                 \n",
                                    "  1                  -1  1     73984  ultralytics.nn.modules.conv.Conv             [64, 128, 3, 2]               \n",
                                    "  2                  -1  2    173824  ultralytics.nn.modules.block.C3k2            [128, 256, 2, True, 0.25]     \n",
                                    "  3                  -1  1    590336  ultralytics.nn.modules.conv.Conv             [256, 256, 3, 2]              \n",
                                    "  4                  -1  2    691712  ultralytics.nn.modules.block.C3k2            [256, 512, 2, True, 0.25]     \n",
                                    "  5                  -1  1   2360320  ultralytics.nn.modules.conv.Conv             [512, 512, 3, 2]              \n",
                                    "  6                  -1  2   2234368  ultralytics.nn.modules.block.C3k2            [512, 512, 2, True]           \n",
                                    "  7                  -1  1   2360320  ultralytics.nn.modules.conv.Conv             [512, 512, 3, 2]              \n",
                                    "  8                  -1  2   2234368  ultralytics.nn.modules.block.C3k2            [512, 512, 2, True]           \n",
                                    "  9                  -1  1    656896  ultralytics.nn.modules.block.SPPF            [512, 512, 5]                 \n",
                                    " 10                  -1  2   1455616  ultralytics.nn.modules.block.C2PSA           [512, 512, 2]                 \n",
                                    " 11                  -1  1         0  torch.nn.modules.upsampling.Upsample         [None, 2, 'nearest']          \n",
                                    " 12             [-1, 6]  1         0  ultralytics.nn.modules.conv.Concat           [1]                           \n",
                                    " 13                  -1  2   2496512  ultralytics.nn.modules.block.C3k2            [1024, 512, 2, True]          \n",
                                    " 14                  -1  1         0  torch.nn.modules.upsampling.Upsample         [None, 2, 'nearest']          \n",
                                    " 15             [-1, 4]  1         0  ultralytics.nn.modules.conv.Concat           [1]                           \n",
                                    " 16                  -1  2    756736  ultralytics.nn.modules.block.C3k2            [1024, 256, 2, True]          \n",
                                    " 17                  -1  1    590336  ultralytics.nn.modules.conv.Conv             [256, 256, 3, 2]              \n",
                                    " 18            [-1, 13]  1         0  ultralytics.nn.modules.conv.Concat           [1]                           \n",
                                    " 19                  -1  2   2365440  ultralytics.nn.modules.block.C3k2            [768, 512, 2, True]           \n",
                                    " 20                  -1  1   2360320  ultralytics.nn.modules.conv.Conv             [512, 512, 3, 2]              \n",
                                    " 21            [-1, 10]  1         0  ultralytics.nn.modules.conv.Concat           [1]                           \n",
                                    " 22                  -1  2   2496512  ultralytics.nn.modules.block.C3k2            [1024, 512, 2, True]          \n",
                                    " 23        [16, 19, 22]  1   1419505  ultralytics.nn.modules.head.Detect           [11, [256, 512, 512]]         \n",
                                    "YOLO11l summary: 631 layers, 25,318,961 parameters, 25,318,945 gradients, 87.3 GFLOPs\n",
                                    "\n",
                                    "Transferred 1009/1015 items from pretrained weights\n",
                                    "Class Weights in Use: None\n",
                                    "Freezing layer 'model.23.dfl.conv.weight'\n",
                                    "\u001b[34m\u001b[1mAMP: \u001b[0mrunning Automatic Mixed Precision (AMP) checks...\n",
                                    "\u001b[34m\u001b[1mAMP: \u001b[0mchecks passed ✅\n"
                              ]
                        },
                        {
                              "name": "stderr",
                              "output_type": "stream",
                              "text": [
                                    "\u001b[34m\u001b[1mtrain: \u001b[0mScanning /workspace/datasets/urbanEye/dataset/labels/train.cache... 5511 images, 0 backgrounds, 0 corrupt: 100%|██████████| 5511/5511 [00:00<?, ?it/s]\n",
                                    "\u001b[34m\u001b[1mtrain: \u001b[0mCaching images (6.3GB Disk): 100%|██████████| 5511/5511 [00:01<00:00, 3903.14it/s]\n",
                                    "\u001b[34m\u001b[1mval: \u001b[0mScanning /workspace/datasets/urbanEye/dataset/labels/eval.cache... 1181 images, 0 backgrounds, 0 corrupt: 100%|██████████| 1181/1181 [00:00<?, ?it/s]\n",
                                    "\u001b[34m\u001b[1mval: \u001b[0mCaching images (1.4GB Disk): 100%|██████████| 1181/1181 [00:00<00:00, 2612.88it/s]\n"
                              ]
                        },
                        {
                              "name": "stdout",
                              "output_type": "stream",
                              "text": [
                                    "Plotting labels to DL504/train49/labels.jpg... \n",
                                    "\u001b[34m\u001b[1moptimizer:\u001b[0m 'optimizer=auto' found, ignoring 'lr0=0.001' and 'momentum=0.937' and determining best 'optimizer', 'lr0' and 'momentum' automatically... \n",
                                    "\u001b[34m\u001b[1moptimizer:\u001b[0m AdamW(lr=0.000667, momentum=0.9) with parameter groups 167 weight(decay=0.0), 174 weight(decay=0.0), 173 bias(decay=0.0)\n",
                                    "Image sizes 640 train, 640 val\n",
                                    "Using 32 dataloader workers\n",
                                    "Logging results to \u001b[1mDL504/train49\u001b[0m\n",
                                    "Starting training for 100 epochs...\n",
                                    "\n",
                                    "      Epoch    GPU_mem   box_loss   cls_loss   dfl_loss  Instances       Size\n"
                              ]
                        },
                        {
                              "name": "stderr",
                              "output_type": "stream",
                              "text": [
                                    "      1/100        65G      2.438      4.129      2.664         26        640: 100%|██████████| 56/56 [01:01<00:00,  1.09s/it]\n",
                                    "                 Class     Images  Instances      Box(P          R      mAP50  mAP50-95): 100%|██████████| 6/6 [00:03<00:00,  1.72it/s]\n"
                              ]
                        },
                        {
                              "name": "stdout",
                              "output_type": "stream",
                              "text": [
                                    "                   all       1181       2981     0.0706      0.162     0.0563     0.0245\n",
                                    "\n",
                                    "      Epoch    GPU_mem   box_loss   cls_loss   dfl_loss  Instances       Size\n"
                              ]
                        },
                        {
                              "name": "stderr",
                              "output_type": "stream",
                              "text": [
                                    "      2/100      66.2G      1.914      2.374       2.19         29        640: 100%|██████████| 56/56 [00:30<00:00,  1.84it/s]\n",
                                    "                 Class     Images  Instances      Box(P          R      mAP50  mAP50-95): 100%|██████████| 6/6 [00:03<00:00,  1.72it/s]"
                              ]
                        },
                        {
                              "name": "stdout",
                              "output_type": "stream",
                              "text": [
                                    "                   all       1181       2981      0.151      0.122     0.0933      0.048\n"
                              ]
                        },
                        {
                              "name": "stderr",
                              "output_type": "stream",
                              "text": [
                                    "\n"
                              ]
                        },
                        {
                              "name": "stdout",
                              "output_type": "stream",
                              "text": [
                                    "\n",
                                    "      Epoch    GPU_mem   box_loss   cls_loss   dfl_loss  Instances       Size\n"
                              ]
                        },
                        {
                              "name": "stderr",
                              "output_type": "stream",
                              "text": [
                                    "      3/100      66.2G      1.917      2.302      2.217         30        640: 100%|██████████| 56/56 [00:29<00:00,  1.89it/s]\n",
                                    "                 Class     Images  Instances      Box(P          R      mAP50  mAP50-95): 100%|██████████| 6/6 [00:04<00:00,  1.43it/s]"
                              ]
                        },
                        {
                              "name": "stdout",
                              "output_type": "stream",
                              "text": [
                                    "                   all       1181       2981    0.00217      0.117    0.00155   0.000631\n"
                              ]
                        },
                        {
                              "name": "stderr",
                              "output_type": "stream",
                              "text": [
                                    "\n"
                              ]
                        },
                        {
                              "name": "stdout",
                              "output_type": "stream",
                              "text": [
                                    "\n",
                                    "      Epoch    GPU_mem   box_loss   cls_loss   dfl_loss  Instances       Size\n"
                              ]
                        },
                        {
                              "name": "stderr",
                              "output_type": "stream",
                              "text": [
                                    "      4/100      66.2G      1.882      2.184      2.203         23        640: 100%|██████████| 56/56 [00:29<00:00,  1.92it/s]\n",
                                    "                 Class     Images  Instances      Box(P          R      mAP50  mAP50-95): 100%|██████████| 6/6 [00:03<00:00,  2.00it/s]"
                              ]
                        },
                        {
                              "name": "stdout",
                              "output_type": "stream",
                              "text": [
                                    "                   all       1181       2981      0.295      0.194      0.139     0.0615\n"
                              ]
                        },
                        {
                              "name": "stderr",
                              "output_type": "stream",
                              "text": [
                                    "\n"
                              ]
                        },
                        {
                              "name": "stdout",
                              "output_type": "stream",
                              "text": [
                                    "\n",
                                    "      Epoch    GPU_mem   box_loss   cls_loss   dfl_loss  Instances       Size\n"
                              ]
                        },
                        {
                              "name": "stderr",
                              "output_type": "stream",
                              "text": [
                                    "      5/100      66.1G      1.827      2.043      2.159         19        640: 100%|██████████| 56/56 [00:29<00:00,  1.92it/s]\n",
                                    "                 Class     Images  Instances      Box(P          R      mAP50  mAP50-95): 100%|██████████| 6/6 [00:03<00:00,  1.75it/s]"
                              ]
                        },
                        {
                              "name": "stdout",
                              "output_type": "stream",
                              "text": [
                                    "                   all       1181       2981      0.108      0.137     0.0717     0.0296\n"
                              ]
                        },
                        {
                              "name": "stderr",
                              "output_type": "stream",
                              "text": [
                                    "\n"
                              ]
                        },
                        {
                              "name": "stdout",
                              "output_type": "stream",
                              "text": [
                                    "\n",
                                    "      Epoch    GPU_mem   box_loss   cls_loss   dfl_loss  Instances       Size\n"
                              ]
                        },
                        {
                              "name": "stderr",
                              "output_type": "stream",
                              "text": [
                                    "      6/100      66.2G      1.766      1.869      2.106         17        640: 100%|██████████| 56/56 [00:29<00:00,  1.89it/s]\n",
                                    "                 Class     Images  Instances      Box(P          R      mAP50  mAP50-95): 100%|██████████| 6/6 [00:03<00:00,  1.75it/s]"
                              ]
                        },
                        {
                              "name": "stdout",
                              "output_type": "stream",
                              "text": [
                                    "                   all       1181       2981      0.412      0.265      0.241      0.104\n"
                              ]
                        },
                        {
                              "name": "stderr",
                              "output_type": "stream",
                              "text": [
                                    "\n"
                              ]
                        },
                        {
                              "name": "stdout",
                              "output_type": "stream",
                              "text": [
                                    "\n",
                                    "      Epoch    GPU_mem   box_loss   cls_loss   dfl_loss  Instances       Size\n"
                              ]
                        },
                        {
                              "name": "stderr",
                              "output_type": "stream",
                              "text": [
                                    "      7/100      66.1G       1.72       1.73      2.064         17        640: 100%|██████████| 56/56 [00:29<00:00,  1.89it/s]\n",
                                    "                 Class     Images  Instances      Box(P          R      mAP50  mAP50-95): 100%|██████████| 6/6 [00:03<00:00,  1.80it/s]"
                              ]
                        },
                        {
                              "name": "stdout",
                              "output_type": "stream",
                              "text": [
                                    "                   all       1181       2981      0.271      0.277      0.253       0.12\n"
                              ]
                        },
                        {
                              "name": "stderr",
                              "output_type": "stream",
                              "text": [
                                    "\n"
                              ]
                        },
                        {
                              "name": "stdout",
                              "output_type": "stream",
                              "text": [
                                    "\n",
                                    "      Epoch    GPU_mem   box_loss   cls_loss   dfl_loss  Instances       Size\n"
                              ]
                        },
                        {
                              "name": "stderr",
                              "output_type": "stream",
                              "text": [
                                    "      8/100      66.2G       1.67      1.594       2.03         22        640: 100%|██████████| 56/56 [00:29<00:00,  1.90it/s]\n",
                                    "                 Class     Images  Instances      Box(P          R      mAP50  mAP50-95): 100%|██████████| 6/6 [00:03<00:00,  1.90it/s]"
                              ]
                        },
                        {
                              "name": "stdout",
                              "output_type": "stream",
                              "text": [
                                    "                   all       1181       2981      0.349      0.221      0.279      0.122\n"
                              ]
                        },
                        {
                              "name": "stderr",
                              "output_type": "stream",
                              "text": [
                                    "\n"
                              ]
                        },
                        {
                              "name": "stdout",
                              "output_type": "stream",
                              "text": [
                                    "\n",
                                    "      Epoch    GPU_mem   box_loss   cls_loss   dfl_loss  Instances       Size\n"
                              ]
                        },
                        {
                              "name": "stderr",
                              "output_type": "stream",
                              "text": [
                                    "      9/100      66.1G      1.599       1.45      1.966         36        640: 100%|██████████| 56/56 [00:29<00:00,  1.91it/s]\n",
                                    "                 Class     Images  Instances      Box(P          R      mAP50  mAP50-95): 100%|██████████| 6/6 [00:02<00:00,  2.08it/s]"
                              ]
                        },
                        {
                              "name": "stdout",
                              "output_type": "stream",
                              "text": [
                                    "                   all       1181       2981      0.279      0.319      0.292      0.133\n"
                              ]
                        },
                        {
                              "name": "stderr",
                              "output_type": "stream",
                              "text": [
                                    "\n"
                              ]
                        },
                        {
                              "name": "stdout",
                              "output_type": "stream",
                              "text": [
                                    "\n",
                                    "      Epoch    GPU_mem   box_loss   cls_loss   dfl_loss  Instances       Size\n"
                              ]
                        },
                        {
                              "name": "stderr",
                              "output_type": "stream",
                              "text": [
                                    "     10/100      66.3G      1.542      1.296      1.912         22        640: 100%|██████████| 56/56 [00:28<00:00,  1.97it/s]\n",
                                    "                 Class     Images  Instances      Box(P          R      mAP50  mAP50-95): 100%|██████████| 6/6 [00:02<00:00,  2.12it/s]"
                              ]
                        },
                        {
                              "name": "stdout",
                              "output_type": "stream",
                              "text": [
                                    "                   all       1181       2981      0.352      0.357      0.346       0.16\n"
                              ]
                        },
                        {
                              "name": "stderr",
                              "output_type": "stream",
                              "text": [
                                    "\n"
                              ]
                        },
                        {
                              "name": "stdout",
                              "output_type": "stream",
                              "text": [
                                    "\n",
                                    "      Epoch    GPU_mem   box_loss   cls_loss   dfl_loss  Instances       Size\n"
                              ]
                        },
                        {
                              "name": "stderr",
                              "output_type": "stream",
                              "text": [
                                    "     11/100      66.1G       1.48      1.172      1.858         27        640: 100%|██████████| 56/56 [00:28<00:00,  1.95it/s]\n",
                                    "                 Class     Images  Instances      Box(P          R      mAP50  mAP50-95): 100%|██████████| 6/6 [00:02<00:00,  2.20it/s]"
                              ]
                        },
                        {
                              "name": "stdout",
                              "output_type": "stream",
                              "text": [
                                    "                   all       1181       2981      0.427      0.247      0.334      0.153\n"
                              ]
                        },
                        {
                              "name": "stderr",
                              "output_type": "stream",
                              "text": [
                                    "\n"
                              ]
                        },
                        {
                              "name": "stdout",
                              "output_type": "stream",
                              "text": [
                                    "\n",
                                    "      Epoch    GPU_mem   box_loss   cls_loss   dfl_loss  Instances       Size\n"
                              ]
                        },
                        {
                              "name": "stderr",
                              "output_type": "stream",
                              "text": [
                                    "     12/100      66.2G      1.417      1.062      1.803         30        640: 100%|██████████| 56/56 [00:28<00:00,  1.95it/s]\n",
                                    "                 Class     Images  Instances      Box(P          R      mAP50  mAP50-95): 100%|██████████| 6/6 [00:02<00:00,  2.04it/s]"
                              ]
                        },
                        {
                              "name": "stdout",
                              "output_type": "stream",
                              "text": [
                                    "                   all       1181       2981      0.479       0.38      0.342      0.139\n"
                              ]
                        },
                        {
                              "name": "stderr",
                              "output_type": "stream",
                              "text": [
                                    "\n"
                              ]
                        },
                        {
                              "name": "stdout",
                              "output_type": "stream",
                              "text": [
                                    "\n",
                                    "      Epoch    GPU_mem   box_loss   cls_loss   dfl_loss  Instances       Size\n"
                              ]
                        },
                        {
                              "name": "stderr",
                              "output_type": "stream",
                              "text": [
                                    "     13/100      66.2G      1.358     0.9695      1.751         20        640: 100%|██████████| 56/56 [00:28<00:00,  1.96it/s]\n",
                                    "                 Class     Images  Instances      Box(P          R      mAP50  mAP50-95): 100%|██████████| 6/6 [00:02<00:00,  2.09it/s]"
                              ]
                        },
                        {
                              "name": "stdout",
                              "output_type": "stream",
                              "text": [
                                    "                   all       1181       2981      0.409      0.349      0.359      0.181\n"
                              ]
                        },
                        {
                              "name": "stderr",
                              "output_type": "stream",
                              "text": [
                                    "\n"
                              ]
                        },
                        {
                              "name": "stdout",
                              "output_type": "stream",
                              "text": [
                                    "\n",
                                    "      Epoch    GPU_mem   box_loss   cls_loss   dfl_loss  Instances       Size\n"
                              ]
                        },
                        {
                              "name": "stderr",
                              "output_type": "stream",
                              "text": [
                                    "     14/100      66.1G      1.282     0.8786      1.679         29        640: 100%|██████████| 56/56 [00:28<00:00,  1.97it/s]\n",
                                    "                 Class     Images  Instances      Box(P          R      mAP50  mAP50-95): 100%|██████████| 6/6 [00:02<00:00,  2.06it/s]"
                              ]
                        },
                        {
                              "name": "stdout",
                              "output_type": "stream",
                              "text": [
                                    "                   all       1181       2981      0.366      0.371      0.346      0.158\n"
                              ]
                        },
                        {
                              "name": "stderr",
                              "output_type": "stream",
                              "text": [
                                    "\n"
                              ]
                        },
                        {
                              "name": "stdout",
                              "output_type": "stream",
                              "text": [
                                    "\n",
                                    "      Epoch    GPU_mem   box_loss   cls_loss   dfl_loss  Instances       Size\n"
                              ]
                        },
                        {
                              "name": "stderr",
                              "output_type": "stream",
                              "text": [
                                    "     15/100      66.2G      1.218     0.7989      1.625         21        640: 100%|██████████| 56/56 [00:28<00:00,  1.97it/s]\n",
                                    "                 Class     Images  Instances      Box(P          R      mAP50  mAP50-95): 100%|██████████| 6/6 [00:02<00:00,  2.12it/s]"
                              ]
                        },
                        {
                              "name": "stdout",
                              "output_type": "stream",
                              "text": [
                                    "                   all       1181       2981       0.41      0.298      0.324      0.151\n"
                              ]
                        },
                        {
                              "name": "stderr",
                              "output_type": "stream",
                              "text": [
                                    "\n"
                              ]
                        },
                        {
                              "name": "stdout",
                              "output_type": "stream",
                              "text": [
                                    "\n",
                                    "      Epoch    GPU_mem   box_loss   cls_loss   dfl_loss  Instances       Size\n"
                              ]
                        },
                        {
                              "name": "stderr",
                              "output_type": "stream",
                              "text": [
                                    "     16/100      66.2G      1.155     0.7523       1.57         18        640: 100%|██████████| 56/56 [00:28<00:00,  1.96it/s]\n",
                                    "                 Class     Images  Instances      Box(P          R      mAP50  mAP50-95): 100%|██████████| 6/6 [00:02<00:00,  2.09it/s]"
                              ]
                        },
                        {
                              "name": "stdout",
                              "output_type": "stream",
                              "text": [
                                    "                   all       1181       2981      0.458      0.365      0.393      0.173\n"
                              ]
                        },
                        {
                              "name": "stderr",
                              "output_type": "stream",
                              "text": [
                                    "\n"
                              ]
                        },
                        {
                              "name": "stdout",
                              "output_type": "stream",
                              "text": [
                                    "\n",
                                    "      Epoch    GPU_mem   box_loss   cls_loss   dfl_loss  Instances       Size\n"
                              ]
                        },
                        {
                              "name": "stderr",
                              "output_type": "stream",
                              "text": [
                                    "     17/100      66.2G        1.1     0.6902      1.519         28        640: 100%|██████████| 56/56 [00:28<00:00,  1.95it/s]\n",
                                    "                 Class     Images  Instances      Box(P          R      mAP50  mAP50-95): 100%|██████████| 6/6 [00:02<00:00,  2.12it/s]"
                              ]
                        },
                        {
                              "name": "stdout",
                              "output_type": "stream",
                              "text": [
                                    "                   all       1181       2981        0.4      0.345      0.334      0.159\n"
                              ]
                        },
                        {
                              "name": "stderr",
                              "output_type": "stream",
                              "text": [
                                    "\n"
                              ]
                        },
                        {
                              "name": "stdout",
                              "output_type": "stream",
                              "text": [
                                    "\n",
                                    "      Epoch    GPU_mem   box_loss   cls_loss   dfl_loss  Instances       Size\n"
                              ]
                        },
                        {
                              "name": "stderr",
                              "output_type": "stream",
                              "text": [
                                    "     18/100      66.2G      1.051     0.6475      1.478         30        640: 100%|██████████| 56/56 [00:28<00:00,  1.98it/s]\n",
                                    "                 Class     Images  Instances      Box(P          R      mAP50  mAP50-95): 100%|██████████| 6/6 [00:02<00:00,  2.07it/s]"
                              ]
                        },
                        {
                              "name": "stdout",
                              "output_type": "stream",
                              "text": [
                                    "                   all       1181       2981      0.457      0.399      0.399      0.182\n"
                              ]
                        },
                        {
                              "name": "stderr",
                              "output_type": "stream",
                              "text": [
                                    "\n"
                              ]
                        },
                        {
                              "name": "stdout",
                              "output_type": "stream",
                              "text": [
                                    "\n",
                                    "      Epoch    GPU_mem   box_loss   cls_loss   dfl_loss  Instances       Size\n"
                              ]
                        },
                        {
                              "name": "stderr",
                              "output_type": "stream",
                              "text": [
                                    "     19/100      66.2G      0.993     0.6062       1.42         22        640: 100%|██████████| 56/56 [00:28<00:00,  1.97it/s]\n",
                                    "                 Class     Images  Instances      Box(P          R      mAP50  mAP50-95): 100%|██████████| 6/6 [00:02<00:00,  2.10it/s]"
                              ]
                        },
                        {
                              "name": "stdout",
                              "output_type": "stream",
                              "text": [
                                    "                   all       1181       2981      0.409      0.284      0.314       0.14\n"
                              ]
                        },
                        {
                              "name": "stderr",
                              "output_type": "stream",
                              "text": [
                                    "\n"
                              ]
                        },
                        {
                              "name": "stdout",
                              "output_type": "stream",
                              "text": [
                                    "\n",
                                    "      Epoch    GPU_mem   box_loss   cls_loss   dfl_loss  Instances       Size\n"
                              ]
                        },
                        {
                              "name": "stderr",
                              "output_type": "stream",
                              "text": [
                                    "     20/100      66.2G     0.9457     0.5722      1.383         29        640: 100%|██████████| 56/56 [00:28<00:00,  1.97it/s]\n",
                                    "                 Class     Images  Instances      Box(P          R      mAP50  mAP50-95): 100%|██████████| 6/6 [00:02<00:00,  2.13it/s]"
                              ]
                        },
                        {
                              "name": "stdout",
                              "output_type": "stream",
                              "text": [
                                    "                   all       1181       2981      0.433       0.32      0.342      0.149\n"
                              ]
                        },
                        {
                              "name": "stderr",
                              "output_type": "stream",
                              "text": [
                                    "\n"
                              ]
                        },
                        {
                              "name": "stdout",
                              "output_type": "stream",
                              "text": [
                                    "\n",
                                    "      Epoch    GPU_mem   box_loss   cls_loss   dfl_loss  Instances       Size\n"
                              ]
                        },
                        {
                              "name": "stderr",
                              "output_type": "stream",
                              "text": [
                                    "     21/100      66.3G     0.8995      0.535      1.339         21        640: 100%|██████████| 56/56 [00:28<00:00,  1.98it/s]\n",
                                    "                 Class     Images  Instances      Box(P          R      mAP50  mAP50-95): 100%|██████████| 6/6 [00:02<00:00,  2.15it/s]"
                              ]
                        },
                        {
                              "name": "stdout",
                              "output_type": "stream",
                              "text": [
                                    "                   all       1181       2981      0.385      0.329      0.351      0.156\n"
                              ]
                        },
                        {
                              "name": "stderr",
                              "output_type": "stream",
                              "text": [
                                    "\n"
                              ]
                        },
                        {
                              "name": "stdout",
                              "output_type": "stream",
                              "text": [
                                    "\n",
                                    "      Epoch    GPU_mem   box_loss   cls_loss   dfl_loss  Instances       Size\n"
                              ]
                        },
                        {
                              "name": "stderr",
                              "output_type": "stream",
                              "text": [
                                    "     22/100      66.2G     0.8611     0.5082      1.303         26        640: 100%|██████████| 56/56 [00:28<00:00,  1.96it/s]\n",
                                    "                 Class     Images  Instances      Box(P          R      mAP50  mAP50-95): 100%|██████████| 6/6 [00:02<00:00,  2.09it/s]"
                              ]
                        },
                        {
                              "name": "stdout",
                              "output_type": "stream",
                              "text": [
                                    "                   all       1181       2981      0.415      0.369      0.339      0.159\n"
                              ]
                        },
                        {
                              "name": "stderr",
                              "output_type": "stream",
                              "text": [
                                    "\n"
                              ]
                        },
                        {
                              "name": "stdout",
                              "output_type": "stream",
                              "text": [
                                    "\n",
                                    "      Epoch    GPU_mem   box_loss   cls_loss   dfl_loss  Instances       Size\n"
                              ]
                        },
                        {
                              "name": "stderr",
                              "output_type": "stream",
                              "text": [
                                    "     23/100      66.2G     0.8238     0.4877       1.27         25        640: 100%|██████████| 56/56 [00:28<00:00,  1.97it/s]\n",
                                    "                 Class     Images  Instances      Box(P          R      mAP50  mAP50-95): 100%|██████████| 6/6 [00:02<00:00,  2.08it/s]"
                              ]
                        },
                        {
                              "name": "stdout",
                              "output_type": "stream",
                              "text": [
                                    "                   all       1181       2981      0.376      0.341      0.319       0.13\n"
                              ]
                        },
                        {
                              "name": "stderr",
                              "output_type": "stream",
                              "text": [
                                    "\n"
                              ]
                        },
                        {
                              "name": "stdout",
                              "output_type": "stream",
                              "text": [
                                    "\n",
                                    "      Epoch    GPU_mem   box_loss   cls_loss   dfl_loss  Instances       Size\n"
                              ]
                        },
                        {
                              "name": "stderr",
                              "output_type": "stream",
                              "text": [
                                    "     24/100      66.2G     0.7744     0.4629      1.229         34        640: 100%|██████████| 56/56 [00:28<00:00,  1.97it/s]\n",
                                    "                 Class     Images  Instances      Box(P          R      mAP50  mAP50-95): 100%|██████████| 6/6 [00:02<00:00,  2.11it/s]"
                              ]
                        },
                        {
                              "name": "stdout",
                              "output_type": "stream",
                              "text": [
                                    "                   all       1181       2981      0.386      0.313       0.32      0.145\n"
                              ]
                        },
                        {
                              "name": "stderr",
                              "output_type": "stream",
                              "text": [
                                    "\n"
                              ]
                        },
                        {
                              "name": "stdout",
                              "output_type": "stream",
                              "text": [
                                    "\n",
                                    "      Epoch    GPU_mem   box_loss   cls_loss   dfl_loss  Instances       Size\n"
                              ]
                        },
                        {
                              "name": "stderr",
                              "output_type": "stream",
                              "text": [
                                    "     25/100      66.3G     0.7493     0.4419      1.205         26        640: 100%|██████████| 56/56 [00:28<00:00,  1.97it/s]\n",
                                    "                 Class     Images  Instances      Box(P          R      mAP50  mAP50-95): 100%|██████████| 6/6 [00:02<00:00,  2.14it/s]"
                              ]
                        },
                        {
                              "name": "stdout",
                              "output_type": "stream",
                              "text": [
                                    "                   all       1181       2981       0.39      0.326       0.32      0.141\n"
                              ]
                        },
                        {
                              "name": "stderr",
                              "output_type": "stream",
                              "text": [
                                    "\n"
                              ]
                        },
                        {
                              "name": "stdout",
                              "output_type": "stream",
                              "text": [
                                    "\n",
                                    "      Epoch    GPU_mem   box_loss   cls_loss   dfl_loss  Instances       Size\n"
                              ]
                        },
                        {
                              "name": "stderr",
                              "output_type": "stream",
                              "text": [
                                    "     26/100      66.2G     0.7133     0.4221      1.173         24        640: 100%|██████████| 56/56 [00:28<00:00,  1.97it/s]\n",
                                    "                 Class     Images  Instances      Box(P          R      mAP50  mAP50-95): 100%|██████████| 6/6 [00:02<00:00,  2.17it/s]"
                              ]
                        },
                        {
                              "name": "stdout",
                              "output_type": "stream",
                              "text": [
                                    "                   all       1181       2981      0.356      0.327      0.316      0.145\n"
                              ]
                        },
                        {
                              "name": "stderr",
                              "output_type": "stream",
                              "text": [
                                    "\n"
                              ]
                        },
                        {
                              "name": "stdout",
                              "output_type": "stream",
                              "text": [
                                    "\n",
                                    "      Epoch    GPU_mem   box_loss   cls_loss   dfl_loss  Instances       Size\n"
                              ]
                        },
                        {
                              "name": "stderr",
                              "output_type": "stream",
                              "text": [
                                    "     27/100      66.3G     0.6883     0.4011       1.15         30        640: 100%|██████████| 56/56 [00:28<00:00,  1.97it/s]\n",
                                    "                 Class     Images  Instances      Box(P          R      mAP50  mAP50-95): 100%|██████████| 6/6 [00:02<00:00,  2.16it/s]"
                              ]
                        },
                        {
                              "name": "stdout",
                              "output_type": "stream",
                              "text": [
                                    "                   all       1181       2981      0.453      0.305      0.347      0.154\n"
                              ]
                        },
                        {
                              "name": "stderr",
                              "output_type": "stream",
                              "text": [
                                    "\n"
                              ]
                        },
                        {
                              "name": "stdout",
                              "output_type": "stream",
                              "text": [
                                    "\n",
                                    "      Epoch    GPU_mem   box_loss   cls_loss   dfl_loss  Instances       Size\n"
                              ]
                        },
                        {
                              "name": "stderr",
                              "output_type": "stream",
                              "text": [
                                    "     28/100      66.2G     0.6529     0.3863      1.118         25        640: 100%|██████████| 56/56 [00:28<00:00,  1.97it/s]\n",
                                    "                 Class     Images  Instances      Box(P          R      mAP50  mAP50-95): 100%|██████████| 6/6 [00:02<00:00,  2.15it/s]"
                              ]
                        },
                        {
                              "name": "stdout",
                              "output_type": "stream",
                              "text": [
                                    "                   all       1181       2981      0.496      0.284      0.312      0.151\n"
                              ]
                        },
                        {
                              "name": "stderr",
                              "output_type": "stream",
                              "text": [
                                    "\n"
                              ]
                        },
                        {
                              "name": "stdout",
                              "output_type": "stream",
                              "text": [
                                    "\n",
                                    "      Epoch    GPU_mem   box_loss   cls_loss   dfl_loss  Instances       Size\n"
                              ]
                        },
                        {
                              "name": "stderr",
                              "output_type": "stream",
                              "text": [
                                    "     29/100      66.2G     0.6311     0.3748        1.1         24        640: 100%|██████████| 56/56 [00:28<00:00,  1.97it/s]\n",
                                    "                 Class     Images  Instances      Box(P          R      mAP50  mAP50-95): 100%|██████████| 6/6 [00:02<00:00,  2.19it/s]"
                              ]
                        },
                        {
                              "name": "stdout",
                              "output_type": "stream",
                              "text": [
                                    "                   all       1181       2981      0.415      0.284      0.324      0.142\n"
                              ]
                        },
                        {
                              "name": "stderr",
                              "output_type": "stream",
                              "text": [
                                    "\n"
                              ]
                        },
                        {
                              "name": "stdout",
                              "output_type": "stream",
                              "text": [
                                    "\n",
                                    "      Epoch    GPU_mem   box_loss   cls_loss   dfl_loss  Instances       Size\n"
                              ]
                        },
                        {
                              "name": "stderr",
                              "output_type": "stream",
                              "text": [
                                    "     30/100      66.2G      0.606     0.3612      1.078         25        640: 100%|██████████| 56/56 [00:28<00:00,  1.96it/s]\n",
                                    "                 Class     Images  Instances      Box(P          R      mAP50  mAP50-95): 100%|██████████| 6/6 [00:02<00:00,  2.20it/s]"
                              ]
                        },
                        {
                              "name": "stdout",
                              "output_type": "stream",
                              "text": [
                                    "                   all       1181       2981      0.471      0.297      0.364      0.168\n"
                              ]
                        },
                        {
                              "name": "stderr",
                              "output_type": "stream",
                              "text": [
                                    "\n"
                              ]
                        },
                        {
                              "name": "stdout",
                              "output_type": "stream",
                              "text": [
                                    "\n",
                                    "      Epoch    GPU_mem   box_loss   cls_loss   dfl_loss  Instances       Size\n"
                              ]
                        },
                        {
                              "name": "stderr",
                              "output_type": "stream",
                              "text": [
                                    "     31/100      66.2G     0.5738     0.3432      1.052         26        640: 100%|██████████| 56/56 [00:28<00:00,  1.97it/s]\n",
                                    "                 Class     Images  Instances      Box(P          R      mAP50  mAP50-95): 100%|██████████| 6/6 [00:02<00:00,  2.23it/s]"
                              ]
                        },
                        {
                              "name": "stdout",
                              "output_type": "stream",
                              "text": [
                                    "                   all       1181       2981      0.435      0.289      0.338      0.156\n"
                              ]
                        },
                        {
                              "name": "stderr",
                              "output_type": "stream",
                              "text": [
                                    "\n"
                              ]
                        },
                        {
                              "name": "stdout",
                              "output_type": "stream",
                              "text": [
                                    "\n",
                                    "      Epoch    GPU_mem   box_loss   cls_loss   dfl_loss  Instances       Size\n"
                              ]
                        },
                        {
                              "name": "stderr",
                              "output_type": "stream",
                              "text": [
                                    "     32/100      66.2G      0.553     0.3305      1.036         21        640: 100%|██████████| 56/56 [00:28<00:00,  1.97it/s]\n",
                                    "                 Class     Images  Instances      Box(P          R      mAP50  mAP50-95): 100%|██████████| 6/6 [00:02<00:00,  2.19it/s]"
                              ]
                        },
                        {
                              "name": "stdout",
                              "output_type": "stream",
                              "text": [
                                    "                   all       1181       2981      0.471      0.269       0.33      0.159\n"
                              ]
                        },
                        {
                              "name": "stderr",
                              "output_type": "stream",
                              "text": [
                                    "\n"
                              ]
                        },
                        {
                              "name": "stdout",
                              "output_type": "stream",
                              "text": [
                                    "\n",
                                    "      Epoch    GPU_mem   box_loss   cls_loss   dfl_loss  Instances       Size\n"
                              ]
                        },
                        {
                              "name": "stderr",
                              "output_type": "stream",
                              "text": [
                                    "     33/100      66.2G     0.5351     0.3194       1.02         23        640: 100%|██████████| 56/56 [00:28<00:00,  1.97it/s]\n",
                                    "                 Class     Images  Instances      Box(P          R      mAP50  mAP50-95): 100%|██████████| 6/6 [00:02<00:00,  2.23it/s]"
                              ]
                        },
                        {
                              "name": "stdout",
                              "output_type": "stream",
                              "text": [
                                    "                   all       1181       2981      0.466      0.276      0.361      0.166\n"
                              ]
                        },
                        {
                              "name": "stderr",
                              "output_type": "stream",
                              "text": [
                                    "\n"
                              ]
                        },
                        {
                              "name": "stdout",
                              "output_type": "stream",
                              "text": [
                                    "\n",
                                    "      Epoch    GPU_mem   box_loss   cls_loss   dfl_loss  Instances       Size\n"
                              ]
                        },
                        {
                              "name": "stderr",
                              "output_type": "stream",
                              "text": [
                                    "     34/100      66.2G     0.5132     0.3091      1.003         29        640: 100%|██████████| 56/56 [00:28<00:00,  1.97it/s]\n",
                                    "                 Class     Images  Instances      Box(P          R      mAP50  mAP50-95): 100%|██████████| 6/6 [00:02<00:00,  2.27it/s]"
                              ]
                        },
                        {
                              "name": "stdout",
                              "output_type": "stream",
                              "text": [
                                    "                   all       1181       2981      0.435      0.234      0.327      0.149\n"
                              ]
                        },
                        {
                              "name": "stderr",
                              "output_type": "stream",
                              "text": [
                                    "\n"
                              ]
                        },
                        {
                              "name": "stdout",
                              "output_type": "stream",
                              "text": [
                                    "\n",
                                    "      Epoch    GPU_mem   box_loss   cls_loss   dfl_loss  Instances       Size\n"
                              ]
                        },
                        {
                              "name": "stderr",
                              "output_type": "stream",
                              "text": [
                                    "     35/100      66.2G     0.4913     0.2988     0.9847         46        640: 100%|██████████| 56/56 [00:28<00:00,  1.94it/s]\n",
                                    "                 Class     Images  Instances      Box(P          R      mAP50  mAP50-95): 100%|██████████| 6/6 [00:02<00:00,  2.17it/s]"
                              ]
                        },
                        {
                              "name": "stdout",
                              "output_type": "stream",
                              "text": [
                                    "                   all       1181       2981      0.418      0.308      0.338      0.152\n"
                              ]
                        },
                        {
                              "name": "stderr",
                              "output_type": "stream",
                              "text": [
                                    "\n"
                              ]
                        },
                        {
                              "name": "stdout",
                              "output_type": "stream",
                              "text": [
                                    "\n",
                                    "      Epoch    GPU_mem   box_loss   cls_loss   dfl_loss  Instances       Size\n"
                              ]
                        },
                        {
                              "name": "stderr",
                              "output_type": "stream",
                              "text": [
                                    "     36/100      66.1G     0.4797     0.2902     0.9733         22        640: 100%|██████████| 56/56 [00:28<00:00,  1.97it/s]\n",
                                    "                 Class     Images  Instances      Box(P          R      mAP50  mAP50-95): 100%|██████████| 6/6 [00:02<00:00,  2.28it/s]"
                              ]
                        },
                        {
                              "name": "stdout",
                              "output_type": "stream",
                              "text": [
                                    "                   all       1181       2981      0.465      0.231      0.339      0.162\n"
                              ]
                        },
                        {
                              "name": "stderr",
                              "output_type": "stream",
                              "text": [
                                    "\n"
                              ]
                        },
                        {
                              "name": "stdout",
                              "output_type": "stream",
                              "text": [
                                    "\n",
                                    "      Epoch    GPU_mem   box_loss   cls_loss   dfl_loss  Instances       Size\n"
                              ]
                        },
                        {
                              "name": "stderr",
                              "output_type": "stream",
                              "text": [
                                    "     37/100      66.2G     0.4567     0.2807     0.9591         17        640: 100%|██████████| 56/56 [00:28<00:00,  1.97it/s]\n",
                                    "                 Class     Images  Instances      Box(P          R      mAP50  mAP50-95): 100%|██████████| 6/6 [00:02<00:00,  2.27it/s]"
                              ]
                        },
                        {
                              "name": "stdout",
                              "output_type": "stream",
                              "text": [
                                    "                   all       1181       2981      0.447      0.261      0.338      0.153\n"
                              ]
                        },
                        {
                              "name": "stderr",
                              "output_type": "stream",
                              "text": [
                                    "\n"
                              ]
                        },
                        {
                              "name": "stdout",
                              "output_type": "stream",
                              "text": [
                                    "\n",
                                    "      Epoch    GPU_mem   box_loss   cls_loss   dfl_loss  Instances       Size\n"
                              ]
                        },
                        {
                              "name": "stderr",
                              "output_type": "stream",
                              "text": [
                                    "     38/100      66.3G      0.435     0.2692     0.9453         18        640: 100%|██████████| 56/56 [00:28<00:00,  1.93it/s]\n",
                                    "                 Class     Images  Instances      Box(P          R      mAP50  mAP50-95): 100%|██████████| 6/6 [00:02<00:00,  2.08it/s]"
                              ]
                        },
                        {
                              "name": "stdout",
                              "output_type": "stream",
                              "text": [
                                    "                   all       1181       2981      0.465      0.259      0.349      0.169\n"
                              ]
                        },
                        {
                              "name": "stderr",
                              "output_type": "stream",
                              "text": [
                                    "\n"
                              ]
                        },
                        {
                              "name": "stdout",
                              "output_type": "stream",
                              "text": [
                                    "\n",
                                    "      Epoch    GPU_mem   box_loss   cls_loss   dfl_loss  Instances       Size\n"
                              ]
                        },
                        {
                              "name": "stderr",
                              "output_type": "stream",
                              "text": [
                                    "     39/100      66.2G     0.4274      0.266     0.9383         22        640: 100%|██████████| 56/56 [00:28<00:00,  1.96it/s]\n",
                                    "                 Class     Images  Instances      Box(P          R      mAP50  mAP50-95): 100%|██████████| 6/6 [00:02<00:00,  2.27it/s]"
                              ]
                        },
                        {
                              "name": "stdout",
                              "output_type": "stream",
                              "text": [
                                    "                   all       1181       2981      0.475      0.243      0.348      0.169\n"
                              ]
                        },
                        {
                              "name": "stderr",
                              "output_type": "stream",
                              "text": [
                                    "\n"
                              ]
                        },
                        {
                              "name": "stdout",
                              "output_type": "stream",
                              "text": [
                                    "\n",
                                    "      Epoch    GPU_mem   box_loss   cls_loss   dfl_loss  Instances       Size\n"
                              ]
                        },
                        {
                              "name": "stderr",
                              "output_type": "stream",
                              "text": [
                                    "     40/100      66.1G     0.4073     0.2552     0.9249         29        640: 100%|██████████| 56/56 [00:28<00:00,  1.97it/s]\n",
                                    "                 Class     Images  Instances      Box(P          R      mAP50  mAP50-95): 100%|██████████| 6/6 [00:02<00:00,  2.23it/s]"
                              ]
                        },
                        {
                              "name": "stdout",
                              "output_type": "stream",
                              "text": [
                                    "                   all       1181       2981      0.503      0.279      0.382      0.182\n"
                              ]
                        },
                        {
                              "name": "stderr",
                              "output_type": "stream",
                              "text": [
                                    "\n"
                              ]
                        },
                        {
                              "name": "stdout",
                              "output_type": "stream",
                              "text": [
                                    "\n",
                                    "      Epoch    GPU_mem   box_loss   cls_loss   dfl_loss  Instances       Size\n"
                              ]
                        },
                        {
                              "name": "stderr",
                              "output_type": "stream",
                              "text": [
                                    "     41/100      66.1G     0.3952     0.2484      0.915         34        640: 100%|██████████| 56/56 [00:28<00:00,  1.97it/s]\n",
                                    "                 Class     Images  Instances      Box(P          R      mAP50  mAP50-95): 100%|██████████| 6/6 [00:02<00:00,  2.31it/s]"
                              ]
                        },
                        {
                              "name": "stdout",
                              "output_type": "stream",
                              "text": [
                                    "                   all       1181       2981      0.536      0.231      0.377      0.185\n"
                              ]
                        },
                        {
                              "name": "stderr",
                              "output_type": "stream",
                              "text": [
                                    "\n"
                              ]
                        },
                        {
                              "name": "stdout",
                              "output_type": "stream",
                              "text": [
                                    "\n",
                                    "      Epoch    GPU_mem   box_loss   cls_loss   dfl_loss  Instances       Size\n"
                              ]
                        },
                        {
                              "name": "stderr",
                              "output_type": "stream",
                              "text": [
                                    "     42/100      66.2G     0.3797     0.2412     0.9061         21        640: 100%|██████████| 56/56 [00:28<00:00,  1.97it/s]\n",
                                    "                 Class     Images  Instances      Box(P          R      mAP50  mAP50-95): 100%|██████████| 6/6 [00:02<00:00,  2.35it/s]"
                              ]
                        },
                        {
                              "name": "stdout",
                              "output_type": "stream",
                              "text": [
                                    "                   all       1181       2981      0.552      0.218      0.381      0.196\n"
                              ]
                        },
                        {
                              "name": "stderr",
                              "output_type": "stream",
                              "text": [
                                    "\n"
                              ]
                        },
                        {
                              "name": "stdout",
                              "output_type": "stream",
                              "text": [
                                    "\n",
                                    "      Epoch    GPU_mem   box_loss   cls_loss   dfl_loss  Instances       Size\n"
                              ]
                        },
                        {
                              "name": "stderr",
                              "output_type": "stream",
                              "text": [
                                    "     43/100      66.2G     0.3675     0.2345     0.8983         25        640: 100%|██████████| 56/56 [00:28<00:00,  1.97it/s]\n",
                                    "                 Class     Images  Instances      Box(P          R      mAP50  mAP50-95): 100%|██████████| 6/6 [00:02<00:00,  2.33it/s]"
                              ]
                        },
                        {
                              "name": "stdout",
                              "output_type": "stream",
                              "text": [
                                    "                   all       1181       2981      0.473       0.22      0.333      0.163\n"
                              ]
                        },
                        {
                              "name": "stderr",
                              "output_type": "stream",
                              "text": [
                                    "\n"
                              ]
                        },
                        {
                              "name": "stdout",
                              "output_type": "stream",
                              "text": [
                                    "\n",
                                    "      Epoch    GPU_mem   box_loss   cls_loss   dfl_loss  Instances       Size\n"
                              ]
                        },
                        {
                              "name": "stderr",
                              "output_type": "stream",
                              "text": [
                                    "     44/100      66.1G     0.3529     0.2282     0.8884         22        640: 100%|██████████| 56/56 [00:28<00:00,  1.96it/s]\n",
                                    "                 Class     Images  Instances      Box(P          R      mAP50  mAP50-95): 100%|██████████| 6/6 [00:02<00:00,  2.21it/s]"
                              ]
                        },
                        {
                              "name": "stdout",
                              "output_type": "stream",
                              "text": [
                                    "                   all       1181       2981      0.567      0.241        0.4      0.196\n"
                              ]
                        },
                        {
                              "name": "stderr",
                              "output_type": "stream",
                              "text": [
                                    "\n"
                              ]
                        },
                        {
                              "name": "stdout",
                              "output_type": "stream",
                              "text": [
                                    "\n",
                                    "      Epoch    GPU_mem   box_loss   cls_loss   dfl_loss  Instances       Size\n"
                              ]
                        },
                        {
                              "name": "stderr",
                              "output_type": "stream",
                              "text": [
                                    "     45/100      66.2G     0.3375     0.2209     0.8799         18        640: 100%|██████████| 56/56 [00:28<00:00,  1.97it/s]\n",
                                    "                 Class     Images  Instances      Box(P          R      mAP50  mAP50-95): 100%|██████████| 6/6 [00:02<00:00,  2.32it/s]"
                              ]
                        },
                        {
                              "name": "stdout",
                              "output_type": "stream",
                              "text": [
                                    "                   all       1181       2981      0.507      0.208      0.351      0.174\n"
                              ]
                        },
                        {
                              "name": "stderr",
                              "output_type": "stream",
                              "text": [
                                    "\n"
                              ]
                        },
                        {
                              "name": "stdout",
                              "output_type": "stream",
                              "text": [
                                    "\n",
                                    "      Epoch    GPU_mem   box_loss   cls_loss   dfl_loss  Instances       Size\n"
                              ]
                        },
                        {
                              "name": "stderr",
                              "output_type": "stream",
                              "text": [
                                    "     46/100      66.3G     0.3267     0.2151     0.8737         18        640: 100%|██████████| 56/56 [00:28<00:00,  1.97it/s]\n",
                                    "                 Class     Images  Instances      Box(P          R      mAP50  mAP50-95): 100%|██████████| 6/6 [00:02<00:00,  2.28it/s]"
                              ]
                        },
                        {
                              "name": "stdout",
                              "output_type": "stream",
                              "text": [
                                    "                   all       1181       2981      0.501       0.25      0.365      0.173\n"
                              ]
                        },
                        {
                              "name": "stderr",
                              "output_type": "stream",
                              "text": [
                                    "\n"
                              ]
                        },
                        {
                              "name": "stdout",
                              "output_type": "stream",
                              "text": [
                                    "\n",
                                    "      Epoch    GPU_mem   box_loss   cls_loss   dfl_loss  Instances       Size\n"
                              ]
                        },
                        {
                              "name": "stderr",
                              "output_type": "stream",
                              "text": [
                                    "     47/100      66.1G     0.3171     0.2098     0.8675         24        640: 100%|██████████| 56/56 [00:28<00:00,  1.98it/s]\n",
                                    "                 Class     Images  Instances      Box(P          R      mAP50  mAP50-95): 100%|██████████| 6/6 [00:02<00:00,  2.31it/s]"
                              ]
                        },
                        {
                              "name": "stdout",
                              "output_type": "stream",
                              "text": [
                                    "                   all       1181       2981      0.567      0.227      0.391        0.2\n"
                              ]
                        },
                        {
                              "name": "stderr",
                              "output_type": "stream",
                              "text": [
                                    "\n"
                              ]
                        },
                        {
                              "name": "stdout",
                              "output_type": "stream",
                              "text": [
                                    "\n",
                                    "      Epoch    GPU_mem   box_loss   cls_loss   dfl_loss  Instances       Size\n"
                              ]
                        },
                        {
                              "name": "stderr",
                              "output_type": "stream",
                              "text": [
                                    "     48/100      66.2G     0.3088     0.2067     0.8625         31        640: 100%|██████████| 56/56 [00:28<00:00,  1.95it/s]\n",
                                    "                 Class     Images  Instances      Box(P          R      mAP50  mAP50-95): 100%|██████████| 6/6 [00:02<00:00,  2.32it/s]"
                              ]
                        },
                        {
                              "name": "stdout",
                              "output_type": "stream",
                              "text": [
                                    "                   all       1181       2981      0.605      0.202      0.403      0.205\n"
                              ]
                        },
                        {
                              "name": "stderr",
                              "output_type": "stream",
                              "text": [
                                    "\n"
                              ]
                        },
                        {
                              "name": "stdout",
                              "output_type": "stream",
                              "text": [
                                    "\n",
                                    "      Epoch    GPU_mem   box_loss   cls_loss   dfl_loss  Instances       Size\n"
                              ]
                        },
                        {
                              "name": "stderr",
                              "output_type": "stream",
                              "text": [
                                    "     49/100      66.1G     0.2952     0.1985     0.8558         32        640: 100%|██████████| 56/56 [00:28<00:00,  1.97it/s]\n",
                                    "                 Class     Images  Instances      Box(P          R      mAP50  mAP50-95): 100%|██████████| 6/6 [00:02<00:00,  2.32it/s]"
                              ]
                        },
                        {
                              "name": "stdout",
                              "output_type": "stream",
                              "text": [
                                    "                   all       1181       2981      0.543      0.207      0.369      0.176\n"
                              ]
                        },
                        {
                              "name": "stderr",
                              "output_type": "stream",
                              "text": [
                                    "\n"
                              ]
                        },
                        {
                              "name": "stdout",
                              "output_type": "stream",
                              "text": [
                                    "\n",
                                    "      Epoch    GPU_mem   box_loss   cls_loss   dfl_loss  Instances       Size\n"
                              ]
                        },
                        {
                              "name": "stderr",
                              "output_type": "stream",
                              "text": [
                                    "     50/100      66.1G     0.2861     0.1944     0.8505         24        640: 100%|██████████| 56/56 [00:28<00:00,  1.97it/s]\n",
                                    "                 Class     Images  Instances      Box(P          R      mAP50  mAP50-95): 100%|██████████| 6/6 [00:02<00:00,  2.32it/s]"
                              ]
                        },
                        {
                              "name": "stdout",
                              "output_type": "stream",
                              "text": [
                                    "                   all       1181       2981      0.575       0.21      0.384      0.195\n"
                              ]
                        },
                        {
                              "name": "stderr",
                              "output_type": "stream",
                              "text": [
                                    "\n"
                              ]
                        },
                        {
                              "name": "stdout",
                              "output_type": "stream",
                              "text": [
                                    "\n",
                                    "      Epoch    GPU_mem   box_loss   cls_loss   dfl_loss  Instances       Size\n"
                              ]
                        },
                        {
                              "name": "stderr",
                              "output_type": "stream",
                              "text": [
                                    "     51/100      66.1G     0.2754     0.1882     0.8453         27        640: 100%|██████████| 56/56 [00:28<00:00,  1.97it/s]\n",
                                    "                 Class     Images  Instances      Box(P          R      mAP50  mAP50-95): 100%|██████████| 6/6 [00:02<00:00,  2.31it/s]"
                              ]
                        },
                        {
                              "name": "stdout",
                              "output_type": "stream",
                              "text": [
                                    "                   all       1181       2981      0.538      0.226      0.384      0.189\n"
                              ]
                        },
                        {
                              "name": "stderr",
                              "output_type": "stream",
                              "text": [
                                    "\n"
                              ]
                        },
                        {
                              "name": "stdout",
                              "output_type": "stream",
                              "text": [
                                    "\n",
                                    "      Epoch    GPU_mem   box_loss   cls_loss   dfl_loss  Instances       Size\n"
                              ]
                        },
                        {
                              "name": "stderr",
                              "output_type": "stream",
                              "text": [
                                    "     52/100      66.3G     0.2644     0.1835     0.8404         25        640: 100%|██████████| 56/56 [00:28<00:00,  1.97it/s]\n",
                                    "                 Class     Images  Instances      Box(P          R      mAP50  mAP50-95): 100%|██████████| 6/6 [00:02<00:00,  2.35it/s]"
                              ]
                        },
                        {
                              "name": "stdout",
                              "output_type": "stream",
                              "text": [
                                    "                   all       1181       2981      0.564      0.209      0.389      0.198\n"
                              ]
                        },
                        {
                              "name": "stderr",
                              "output_type": "stream",
                              "text": [
                                    "\n"
                              ]
                        },
                        {
                              "name": "stdout",
                              "output_type": "stream",
                              "text": [
                                    "\n",
                                    "      Epoch    GPU_mem   box_loss   cls_loss   dfl_loss  Instances       Size\n"
                              ]
                        },
                        {
                              "name": "stderr",
                              "output_type": "stream",
                              "text": [
                                    "     53/100      66.2G       0.25     0.1774     0.8341         26        640: 100%|██████████| 56/56 [00:28<00:00,  1.97it/s]\n",
                                    "                 Class     Images  Instances      Box(P          R      mAP50  mAP50-95): 100%|██████████| 6/6 [00:02<00:00,  2.33it/s]"
                              ]
                        },
                        {
                              "name": "stdout",
                              "output_type": "stream",
                              "text": [
                                    "                   all       1181       2981      0.508      0.206      0.356      0.183\n"
                              ]
                        },
                        {
                              "name": "stderr",
                              "output_type": "stream",
                              "text": [
                                    "\n"
                              ]
                        },
                        {
                              "name": "stdout",
                              "output_type": "stream",
                              "text": [
                                    "\n",
                                    "      Epoch    GPU_mem   box_loss   cls_loss   dfl_loss  Instances       Size\n"
                              ]
                        },
                        {
                              "name": "stderr",
                              "output_type": "stream",
                              "text": [
                                    "     54/100      66.2G     0.2473     0.1745     0.8308         21        640: 100%|██████████| 56/56 [00:28<00:00,  1.97it/s]\n",
                                    "                 Class     Images  Instances      Box(P          R      mAP50  mAP50-95): 100%|██████████| 6/6 [00:02<00:00,  2.33it/s]"
                              ]
                        },
                        {
                              "name": "stdout",
                              "output_type": "stream",
                              "text": [
                                    "                   all       1181       2981      0.626      0.215       0.42      0.204\n"
                              ]
                        },
                        {
                              "name": "stderr",
                              "output_type": "stream",
                              "text": [
                                    "\n"
                              ]
                        },
                        {
                              "name": "stdout",
                              "output_type": "stream",
                              "text": [
                                    "\n",
                                    "      Epoch    GPU_mem   box_loss   cls_loss   dfl_loss  Instances       Size\n"
                              ]
                        },
                        {
                              "name": "stderr",
                              "output_type": "stream",
                              "text": [
                                    "     55/100      66.2G     0.2375     0.1694     0.8266         36        640: 100%|██████████| 56/56 [00:28<00:00,  1.98it/s]\n",
                                    "                 Class     Images  Instances      Box(P          R      mAP50  mAP50-95): 100%|██████████| 6/6 [00:02<00:00,  2.33it/s]"
                              ]
                        },
                        {
                              "name": "stdout",
                              "output_type": "stream",
                              "text": [
                                    "                   all       1181       2981      0.694      0.216      0.453      0.245\n"
                              ]
                        },
                        {
                              "name": "stderr",
                              "output_type": "stream",
                              "text": [
                                    "\n"
                              ]
                        },
                        {
                              "name": "stdout",
                              "output_type": "stream",
                              "text": [
                                    "\n",
                                    "      Epoch    GPU_mem   box_loss   cls_loss   dfl_loss  Instances       Size\n"
                              ]
                        },
                        {
                              "name": "stderr",
                              "output_type": "stream",
                              "text": [
                                    "     56/100      66.1G     0.2251     0.1637     0.8219         34        640: 100%|██████████| 56/56 [00:28<00:00,  1.97it/s]\n",
                                    "                 Class     Images  Instances      Box(P          R      mAP50  mAP50-95): 100%|██████████| 6/6 [00:02<00:00,  2.38it/s]"
                              ]
                        },
                        {
                              "name": "stdout",
                              "output_type": "stream",
                              "text": [
                                    "                   all       1181       2981      0.695      0.209      0.443      0.227\n"
                              ]
                        },
                        {
                              "name": "stderr",
                              "output_type": "stream",
                              "text": [
                                    "\n"
                              ]
                        },
                        {
                              "name": "stdout",
                              "output_type": "stream",
                              "text": [
                                    "\n",
                                    "      Epoch    GPU_mem   box_loss   cls_loss   dfl_loss  Instances       Size\n"
                              ]
                        },
                        {
                              "name": "stderr",
                              "output_type": "stream",
                              "text": [
                                    "     57/100      66.2G     0.2176     0.1596      0.819         23        640: 100%|██████████| 56/56 [00:28<00:00,  1.98it/s]\n",
                                    "                 Class     Images  Instances      Box(P          R      mAP50  mAP50-95): 100%|██████████| 6/6 [00:02<00:00,  2.34it/s]"
                              ]
                        },
                        {
                              "name": "stdout",
                              "output_type": "stream",
                              "text": [
                                    "                   all       1181       2981       0.57      0.206      0.387      0.195\n"
                              ]
                        },
                        {
                              "name": "stderr",
                              "output_type": "stream",
                              "text": [
                                    "\n"
                              ]
                        },
                        {
                              "name": "stdout",
                              "output_type": "stream",
                              "text": [
                                    "\n",
                                    "      Epoch    GPU_mem   box_loss   cls_loss   dfl_loss  Instances       Size\n"
                              ]
                        },
                        {
                              "name": "stderr",
                              "output_type": "stream",
                              "text": [
                                    "     58/100      66.2G     0.2107     0.1558     0.8146         26        640: 100%|██████████| 56/56 [00:28<00:00,  1.97it/s]\n",
                                    "                 Class     Images  Instances      Box(P          R      mAP50  mAP50-95): 100%|██████████| 6/6 [00:02<00:00,  2.36it/s]"
                              ]
                        },
                        {
                              "name": "stdout",
                              "output_type": "stream",
                              "text": [
                                    "                   all       1181       2981      0.558      0.203      0.383       0.19\n"
                              ]
                        },
                        {
                              "name": "stderr",
                              "output_type": "stream",
                              "text": [
                                    "\n"
                              ]
                        },
                        {
                              "name": "stdout",
                              "output_type": "stream",
                              "text": [
                                    "\n",
                                    "      Epoch    GPU_mem   box_loss   cls_loss   dfl_loss  Instances       Size\n"
                              ]
                        },
                        {
                              "name": "stderr",
                              "output_type": "stream",
                              "text": [
                                    "     59/100      66.2G     0.2096     0.1546     0.8159         35        640: 100%|██████████| 56/56 [00:28<00:00,  1.97it/s]\n",
                                    "                 Class     Images  Instances      Box(P          R      mAP50  mAP50-95): 100%|██████████| 6/6 [00:02<00:00,  2.34it/s]"
                              ]
                        },
                        {
                              "name": "stdout",
                              "output_type": "stream",
                              "text": [
                                    "                   all       1181       2981      0.654      0.216      0.428      0.219\n"
                              ]
                        },
                        {
                              "name": "stderr",
                              "output_type": "stream",
                              "text": [
                                    "\n"
                              ]
                        },
                        {
                              "name": "stdout",
                              "output_type": "stream",
                              "text": [
                                    "\n",
                                    "      Epoch    GPU_mem   box_loss   cls_loss   dfl_loss  Instances       Size\n"
                              ]
                        },
                        {
                              "name": "stderr",
                              "output_type": "stream",
                              "text": [
                                    "     60/100      66.3G     0.1958     0.1485     0.8105         33        640: 100%|██████████| 56/56 [00:28<00:00,  1.97it/s]\n",
                                    "                 Class     Images  Instances      Box(P          R      mAP50  mAP50-95): 100%|██████████| 6/6 [00:02<00:00,  2.34it/s]"
                              ]
                        },
                        {
                              "name": "stdout",
                              "output_type": "stream",
                              "text": [
                                    "                   all       1181       2981      0.551      0.206      0.375      0.194\n"
                              ]
                        },
                        {
                              "name": "stderr",
                              "output_type": "stream",
                              "text": [
                                    "\n"
                              ]
                        },
                        {
                              "name": "stdout",
                              "output_type": "stream",
                              "text": [
                                    "\n",
                                    "      Epoch    GPU_mem   box_loss   cls_loss   dfl_loss  Instances       Size\n"
                              ]
                        },
                        {
                              "name": "stderr",
                              "output_type": "stream",
                              "text": [
                                    "     61/100      66.1G     0.1886     0.1447     0.8068         29        640: 100%|██████████| 56/56 [00:28<00:00,  1.97it/s]\n",
                                    "                 Class     Images  Instances      Box(P          R      mAP50  mAP50-95): 100%|██████████| 6/6 [00:02<00:00,  2.34it/s]"
                              ]
                        },
                        {
                              "name": "stdout",
                              "output_type": "stream",
                              "text": [
                                    "                   all       1181       2981      0.657      0.213      0.432      0.223\n"
                              ]
                        },
                        {
                              "name": "stderr",
                              "output_type": "stream",
                              "text": [
                                    "\n"
                              ]
                        },
                        {
                              "name": "stdout",
                              "output_type": "stream",
                              "text": [
                                    "\n",
                                    "      Epoch    GPU_mem   box_loss   cls_loss   dfl_loss  Instances       Size\n"
                              ]
                        },
                        {
                              "name": "stderr",
                              "output_type": "stream",
                              "text": [
                                    "     62/100      66.2G     0.1813     0.1411      0.805         24        640: 100%|██████████| 56/56 [00:28<00:00,  1.94it/s]\n",
                                    "                 Class     Images  Instances      Box(P          R      mAP50  mAP50-95): 100%|██████████| 6/6 [00:02<00:00,  2.36it/s]"
                              ]
                        },
                        {
                              "name": "stdout",
                              "output_type": "stream",
                              "text": [
                                    "                   all       1181       2981      0.512      0.193      0.351      0.169\n"
                              ]
                        },
                        {
                              "name": "stderr",
                              "output_type": "stream",
                              "text": [
                                    "\n"
                              ]
                        },
                        {
                              "name": "stdout",
                              "output_type": "stream",
                              "text": [
                                    "\n",
                                    "      Epoch    GPU_mem   box_loss   cls_loss   dfl_loss  Instances       Size\n"
                              ]
                        },
                        {
                              "name": "stderr",
                              "output_type": "stream",
                              "text": [
                                    "     63/100      66.2G     0.1729     0.1366     0.8017         29        640: 100%|██████████| 56/56 [00:28<00:00,  1.96it/s]\n",
                                    "                 Class     Images  Instances      Box(P          R      mAP50  mAP50-95): 100%|██████████| 6/6 [00:02<00:00,  2.36it/s]"
                              ]
                        },
                        {
                              "name": "stdout",
                              "output_type": "stream",
                              "text": [
                                    "                   all       1181       2981       0.65      0.209      0.432      0.224\n"
                              ]
                        },
                        {
                              "name": "stderr",
                              "output_type": "stream",
                              "text": [
                                    "\n"
                              ]
                        },
                        {
                              "name": "stdout",
                              "output_type": "stream",
                              "text": [
                                    "\n",
                                    "      Epoch    GPU_mem   box_loss   cls_loss   dfl_loss  Instances       Size\n"
                              ]
                        },
                        {
                              "name": "stderr",
                              "output_type": "stream",
                              "text": [
                                    "     64/100      66.2G     0.1671      0.134     0.7989         32        640: 100%|██████████| 56/56 [00:28<00:00,  1.98it/s]\n",
                                    "                 Class     Images  Instances      Box(P          R      mAP50  mAP50-95): 100%|██████████| 6/6 [00:02<00:00,  2.43it/s]"
                              ]
                        },
                        {
                              "name": "stdout",
                              "output_type": "stream",
                              "text": [
                                    "                   all       1181       2981       0.55      0.195      0.374       0.19\n"
                              ]
                        },
                        {
                              "name": "stderr",
                              "output_type": "stream",
                              "text": [
                                    "\n"
                              ]
                        },
                        {
                              "name": "stdout",
                              "output_type": "stream",
                              "text": [
                                    "\n",
                                    "      Epoch    GPU_mem   box_loss   cls_loss   dfl_loss  Instances       Size\n"
                              ]
                        },
                        {
                              "name": "stderr",
                              "output_type": "stream",
                              "text": [
                                    "     65/100      66.2G      0.163     0.1307     0.7976         32        640: 100%|██████████| 56/56 [00:28<00:00,  1.98it/s]\n",
                                    "                 Class     Images  Instances      Box(P          R      mAP50  mAP50-95): 100%|██████████| 6/6 [00:02<00:00,  2.41it/s]"
                              ]
                        },
                        {
                              "name": "stdout",
                              "output_type": "stream",
                              "text": [
                                    "                   all       1181       2981      0.673      0.205      0.442      0.225\n"
                              ]
                        },
                        {
                              "name": "stderr",
                              "output_type": "stream",
                              "text": [
                                    "\n"
                              ]
                        },
                        {
                              "name": "stdout",
                              "output_type": "stream",
                              "text": [
                                    "\n",
                                    "      Epoch    GPU_mem   box_loss   cls_loss   dfl_loss  Instances       Size\n"
                              ]
                        },
                        {
                              "name": "stderr",
                              "output_type": "stream",
                              "text": [
                                    "     66/100      66.2G      0.159     0.1283      0.796         35        640: 100%|██████████| 56/56 [00:28<00:00,  1.98it/s]\n",
                                    "                 Class     Images  Instances      Box(P          R      mAP50  mAP50-95): 100%|██████████| 6/6 [00:02<00:00,  2.42it/s]"
                              ]
                        },
                        {
                              "name": "stdout",
                              "output_type": "stream",
                              "text": [
                                    "                   all       1181       2981      0.673      0.207      0.443      0.227\n"
                              ]
                        },
                        {
                              "name": "stderr",
                              "output_type": "stream",
                              "text": [
                                    "\n"
                              ]
                        },
                        {
                              "name": "stdout",
                              "output_type": "stream",
                              "text": [
                                    "\n",
                                    "      Epoch    GPU_mem   box_loss   cls_loss   dfl_loss  Instances       Size\n"
                              ]
                        },
                        {
                              "name": "stderr",
                              "output_type": "stream",
                              "text": [
                                    "     67/100      66.2G     0.1517     0.1247     0.7938         24        640: 100%|██████████| 56/56 [00:28<00:00,  1.98it/s]\n",
                                    "                 Class     Images  Instances      Box(P          R      mAP50  mAP50-95): 100%|██████████| 6/6 [00:02<00:00,  2.41it/s]"
                              ]
                        },
                        {
                              "name": "stdout",
                              "output_type": "stream",
                              "text": [
                                    "                   all       1181       2981      0.654       0.21      0.428      0.219\n"
                              ]
                        },
                        {
                              "name": "stderr",
                              "output_type": "stream",
                              "text": [
                                    "\n"
                              ]
                        },
                        {
                              "name": "stdout",
                              "output_type": "stream",
                              "text": [
                                    "\n",
                                    "      Epoch    GPU_mem   box_loss   cls_loss   dfl_loss  Instances       Size\n"
                              ]
                        },
                        {
                              "name": "stderr",
                              "output_type": "stream",
                              "text": [
                                    "     68/100      66.3G     0.1452      0.121     0.7924         27        640: 100%|██████████| 56/56 [00:28<00:00,  1.99it/s]\n",
                                    "                 Class     Images  Instances      Box(P          R      mAP50  mAP50-95): 100%|██████████| 6/6 [00:02<00:00,  2.42it/s]"
                              ]
                        },
                        {
                              "name": "stdout",
                              "output_type": "stream",
                              "text": [
                                    "                   all       1181       2981      0.594      0.203      0.396      0.206\n"
                              ]
                        },
                        {
                              "name": "stderr",
                              "output_type": "stream",
                              "text": [
                                    "\n"
                              ]
                        },
                        {
                              "name": "stdout",
                              "output_type": "stream",
                              "text": [
                                    "\n",
                                    "      Epoch    GPU_mem   box_loss   cls_loss   dfl_loss  Instances       Size\n"
                              ]
                        },
                        {
                              "name": "stderr",
                              "output_type": "stream",
                              "text": [
                                    "     69/100      66.1G     0.1423     0.1196     0.7913         41        640: 100%|██████████| 56/56 [00:28<00:00,  1.99it/s]\n",
                                    "                 Class     Images  Instances      Box(P          R      mAP50  mAP50-95): 100%|██████████| 6/6 [00:02<00:00,  2.41it/s]"
                              ]
                        },
                        {
                              "name": "stdout",
                              "output_type": "stream",
                              "text": [
                                    "                   all       1181       2981      0.543        0.2      0.375      0.196\n"
                              ]
                        },
                        {
                              "name": "stderr",
                              "output_type": "stream",
                              "text": [
                                    "\n"
                              ]
                        },
                        {
                              "name": "stdout",
                              "output_type": "stream",
                              "text": [
                                    "\n",
                                    "      Epoch    GPU_mem   box_loss   cls_loss   dfl_loss  Instances       Size\n"
                              ]
                        },
                        {
                              "name": "stderr",
                              "output_type": "stream",
                              "text": [
                                    "     70/100      66.3G     0.1321     0.1147     0.7892         45        640: 100%|██████████| 56/56 [00:28<00:00,  1.99it/s]\n",
                                    "                 Class     Images  Instances      Box(P          R      mAP50  mAP50-95): 100%|██████████| 6/6 [00:02<00:00,  2.43it/s]"
                              ]
                        },
                        {
                              "name": "stdout",
                              "output_type": "stream",
                              "text": [
                                    "                   all       1181       2981      0.566      0.197      0.386      0.198\n"
                              ]
                        },
                        {
                              "name": "stderr",
                              "output_type": "stream",
                              "text": [
                                    "\n"
                              ]
                        },
                        {
                              "name": "stdout",
                              "output_type": "stream",
                              "text": [
                                    "\n",
                                    "      Epoch    GPU_mem   box_loss   cls_loss   dfl_loss  Instances       Size\n"
                              ]
                        },
                        {
                              "name": "stderr",
                              "output_type": "stream",
                              "text": [
                                    "     71/100      66.2G     0.1293     0.1127     0.7878         37        640: 100%|██████████| 56/56 [00:29<00:00,  1.91it/s]\n",
                                    "                 Class     Images  Instances      Box(P          R      mAP50  mAP50-95): 100%|██████████| 6/6 [00:02<00:00,  2.28it/s]"
                              ]
                        },
                        {
                              "name": "stdout",
                              "output_type": "stream",
                              "text": [
                                    "                   all       1181       2981      0.541        0.2      0.371       0.19\n"
                              ]
                        },
                        {
                              "name": "stderr",
                              "output_type": "stream",
                              "text": [
                                    "\n"
                              ]
                        },
                        {
                              "name": "stdout",
                              "output_type": "stream",
                              "text": [
                                    "\n",
                                    "      Epoch    GPU_mem   box_loss   cls_loss   dfl_loss  Instances       Size\n"
                              ]
                        },
                        {
                              "name": "stderr",
                              "output_type": "stream",
                              "text": [
                                    "     72/100      66.2G     0.1229     0.1088     0.7858         29        640: 100%|██████████| 56/56 [00:28<00:00,  1.98it/s]\n",
                                    "                 Class     Images  Instances      Box(P          R      mAP50  mAP50-95): 100%|██████████| 6/6 [00:02<00:00,  2.43it/s]"
                              ]
                        },
                        {
                              "name": "stdout",
                              "output_type": "stream",
                              "text": [
                                    "                   all       1181       2981      0.556      0.203      0.381      0.193\n"
                              ]
                        },
                        {
                              "name": "stderr",
                              "output_type": "stream",
                              "text": [
                                    "\n"
                              ]
                        },
                        {
                              "name": "stdout",
                              "output_type": "stream",
                              "text": [
                                    "\n",
                                    "      Epoch    GPU_mem   box_loss   cls_loss   dfl_loss  Instances       Size\n"
                              ]
                        },
                        {
                              "name": "stderr",
                              "output_type": "stream",
                              "text": [
                                    "     73/100      66.1G     0.1157     0.1048     0.7846         19        640: 100%|██████████| 56/56 [00:28<00:00,  1.98it/s]\n",
                                    "                 Class     Images  Instances      Box(P          R      mAP50  mAP50-95): 100%|██████████| 6/6 [00:02<00:00,  2.41it/s]"
                              ]
                        },
                        {
                              "name": "stdout",
                              "output_type": "stream",
                              "text": [
                                    "                   all       1181       2981      0.576      0.203      0.391      0.204\n"
                              ]
                        },
                        {
                              "name": "stderr",
                              "output_type": "stream",
                              "text": [
                                    "\n"
                              ]
                        },
                        {
                              "name": "stdout",
                              "output_type": "stream",
                              "text": [
                                    "\n",
                                    "      Epoch    GPU_mem   box_loss   cls_loss   dfl_loss  Instances       Size\n"
                              ]
                        },
                        {
                              "name": "stderr",
                              "output_type": "stream",
                              "text": [
                                    "     74/100      66.2G     0.1148     0.1038     0.7844         17        640: 100%|██████████| 56/56 [00:28<00:00,  1.98it/s]\n",
                                    "                 Class     Images  Instances      Box(P          R      mAP50  mAP50-95): 100%|██████████| 6/6 [00:02<00:00,  2.42it/s]"
                              ]
                        },
                        {
                              "name": "stdout",
                              "output_type": "stream",
                              "text": [
                                    "                   all       1181       2981      0.565      0.195      0.372      0.196\n"
                              ]
                        },
                        {
                              "name": "stderr",
                              "output_type": "stream",
                              "text": [
                                    "\n"
                              ]
                        },
                        {
                              "name": "stdout",
                              "output_type": "stream",
                              "text": [
                                    "\n",
                                    "      Epoch    GPU_mem   box_loss   cls_loss   dfl_loss  Instances       Size\n"
                              ]
                        },
                        {
                              "name": "stderr",
                              "output_type": "stream",
                              "text": [
                                    "     75/100      66.1G     0.1082     0.1004     0.7824         21        640: 100%|██████████| 56/56 [00:28<00:00,  1.99it/s]\n",
                                    "                 Class     Images  Instances      Box(P          R      mAP50  mAP50-95): 100%|██████████| 6/6 [00:02<00:00,  2.43it/s]"
                              ]
                        },
                        {
                              "name": "stdout",
                              "output_type": "stream",
                              "text": [
                                    "                   all       1181       2981      0.571        0.2      0.388      0.203\n"
                              ]
                        },
                        {
                              "name": "stderr",
                              "output_type": "stream",
                              "text": [
                                    "\n"
                              ]
                        },
                        {
                              "name": "stdout",
                              "output_type": "stream",
                              "text": [
                                    "\n",
                                    "      Epoch    GPU_mem   box_loss   cls_loss   dfl_loss  Instances       Size\n"
                              ]
                        },
                        {
                              "name": "stderr",
                              "output_type": "stream",
                              "text": [
                                    "     76/100      66.3G     0.1046    0.09806      0.782         19        640: 100%|██████████| 56/56 [00:28<00:00,  1.98it/s]\n",
                                    "                 Class     Images  Instances      Box(P          R      mAP50  mAP50-95): 100%|██████████| 6/6 [00:02<00:00,  2.44it/s]"
                              ]
                        },
                        {
                              "name": "stdout",
                              "output_type": "stream",
                              "text": [
                                    "                   all       1181       2981      0.564      0.198      0.383      0.197\n"
                              ]
                        },
                        {
                              "name": "stderr",
                              "output_type": "stream",
                              "text": [
                                    "\n"
                              ]
                        },
                        {
                              "name": "stdout",
                              "output_type": "stream",
                              "text": [
                                    "\n",
                                    "      Epoch    GPU_mem   box_loss   cls_loss   dfl_loss  Instances       Size\n"
                              ]
                        },
                        {
                              "name": "stderr",
                              "output_type": "stream",
                              "text": [
                                    "     77/100      66.2G     0.1004      0.096     0.7802         20        640: 100%|██████████| 56/56 [00:28<00:00,  1.98it/s]\n",
                                    "                 Class     Images  Instances      Box(P          R      mAP50  mAP50-95): 100%|██████████| 6/6 [00:02<00:00,  2.43it/s]"
                              ]
                        },
                        {
                              "name": "stdout",
                              "output_type": "stream",
                              "text": [
                                    "                   all       1181       2981      0.556      0.197      0.379        0.2\n"
                              ]
                        },
                        {
                              "name": "stderr",
                              "output_type": "stream",
                              "text": [
                                    "\n"
                              ]
                        },
                        {
                              "name": "stdout",
                              "output_type": "stream",
                              "text": [
                                    "\n",
                                    "      Epoch    GPU_mem   box_loss   cls_loss   dfl_loss  Instances       Size\n"
                              ]
                        },
                        {
                              "name": "stderr",
                              "output_type": "stream",
                              "text": [
                                    "     78/100      66.2G    0.09896     0.0949     0.7804         29        640: 100%|██████████| 56/56 [00:28<00:00,  1.98it/s]\n",
                                    "                 Class     Images  Instances      Box(P          R      mAP50  mAP50-95): 100%|██████████| 6/6 [00:02<00:00,  2.44it/s]"
                              ]
                        },
                        {
                              "name": "stdout",
                              "output_type": "stream",
                              "text": [
                                    "                   all       1181       2981      0.575      0.193      0.389      0.201\n"
                              ]
                        },
                        {
                              "name": "stderr",
                              "output_type": "stream",
                              "text": [
                                    "\n"
                              ]
                        },
                        {
                              "name": "stdout",
                              "output_type": "stream",
                              "text": [
                                    "\n",
                                    "      Epoch    GPU_mem   box_loss   cls_loss   dfl_loss  Instances       Size\n"
                              ]
                        },
                        {
                              "name": "stderr",
                              "output_type": "stream",
                              "text": [
                                    "     79/100      66.2G    0.09522    0.09279     0.7801         35        640: 100%|██████████| 56/56 [00:28<00:00,  1.98it/s]\n",
                                    "                 Class     Images  Instances      Box(P          R      mAP50  mAP50-95): 100%|██████████| 6/6 [00:02<00:00,  2.43it/s]"
                              ]
                        },
                        {
                              "name": "stdout",
                              "output_type": "stream",
                              "text": [
                                    "                   all       1181       2981      0.575      0.196      0.388      0.205\n"
                              ]
                        },
                        {
                              "name": "stderr",
                              "output_type": "stream",
                              "text": [
                                    "\n"
                              ]
                        },
                        {
                              "name": "stdout",
                              "output_type": "stream",
                              "text": [
                                    "\n",
                                    "      Epoch    GPU_mem   box_loss   cls_loss   dfl_loss  Instances       Size\n"
                              ]
                        },
                        {
                              "name": "stderr",
                              "output_type": "stream",
                              "text": [
                                    "     80/100      66.1G    0.09181    0.09034     0.7789         31        640: 100%|██████████| 56/56 [00:28<00:00,  1.98it/s]\n",
                                    "                 Class     Images  Instances      Box(P          R      mAP50  mAP50-95): 100%|██████████| 6/6 [00:02<00:00,  2.44it/s]"
                              ]
                        },
                        {
                              "name": "stdout",
                              "output_type": "stream",
                              "text": [
                                    "                   all       1181       2981      0.571      0.195      0.382      0.201\n"
                              ]
                        },
                        {
                              "name": "stderr",
                              "output_type": "stream",
                              "text": [
                                    "\n"
                              ]
                        },
                        {
                              "name": "stdout",
                              "output_type": "stream",
                              "text": [
                                    "\n",
                                    "      Epoch    GPU_mem   box_loss   cls_loss   dfl_loss  Instances       Size\n"
                              ]
                        },
                        {
                              "name": "stderr",
                              "output_type": "stream",
                              "text": [
                                    "     81/100      66.2G     0.0875     0.0877      0.779         31        640: 100%|██████████| 56/56 [00:28<00:00,  1.98it/s]\n",
                                    "                 Class     Images  Instances      Box(P          R      mAP50  mAP50-95): 100%|██████████| 6/6 [00:02<00:00,  2.44it/s]"
                              ]
                        },
                        {
                              "name": "stdout",
                              "output_type": "stream",
                              "text": [
                                    "                   all       1181       2981      0.564      0.196      0.381        0.2\n"
                              ]
                        },
                        {
                              "name": "stderr",
                              "output_type": "stream",
                              "text": [
                                    "\n"
                              ]
                        },
                        {
                              "name": "stdout",
                              "output_type": "stream",
                              "text": [
                                    "\n",
                                    "      Epoch    GPU_mem   box_loss   cls_loss   dfl_loss  Instances       Size\n"
                              ]
                        },
                        {
                              "name": "stderr",
                              "output_type": "stream",
                              "text": [
                                    "     82/100      66.1G    0.08402    0.08546     0.7771         21        640: 100%|██████████| 56/56 [00:28<00:00,  1.98it/s]\n",
                                    "                 Class     Images  Instances      Box(P          R      mAP50  mAP50-95): 100%|██████████| 6/6 [00:02<00:00,  2.44it/s]"
                              ]
                        },
                        {
                              "name": "stdout",
                              "output_type": "stream",
                              "text": [
                                    "                   all       1181       2981      0.574      0.194      0.384      0.198\n"
                              ]
                        },
                        {
                              "name": "stderr",
                              "output_type": "stream",
                              "text": [
                                    "\n"
                              ]
                        },
                        {
                              "name": "stdout",
                              "output_type": "stream",
                              "text": [
                                    "\n",
                                    "      Epoch    GPU_mem   box_loss   cls_loss   dfl_loss  Instances       Size\n"
                              ]
                        },
                        {
                              "name": "stderr",
                              "output_type": "stream",
                              "text": [
                                    "     83/100      66.2G    0.08214    0.08441     0.7773         35        640: 100%|██████████| 56/56 [00:28<00:00,  1.98it/s]\n",
                                    "                 Class     Images  Instances      Box(P          R      mAP50  mAP50-95): 100%|██████████| 6/6 [00:02<00:00,  2.30it/s]"
                              ]
                        },
                        {
                              "name": "stdout",
                              "output_type": "stream",
                              "text": [
                                    "                   all       1181       2981      0.566      0.195      0.382      0.199\n"
                              ]
                        },
                        {
                              "name": "stderr",
                              "output_type": "stream",
                              "text": [
                                    "\n"
                              ]
                        },
                        {
                              "name": "stdout",
                              "output_type": "stream",
                              "text": [
                                    "\n",
                                    "      Epoch    GPU_mem   box_loss   cls_loss   dfl_loss  Instances       Size\n"
                              ]
                        },
                        {
                              "name": "stderr",
                              "output_type": "stream",
                              "text": [
                                    "     84/100      66.2G    0.07794    0.08201      0.777         29        640: 100%|██████████| 56/56 [00:28<00:00,  1.97it/s]\n",
                                    "                 Class     Images  Instances      Box(P          R      mAP50  mAP50-95): 100%|██████████| 6/6 [00:02<00:00,  2.42it/s]"
                              ]
                        },
                        {
                              "name": "stdout",
                              "output_type": "stream",
                              "text": [
                                    "                   all       1181       2981      0.572      0.195      0.387        0.2\n"
                              ]
                        },
                        {
                              "name": "stderr",
                              "output_type": "stream",
                              "text": [
                                    "\n"
                              ]
                        },
                        {
                              "name": "stdout",
                              "output_type": "stream",
                              "text": [
                                    "\n",
                                    "      Epoch    GPU_mem   box_loss   cls_loss   dfl_loss  Instances       Size\n"
                              ]
                        },
                        {
                              "name": "stderr",
                              "output_type": "stream",
                              "text": [
                                    "     85/100      66.2G    0.07595    0.08026     0.7767         26        640: 100%|██████████| 56/56 [00:28<00:00,  1.98it/s]\n",
                                    "                 Class     Images  Instances      Box(P          R      mAP50  mAP50-95): 100%|██████████| 6/6 [00:02<00:00,  2.47it/s]"
                              ]
                        },
                        {
                              "name": "stdout",
                              "output_type": "stream",
                              "text": [
                                    "                   all       1181       2981      0.571      0.193      0.385      0.199\n"
                              ]
                        },
                        {
                              "name": "stderr",
                              "output_type": "stream",
                              "text": [
                                    "\n"
                              ]
                        },
                        {
                              "name": "stdout",
                              "output_type": "stream",
                              "text": [
                                    "\n",
                                    "      Epoch    GPU_mem   box_loss   cls_loss   dfl_loss  Instances       Size\n"
                              ]
                        },
                        {
                              "name": "stderr",
                              "output_type": "stream",
                              "text": [
                                    "     86/100      66.2G    0.07377    0.07894      0.776         32        640: 100%|██████████| 56/56 [00:28<00:00,  1.98it/s]\n",
                                    "                 Class     Images  Instances      Box(P          R      mAP50  mAP50-95): 100%|██████████| 6/6 [00:02<00:00,  2.45it/s]"
                              ]
                        },
                        {
                              "name": "stdout",
                              "output_type": "stream",
                              "text": [
                                    "                   all       1181       2981       0.56      0.191       0.38      0.197\n"
                              ]
                        },
                        {
                              "name": "stderr",
                              "output_type": "stream",
                              "text": [
                                    "\n"
                              ]
                        },
                        {
                              "name": "stdout",
                              "output_type": "stream",
                              "text": [
                                    "\n",
                                    "      Epoch    GPU_mem   box_loss   cls_loss   dfl_loss  Instances       Size\n"
                              ]
                        },
                        {
                              "name": "stderr",
                              "output_type": "stream",
                              "text": [
                                    "     87/100      66.2G    0.07211    0.07761     0.7748         29        640: 100%|██████████| 56/56 [00:28<00:00,  1.98it/s]\n",
                                    "                 Class     Images  Instances      Box(P          R      mAP50  mAP50-95): 100%|██████████| 6/6 [00:02<00:00,  2.43it/s]"
                              ]
                        },
                        {
                              "name": "stdout",
                              "output_type": "stream",
                              "text": [
                                    "                   all       1181       2981      0.569      0.196      0.385      0.199\n"
                              ]
                        },
                        {
                              "name": "stderr",
                              "output_type": "stream",
                              "text": [
                                    "\n"
                              ]
                        },
                        {
                              "name": "stdout",
                              "output_type": "stream",
                              "text": [
                                    "\n",
                                    "      Epoch    GPU_mem   box_loss   cls_loss   dfl_loss  Instances       Size\n"
                              ]
                        },
                        {
                              "name": "stderr",
                              "output_type": "stream",
                              "text": [
                                    "     88/100      66.2G    0.07086    0.07683     0.7753         21        640: 100%|██████████| 56/56 [00:28<00:00,  1.99it/s]\n",
                                    "                 Class     Images  Instances      Box(P          R      mAP50  mAP50-95): 100%|██████████| 6/6 [00:02<00:00,  2.45it/s]"
                              ]
                        },
                        {
                              "name": "stdout",
                              "output_type": "stream",
                              "text": [
                                    "                   all       1181       2981      0.566      0.193      0.383        0.2\n"
                              ]
                        },
                        {
                              "name": "stderr",
                              "output_type": "stream",
                              "text": [
                                    "\n"
                              ]
                        },
                        {
                              "name": "stdout",
                              "output_type": "stream",
                              "text": [
                                    "\n",
                                    "      Epoch    GPU_mem   box_loss   cls_loss   dfl_loss  Instances       Size\n"
                              ]
                        },
                        {
                              "name": "stderr",
                              "output_type": "stream",
                              "text": [
                                    "     89/100      66.2G    0.06868    0.07548     0.7762         24        640: 100%|██████████| 56/56 [00:28<00:00,  1.99it/s]\n",
                                    "                 Class     Images  Instances      Box(P          R      mAP50  mAP50-95): 100%|██████████| 6/6 [00:02<00:00,  2.45it/s]"
                              ]
                        },
                        {
                              "name": "stdout",
                              "output_type": "stream",
                              "text": [
                                    "                   all       1181       2981      0.559      0.191      0.379      0.198\n"
                              ]
                        },
                        {
                              "name": "stderr",
                              "output_type": "stream",
                              "text": [
                                    "\n"
                              ]
                        },
                        {
                              "name": "stdout",
                              "output_type": "stream",
                              "text": [
                                    "\n",
                                    "      Epoch    GPU_mem   box_loss   cls_loss   dfl_loss  Instances       Size\n"
                              ]
                        },
                        {
                              "name": "stderr",
                              "output_type": "stream",
                              "text": [
                                    "     90/100      66.3G    0.06725    0.07432     0.7753         29        640: 100%|██████████| 56/56 [00:28<00:00,  1.98it/s]\n",
                                    "                 Class     Images  Instances      Box(P          R      mAP50  mAP50-95): 100%|██████████| 6/6 [00:02<00:00,  2.42it/s]"
                              ]
                        },
                        {
                              "name": "stdout",
                              "output_type": "stream",
                              "text": [
                                    "                   all       1181       2981      0.567      0.192      0.382      0.198\n"
                              ]
                        },
                        {
                              "name": "stderr",
                              "output_type": "stream",
                              "text": [
                                    "\n"
                              ]
                        },
                        {
                              "name": "stdout",
                              "output_type": "stream",
                              "text": [
                                    "\n",
                                    "      Epoch    GPU_mem   box_loss   cls_loss   dfl_loss  Instances       Size\n"
                              ]
                        },
                        {
                              "name": "stderr",
                              "output_type": "stream",
                              "text": [
                                    "     91/100      66.2G    0.06597    0.07347     0.7758         26        640: 100%|██████████| 56/56 [00:28<00:00,  1.98it/s]\n",
                                    "                 Class     Images  Instances      Box(P          R      mAP50  mAP50-95): 100%|██████████| 6/6 [00:02<00:00,  2.44it/s]"
                              ]
                        },
                        {
                              "name": "stdout",
                              "output_type": "stream",
                              "text": [
                                    "                   all       1181       2981      0.566      0.192      0.381      0.198\n"
                              ]
                        },
                        {
                              "name": "stderr",
                              "output_type": "stream",
                              "text": [
                                    "\n"
                              ]
                        },
                        {
                              "name": "stdout",
                              "output_type": "stream",
                              "text": [
                                    "\n",
                                    "      Epoch    GPU_mem   box_loss   cls_loss   dfl_loss  Instances       Size\n"
                              ]
                        },
                        {
                              "name": "stderr",
                              "output_type": "stream",
                              "text": [
                                    "     92/100      66.3G    0.06552    0.07296     0.7742         40        640: 100%|██████████| 56/56 [00:28<00:00,  1.99it/s]\n",
                                    "                 Class     Images  Instances      Box(P          R      mAP50  mAP50-95): 100%|██████████| 6/6 [00:02<00:00,  2.44it/s]"
                              ]
                        },
                        {
                              "name": "stdout",
                              "output_type": "stream",
                              "text": [
                                    "                   all       1181       2981      0.571      0.194      0.385      0.199\n"
                              ]
                        },
                        {
                              "name": "stderr",
                              "output_type": "stream",
                              "text": [
                                    "\n"
                              ]
                        },
                        {
                              "name": "stdout",
                              "output_type": "stream",
                              "text": [
                                    "\n",
                                    "      Epoch    GPU_mem   box_loss   cls_loss   dfl_loss  Instances       Size\n"
                              ]
                        },
                        {
                              "name": "stderr",
                              "output_type": "stream",
                              "text": [
                                    "     93/100      66.2G    0.06359    0.07142     0.7745         20        640: 100%|██████████| 56/56 [00:28<00:00,  1.99it/s]\n",
                                    "                 Class     Images  Instances      Box(P          R      mAP50  mAP50-95): 100%|██████████| 6/6 [00:02<00:00,  2.43it/s]"
                              ]
                        },
                        {
                              "name": "stdout",
                              "output_type": "stream",
                              "text": [
                                    "                   all       1181       2981      0.565      0.192      0.382      0.196\n"
                              ]
                        },
                        {
                              "name": "stderr",
                              "output_type": "stream",
                              "text": [
                                    "\n"
                              ]
                        },
                        {
                              "name": "stdout",
                              "output_type": "stream",
                              "text": [
                                    "\n",
                                    "      Epoch    GPU_mem   box_loss   cls_loss   dfl_loss  Instances       Size\n"
                              ]
                        },
                        {
                              "name": "stderr",
                              "output_type": "stream",
                              "text": [
                                    "     94/100      66.2G    0.06416    0.07178     0.7744         29        640: 100%|██████████| 56/56 [00:28<00:00,  1.99it/s]\n",
                                    "                 Class     Images  Instances      Box(P          R      mAP50  mAP50-95): 100%|██████████| 6/6 [00:02<00:00,  2.45it/s]"
                              ]
                        },
                        {
                              "name": "stdout",
                              "output_type": "stream",
                              "text": [
                                    "                   all       1181       2981      0.567      0.192      0.382      0.197\n"
                              ]
                        },
                        {
                              "name": "stderr",
                              "output_type": "stream",
                              "text": [
                                    "\n"
                              ]
                        },
                        {
                              "name": "stdout",
                              "output_type": "stream",
                              "text": [
                                    "\n",
                                    "      Epoch    GPU_mem   box_loss   cls_loss   dfl_loss  Instances       Size\n"
                              ]
                        },
                        {
                              "name": "stderr",
                              "output_type": "stream",
                              "text": [
                                    "     95/100      66.2G    0.06274    0.07089     0.7741         25        640: 100%|██████████| 56/56 [00:28<00:00,  1.98it/s]\n",
                                    "                 Class     Images  Instances      Box(P          R      mAP50  mAP50-95): 100%|██████████| 6/6 [00:02<00:00,  2.45it/s]"
                              ]
                        },
                        {
                              "name": "stdout",
                              "output_type": "stream",
                              "text": [
                                    "                   all       1181       2981      0.565      0.192      0.382      0.197\n"
                              ]
                        },
                        {
                              "name": "stderr",
                              "output_type": "stream",
                              "text": [
                                    "\n"
                              ]
                        },
                        {
                              "name": "stdout",
                              "output_type": "stream",
                              "text": [
                                    "\n",
                                    "      Epoch    GPU_mem   box_loss   cls_loss   dfl_loss  Instances       Size\n"
                              ]
                        },
                        {
                              "name": "stderr",
                              "output_type": "stream",
                              "text": [
                                    "     96/100      66.1G    0.06222    0.07029      0.774         23        640: 100%|██████████| 56/56 [00:28<00:00,  1.98it/s]\n",
                                    "                 Class     Images  Instances      Box(P          R      mAP50  mAP50-95): 100%|██████████| 6/6 [00:02<00:00,  2.44it/s]"
                              ]
                        },
                        {
                              "name": "stdout",
                              "output_type": "stream",
                              "text": [
                                    "                   all       1181       2981      0.565      0.191      0.382      0.197\n"
                              ]
                        },
                        {
                              "name": "stderr",
                              "output_type": "stream",
                              "text": [
                                    "\n"
                              ]
                        },
                        {
                              "name": "stdout",
                              "output_type": "stream",
                              "text": [
                                    "\n",
                                    "      Epoch    GPU_mem   box_loss   cls_loss   dfl_loss  Instances       Size\n"
                              ]
                        },
                        {
                              "name": "stderr",
                              "output_type": "stream",
                              "text": [
                                    "     97/100      66.1G    0.06148    0.07006     0.7742         34        640: 100%|██████████| 56/56 [00:28<00:00,  1.98it/s]\n",
                                    "                 Class     Images  Instances      Box(P          R      mAP50  mAP50-95): 100%|██████████| 6/6 [00:02<00:00,  2.46it/s]"
                              ]
                        },
                        {
                              "name": "stdout",
                              "output_type": "stream",
                              "text": [
                                    "                   all       1181       2981      0.567       0.19      0.382      0.197\n"
                              ]
                        },
                        {
                              "name": "stderr",
                              "output_type": "stream",
                              "text": [
                                    "\n"
                              ]
                        },
                        {
                              "name": "stdout",
                              "output_type": "stream",
                              "text": [
                                    "\n",
                                    "      Epoch    GPU_mem   box_loss   cls_loss   dfl_loss  Instances       Size\n"
                              ]
                        },
                        {
                              "name": "stderr",
                              "output_type": "stream",
                              "text": [
                                    "     98/100      66.2G    0.06155    0.06991     0.7732         23        640: 100%|██████████| 56/56 [00:28<00:00,  1.98it/s]\n",
                                    "                 Class     Images  Instances      Box(P          R      mAP50  mAP50-95): 100%|██████████| 6/6 [00:02<00:00,  2.43it/s]"
                              ]
                        },
                        {
                              "name": "stdout",
                              "output_type": "stream",
                              "text": [
                                    "                   all       1181       2981      0.561       0.19      0.378      0.197\n"
                              ]
                        },
                        {
                              "name": "stderr",
                              "output_type": "stream",
                              "text": [
                                    "\n"
                              ]
                        },
                        {
                              "name": "stdout",
                              "output_type": "stream",
                              "text": [
                                    "\n",
                                    "      Epoch    GPU_mem   box_loss   cls_loss   dfl_loss  Instances       Size\n"
                              ]
                        },
                        {
                              "name": "stderr",
                              "output_type": "stream",
                              "text": [
                                    "     99/100      66.3G    0.06087    0.06949     0.7743         27        640: 100%|██████████| 56/56 [00:28<00:00,  1.98it/s]\n",
                                    "                 Class     Images  Instances      Box(P          R      mAP50  mAP50-95): 100%|██████████| 6/6 [00:02<00:00,  2.44it/s]"
                              ]
                        },
                        {
                              "name": "stdout",
                              "output_type": "stream",
                              "text": [
                                    "                   all       1181       2981      0.566      0.189      0.382      0.197\n"
                              ]
                        },
                        {
                              "name": "stderr",
                              "output_type": "stream",
                              "text": [
                                    "\n"
                              ]
                        },
                        {
                              "name": "stdout",
                              "output_type": "stream",
                              "text": [
                                    "\n",
                                    "      Epoch    GPU_mem   box_loss   cls_loss   dfl_loss  Instances       Size\n"
                              ]
                        },
                        {
                              "name": "stderr",
                              "output_type": "stream",
                              "text": [
                                    "    100/100      66.2G    0.06056    0.06913     0.7738         37        640: 100%|██████████| 56/56 [00:28<00:00,  1.98it/s]\n",
                                    "                 Class     Images  Instances      Box(P          R      mAP50  mAP50-95): 100%|██████████| 6/6 [00:02<00:00,  2.44it/s]"
                              ]
                        },
                        {
                              "name": "stdout",
                              "output_type": "stream",
                              "text": [
                                    "                   all       1181       2981      0.567       0.19      0.381      0.197\n"
                              ]
                        },
                        {
                              "name": "stderr",
                              "output_type": "stream",
                              "text": [
                                    "\n"
                              ]
                        },
                        {
                              "name": "stdout",
                              "output_type": "stream",
                              "text": [
                                    "\n",
                                    "100 epochs completed in 0.905 hours.\n",
                                    "Optimizer stripped from DL504/train49/weights/last.pt, 51.2MB\n",
                                    "Optimizer stripped from DL504/train49/weights/best.pt, 51.2MB\n",
                                    "\n",
                                    "Validating DL504/train49/weights/best.pt...\n",
                                    "Ultralytics 8.3.72 🚀 Python-3.11.10 torch-2.6.0+cu124 CUDA:0 (NVIDIA H100 80GB HBM3, 81110MiB)\n",
                                    "YOLO11l summary (fused): 464 layers, 25,287,793 parameters, 0 gradients, 86.6 GFLOPs\n"
                              ]
                        },
                        {
                              "name": "stderr",
                              "output_type": "stream",
                              "text": [
                                    "                 Class     Images  Instances      Box(P          R      mAP50  mAP50-95): 100%|██████████| 6/6 [00:03<00:00,  1.75it/s]\n"
                              ]
                        },
                        {
                              "name": "stdout",
                              "output_type": "stream",
                              "text": [
                                    "                   all       1181       2981      0.697      0.216      0.456      0.246\n",
                                    "              GRAFFITI         90        174      0.683      0.247       0.44      0.233\n",
                                    "         FADED_SIGNAGE         10         11      0.444      0.364      0.433      0.159\n",
                                    "              POTHOLES        168        373      0.442     0.0617       0.25      0.112\n",
                                    "               GARBAGE        573       1315      0.602      0.192      0.383      0.175\n",
                                    "     CONSTRUCTION_ROAD        164        421      0.781      0.356      0.583      0.263\n",
                                    "        BROKEN_SIGNAGE         10         14          1     0.0714      0.536      0.268\n",
                                    "         BAD_BILLBOARD        146        225      0.667      0.284      0.489      0.286\n",
                                    "          SAND_ON_ROAD         77        112      0.609      0.125      0.366      0.146\n",
                                    "      CLUTTER_SIDEWALK        163        316      0.744      0.405      0.557      0.288\n",
                                    "         UNKEPT_FACADE         10         20          1       0.05      0.525      0.525\n",
                                    "Speed: 0.0ms preprocess, 1.1ms inference, 0.0ms loss, 0.4ms postprocess per image\n",
                                    "Results saved to \u001b[1mDL504/train49\u001b[0m\n"
                              ]
                        },
                        {
                              "name": "stderr",
                              "output_type": "stream",
                              "text": [
                                    "\u001b[1;38;5;39mCOMET INFO:\u001b[0m ---------------------------------------------------------------------------------------\n",
                                    "\u001b[1;38;5;39mCOMET INFO:\u001b[0m Comet.ml OfflineExperiment Summary\n",
                                    "\u001b[1;38;5;39mCOMET INFO:\u001b[0m ---------------------------------------------------------------------------------------\n",
                                    "\u001b[1;38;5;39mCOMET INFO:\u001b[0m   Data:\n",
                                    "\u001b[1;38;5;39mCOMET INFO:\u001b[0m     display_summary_level : 1\n",
                                    "\u001b[1;38;5;39mCOMET INFO:\u001b[0m     name                  : Urban-Eye-baseline\n",
                                    "\u001b[1;38;5;39mCOMET INFO:\u001b[0m     url                   : [OfflineExperiment will get URL after upload]\n",
                                    "\u001b[1;38;5;39mCOMET INFO:\u001b[0m   Metrics [count] (min, max):\n",
                                    "\u001b[1;38;5;39mCOMET INFO:\u001b[0m     lr/pg0 [101]               : (6.8329164968482476e-06, 0.0006655347160431759)\n",
                                    "\u001b[1;38;5;39mCOMET INFO:\u001b[0m     lr/pg1 [101]               : (6.8329164968482476e-06, 0.0006655347160431759)\n",
                                    "\u001b[1;38;5;39mCOMET INFO:\u001b[0m     lr/pg2 [101]               : (6.8329164968482476e-06, 0.0006655347160431759)\n",
                                    "\u001b[1;38;5;39mCOMET INFO:\u001b[0m     metrics/mAP50(B) [101]     : (0.00155, 0.4562299051374282)\n",
                                    "\u001b[1;38;5;39mCOMET INFO:\u001b[0m     metrics/mAP50-95(B) [101]  : (0.00063, 0.2455621298820576)\n",
                                    "\u001b[1;38;5;39mCOMET INFO:\u001b[0m     metrics/precision(B) [101] : (0.00217, 0.6972471137024978)\n",
                                    "\u001b[1;38;5;39mCOMET INFO:\u001b[0m     metrics/recall(B) [101]    : (0.11659, 0.39852)\n",
                                    "\u001b[1;38;5;39mCOMET INFO:\u001b[0m     model/GFLOPs               : 87.317\n",
                                    "\u001b[1;38;5;39mCOMET INFO:\u001b[0m     model/parameters           : 25318961\n",
                                    "\u001b[1;38;5;39mCOMET INFO:\u001b[0m     model/speed_PyTorch(ms)    : 1.182\n",
                                    "\u001b[1;38;5;39mCOMET INFO:\u001b[0m     train/box_loss [100]       : (0.06056, 2.43763)\n",
                                    "\u001b[1;38;5;39mCOMET INFO:\u001b[0m     train/cls_loss [100]       : (0.06913, 4.12911)\n",
                                    "\u001b[1;38;5;39mCOMET INFO:\u001b[0m     train/dfl_loss [100]       : (0.77322, 2.66416)\n",
                                    "\u001b[1;38;5;39mCOMET INFO:\u001b[0m     val/box_loss [100]         : (2.11414, 2.55209)\n",
                                    "\u001b[1;38;5;39mCOMET INFO:\u001b[0m     val/cls_loss [100]         : (2.19313, inf)\n",
                                    "\u001b[1;38;5;39mCOMET INFO:\u001b[0m     val/dfl_loss [100]         : (2.52753, 5.529)\n",
                                    "\u001b[1;38;5;39mCOMET INFO:\u001b[0m   Others:\n",
                                    "\u001b[1;38;5;39mCOMET INFO:\u001b[0m     Created from                 : ultralytics\n",
                                    "\u001b[1;38;5;39mCOMET INFO:\u001b[0m     Name                         : Urban-Eye-baseline\n",
                                    "\u001b[1;38;5;39mCOMET INFO:\u001b[0m     eval_batch_logging_interval  : 1\n",
                                    "\u001b[1;38;5;39mCOMET INFO:\u001b[0m     log_confusion_matrix_on_eval : False\n",
                                    "\u001b[1;38;5;39mCOMET INFO:\u001b[0m     log_image_predictions        : True\n",
                                    "\u001b[1;38;5;39mCOMET INFO:\u001b[0m     max_image_predictions        : 100\n",
                                    "\u001b[1;38;5;39mCOMET INFO:\u001b[0m     offline_experiment           : True\n",
                                    "\u001b[1;38;5;39mCOMET INFO:\u001b[0m   Parameters:\n",
                                    "\u001b[1;38;5;39mCOMET INFO:\u001b[0m     agnostic_nms    : False\n",
                                    "\u001b[1;38;5;39mCOMET INFO:\u001b[0m     amp             : True\n",
                                    "\u001b[1;38;5;39mCOMET INFO:\u001b[0m     augment         : False\n",
                                    "\u001b[1;38;5;39mCOMET INFO:\u001b[0m     auto_augment    : none\n",
                                    "\u001b[1;38;5;39mCOMET INFO:\u001b[0m     batch           : 100\n",
                                    "\u001b[1;38;5;39mCOMET INFO:\u001b[0m     bgr             : 0.0\n",
                                    "\u001b[1;38;5;39mCOMET INFO:\u001b[0m     box             : 7.5\n",
                                    "\u001b[1;38;5;39mCOMET INFO:\u001b[0m     cache           : ram\n",
                                    "\u001b[1;38;5;39mCOMET INFO:\u001b[0m     cfg             : cfg/default-no-reg.yaml\n",
                                    "\u001b[1;38;5;39mCOMET INFO:\u001b[0m     classes         : None\n",
                                    "\u001b[1;38;5;39mCOMET INFO:\u001b[0m     close_mosaic    : 0\n",
                                    "\u001b[1;38;5;39mCOMET INFO:\u001b[0m     cls             : 0.5\n",
                                    "\u001b[1;38;5;39mCOMET INFO:\u001b[0m     conf            : 0.25\n",
                                    "\u001b[1;38;5;39mCOMET INFO:\u001b[0m     copy_paste      : 0.0\n",
                                    "\u001b[1;38;5;39mCOMET INFO:\u001b[0m     copy_paste_mode : flip\n",
                                    "\u001b[1;38;5;39mCOMET INFO:\u001b[0m     cos_lr          : True\n",
                                    "\u001b[1;38;5;39mCOMET INFO:\u001b[0m     crop_fraction   : 1.0\n",
                                    "\u001b[1;38;5;39mCOMET INFO:\u001b[0m     data            : /workspace/Smart-Surveillance-for-Cleaner-Cityscapes/ultralytics/cfg/datasets/urbanEye-no-clsw-no-Synth.yaml\n",
                                    "\u001b[1;38;5;39mCOMET INFO:\u001b[0m     degrees         : 0.0\n",
                                    "\u001b[1;38;5;39mCOMET INFO:\u001b[0m     deterministic   : True\n",
                                    "\u001b[1;38;5;39mCOMET INFO:\u001b[0m     device          : 0\n",
                                    "\u001b[1;38;5;39mCOMET INFO:\u001b[0m     dfl             : 1.5\n",
                                    "\u001b[1;38;5;39mCOMET INFO:\u001b[0m     dnn             : False\n",
                                    "\u001b[1;38;5;39mCOMET INFO:\u001b[0m     dropout         : 0.0\n",
                                    "\u001b[1;38;5;39mCOMET INFO:\u001b[0m     dynamic         : False\n",
                                    "\u001b[1;38;5;39mCOMET INFO:\u001b[0m     embed           : None\n",
                                    "\u001b[1;38;5;39mCOMET INFO:\u001b[0m     epochs          : 100\n",
                                    "\u001b[1;38;5;39mCOMET INFO:\u001b[0m     erasing         : 0.0\n",
                                    "\u001b[1;38;5;39mCOMET INFO:\u001b[0m     exist_ok        : False\n",
                                    "\u001b[1;38;5;39mCOMET INFO:\u001b[0m     fliplr          : 0.0\n",
                                    "\u001b[1;38;5;39mCOMET INFO:\u001b[0m     flipud          : 0.0\n",
                                    "\u001b[1;38;5;39mCOMET INFO:\u001b[0m     format          : torchscript\n",
                                    "\u001b[1;38;5;39mCOMET INFO:\u001b[0m     fraction        : 1.0\n",
                                    "\u001b[1;38;5;39mCOMET INFO:\u001b[0m     freeze          : None\n",
                                    "\u001b[1;38;5;39mCOMET INFO:\u001b[0m     half            : False\n",
                                    "\u001b[1;38;5;39mCOMET INFO:\u001b[0m     hsv_h           : 0.0\n",
                                    "\u001b[1;38;5;39mCOMET INFO:\u001b[0m     hsv_s           : 0.0\n",
                                    "\u001b[1;38;5;39mCOMET INFO:\u001b[0m     hsv_v           : 0.0\n",
                                    "\u001b[1;38;5;39mCOMET INFO:\u001b[0m     imgsz           : 640\n",
                                    "\u001b[1;38;5;39mCOMET INFO:\u001b[0m     int8            : False\n",
                                    "\u001b[1;38;5;39mCOMET INFO:\u001b[0m     iou             : 0.65\n",
                                    "\u001b[1;38;5;39mCOMET INFO:\u001b[0m     keras           : False\n",
                                    "\u001b[1;38;5;39mCOMET INFO:\u001b[0m     kobj            : 1.0\n",
                                    "\u001b[1;38;5;39mCOMET INFO:\u001b[0m     line_width      : None\n",
                                    "\u001b[1;38;5;39mCOMET INFO:\u001b[0m     lr0             : 0.001\n",
                                    "\u001b[1;38;5;39mCOMET INFO:\u001b[0m     lrf             : 0.01\n",
                                    "\u001b[1;38;5;39mCOMET INFO:\u001b[0m     mask_ratio      : 4\n",
                                    "\u001b[1;38;5;39mCOMET INFO:\u001b[0m     max_det         : 300\n",
                                    "\u001b[1;38;5;39mCOMET INFO:\u001b[0m     mixup           : 0.0\n",
                                    "\u001b[1;38;5;39mCOMET INFO:\u001b[0m     mode            : train\n",
                                    "\u001b[1;38;5;39mCOMET INFO:\u001b[0m     model           : yolo11l.pt\n",
                                    "\u001b[1;38;5;39mCOMET INFO:\u001b[0m     momentum        : 0.937\n",
                                    "\u001b[1;38;5;39mCOMET INFO:\u001b[0m     mosaic          : 0.0\n",
                                    "\u001b[1;38;5;39mCOMET INFO:\u001b[0m     multi_scale     : False\n",
                                    "\u001b[1;38;5;39mCOMET INFO:\u001b[0m     name            : train48\n",
                                    "\u001b[1;38;5;39mCOMET INFO:\u001b[0m     nbs             : 64\n",
                                    "\u001b[1;38;5;39mCOMET INFO:\u001b[0m     nms             : False\n",
                                    "\u001b[1;38;5;39mCOMET INFO:\u001b[0m     opset           : None\n",
                                    "\u001b[1;38;5;39mCOMET INFO:\u001b[0m     optimize        : False\n",
                                    "\u001b[1;38;5;39mCOMET INFO:\u001b[0m     optimizer       : auto\n",
                                    "\u001b[1;38;5;39mCOMET INFO:\u001b[0m     overlap_mask    : True\n",
                                    "\u001b[1;38;5;39mCOMET INFO:\u001b[0m     patience        : 100\n",
                                    "\u001b[1;38;5;39mCOMET INFO:\u001b[0m     perspective     : 0.0\n",
                                    "\u001b[1;38;5;39mCOMET INFO:\u001b[0m     plots           : True\n",
                                    "\u001b[1;38;5;39mCOMET INFO:\u001b[0m     pose            : 12.0\n",
                                    "\u001b[1;38;5;39mCOMET INFO:\u001b[0m     pretrained      : True\n",
                                    "\u001b[1;38;5;39mCOMET INFO:\u001b[0m     profile         : False\n",
                                    "\u001b[1;38;5;39mCOMET INFO:\u001b[0m     project         : DL504\n",
                                    "\u001b[1;38;5;39mCOMET INFO:\u001b[0m     rect            : False\n",
                                    "\u001b[1;38;5;39mCOMET INFO:\u001b[0m     resume          : False\n",
                                    "\u001b[1;38;5;39mCOMET INFO:\u001b[0m     retina_masks    : False\n",
                                    "\u001b[1;38;5;39mCOMET INFO:\u001b[0m     save            : True\n",
                                    "\u001b[1;38;5;39mCOMET INFO:\u001b[0m     save_conf       : False\n",
                                    "\u001b[1;38;5;39mCOMET INFO:\u001b[0m     save_crop       : False\n",
                                    "\u001b[1;38;5;39mCOMET INFO:\u001b[0m     save_dir        : DL504/train48\n",
                                    "\u001b[1;38;5;39mCOMET INFO:\u001b[0m     save_frames     : False\n",
                                    "\u001b[1;38;5;39mCOMET INFO:\u001b[0m     save_hybrid     : False\n",
                                    "\u001b[1;38;5;39mCOMET INFO:\u001b[0m     save_json       : False\n",
                                    "\u001b[1;38;5;39mCOMET INFO:\u001b[0m     save_period     : -1\n",
                                    "\u001b[1;38;5;39mCOMET INFO:\u001b[0m     save_txt        : False\n",
                                    "\u001b[1;38;5;39mCOMET INFO:\u001b[0m     scale           : 0.0\n",
                                    "\u001b[1;38;5;39mCOMET INFO:\u001b[0m     seed            : 0\n",
                                    "\u001b[1;38;5;39mCOMET INFO:\u001b[0m     shear           : 0.0\n",
                                    "\u001b[1;38;5;39mCOMET INFO:\u001b[0m     show            : False\n",
                                    "\u001b[1;38;5;39mCOMET INFO:\u001b[0m     show_boxes      : True\n",
                                    "\u001b[1;38;5;39mCOMET INFO:\u001b[0m     show_conf       : True\n",
                                    "\u001b[1;38;5;39mCOMET INFO:\u001b[0m     show_labels     : True\n",
                                    "\u001b[1;38;5;39mCOMET INFO:\u001b[0m     simplify        : True\n",
                                    "\u001b[1;38;5;39mCOMET INFO:\u001b[0m     single_cls      : False\n",
                                    "\u001b[1;38;5;39mCOMET INFO:\u001b[0m     source          : None\n",
                                    "\u001b[1;38;5;39mCOMET INFO:\u001b[0m     split           : val\n",
                                    "\u001b[1;38;5;39mCOMET INFO:\u001b[0m     stream_buffer   : False\n",
                                    "\u001b[1;38;5;39mCOMET INFO:\u001b[0m     task            : detect\n",
                                    "\u001b[1;38;5;39mCOMET INFO:\u001b[0m     time            : None\n",
                                    "\u001b[1;38;5;39mCOMET INFO:\u001b[0m     tracker         : botsort.yaml\n",
                                    "\u001b[1;38;5;39mCOMET INFO:\u001b[0m     translate       : 0.0\n",
                                    "\u001b[1;38;5;39mCOMET INFO:\u001b[0m     val             : True\n",
                                    "\u001b[1;38;5;39mCOMET INFO:\u001b[0m     verbose         : True\n",
                                    "\u001b[1;38;5;39mCOMET INFO:\u001b[0m     vid_stride      : 1\n",
                                    "\u001b[1;38;5;39mCOMET INFO:\u001b[0m     visualize       : False\n",
                                    "\u001b[1;38;5;39mCOMET INFO:\u001b[0m     warmup_bias_lr  : 0.1\n",
                                    "\u001b[1;38;5;39mCOMET INFO:\u001b[0m     warmup_epochs   : 3.0\n",
                                    "\u001b[1;38;5;39mCOMET INFO:\u001b[0m     warmup_momentum : 0.8\n",
                                    "\u001b[1;38;5;39mCOMET INFO:\u001b[0m     weight_decay    : 0.0\n",
                                    "\u001b[1;38;5;39mCOMET INFO:\u001b[0m     workers         : 32\n",
                                    "\u001b[1;38;5;39mCOMET INFO:\u001b[0m     workspace       : 0\n",
                                    "\u001b[1;38;5;39mCOMET INFO:\u001b[0m   Uploads:\n",
                                    "\u001b[1;38;5;39mCOMET INFO:\u001b[0m     confusion-matrix         : 1\n",
                                    "\u001b[1;38;5;39mCOMET INFO:\u001b[0m     environment details      : 1\n",
                                    "\u001b[1;38;5;39mCOMET INFO:\u001b[0m     filename                 : 1\n",
                                    "\u001b[1;38;5;39mCOMET INFO:\u001b[0m     git metadata             : 1\n",
                                    "\u001b[1;38;5;39mCOMET INFO:\u001b[0m     git-patch (uncompressed) : 1 (33.48 KB)\n",
                                    "\u001b[1;38;5;39mCOMET INFO:\u001b[0m     images                   : 17\n",
                                    "\u001b[1;38;5;39mCOMET INFO:\u001b[0m     installed packages       : 1\n",
                                    "\u001b[1;38;5;39mCOMET INFO:\u001b[0m     model-element            : 1 (48.84 MB)\n",
                                    "\u001b[1;38;5;39mCOMET INFO:\u001b[0m     notebook                 : 1\n",
                                    "\u001b[1;38;5;39mCOMET INFO:\u001b[0m     os packages              : 1\n",
                                    "\u001b[1;38;5;39mCOMET INFO:\u001b[0m     source_code              : 1\n",
                                    "\u001b[1;38;5;39mCOMET INFO:\u001b[0m \n",
                                    "\u001b[1;38;5;214mCOMET WARNING:\u001b[0m To get all data logged automatically, import comet_ml before the following modules: torch.\n",
                                    "\u001b[1;38;5;39mCOMET INFO:\u001b[0m Still saving offline stats to messages file before program termination (may take up to 120 seconds)\n",
                                    "\u001b[1;38;5;39mCOMET INFO:\u001b[0m Begin archiving the offline data.\n",
                                    "\u001b[1;38;5;39mCOMET INFO:\u001b[0m To upload this offline experiment, run:\n",
                                    "    comet upload /workspace/Smart-Surveillance-for-Cleaner-Cityscapes/.cometml-runs/c3d9a163c82248e78143d9398f4579fe.zip\n"
                              ]
                        }
                  ],
                  "source": [
                        "import os\n",
                        "os.environ.pop(\"COMET_EXPERIMENT_NAME\", None)\n",
                        "os.environ[\"COMET_MODE\"] = \"offline\"\n",
                        "os.environ[\"COMET_EXPERIMENT_NAME\"] = \"Urban-Eye-baseline\"\n",
                        "from ultralytics import YOLO\n",
                        "# Load a pretrained YOLOv8 model\n",
                        "model = YOLO('yolo11l.pt')  # load an official model\n",
                        "print(\"=========================================================================\")\n",
                        "result = model.train(cfg=\"cfg/default-no-reg.yaml\", data=\"urbanEye-no-clsw-no-Synth.yaml\")  # train with custom settings\n",
                        "\n"
                  ]
            },
            {
                  "cell_type": "markdown",
                  "id": "11acedef",
                  "metadata": {},
                  "source": [
                        "## 6. Baseline + Synthetic Data\n",
                        "\n",
                        "Augment the training set with synthetically generated examples of rare classes, then retrain.\n"
                  ]
            },
            {
                  "cell_type": "markdown",
                  "id": "117dce6e",
                  "metadata": {},
                  "source": [
                        "## 6. Baseline + Customzied Augmentation\n",
                        "\n",
                        "Augment the training set with synthetically generated examples of rare classes, then retrain.\n",
                        "\n",
                        "\n",
                        "| Augmentation      | Value              | Description                                                                                  |\n",
                        "|-------------------|--------------------|----------------------------------------------------------------------------------------------|\n",
                        "| Mosaic            | 1.0                | Combines four images into a single image to simulate complex backgrounds and varied object contexts. |\n",
                        "| MixUp             | 0.1                | Blends two images to create intermediate representations, improving generalization.          |\n",
                        "| HSV Adjustment    | H: 0.02, S: 0.7, V: 0.4 | Adjusts hue, saturation, and brightness to simulate diverse lighting scenarios.              |\n",
                        "| Rotation          | ±5°                | Slight rotations to mimic camera angle variations.                                           |\n",
                        "| Translation       | ±0.15              | Horizontal and vertical shifts to simulate varied object positions.                         |\n",
                        "| Scale             | ±0.5               | Varies object sizes to emulate different object distances.                                   |\n",
                        "| Horizontal Flip   | 0.5                | Flips images horizontally to diversify object orientation.                                  |\n",
                        "| Perspective       | 0.0                | Perspective distortion was disabled to maintain structural realism in urban scenes.         |\n",
                        "\n",
                        "\n"
                  ]
            },
            {
                  "cell_type": "code",
                  "execution_count": 12,
                  "id": "ebd160db",
                  "metadata": {},
                  "outputs": [
                        {
                              "name": "stdout",
                              "output_type": "stream",
                              "text": [
                                    "=========================================================================\n",
                                    "New https://pypi.org/project/ultralytics/8.3.114 available 😃 Update with 'pip install -U ultralytics'\n",
                                    "Ultralytics 8.3.72 🚀 Python-3.11.10 torch-2.6.0+cu124 CUDA:0 (NVIDIA H100 80GB HBM3, 81110MiB)\n",
                                    "\u001b[34m\u001b[1mengine/trainer: \u001b[0mtask=detect, mode=train, model=yolo11l.pt, data=urbanEye-no-clsw-no-Synth.yaml, epochs=500, time=None, patience=30, batch=100, imgsz=640, save=True, save_period=-1, cache=disk, device=0, workers=32, project=DL504, name=train51, exist_ok=False, pretrained=True, optimizer=auto, verbose=True, seed=0, deterministic=True, single_cls=False, rect=True, cos_lr=True, close_mosaic=10, resume=False, amp=True, fraction=1.0, profile=False, freeze=None, multi_scale=False, overlap_mask=True, mask_ratio=4, dropout=0.0, val=True, split=val, save_json=False, save_hybrid=False, conf=0.25, iou=0.65, max_det=300, half=False, dnn=False, plots=True, source=None, vid_stride=1, stream_buffer=False, visualize=False, augment=False, agnostic_nms=False, classes=None, retina_masks=False, embed=None, show=False, save_frames=False, save_txt=False, save_conf=False, save_crop=False, show_labels=True, show_conf=True, show_boxes=True, line_width=None, format=torchscript, keras=False, optimize=False, int8=False, dynamic=False, simplify=True, opset=None, workspace=0, nms=False, lr0=0.001, lrf=0.01, momentum=0.937, weight_decay=0.0005, warmup_epochs=3.0, warmup_momentum=0.8, warmup_bias_lr=0.1, box=7.5, cls=0.5, dfl=1.5, pose=12.0, kobj=1.0, nbs=64, hsv_h=0.015, hsv_s=0.7, hsv_v=0.4, degrees=0.0, translate=0.1, scale=0.5, shear=0.0, perspective=0.0, flipud=0.0, fliplr=0.5, bgr=0.0, mosaic=1.0, mixup=0.05, copy_paste=0.1, copy_paste_mode=flip, auto_augment=randaugment, erasing=0.4, crop_fraction=1.0, cfg=cfg/urbanyet-settings.yaml, tracker=botsort.yaml, save_dir=DL504/train51\n",
                                    "Overriding model.yaml nc=80 with nc=11\n",
                                    "\n",
                                    "                   from  n    params  module                                       arguments                     \n",
                                    "  0                  -1  1      1856  ultralytics.nn.modules.conv.Conv             [3, 64, 3, 2]                 \n",
                                    "  1                  -1  1     73984  ultralytics.nn.modules.conv.Conv             [64, 128, 3, 2]               \n",
                                    "  2                  -1  2    173824  ultralytics.nn.modules.block.C3k2            [128, 256, 2, True, 0.25]     \n",
                                    "  3                  -1  1    590336  ultralytics.nn.modules.conv.Conv             [256, 256, 3, 2]              \n",
                                    "  4                  -1  2    691712  ultralytics.nn.modules.block.C3k2            [256, 512, 2, True, 0.25]     \n",
                                    "  5                  -1  1   2360320  ultralytics.nn.modules.conv.Conv             [512, 512, 3, 2]              \n",
                                    "  6                  -1  2   2234368  ultralytics.nn.modules.block.C3k2            [512, 512, 2, True]           \n",
                                    "  7                  -1  1   2360320  ultralytics.nn.modules.conv.Conv             [512, 512, 3, 2]              \n",
                                    "  8                  -1  2   2234368  ultralytics.nn.modules.block.C3k2            [512, 512, 2, True]           \n",
                                    "  9                  -1  1    656896  ultralytics.nn.modules.block.SPPF            [512, 512, 5]                 \n",
                                    " 10                  -1  2   1455616  ultralytics.nn.modules.block.C2PSA           [512, 512, 2]                 \n",
                                    " 11                  -1  1         0  torch.nn.modules.upsampling.Upsample         [None, 2, 'nearest']          \n",
                                    " 12             [-1, 6]  1         0  ultralytics.nn.modules.conv.Concat           [1]                           \n",
                                    " 13                  -1  2   2496512  ultralytics.nn.modules.block.C3k2            [1024, 512, 2, True]          \n",
                                    " 14                  -1  1         0  torch.nn.modules.upsampling.Upsample         [None, 2, 'nearest']          \n",
                                    " 15             [-1, 4]  1         0  ultralytics.nn.modules.conv.Concat           [1]                           \n",
                                    " 16                  -1  2    756736  ultralytics.nn.modules.block.C3k2            [1024, 256, 2, True]          \n",
                                    " 17                  -1  1    590336  ultralytics.nn.modules.conv.Conv             [256, 256, 3, 2]              \n",
                                    " 18            [-1, 13]  1         0  ultralytics.nn.modules.conv.Concat           [1]                           \n",
                                    " 19                  -1  2   2365440  ultralytics.nn.modules.block.C3k2            [768, 512, 2, True]           \n",
                                    " 20                  -1  1   2360320  ultralytics.nn.modules.conv.Conv             [512, 512, 3, 2]              \n",
                                    " 21            [-1, 10]  1         0  ultralytics.nn.modules.conv.Concat           [1]                           \n",
                                    " 22                  -1  2   2496512  ultralytics.nn.modules.block.C3k2            [1024, 512, 2, True]          \n",
                                    " 23        [16, 19, 22]  1   1419505  ultralytics.nn.modules.head.Detect           [11, [256, 512, 512]]         \n",
                                    "YOLO11l summary: 631 layers, 25,318,961 parameters, 25,318,945 gradients, 87.3 GFLOPs\n",
                                    "\n",
                                    "Transferred 1009/1015 items from pretrained weights\n"
                              ]
                        },
                        {
                              "name": "stderr",
                              "output_type": "stream",
                              "text": [
                                    "\u001b[1;38;5;214mCOMET WARNING:\u001b[0m To get all data logged automatically, import comet_ml before the following modules: torch.\n",
                                    "\u001b[1;38;5;214mCOMET WARNING:\u001b[0m As you are running in a Jupyter environment, you will need to call `experiment.end()` when finished to ensure all metrics and code are logged before exiting.\n",
                                    "\u001b[1;38;5;39mCOMET INFO:\u001b[0m Using '/workspace/Smart-Surveillance-for-Cleaner-Cityscapes/.cometml-runs' path as offline directory. Pass 'offline_directory' parameter into constructor or set the 'COMET_OFFLINE_DIRECTORY' environment variable to manually choose where to store offline experiment archives.\n"
                              ]
                        },
                        {
                              "name": "stdout",
                              "output_type": "stream",
                              "text": [
                                    "Class Weights in Use: None\n",
                                    "Freezing layer 'model.23.dfl.conv.weight'\n",
                                    "\u001b[34m\u001b[1mAMP: \u001b[0mrunning Automatic Mixed Precision (AMP) checks...\n",
                                    "\u001b[34m\u001b[1mAMP: \u001b[0mchecks passed ✅\n"
                              ]
                        },
                        {
                              "name": "stderr",
                              "output_type": "stream",
                              "text": [
                                    "\u001b[34m\u001b[1mtrain: \u001b[0mScanning /workspace/datasets/urbanEye/dataset/labels/train... 5511 images, 0 backgrounds, 0 corrupt: 100%|██████████| 5511/5511 [00:03<00:00, 1417.98it/s]\n"
                              ]
                        },
                        {
                              "name": "stdout",
                              "output_type": "stream",
                              "text": [
                                    "\u001b[34m\u001b[1mtrain: \u001b[0mNew cache created: /workspace/datasets/urbanEye/dataset/labels/train.cache\n"
                              ]
                        },
                        {
                              "name": "stderr",
                              "output_type": "stream",
                              "text": [
                                    "\u001b[34m\u001b[1mtrain: \u001b[0mCaching images (6.3GB Disk): 100%|██████████| 5511/5511 [00:00<00:00, 32942.33it/s]"
                              ]
                        },
                        {
                              "name": "stdout",
                              "output_type": "stream",
                              "text": [
                                    "WARNING ⚠️ 'rect=True' is incompatible with DataLoader shuffle, setting shuffle=False\n"
                              ]
                        },
                        {
                              "name": "stderr",
                              "output_type": "stream",
                              "text": [
                                    "\n",
                                    "\u001b[34m\u001b[1mval: \u001b[0mScanning /workspace/datasets/urbanEye/dataset/labels/eval.cache... 1181 images, 0 backgrounds, 0 corrupt: 100%|██████████| 1181/1181 [00:00<?, ?it/s]\n",
                                    "\u001b[34m\u001b[1mval: \u001b[0mCaching images (1.4GB Disk): 100%|██████████| 1181/1181 [00:00<00:00, 18490.42it/s]\n"
                              ]
                        },
                        {
                              "name": "stdout",
                              "output_type": "stream",
                              "text": [
                                    "Plotting labels to DL504/train51/labels.jpg... \n",
                                    "\u001b[34m\u001b[1moptimizer:\u001b[0m 'optimizer=auto' found, ignoring 'lr0=0.001' and 'momentum=0.937' and determining best 'optimizer', 'lr0' and 'momentum' automatically... \n",
                                    "\u001b[34m\u001b[1moptimizer:\u001b[0m SGD(lr=0.01, momentum=0.9) with parameter groups 167 weight(decay=0.0), 174 weight(decay=0.00078125), 173 bias(decay=0.0)\n",
                                    "Image sizes 640 train, 640 val\n",
                                    "Using 32 dataloader workers\n",
                                    "Logging results to \u001b[1mDL504/train51\u001b[0m\n",
                                    "Starting training for 500 epochs...\n",
                                    "\n",
                                    "      Epoch    GPU_mem   box_loss   cls_loss   dfl_loss  Instances       Size\n"
                              ]
                        },
                        {
                              "name": "stderr",
                              "output_type": "stream",
                              "text": [
                                    "      1/500        66G      2.678      4.789      2.917         21        640: 100%|██████████| 56/56 [00:33<00:00,  1.67it/s]\n",
                                    "                 Class     Images  Instances      Box(P          R      mAP50  mAP50-95): 100%|██████████| 6/6 [00:02<00:00,  2.55it/s]"
                              ]
                        },
                        {
                              "name": "stdout",
                              "output_type": "stream",
                              "text": [
                                    "                   all       1181       2981       0.14     0.0205     0.0751     0.0286\n"
                              ]
                        },
                        {
                              "name": "stderr",
                              "output_type": "stream",
                              "text": [
                                    "\n"
                              ]
                        },
                        {
                              "name": "stdout",
                              "output_type": "stream",
                              "text": [
                                    "\n",
                                    "      Epoch    GPU_mem   box_loss   cls_loss   dfl_loss  Instances       Size\n"
                              ]
                        },
                        {
                              "name": "stderr",
                              "output_type": "stream",
                              "text": [
                                    "      2/500        66G       2.01      2.646      2.231         21        640: 100%|██████████| 56/56 [00:28<00:00,  1.97it/s]\n",
                                    "                 Class     Images  Instances      Box(P          R      mAP50  mAP50-95): 100%|██████████| 6/6 [00:02<00:00,  2.07it/s]"
                              ]
                        },
                        {
                              "name": "stdout",
                              "output_type": "stream",
                              "text": [
                                    "                   all       1181       2981      0.185      0.176      0.157     0.0614\n"
                              ]
                        },
                        {
                              "name": "stderr",
                              "output_type": "stream",
                              "text": [
                                    "\n"
                              ]
                        },
                        {
                              "name": "stdout",
                              "output_type": "stream",
                              "text": [
                                    "\n",
                                    "      Epoch    GPU_mem   box_loss   cls_loss   dfl_loss  Instances       Size\n"
                              ]
                        },
                        {
                              "name": "stderr",
                              "output_type": "stream",
                              "text": [
                                    "      3/500        66G      2.016      2.555      2.177         20        640: 100%|██████████| 56/56 [00:28<00:00,  1.97it/s]\n",
                                    "                 Class     Images  Instances      Box(P          R      mAP50  mAP50-95): 100%|██████████| 6/6 [00:02<00:00,  2.25it/s]"
                              ]
                        },
                        {
                              "name": "stdout",
                              "output_type": "stream",
                              "text": [
                                    "                   all       1181       2981      0.058     0.0264     0.0336      0.015\n"
                              ]
                        },
                        {
                              "name": "stderr",
                              "output_type": "stream",
                              "text": [
                                    "\n"
                              ]
                        },
                        {
                              "name": "stdout",
                              "output_type": "stream",
                              "text": [
                                    "\n",
                                    "      Epoch    GPU_mem   box_loss   cls_loss   dfl_loss  Instances       Size\n"
                              ]
                        },
                        {
                              "name": "stderr",
                              "output_type": "stream",
                              "text": [
                                    "      4/500      66.1G      2.064      2.653      2.234         20        640: 100%|██████████| 56/56 [00:28<00:00,  1.95it/s]\n",
                                    "                 Class     Images  Instances      Box(P          R      mAP50  mAP50-95): 100%|██████████| 6/6 [00:02<00:00,  2.01it/s]"
                              ]
                        },
                        {
                              "name": "stdout",
                              "output_type": "stream",
                              "text": [
                                    "                   all       1181       2981    0.00962     0.0439    0.00566    0.00241\n"
                              ]
                        },
                        {
                              "name": "stderr",
                              "output_type": "stream",
                              "text": [
                                    "\n"
                              ]
                        },
                        {
                              "name": "stdout",
                              "output_type": "stream",
                              "text": [
                                    "\n",
                                    "      Epoch    GPU_mem   box_loss   cls_loss   dfl_loss  Instances       Size\n"
                              ]
                        },
                        {
                              "name": "stderr",
                              "output_type": "stream",
                              "text": [
                                    "      5/500      66.1G      2.036      2.535      2.263         20        640: 100%|██████████| 56/56 [00:28<00:00,  1.96it/s]\n",
                                    "                 Class     Images  Instances      Box(P          R      mAP50  mAP50-95): 100%|██████████| 6/6 [00:02<00:00,  2.01it/s]"
                              ]
                        },
                        {
                              "name": "stdout",
                              "output_type": "stream",
                              "text": [
                                    "                   all       1181       2981     0.0507     0.0362     0.0276     0.0109\n"
                              ]
                        },
                        {
                              "name": "stderr",
                              "output_type": "stream",
                              "text": [
                                    "\n"
                              ]
                        },
                        {
                              "name": "stdout",
                              "output_type": "stream",
                              "text": [
                                    "\n",
                                    "      Epoch    GPU_mem   box_loss   cls_loss   dfl_loss  Instances       Size\n"
                              ]
                        },
                        {
                              "name": "stderr",
                              "output_type": "stream",
                              "text": [
                                    "      6/500      66.1G       2.01      2.457       2.26         19        640: 100%|██████████| 56/56 [00:28<00:00,  1.97it/s]\n",
                                    "                 Class     Images  Instances      Box(P          R      mAP50  mAP50-95): 100%|██████████| 6/6 [00:02<00:00,  2.13it/s]"
                              ]
                        },
                        {
                              "name": "stdout",
                              "output_type": "stream",
                              "text": [
                                    "                   all       1181       2981       0.18     0.0786     0.0991     0.0428\n"
                              ]
                        },
                        {
                              "name": "stderr",
                              "output_type": "stream",
                              "text": [
                                    "\n"
                              ]
                        },
                        {
                              "name": "stdout",
                              "output_type": "stream",
                              "text": [
                                    "\n",
                                    "      Epoch    GPU_mem   box_loss   cls_loss   dfl_loss  Instances       Size\n"
                              ]
                        },
                        {
                              "name": "stderr",
                              "output_type": "stream",
                              "text": [
                                    "      7/500      66.1G      1.977      2.386      2.244         21        640: 100%|██████████| 56/56 [00:28<00:00,  1.96it/s]\n",
                                    "                 Class     Images  Instances      Box(P          R      mAP50  mAP50-95): 100%|██████████| 6/6 [00:02<00:00,  2.13it/s]"
                              ]
                        },
                        {
                              "name": "stdout",
                              "output_type": "stream",
                              "text": [
                                    "                   all       1181       2981      0.107     0.0832     0.0718     0.0334\n"
                              ]
                        },
                        {
                              "name": "stderr",
                              "output_type": "stream",
                              "text": [
                                    "\n"
                              ]
                        },
                        {
                              "name": "stdout",
                              "output_type": "stream",
                              "text": [
                                    "\n",
                                    "      Epoch    GPU_mem   box_loss   cls_loss   dfl_loss  Instances       Size\n"
                              ]
                        },
                        {
                              "name": "stderr",
                              "output_type": "stream",
                              "text": [
                                    "      8/500        66G       1.96      2.322      2.226         21        640: 100%|██████████| 56/56 [00:28<00:00,  1.97it/s]\n",
                                    "                 Class     Images  Instances      Box(P          R      mAP50  mAP50-95): 100%|██████████| 6/6 [00:02<00:00,  2.26it/s]"
                              ]
                        },
                        {
                              "name": "stdout",
                              "output_type": "stream",
                              "text": [
                                    "                   all       1181       2981      0.139      0.063     0.0887      0.041\n"
                              ]
                        },
                        {
                              "name": "stderr",
                              "output_type": "stream",
                              "text": [
                                    "\n"
                              ]
                        },
                        {
                              "name": "stdout",
                              "output_type": "stream",
                              "text": [
                                    "\n",
                                    "      Epoch    GPU_mem   box_loss   cls_loss   dfl_loss  Instances       Size\n"
                              ]
                        },
                        {
                              "name": "stderr",
                              "output_type": "stream",
                              "text": [
                                    "      9/500      66.1G      1.949      2.276      2.214         20        640: 100%|██████████| 56/56 [00:28<00:00,  1.97it/s]\n",
                                    "                 Class     Images  Instances      Box(P          R      mAP50  mAP50-95): 100%|██████████| 6/6 [00:02<00:00,  2.15it/s]"
                              ]
                        },
                        {
                              "name": "stdout",
                              "output_type": "stream",
                              "text": [
                                    "                   all       1181       2981       0.24      0.162      0.179     0.0759\n"
                              ]
                        },
                        {
                              "name": "stderr",
                              "output_type": "stream",
                              "text": [
                                    "\n"
                              ]
                        },
                        {
                              "name": "stdout",
                              "output_type": "stream",
                              "text": [
                                    "\n",
                                    "      Epoch    GPU_mem   box_loss   cls_loss   dfl_loss  Instances       Size\n"
                              ]
                        },
                        {
                              "name": "stderr",
                              "output_type": "stream",
                              "text": [
                                    "     10/500      66.1G      1.931      2.236      2.206         21        640: 100%|██████████| 56/56 [00:28<00:00,  1.97it/s]\n",
                                    "                 Class     Images  Instances      Box(P          R      mAP50  mAP50-95): 100%|██████████| 6/6 [00:02<00:00,  2.13it/s]"
                              ]
                        },
                        {
                              "name": "stdout",
                              "output_type": "stream",
                              "text": [
                                    "                   all       1181       2981      0.239      0.183      0.193      0.088\n"
                              ]
                        },
                        {
                              "name": "stderr",
                              "output_type": "stream",
                              "text": [
                                    "\n"
                              ]
                        },
                        {
                              "name": "stdout",
                              "output_type": "stream",
                              "text": [
                                    "\n",
                                    "      Epoch    GPU_mem   box_loss   cls_loss   dfl_loss  Instances       Size\n"
                              ]
                        },
                        {
                              "name": "stderr",
                              "output_type": "stream",
                              "text": [
                                    "     11/500      66.1G      1.917      2.181      2.194         21        640: 100%|██████████| 56/56 [00:28<00:00,  1.96it/s]\n",
                                    "                 Class     Images  Instances      Box(P          R      mAP50  mAP50-95): 100%|██████████| 6/6 [00:02<00:00,  2.13it/s]"
                              ]
                        },
                        {
                              "name": "stdout",
                              "output_type": "stream",
                              "text": [
                                    "                   all       1181       2981      0.242      0.174      0.191     0.0863\n"
                              ]
                        },
                        {
                              "name": "stderr",
                              "output_type": "stream",
                              "text": [
                                    "\n"
                              ]
                        },
                        {
                              "name": "stdout",
                              "output_type": "stream",
                              "text": [
                                    "\n",
                                    "      Epoch    GPU_mem   box_loss   cls_loss   dfl_loss  Instances       Size\n"
                              ]
                        },
                        {
                              "name": "stderr",
                              "output_type": "stream",
                              "text": [
                                    "     12/500      66.1G      1.909      2.159      2.165         20        640: 100%|██████████| 56/56 [00:28<00:00,  1.97it/s]\n",
                                    "                 Class     Images  Instances      Box(P          R      mAP50  mAP50-95): 100%|██████████| 6/6 [00:02<00:00,  2.32it/s]"
                              ]
                        },
                        {
                              "name": "stdout",
                              "output_type": "stream",
                              "text": [
                                    "                   all       1181       2981      0.194     0.0954      0.134     0.0544\n"
                              ]
                        },
                        {
                              "name": "stderr",
                              "output_type": "stream",
                              "text": [
                                    "\n"
                              ]
                        },
                        {
                              "name": "stdout",
                              "output_type": "stream",
                              "text": [
                                    "\n",
                                    "      Epoch    GPU_mem   box_loss   cls_loss   dfl_loss  Instances       Size\n"
                              ]
                        },
                        {
                              "name": "stderr",
                              "output_type": "stream",
                              "text": [
                                    "     13/500      66.1G      1.905      2.137      2.183         21        640: 100%|██████████| 56/56 [00:28<00:00,  1.97it/s]\n",
                                    "                 Class     Images  Instances      Box(P          R      mAP50  mAP50-95): 100%|██████████| 6/6 [00:02<00:00,  2.57it/s]"
                              ]
                        },
                        {
                              "name": "stdout",
                              "output_type": "stream",
                              "text": [
                                    "                   all       1181       2981      0.157     0.0166     0.0849     0.0427\n"
                              ]
                        },
                        {
                              "name": "stderr",
                              "output_type": "stream",
                              "text": [
                                    "\n"
                              ]
                        },
                        {
                              "name": "stdout",
                              "output_type": "stream",
                              "text": [
                                    "\n",
                                    "      Epoch    GPU_mem   box_loss   cls_loss   dfl_loss  Instances       Size\n"
                              ]
                        },
                        {
                              "name": "stderr",
                              "output_type": "stream",
                              "text": [
                                    "     14/500      66.1G      1.887      2.099      2.162         21        640: 100%|██████████| 56/56 [00:28<00:00,  1.95it/s]\n",
                                    "                 Class     Images  Instances      Box(P          R      mAP50  mAP50-95): 100%|██████████| 6/6 [00:02<00:00,  2.24it/s]"
                              ]
                        },
                        {
                              "name": "stdout",
                              "output_type": "stream",
                              "text": [
                                    "                   all       1181       2981      0.441      0.201      0.316      0.148\n"
                              ]
                        },
                        {
                              "name": "stderr",
                              "output_type": "stream",
                              "text": [
                                    "\n"
                              ]
                        },
                        {
                              "name": "stdout",
                              "output_type": "stream",
                              "text": [
                                    "\n",
                                    "      Epoch    GPU_mem   box_loss   cls_loss   dfl_loss  Instances       Size\n"
                              ]
                        },
                        {
                              "name": "stderr",
                              "output_type": "stream",
                              "text": [
                                    "     15/500      66.1G      1.877       2.06      2.147         21        640: 100%|██████████| 56/56 [00:28<00:00,  1.97it/s]\n",
                                    "                 Class     Images  Instances      Box(P          R      mAP50  mAP50-95): 100%|██████████| 6/6 [00:02<00:00,  2.31it/s]"
                              ]
                        },
                        {
                              "name": "stdout",
                              "output_type": "stream",
                              "text": [
                                    "                   all       1181       2981      0.388       0.17      0.265      0.128\n"
                              ]
                        },
                        {
                              "name": "stderr",
                              "output_type": "stream",
                              "text": [
                                    "\n"
                              ]
                        },
                        {
                              "name": "stdout",
                              "output_type": "stream",
                              "text": [
                                    "\n",
                                    "      Epoch    GPU_mem   box_loss   cls_loss   dfl_loss  Instances       Size\n"
                              ]
                        },
                        {
                              "name": "stderr",
                              "output_type": "stream",
                              "text": [
                                    "     16/500      66.1G      1.867      2.037       2.14         21        640: 100%|██████████| 56/56 [00:28<00:00,  1.95it/s]\n",
                                    "                 Class     Images  Instances      Box(P          R      mAP50  mAP50-95): 100%|██████████| 6/6 [00:02<00:00,  2.14it/s]"
                              ]
                        },
                        {
                              "name": "stdout",
                              "output_type": "stream",
                              "text": [
                                    "                   all       1181       2981      0.386      0.246      0.301      0.137\n"
                              ]
                        },
                        {
                              "name": "stderr",
                              "output_type": "stream",
                              "text": [
                                    "\n"
                              ]
                        },
                        {
                              "name": "stdout",
                              "output_type": "stream",
                              "text": [
                                    "\n",
                                    "      Epoch    GPU_mem   box_loss   cls_loss   dfl_loss  Instances       Size\n"
                              ]
                        },
                        {
                              "name": "stderr",
                              "output_type": "stream",
                              "text": [
                                    "     17/500      66.1G      1.871      2.004      2.137         21        640: 100%|██████████| 56/56 [00:28<00:00,  1.94it/s]\n",
                                    "                 Class     Images  Instances      Box(P          R      mAP50  mAP50-95): 100%|██████████| 6/6 [00:02<00:00,  2.13it/s]"
                              ]
                        },
                        {
                              "name": "stdout",
                              "output_type": "stream",
                              "text": [
                                    "                   all       1181       2981      0.385       0.22      0.292      0.145\n"
                              ]
                        },
                        {
                              "name": "stderr",
                              "output_type": "stream",
                              "text": [
                                    "\n"
                              ]
                        },
                        {
                              "name": "stdout",
                              "output_type": "stream",
                              "text": [
                                    "\n",
                                    "      Epoch    GPU_mem   box_loss   cls_loss   dfl_loss  Instances       Size\n"
                              ]
                        },
                        {
                              "name": "stderr",
                              "output_type": "stream",
                              "text": [
                                    "     18/500        66G      1.858      1.988       2.13         20        640: 100%|██████████| 56/56 [00:28<00:00,  1.96it/s]\n",
                                    "                 Class     Images  Instances      Box(P          R      mAP50  mAP50-95): 100%|██████████| 6/6 [00:02<00:00,  2.19it/s]"
                              ]
                        },
                        {
                              "name": "stdout",
                              "output_type": "stream",
                              "text": [
                                    "                   all       1181       2981      0.383      0.178      0.275      0.126\n"
                              ]
                        },
                        {
                              "name": "stderr",
                              "output_type": "stream",
                              "text": [
                                    "\n"
                              ]
                        },
                        {
                              "name": "stdout",
                              "output_type": "stream",
                              "text": [
                                    "\n",
                                    "      Epoch    GPU_mem   box_loss   cls_loss   dfl_loss  Instances       Size\n"
                              ]
                        },
                        {
                              "name": "stderr",
                              "output_type": "stream",
                              "text": [
                                    "     19/500      66.1G      1.849      1.975      2.109         21        640: 100%|██████████| 56/56 [00:28<00:00,  1.96it/s]\n",
                                    "                 Class     Images  Instances      Box(P          R      mAP50  mAP50-95): 100%|██████████| 6/6 [00:02<00:00,  2.18it/s]"
                              ]
                        },
                        {
                              "name": "stdout",
                              "output_type": "stream",
                              "text": [
                                    "                   all       1181       2981      0.448      0.276      0.352      0.156\n"
                              ]
                        },
                        {
                              "name": "stderr",
                              "output_type": "stream",
                              "text": [
                                    "\n"
                              ]
                        },
                        {
                              "name": "stdout",
                              "output_type": "stream",
                              "text": [
                                    "\n",
                                    "      Epoch    GPU_mem   box_loss   cls_loss   dfl_loss  Instances       Size\n"
                              ]
                        },
                        {
                              "name": "stderr",
                              "output_type": "stream",
                              "text": [
                                    "     20/500      66.1G      1.834      1.947      2.098         20        640: 100%|██████████| 56/56 [00:28<00:00,  1.98it/s]\n",
                                    "                 Class     Images  Instances      Box(P          R      mAP50  mAP50-95): 100%|██████████| 6/6 [00:02<00:00,  2.38it/s]"
                              ]
                        },
                        {
                              "name": "stdout",
                              "output_type": "stream",
                              "text": [
                                    "                   all       1181       2981      0.389      0.154      0.268      0.129\n"
                              ]
                        },
                        {
                              "name": "stderr",
                              "output_type": "stream",
                              "text": [
                                    "\n"
                              ]
                        },
                        {
                              "name": "stdout",
                              "output_type": "stream",
                              "text": [
                                    "\n",
                                    "      Epoch    GPU_mem   box_loss   cls_loss   dfl_loss  Instances       Size\n"
                              ]
                        },
                        {
                              "name": "stderr",
                              "output_type": "stream",
                              "text": [
                                    "     21/500      66.1G      1.835      1.922      2.101         21        640: 100%|██████████| 56/56 [00:28<00:00,  1.99it/s]\n",
                                    "                 Class     Images  Instances      Box(P          R      mAP50  mAP50-95): 100%|██████████| 6/6 [00:02<00:00,  2.25it/s]"
                              ]
                        },
                        {
                              "name": "stdout",
                              "output_type": "stream",
                              "text": [
                                    "                   all       1181       2981      0.355      0.178      0.253      0.121\n"
                              ]
                        },
                        {
                              "name": "stderr",
                              "output_type": "stream",
                              "text": [
                                    "\n"
                              ]
                        },
                        {
                              "name": "stdout",
                              "output_type": "stream",
                              "text": [
                                    "\n",
                                    "      Epoch    GPU_mem   box_loss   cls_loss   dfl_loss  Instances       Size\n"
                              ]
                        },
                        {
                              "name": "stderr",
                              "output_type": "stream",
                              "text": [
                                    "     22/500      66.1G      1.819      1.908      2.094         20        640: 100%|██████████| 56/56 [00:29<00:00,  1.93it/s]\n",
                                    "                 Class     Images  Instances      Box(P          R      mAP50  mAP50-95): 100%|██████████| 6/6 [00:02<00:00,  2.25it/s]"
                              ]
                        },
                        {
                              "name": "stdout",
                              "output_type": "stream",
                              "text": [
                                    "                   all       1181       2981      0.466      0.235      0.355      0.171\n"
                              ]
                        },
                        {
                              "name": "stderr",
                              "output_type": "stream",
                              "text": [
                                    "\n"
                              ]
                        },
                        {
                              "name": "stdout",
                              "output_type": "stream",
                              "text": [
                                    "\n",
                                    "      Epoch    GPU_mem   box_loss   cls_loss   dfl_loss  Instances       Size\n"
                              ]
                        },
                        {
                              "name": "stderr",
                              "output_type": "stream",
                              "text": [
                                    "     23/500      66.1G       1.82      1.878      2.097         21        640: 100%|██████████| 56/56 [00:28<00:00,  1.99it/s]\n",
                                    "                 Class     Images  Instances      Box(P          R      mAP50  mAP50-95): 100%|██████████| 6/6 [00:02<00:00,  2.29it/s]"
                              ]
                        },
                        {
                              "name": "stdout",
                              "output_type": "stream",
                              "text": [
                                    "                   all       1181       2981      0.505      0.219      0.353      0.168\n"
                              ]
                        },
                        {
                              "name": "stderr",
                              "output_type": "stream",
                              "text": [
                                    "\n"
                              ]
                        },
                        {
                              "name": "stdout",
                              "output_type": "stream",
                              "text": [
                                    "\n",
                                    "      Epoch    GPU_mem   box_loss   cls_loss   dfl_loss  Instances       Size\n"
                              ]
                        },
                        {
                              "name": "stderr",
                              "output_type": "stream",
                              "text": [
                                    "     24/500      66.1G       1.81      1.859      2.084         21        640: 100%|██████████| 56/56 [00:28<00:00,  1.95it/s]\n",
                                    "                 Class     Images  Instances      Box(P          R      mAP50  mAP50-95): 100%|██████████| 6/6 [00:02<00:00,  2.01it/s]"
                              ]
                        },
                        {
                              "name": "stdout",
                              "output_type": "stream",
                              "text": [
                                    "                   all       1181       2981      0.417       0.29       0.34      0.162\n"
                              ]
                        },
                        {
                              "name": "stderr",
                              "output_type": "stream",
                              "text": [
                                    "\n"
                              ]
                        },
                        {
                              "name": "stdout",
                              "output_type": "stream",
                              "text": [
                                    "\n",
                                    "      Epoch    GPU_mem   box_loss   cls_loss   dfl_loss  Instances       Size\n"
                              ]
                        },
                        {
                              "name": "stderr",
                              "output_type": "stream",
                              "text": [
                                    "     25/500      66.1G      1.811      1.851      2.087         21        640: 100%|██████████| 56/56 [00:28<00:00,  1.97it/s]\n",
                                    "                 Class     Images  Instances      Box(P          R      mAP50  mAP50-95): 100%|██████████| 6/6 [00:02<00:00,  2.14it/s]"
                              ]
                        },
                        {
                              "name": "stdout",
                              "output_type": "stream",
                              "text": [
                                    "                   all       1181       2981       0.49      0.251      0.358      0.155\n"
                              ]
                        },
                        {
                              "name": "stderr",
                              "output_type": "stream",
                              "text": [
                                    "\n"
                              ]
                        },
                        {
                              "name": "stdout",
                              "output_type": "stream",
                              "text": [
                                    "\n",
                                    "      Epoch    GPU_mem   box_loss   cls_loss   dfl_loss  Instances       Size\n"
                              ]
                        },
                        {
                              "name": "stderr",
                              "output_type": "stream",
                              "text": [
                                    "     26/500      66.1G      1.803      1.833      2.081         21        640: 100%|██████████| 56/56 [00:28<00:00,  1.97it/s]\n",
                                    "                 Class     Images  Instances      Box(P          R      mAP50  mAP50-95): 100%|██████████| 6/6 [00:02<00:00,  2.12it/s]"
                              ]
                        },
                        {
                              "name": "stdout",
                              "output_type": "stream",
                              "text": [
                                    "                   all       1181       2981      0.453      0.258      0.342      0.154\n"
                              ]
                        },
                        {
                              "name": "stderr",
                              "output_type": "stream",
                              "text": [
                                    "\n"
                              ]
                        },
                        {
                              "name": "stdout",
                              "output_type": "stream",
                              "text": [
                                    "\n",
                                    "      Epoch    GPU_mem   box_loss   cls_loss   dfl_loss  Instances       Size\n"
                              ]
                        },
                        {
                              "name": "stderr",
                              "output_type": "stream",
                              "text": [
                                    "     27/500      66.1G      1.797       1.81       2.07         21        640: 100%|██████████| 56/56 [00:28<00:00,  1.96it/s]\n",
                                    "                 Class     Images  Instances      Box(P          R      mAP50  mAP50-95): 100%|██████████| 6/6 [00:02<00:00,  2.08it/s]"
                              ]
                        },
                        {
                              "name": "stdout",
                              "output_type": "stream",
                              "text": [
                                    "                   all       1181       2981      0.358      0.288      0.314      0.147\n"
                              ]
                        },
                        {
                              "name": "stderr",
                              "output_type": "stream",
                              "text": [
                                    "\n"
                              ]
                        },
                        {
                              "name": "stdout",
                              "output_type": "stream",
                              "text": [
                                    "\n",
                                    "      Epoch    GPU_mem   box_loss   cls_loss   dfl_loss  Instances       Size\n"
                              ]
                        },
                        {
                              "name": "stderr",
                              "output_type": "stream",
                              "text": [
                                    "     28/500      66.1G      1.785      1.798      2.066         20        640: 100%|██████████| 56/56 [00:28<00:00,  1.95it/s]\n",
                                    "                 Class     Images  Instances      Box(P          R      mAP50  mAP50-95): 100%|██████████| 6/6 [00:03<00:00,  1.99it/s]"
                              ]
                        },
                        {
                              "name": "stdout",
                              "output_type": "stream",
                              "text": [
                                    "                   all       1181       2981      0.436      0.328       0.38      0.171\n"
                              ]
                        },
                        {
                              "name": "stderr",
                              "output_type": "stream",
                              "text": [
                                    "\n"
                              ]
                        },
                        {
                              "name": "stdout",
                              "output_type": "stream",
                              "text": [
                                    "\n",
                                    "      Epoch    GPU_mem   box_loss   cls_loss   dfl_loss  Instances       Size\n"
                              ]
                        },
                        {
                              "name": "stderr",
                              "output_type": "stream",
                              "text": [
                                    "     29/500      66.1G      1.783      1.784      2.069         21        640: 100%|██████████| 56/56 [00:30<00:00,  1.87it/s]\n",
                                    "                 Class     Images  Instances      Box(P          R      mAP50  mAP50-95): 100%|██████████| 6/6 [00:03<00:00,  1.93it/s]"
                              ]
                        },
                        {
                              "name": "stdout",
                              "output_type": "stream",
                              "text": [
                                    "                   all       1181       2981      0.457      0.295       0.37      0.175\n"
                              ]
                        },
                        {
                              "name": "stderr",
                              "output_type": "stream",
                              "text": [
                                    "\n"
                              ]
                        },
                        {
                              "name": "stdout",
                              "output_type": "stream",
                              "text": [
                                    "\n",
                                    "      Epoch    GPU_mem   box_loss   cls_loss   dfl_loss  Instances       Size\n"
                              ]
                        },
                        {
                              "name": "stderr",
                              "output_type": "stream",
                              "text": [
                                    "     30/500        66G      1.776      1.763      2.056         21        640: 100%|██████████| 56/56 [00:28<00:00,  1.95it/s]\n",
                                    "                 Class     Images  Instances      Box(P          R      mAP50  mAP50-95): 100%|██████████| 6/6 [00:02<00:00,  2.06it/s]"
                              ]
                        },
                        {
                              "name": "stdout",
                              "output_type": "stream",
                              "text": [
                                    "                   all       1181       2981      0.505      0.309      0.392      0.179\n"
                              ]
                        },
                        {
                              "name": "stderr",
                              "output_type": "stream",
                              "text": [
                                    "\n"
                              ]
                        },
                        {
                              "name": "stdout",
                              "output_type": "stream",
                              "text": [
                                    "\n",
                                    "      Epoch    GPU_mem   box_loss   cls_loss   dfl_loss  Instances       Size\n"
                              ]
                        },
                        {
                              "name": "stderr",
                              "output_type": "stream",
                              "text": [
                                    "     31/500      66.1G      1.764      1.745      2.042         20        640: 100%|██████████| 56/56 [00:28<00:00,  1.95it/s]\n",
                                    "                 Class     Images  Instances      Box(P          R      mAP50  mAP50-95): 100%|██████████| 6/6 [00:02<00:00,  2.06it/s]"
                              ]
                        },
                        {
                              "name": "stdout",
                              "output_type": "stream",
                              "text": [
                                    "                   all       1181       2981      0.437      0.264      0.349       0.16\n"
                              ]
                        },
                        {
                              "name": "stderr",
                              "output_type": "stream",
                              "text": [
                                    "\n"
                              ]
                        },
                        {
                              "name": "stdout",
                              "output_type": "stream",
                              "text": [
                                    "\n",
                                    "      Epoch    GPU_mem   box_loss   cls_loss   dfl_loss  Instances       Size\n"
                              ]
                        },
                        {
                              "name": "stderr",
                              "output_type": "stream",
                              "text": [
                                    "     32/500      66.1G      1.769      1.729      2.047         21        640: 100%|██████████| 56/56 [00:28<00:00,  1.95it/s]\n",
                                    "                 Class     Images  Instances      Box(P          R      mAP50  mAP50-95): 100%|██████████| 6/6 [00:02<00:00,  2.07it/s]"
                              ]
                        },
                        {
                              "name": "stdout",
                              "output_type": "stream",
                              "text": [
                                    "                   all       1181       2981      0.538      0.321      0.423        0.2\n"
                              ]
                        },
                        {
                              "name": "stderr",
                              "output_type": "stream",
                              "text": [
                                    "\n"
                              ]
                        },
                        {
                              "name": "stdout",
                              "output_type": "stream",
                              "text": [
                                    "\n",
                                    "      Epoch    GPU_mem   box_loss   cls_loss   dfl_loss  Instances       Size\n"
                              ]
                        },
                        {
                              "name": "stderr",
                              "output_type": "stream",
                              "text": [
                                    "     33/500        66G      1.762       1.72      2.045         20        640: 100%|██████████| 56/56 [00:28<00:00,  1.95it/s]\n",
                                    "                 Class     Images  Instances      Box(P          R      mAP50  mAP50-95): 100%|██████████| 6/6 [00:02<00:00,  2.09it/s]"
                              ]
                        },
                        {
                              "name": "stdout",
                              "output_type": "stream",
                              "text": [
                                    "                   all       1181       2981      0.515      0.253      0.383      0.174\n"
                              ]
                        },
                        {
                              "name": "stderr",
                              "output_type": "stream",
                              "text": [
                                    "\n"
                              ]
                        },
                        {
                              "name": "stdout",
                              "output_type": "stream",
                              "text": [
                                    "\n",
                                    "      Epoch    GPU_mem   box_loss   cls_loss   dfl_loss  Instances       Size\n"
                              ]
                        },
                        {
                              "name": "stderr",
                              "output_type": "stream",
                              "text": [
                                    "     34/500      66.1G      1.746      1.701      2.043         21        640: 100%|██████████| 56/56 [00:29<00:00,  1.92it/s]\n",
                                    "                 Class     Images  Instances      Box(P          R      mAP50  mAP50-95): 100%|██████████| 6/6 [00:02<00:00,  2.04it/s]"
                              ]
                        },
                        {
                              "name": "stdout",
                              "output_type": "stream",
                              "text": [
                                    "                   all       1181       2981      0.619      0.353      0.477      0.242\n"
                              ]
                        },
                        {
                              "name": "stderr",
                              "output_type": "stream",
                              "text": [
                                    "\n"
                              ]
                        },
                        {
                              "name": "stdout",
                              "output_type": "stream",
                              "text": [
                                    "\n",
                                    "      Epoch    GPU_mem   box_loss   cls_loss   dfl_loss  Instances       Size\n"
                              ]
                        },
                        {
                              "name": "stderr",
                              "output_type": "stream",
                              "text": [
                                    "     35/500      66.1G      1.754      1.677       2.05         19        640: 100%|██████████| 56/56 [00:28<00:00,  1.96it/s]\n",
                                    "                 Class     Images  Instances      Box(P          R      mAP50  mAP50-95): 100%|██████████| 6/6 [00:02<00:00,  2.02it/s]"
                              ]
                        },
                        {
                              "name": "stdout",
                              "output_type": "stream",
                              "text": [
                                    "                   all       1181       2981      0.456       0.34      0.395      0.194\n"
                              ]
                        },
                        {
                              "name": "stderr",
                              "output_type": "stream",
                              "text": [
                                    "\n"
                              ]
                        },
                        {
                              "name": "stdout",
                              "output_type": "stream",
                              "text": [
                                    "\n",
                                    "      Epoch    GPU_mem   box_loss   cls_loss   dfl_loss  Instances       Size\n"
                              ]
                        },
                        {
                              "name": "stderr",
                              "output_type": "stream",
                              "text": [
                                    "     36/500      66.1G      1.749      1.659      2.027         20        640: 100%|██████████| 56/56 [00:28<00:00,  1.95it/s]\n",
                                    "                 Class     Images  Instances      Box(P          R      mAP50  mAP50-95): 100%|██████████| 6/6 [00:03<00:00,  2.00it/s]"
                              ]
                        },
                        {
                              "name": "stdout",
                              "output_type": "stream",
                              "text": [
                                    "                   all       1181       2981      0.487      0.369      0.431      0.208\n"
                              ]
                        },
                        {
                              "name": "stderr",
                              "output_type": "stream",
                              "text": [
                                    "\n"
                              ]
                        },
                        {
                              "name": "stdout",
                              "output_type": "stream",
                              "text": [
                                    "\n",
                                    "      Epoch    GPU_mem   box_loss   cls_loss   dfl_loss  Instances       Size\n"
                              ]
                        },
                        {
                              "name": "stderr",
                              "output_type": "stream",
                              "text": [
                                    "     37/500      66.1G      1.733      1.636      2.015         20        640: 100%|██████████| 56/56 [00:28<00:00,  1.94it/s]\n",
                                    "                 Class     Images  Instances      Box(P          R      mAP50  mAP50-95): 100%|██████████| 6/6 [00:02<00:00,  2.05it/s]"
                              ]
                        },
                        {
                              "name": "stdout",
                              "output_type": "stream",
                              "text": [
                                    "                   all       1181       2981       0.49      0.295      0.383      0.176\n"
                              ]
                        },
                        {
                              "name": "stderr",
                              "output_type": "stream",
                              "text": [
                                    "\n"
                              ]
                        },
                        {
                              "name": "stdout",
                              "output_type": "stream",
                              "text": [
                                    "\n",
                                    "      Epoch    GPU_mem   box_loss   cls_loss   dfl_loss  Instances       Size\n"
                              ]
                        },
                        {
                              "name": "stderr",
                              "output_type": "stream",
                              "text": [
                                    "     38/500      66.1G      1.732      1.629      2.024         21        640: 100%|██████████| 56/56 [00:28<00:00,  1.95it/s]\n",
                                    "                 Class     Images  Instances      Box(P          R      mAP50  mAP50-95): 100%|██████████| 6/6 [00:03<00:00,  1.98it/s]"
                              ]
                        },
                        {
                              "name": "stdout",
                              "output_type": "stream",
                              "text": [
                                    "                   all       1181       2981      0.484      0.373      0.412      0.196\n"
                              ]
                        },
                        {
                              "name": "stderr",
                              "output_type": "stream",
                              "text": [
                                    "\n"
                              ]
                        },
                        {
                              "name": "stdout",
                              "output_type": "stream",
                              "text": [
                                    "\n",
                                    "      Epoch    GPU_mem   box_loss   cls_loss   dfl_loss  Instances       Size\n"
                              ]
                        },
                        {
                              "name": "stderr",
                              "output_type": "stream",
                              "text": [
                                    "     39/500      66.1G      1.726      1.611      2.016         21        640: 100%|██████████| 56/56 [00:28<00:00,  1.95it/s]\n",
                                    "                 Class     Images  Instances      Box(P          R      mAP50  mAP50-95): 100%|██████████| 6/6 [00:03<00:00,  1.98it/s]"
                              ]
                        },
                        {
                              "name": "stdout",
                              "output_type": "stream",
                              "text": [
                                    "                   all       1181       2981      0.593      0.394      0.481      0.244\n"
                              ]
                        },
                        {
                              "name": "stderr",
                              "output_type": "stream",
                              "text": [
                                    "\n"
                              ]
                        },
                        {
                              "name": "stdout",
                              "output_type": "stream",
                              "text": [
                                    "\n",
                                    "      Epoch    GPU_mem   box_loss   cls_loss   dfl_loss  Instances       Size\n"
                              ]
                        },
                        {
                              "name": "stderr",
                              "output_type": "stream",
                              "text": [
                                    "     40/500        66G      1.725      1.596          2         19        640: 100%|██████████| 56/56 [00:28<00:00,  1.95it/s]\n",
                                    "                 Class     Images  Instances      Box(P          R      mAP50  mAP50-95): 100%|██████████| 6/6 [00:03<00:00,  1.99it/s]"
                              ]
                        },
                        {
                              "name": "stdout",
                              "output_type": "stream",
                              "text": [
                                    "                   all       1181       2981       0.48      0.339      0.403      0.193\n"
                              ]
                        },
                        {
                              "name": "stderr",
                              "output_type": "stream",
                              "text": [
                                    "\n"
                              ]
                        },
                        {
                              "name": "stdout",
                              "output_type": "stream",
                              "text": [
                                    "\n",
                                    "      Epoch    GPU_mem   box_loss   cls_loss   dfl_loss  Instances       Size\n"
                              ]
                        },
                        {
                              "name": "stderr",
                              "output_type": "stream",
                              "text": [
                                    "     41/500      66.1G      1.716      1.577      2.002         21        640: 100%|██████████| 56/56 [00:29<00:00,  1.90it/s]\n",
                                    "                 Class     Images  Instances      Box(P          R      mAP50  mAP50-95): 100%|██████████| 6/6 [00:03<00:00,  1.87it/s]"
                              ]
                        },
                        {
                              "name": "stdout",
                              "output_type": "stream",
                              "text": [
                                    "                   all       1181       2981      0.536      0.325      0.424      0.198\n"
                              ]
                        },
                        {
                              "name": "stderr",
                              "output_type": "stream",
                              "text": [
                                    "\n"
                              ]
                        },
                        {
                              "name": "stdout",
                              "output_type": "stream",
                              "text": [
                                    "\n",
                                    "      Epoch    GPU_mem   box_loss   cls_loss   dfl_loss  Instances       Size\n"
                              ]
                        },
                        {
                              "name": "stderr",
                              "output_type": "stream",
                              "text": [
                                    "     42/500      66.1G      1.714      1.577      2.001         21        640: 100%|██████████| 56/56 [00:29<00:00,  1.92it/s]\n",
                                    "                 Class     Images  Instances      Box(P          R      mAP50  mAP50-95): 100%|██████████| 6/6 [00:03<00:00,  1.92it/s]"
                              ]
                        },
                        {
                              "name": "stdout",
                              "output_type": "stream",
                              "text": [
                                    "                   all       1181       2981       0.46      0.382       0.41      0.192\n"
                              ]
                        },
                        {
                              "name": "stderr",
                              "output_type": "stream",
                              "text": [
                                    "\n"
                              ]
                        },
                        {
                              "name": "stdout",
                              "output_type": "stream",
                              "text": [
                                    "\n",
                                    "      Epoch    GPU_mem   box_loss   cls_loss   dfl_loss  Instances       Size\n"
                              ]
                        },
                        {
                              "name": "stderr",
                              "output_type": "stream",
                              "text": [
                                    "     43/500      66.1G      1.706      1.553      1.989         20        640: 100%|██████████| 56/56 [00:28<00:00,  1.97it/s]\n",
                                    "                 Class     Images  Instances      Box(P          R      mAP50  mAP50-95): 100%|██████████| 6/6 [00:02<00:00,  2.11it/s]"
                              ]
                        },
                        {
                              "name": "stdout",
                              "output_type": "stream",
                              "text": [
                                    "                   all       1181       2981      0.582      0.406      0.497      0.236\n"
                              ]
                        },
                        {
                              "name": "stderr",
                              "output_type": "stream",
                              "text": [
                                    "\n"
                              ]
                        },
                        {
                              "name": "stdout",
                              "output_type": "stream",
                              "text": [
                                    "\n",
                                    "      Epoch    GPU_mem   box_loss   cls_loss   dfl_loss  Instances       Size\n"
                              ]
                        },
                        {
                              "name": "stderr",
                              "output_type": "stream",
                              "text": [
                                    "     44/500        66G      1.697      1.529       1.98         20        640: 100%|██████████| 56/56 [00:28<00:00,  1.96it/s]\n",
                                    "                 Class     Images  Instances      Box(P          R      mAP50  mAP50-95): 100%|██████████| 6/6 [00:03<00:00,  1.88it/s]"
                              ]
                        },
                        {
                              "name": "stdout",
                              "output_type": "stream",
                              "text": [
                                    "                   all       1181       2981      0.485      0.389      0.419      0.188\n"
                              ]
                        },
                        {
                              "name": "stderr",
                              "output_type": "stream",
                              "text": [
                                    "\n"
                              ]
                        },
                        {
                              "name": "stdout",
                              "output_type": "stream",
                              "text": [
                                    "\n",
                                    "      Epoch    GPU_mem   box_loss   cls_loss   dfl_loss  Instances       Size\n"
                              ]
                        },
                        {
                              "name": "stderr",
                              "output_type": "stream",
                              "text": [
                                    "     45/500      66.1G      1.694      1.518      1.988         21        640: 100%|██████████| 56/56 [00:29<00:00,  1.93it/s]\n",
                                    "                 Class     Images  Instances      Box(P          R      mAP50  mAP50-95): 100%|██████████| 6/6 [00:03<00:00,  1.88it/s]"
                              ]
                        },
                        {
                              "name": "stdout",
                              "output_type": "stream",
                              "text": [
                                    "                   all       1181       2981      0.544      0.408      0.481       0.22\n"
                              ]
                        },
                        {
                              "name": "stderr",
                              "output_type": "stream",
                              "text": [
                                    "\n"
                              ]
                        },
                        {
                              "name": "stdout",
                              "output_type": "stream",
                              "text": [
                                    "\n",
                                    "      Epoch    GPU_mem   box_loss   cls_loss   dfl_loss  Instances       Size\n"
                              ]
                        },
                        {
                              "name": "stderr",
                              "output_type": "stream",
                              "text": [
                                    "     46/500      66.1G      1.696      1.501      1.982         21        640: 100%|██████████| 56/56 [00:29<00:00,  1.91it/s]\n",
                                    "                 Class     Images  Instances      Box(P          R      mAP50  mAP50-95): 100%|██████████| 6/6 [00:03<00:00,  1.88it/s]"
                              ]
                        },
                        {
                              "name": "stdout",
                              "output_type": "stream",
                              "text": [
                                    "                   all       1181       2981      0.573      0.417      0.487      0.234\n"
                              ]
                        },
                        {
                              "name": "stderr",
                              "output_type": "stream",
                              "text": [
                                    "\n"
                              ]
                        },
                        {
                              "name": "stdout",
                              "output_type": "stream",
                              "text": [
                                    "\n",
                                    "      Epoch    GPU_mem   box_loss   cls_loss   dfl_loss  Instances       Size\n"
                              ]
                        },
                        {
                              "name": "stderr",
                              "output_type": "stream",
                              "text": [
                                    "     47/500      66.1G      1.682      1.487      1.979         21        640: 100%|██████████| 56/56 [00:28<00:00,  1.94it/s]\n",
                                    "                 Class     Images  Instances      Box(P          R      mAP50  mAP50-95): 100%|██████████| 6/6 [00:03<00:00,  1.91it/s]"
                              ]
                        },
                        {
                              "name": "stdout",
                              "output_type": "stream",
                              "text": [
                                    "                   all       1181       2981      0.592      0.369      0.462      0.232\n"
                              ]
                        },
                        {
                              "name": "stderr",
                              "output_type": "stream",
                              "text": [
                                    "\n"
                              ]
                        },
                        {
                              "name": "stdout",
                              "output_type": "stream",
                              "text": [
                                    "\n",
                                    "      Epoch    GPU_mem   box_loss   cls_loss   dfl_loss  Instances       Size\n"
                              ]
                        },
                        {
                              "name": "stderr",
                              "output_type": "stream",
                              "text": [
                                    "     48/500        66G      1.684      1.476      1.969         21        640: 100%|██████████| 56/56 [00:28<00:00,  1.93it/s]\n",
                                    "                 Class     Images  Instances      Box(P          R      mAP50  mAP50-95): 100%|██████████| 6/6 [00:03<00:00,  1.84it/s]"
                              ]
                        },
                        {
                              "name": "stdout",
                              "output_type": "stream",
                              "text": [
                                    "                   all       1181       2981      0.511      0.372      0.428      0.196\n"
                              ]
                        },
                        {
                              "name": "stderr",
                              "output_type": "stream",
                              "text": [
                                    "\n"
                              ]
                        },
                        {
                              "name": "stdout",
                              "output_type": "stream",
                              "text": [
                                    "\n",
                                    "      Epoch    GPU_mem   box_loss   cls_loss   dfl_loss  Instances       Size\n"
                              ]
                        },
                        {
                              "name": "stderr",
                              "output_type": "stream",
                              "text": [
                                    "     49/500      66.1G      1.674       1.45      1.967         20        640: 100%|██████████| 56/56 [00:29<00:00,  1.93it/s]\n",
                                    "                 Class     Images  Instances      Box(P          R      mAP50  mAP50-95): 100%|██████████| 6/6 [00:03<00:00,  1.86it/s]"
                              ]
                        },
                        {
                              "name": "stdout",
                              "output_type": "stream",
                              "text": [
                                    "                   all       1181       2981      0.581       0.42      0.497      0.227\n"
                              ]
                        },
                        {
                              "name": "stderr",
                              "output_type": "stream",
                              "text": [
                                    "\n"
                              ]
                        },
                        {
                              "name": "stdout",
                              "output_type": "stream",
                              "text": [
                                    "\n",
                                    "      Epoch    GPU_mem   box_loss   cls_loss   dfl_loss  Instances       Size\n"
                              ]
                        },
                        {
                              "name": "stderr",
                              "output_type": "stream",
                              "text": [
                                    "     50/500      66.1G      1.667      1.436      1.952         20        640: 100%|██████████| 56/56 [00:29<00:00,  1.93it/s]\n",
                                    "                 Class     Images  Instances      Box(P          R      mAP50  mAP50-95): 100%|██████████| 6/6 [00:03<00:00,  1.85it/s]"
                              ]
                        },
                        {
                              "name": "stdout",
                              "output_type": "stream",
                              "text": [
                                    "                   all       1181       2981      0.517      0.399       0.45      0.225\n"
                              ]
                        },
                        {
                              "name": "stderr",
                              "output_type": "stream",
                              "text": [
                                    "\n"
                              ]
                        },
                        {
                              "name": "stdout",
                              "output_type": "stream",
                              "text": [
                                    "\n",
                                    "      Epoch    GPU_mem   box_loss   cls_loss   dfl_loss  Instances       Size\n"
                              ]
                        },
                        {
                              "name": "stderr",
                              "output_type": "stream",
                              "text": [
                                    "     51/500      66.1G      1.667      1.421      1.952         21        640: 100%|██████████| 56/56 [00:28<00:00,  1.94it/s]\n",
                                    "                 Class     Images  Instances      Box(P          R      mAP50  mAP50-95): 100%|██████████| 6/6 [00:03<00:00,  1.89it/s]"
                              ]
                        },
                        {
                              "name": "stdout",
                              "output_type": "stream",
                              "text": [
                                    "                   all       1181       2981      0.541      0.408      0.474      0.227\n"
                              ]
                        },
                        {
                              "name": "stderr",
                              "output_type": "stream",
                              "text": [
                                    "\n"
                              ]
                        },
                        {
                              "name": "stdout",
                              "output_type": "stream",
                              "text": [
                                    "\n",
                                    "      Epoch    GPU_mem   box_loss   cls_loss   dfl_loss  Instances       Size\n"
                              ]
                        },
                        {
                              "name": "stderr",
                              "output_type": "stream",
                              "text": [
                                    "     52/500      66.1G      1.661      1.409      1.945         21        640: 100%|██████████| 56/56 [00:29<00:00,  1.93it/s]\n",
                                    "                 Class     Images  Instances      Box(P          R      mAP50  mAP50-95): 100%|██████████| 6/6 [00:03<00:00,  1.91it/s]"
                              ]
                        },
                        {
                              "name": "stdout",
                              "output_type": "stream",
                              "text": [
                                    "                   all       1181       2981      0.547      0.339      0.447      0.206\n"
                              ]
                        },
                        {
                              "name": "stderr",
                              "output_type": "stream",
                              "text": [
                                    "\n"
                              ]
                        },
                        {
                              "name": "stdout",
                              "output_type": "stream",
                              "text": [
                                    "\n",
                                    "      Epoch    GPU_mem   box_loss   cls_loss   dfl_loss  Instances       Size\n"
                              ]
                        },
                        {
                              "name": "stderr",
                              "output_type": "stream",
                              "text": [
                                    "     53/500      66.1G      1.654      1.403      1.942         20        640: 100%|██████████| 56/56 [00:28<00:00,  1.94it/s]\n",
                                    "                 Class     Images  Instances      Box(P          R      mAP50  mAP50-95): 100%|██████████| 6/6 [00:03<00:00,  1.90it/s]"
                              ]
                        },
                        {
                              "name": "stdout",
                              "output_type": "stream",
                              "text": [
                                    "                   all       1181       2981      0.521      0.375      0.446      0.201\n"
                              ]
                        },
                        {
                              "name": "stderr",
                              "output_type": "stream",
                              "text": [
                                    "\n"
                              ]
                        },
                        {
                              "name": "stdout",
                              "output_type": "stream",
                              "text": [
                                    "\n",
                                    "      Epoch    GPU_mem   box_loss   cls_loss   dfl_loss  Instances       Size\n"
                              ]
                        },
                        {
                              "name": "stderr",
                              "output_type": "stream",
                              "text": [
                                    "     54/500        66G      1.642      1.376      1.924         21        640: 100%|██████████| 56/56 [00:28<00:00,  1.94it/s]\n",
                                    "                 Class     Images  Instances      Box(P          R      mAP50  mAP50-95): 100%|██████████| 6/6 [00:03<00:00,  1.88it/s]"
                              ]
                        },
                        {
                              "name": "stdout",
                              "output_type": "stream",
                              "text": [
                                    "                   all       1181       2981      0.559      0.412      0.486      0.216\n"
                              ]
                        },
                        {
                              "name": "stderr",
                              "output_type": "stream",
                              "text": [
                                    "\n"
                              ]
                        },
                        {
                              "name": "stdout",
                              "output_type": "stream",
                              "text": [
                                    "\n",
                                    "      Epoch    GPU_mem   box_loss   cls_loss   dfl_loss  Instances       Size\n"
                              ]
                        },
                        {
                              "name": "stderr",
                              "output_type": "stream",
                              "text": [
                                    "     55/500      66.1G      1.637      1.343      1.921         21        640: 100%|██████████| 56/56 [00:28<00:00,  1.93it/s]\n",
                                    "                 Class     Images  Instances      Box(P          R      mAP50  mAP50-95): 100%|██████████| 6/6 [00:03<00:00,  1.86it/s]"
                              ]
                        },
                        {
                              "name": "stdout",
                              "output_type": "stream",
                              "text": [
                                    "                   all       1181       2981        0.5      0.458      0.477      0.221\n"
                              ]
                        },
                        {
                              "name": "stderr",
                              "output_type": "stream",
                              "text": [
                                    "\n"
                              ]
                        },
                        {
                              "name": "stdout",
                              "output_type": "stream",
                              "text": [
                                    "\n",
                                    "      Epoch    GPU_mem   box_loss   cls_loss   dfl_loss  Instances       Size\n"
                              ]
                        },
                        {
                              "name": "stderr",
                              "output_type": "stream",
                              "text": [
                                    "     56/500        66G      1.635       1.34      1.927         20        640: 100%|██████████| 56/56 [00:29<00:00,  1.93it/s]\n",
                                    "                 Class     Images  Instances      Box(P          R      mAP50  mAP50-95): 100%|██████████| 6/6 [00:03<00:00,  1.85it/s]"
                              ]
                        },
                        {
                              "name": "stdout",
                              "output_type": "stream",
                              "text": [
                                    "                   all       1181       2981       0.53      0.377      0.454      0.214\n"
                              ]
                        },
                        {
                              "name": "stderr",
                              "output_type": "stream",
                              "text": [
                                    "\n"
                              ]
                        },
                        {
                              "name": "stdout",
                              "output_type": "stream",
                              "text": [
                                    "\n",
                                    "      Epoch    GPU_mem   box_loss   cls_loss   dfl_loss  Instances       Size\n"
                              ]
                        },
                        {
                              "name": "stderr",
                              "output_type": "stream",
                              "text": [
                                    "     57/500      66.1G      1.617      1.328      1.912         21        640: 100%|██████████| 56/56 [00:28<00:00,  1.96it/s]\n",
                                    "                 Class     Images  Instances      Box(P          R      mAP50  mAP50-95): 100%|██████████| 6/6 [00:03<00:00,  1.95it/s]"
                              ]
                        },
                        {
                              "name": "stdout",
                              "output_type": "stream",
                              "text": [
                                    "                   all       1181       2981      0.561      0.404      0.488      0.227\n"
                              ]
                        },
                        {
                              "name": "stderr",
                              "output_type": "stream",
                              "text": [
                                    "\n"
                              ]
                        },
                        {
                              "name": "stdout",
                              "output_type": "stream",
                              "text": [
                                    "\n",
                                    "      Epoch    GPU_mem   box_loss   cls_loss   dfl_loss  Instances       Size\n"
                              ]
                        },
                        {
                              "name": "stderr",
                              "output_type": "stream",
                              "text": [
                                    "     58/500        66G      1.622      1.304      1.911         21        640: 100%|██████████| 56/56 [00:28<00:00,  1.95it/s]\n",
                                    "                 Class     Images  Instances      Box(P          R      mAP50  mAP50-95): 100%|██████████| 6/6 [00:03<00:00,  1.96it/s]"
                              ]
                        },
                        {
                              "name": "stdout",
                              "output_type": "stream",
                              "text": [
                                    "                   all       1181       2981      0.551      0.432      0.485      0.227\n"
                              ]
                        },
                        {
                              "name": "stderr",
                              "output_type": "stream",
                              "text": [
                                    "\n"
                              ]
                        },
                        {
                              "name": "stdout",
                              "output_type": "stream",
                              "text": [
                                    "\n",
                                    "      Epoch    GPU_mem   box_loss   cls_loss   dfl_loss  Instances       Size\n"
                              ]
                        },
                        {
                              "name": "stderr",
                              "output_type": "stream",
                              "text": [
                                    "     59/500      66.1G      1.608      1.294      1.903         21        640: 100%|██████████| 56/56 [00:28<00:00,  1.95it/s]\n",
                                    "                 Class     Images  Instances      Box(P          R      mAP50  mAP50-95): 100%|██████████| 6/6 [00:03<00:00,  1.94it/s]"
                              ]
                        },
                        {
                              "name": "stdout",
                              "output_type": "stream",
                              "text": [
                                    "                   all       1181       2981      0.523      0.484      0.495      0.219\n"
                              ]
                        },
                        {
                              "name": "stderr",
                              "output_type": "stream",
                              "text": [
                                    "\n"
                              ]
                        },
                        {
                              "name": "stdout",
                              "output_type": "stream",
                              "text": [
                                    "\n",
                                    "      Epoch    GPU_mem   box_loss   cls_loss   dfl_loss  Instances       Size\n"
                              ]
                        },
                        {
                              "name": "stderr",
                              "output_type": "stream",
                              "text": [
                                    "     60/500      66.1G      1.601       1.28      1.897         20        640: 100%|██████████| 56/56 [00:28<00:00,  1.95it/s]\n",
                                    "                 Class     Images  Instances      Box(P          R      mAP50  mAP50-95): 100%|██████████| 6/6 [00:03<00:00,  1.95it/s]"
                              ]
                        },
                        {
                              "name": "stdout",
                              "output_type": "stream",
                              "text": [
                                    "                   all       1181       2981      0.575      0.407      0.491      0.239\n"
                              ]
                        },
                        {
                              "name": "stderr",
                              "output_type": "stream",
                              "text": [
                                    "\n"
                              ]
                        },
                        {
                              "name": "stdout",
                              "output_type": "stream",
                              "text": [
                                    "\n",
                                    "      Epoch    GPU_mem   box_loss   cls_loss   dfl_loss  Instances       Size\n"
                              ]
                        },
                        {
                              "name": "stderr",
                              "output_type": "stream",
                              "text": [
                                    "     61/500      66.1G      1.594      1.261      1.892         20        640: 100%|██████████| 56/56 [00:28<00:00,  1.95it/s]\n",
                                    "                 Class     Images  Instances      Box(P          R      mAP50  mAP50-95): 100%|██████████| 6/6 [00:03<00:00,  1.96it/s]"
                              ]
                        },
                        {
                              "name": "stdout",
                              "output_type": "stream",
                              "text": [
                                    "                   all       1181       2981      0.511      0.413      0.452      0.219\n"
                              ]
                        },
                        {
                              "name": "stderr",
                              "output_type": "stream",
                              "text": [
                                    "\n"
                              ]
                        },
                        {
                              "name": "stdout",
                              "output_type": "stream",
                              "text": [
                                    "\n",
                                    "      Epoch    GPU_mem   box_loss   cls_loss   dfl_loss  Instances       Size\n"
                              ]
                        },
                        {
                              "name": "stderr",
                              "output_type": "stream",
                              "text": [
                                    "     62/500      66.1G      1.592      1.252      1.894         21        640: 100%|██████████| 56/56 [00:28<00:00,  1.95it/s]\n",
                                    "                 Class     Images  Instances      Box(P          R      mAP50  mAP50-95): 100%|██████████| 6/6 [00:03<00:00,  1.88it/s]"
                              ]
                        },
                        {
                              "name": "stdout",
                              "output_type": "stream",
                              "text": [
                                    "                   all       1181       2981      0.505      0.438      0.463      0.221\n"
                              ]
                        },
                        {
                              "name": "stderr",
                              "output_type": "stream",
                              "text": [
                                    "\n"
                              ]
                        },
                        {
                              "name": "stdout",
                              "output_type": "stream",
                              "text": [
                                    "\n",
                                    "      Epoch    GPU_mem   box_loss   cls_loss   dfl_loss  Instances       Size\n"
                              ]
                        },
                        {
                              "name": "stderr",
                              "output_type": "stream",
                              "text": [
                                    "     63/500      66.1G      1.569      1.232      1.869         21        640: 100%|██████████| 56/56 [00:28<00:00,  1.94it/s]\n",
                                    "                 Class     Images  Instances      Box(P          R      mAP50  mAP50-95): 100%|██████████| 6/6 [00:03<00:00,  1.75it/s]"
                              ]
                        },
                        {
                              "name": "stdout",
                              "output_type": "stream",
                              "text": [
                                    "                   all       1181       2981       0.53      0.459       0.49      0.231\n"
                              ]
                        },
                        {
                              "name": "stderr",
                              "output_type": "stream",
                              "text": [
                                    "\n"
                              ]
                        },
                        {
                              "name": "stdout",
                              "output_type": "stream",
                              "text": [
                                    "\n",
                                    "      Epoch    GPU_mem   box_loss   cls_loss   dfl_loss  Instances       Size\n"
                              ]
                        },
                        {
                              "name": "stderr",
                              "output_type": "stream",
                              "text": [
                                    "     64/500        66G      1.576      1.215      1.874         21        640: 100%|██████████| 56/56 [00:28<00:00,  1.95it/s]\n",
                                    "                 Class     Images  Instances      Box(P          R      mAP50  mAP50-95): 100%|██████████| 6/6 [00:03<00:00,  1.87it/s]"
                              ]
                        },
                        {
                              "name": "stdout",
                              "output_type": "stream",
                              "text": [
                                    "                   all       1181       2981      0.565      0.436      0.496      0.217\n"
                              ]
                        },
                        {
                              "name": "stderr",
                              "output_type": "stream",
                              "text": [
                                    "\n"
                              ]
                        },
                        {
                              "name": "stdout",
                              "output_type": "stream",
                              "text": [
                                    "\n",
                                    "      Epoch    GPU_mem   box_loss   cls_loss   dfl_loss  Instances       Size\n"
                              ]
                        },
                        {
                              "name": "stderr",
                              "output_type": "stream",
                              "text": [
                                    "     65/500      66.1G       1.56      1.201      1.867         20        640: 100%|██████████| 56/56 [00:28<00:00,  1.94it/s]\n",
                                    "                 Class     Images  Instances      Box(P          R      mAP50  mAP50-95): 100%|██████████| 6/6 [00:03<00:00,  1.91it/s]"
                              ]
                        },
                        {
                              "name": "stdout",
                              "output_type": "stream",
                              "text": [
                                    "                   all       1181       2981      0.539        0.4      0.465      0.209\n"
                              ]
                        },
                        {
                              "name": "stderr",
                              "output_type": "stream",
                              "text": [
                                    "\n"
                              ]
                        },
                        {
                              "name": "stdout",
                              "output_type": "stream",
                              "text": [
                                    "\n",
                                    "      Epoch    GPU_mem   box_loss   cls_loss   dfl_loss  Instances       Size\n"
                              ]
                        },
                        {
                              "name": "stderr",
                              "output_type": "stream",
                              "text": [
                                    "     66/500      66.1G      1.565      1.198      1.861         21        640: 100%|██████████| 56/56 [00:28<00:00,  1.94it/s]\n",
                                    "                 Class     Images  Instances      Box(P          R      mAP50  mAP50-95): 100%|██████████| 6/6 [00:03<00:00,  1.86it/s]"
                              ]
                        },
                        {
                              "name": "stdout",
                              "output_type": "stream",
                              "text": [
                                    "                   all       1181       2981       0.54      0.446      0.483      0.209\n"
                              ]
                        },
                        {
                              "name": "stderr",
                              "output_type": "stream",
                              "text": [
                                    "\n"
                              ]
                        },
                        {
                              "name": "stdout",
                              "output_type": "stream",
                              "text": [
                                    "\n",
                                    "      Epoch    GPU_mem   box_loss   cls_loss   dfl_loss  Instances       Size\n"
                              ]
                        },
                        {
                              "name": "stderr",
                              "output_type": "stream",
                              "text": [
                                    "     67/500      66.1G      1.558      1.171      1.852         21        640: 100%|██████████| 56/56 [00:28<00:00,  1.93it/s]\n",
                                    "                 Class     Images  Instances      Box(P          R      mAP50  mAP50-95): 100%|██████████| 6/6 [00:03<00:00,  1.84it/s]"
                              ]
                        },
                        {
                              "name": "stdout",
                              "output_type": "stream",
                              "text": [
                                    "                   all       1181       2981      0.468      0.466      0.472      0.218\n"
                              ]
                        },
                        {
                              "name": "stderr",
                              "output_type": "stream",
                              "text": [
                                    "\n"
                              ]
                        },
                        {
                              "name": "stdout",
                              "output_type": "stream",
                              "text": [
                                    "\n",
                                    "      Epoch    GPU_mem   box_loss   cls_loss   dfl_loss  Instances       Size\n"
                              ]
                        },
                        {
                              "name": "stderr",
                              "output_type": "stream",
                              "text": [
                                    "     68/500      66.1G      1.547      1.171      1.859         21        640: 100%|██████████| 56/56 [00:28<00:00,  1.95it/s]\n",
                                    "                 Class     Images  Instances      Box(P          R      mAP50  mAP50-95): 100%|██████████| 6/6 [00:03<00:00,  1.95it/s]"
                              ]
                        },
                        {
                              "name": "stdout",
                              "output_type": "stream",
                              "text": [
                                    "                   all       1181       2981      0.537      0.436      0.487      0.217\n"
                              ]
                        },
                        {
                              "name": "stderr",
                              "output_type": "stream",
                              "text": [
                                    "\n"
                              ]
                        },
                        {
                              "name": "stdout",
                              "output_type": "stream",
                              "text": [
                                    "\n",
                                    "      Epoch    GPU_mem   box_loss   cls_loss   dfl_loss  Instances       Size\n"
                              ]
                        },
                        {
                              "name": "stderr",
                              "output_type": "stream",
                              "text": [
                                    "     69/500      66.1G       1.55       1.14      1.851         20        640: 100%|██████████| 56/56 [00:28<00:00,  1.95it/s]\n",
                                    "                 Class     Images  Instances      Box(P          R      mAP50  mAP50-95): 100%|██████████| 6/6 [00:03<00:00,  1.97it/s]"
                              ]
                        },
                        {
                              "name": "stdout",
                              "output_type": "stream",
                              "text": [
                                    "                   all       1181       2981      0.618      0.408       0.51      0.238\n",
                                    "\u001b[34m\u001b[1mEarlyStopping: \u001b[0mTraining stopped early as no improvement observed in last 30 epochs. Best results observed at epoch 39, best model saved as best.pt.\n",
                                    "To update EarlyStopping(patience=30) pass a new patience value, i.e. `patience=300` or use `patience=0` to disable EarlyStopping.\n"
                              ]
                        },
                        {
                              "name": "stderr",
                              "output_type": "stream",
                              "text": [
                                    "\n"
                              ]
                        },
                        {
                              "name": "stdout",
                              "output_type": "stream",
                              "text": [
                                    "\n",
                                    "69 epochs completed in 0.632 hours.\n",
                                    "Optimizer stripped from DL504/train51/weights/last.pt, 51.2MB\n",
                                    "Optimizer stripped from DL504/train51/weights/best.pt, 51.2MB\n",
                                    "\n",
                                    "Validating DL504/train51/weights/best.pt...\n",
                                    "Ultralytics 8.3.72 🚀 Python-3.11.10 torch-2.6.0+cu124 CUDA:0 (NVIDIA H100 80GB HBM3, 81110MiB)\n",
                                    "YOLO11l summary (fused): 464 layers, 25,287,793 parameters, 0 gradients, 86.6 GFLOPs\n"
                              ]
                        },
                        {
                              "name": "stderr",
                              "output_type": "stream",
                              "text": [
                                    "                 Class     Images  Instances      Box(P          R      mAP50  mAP50-95): 100%|██████████| 6/6 [00:04<00:00,  1.31it/s]\n"
                              ]
                        },
                        {
                              "name": "stdout",
                              "output_type": "stream",
                              "text": [
                                    "                   all       1181       2981      0.593      0.394      0.481      0.244\n",
                                    "              GRAFFITI         90        174      0.675      0.489      0.575      0.317\n",
                                    "         FADED_SIGNAGE         10         11        0.5      0.364      0.463       0.25\n",
                                    "              POTHOLES        168        373      0.486      0.236       0.35       0.15\n",
                                    "               GARBAGE        573       1315       0.54      0.479       0.47      0.205\n",
                                    "     CONSTRUCTION_ROAD        164        421      0.615      0.622      0.615       0.28\n",
                                    "        BROKEN_SIGNAGE         10         14          1     0.0714      0.536      0.375\n",
                                    "         BAD_BILLBOARD        146        225      0.477      0.462      0.478      0.245\n",
                                    "          SAND_ON_ROAD         77        112      0.511      0.214       0.38      0.153\n",
                                    "      CLUTTER_SIDEWALK        163        316      0.585      0.652      0.518      0.247\n",
                                    "         UNKEPT_FACADE         10         20      0.538       0.35      0.428      0.216\n",
                                    "Speed: 0.0ms preprocess, 1.1ms inference, 0.0ms loss, 1.0ms postprocess per image\n",
                                    "Results saved to \u001b[1mDL504/train51\u001b[0m\n"
                              ]
                        },
                        {
                              "name": "stderr",
                              "output_type": "stream",
                              "text": [
                                    "\u001b[1;38;5;39mCOMET INFO:\u001b[0m ---------------------------------------------------------------------------------------\n",
                                    "\u001b[1;38;5;39mCOMET INFO:\u001b[0m Comet.ml OfflineExperiment Summary\n",
                                    "\u001b[1;38;5;39mCOMET INFO:\u001b[0m ---------------------------------------------------------------------------------------\n",
                                    "\u001b[1;38;5;39mCOMET INFO:\u001b[0m   Data:\n",
                                    "\u001b[1;38;5;39mCOMET INFO:\u001b[0m     display_summary_level : 1\n",
                                    "\u001b[1;38;5;39mCOMET INFO:\u001b[0m     name                  : Urban-Eye-improved\n",
                                    "\u001b[1;38;5;39mCOMET INFO:\u001b[0m     url                   : [OfflineExperiment will get URL after upload]\n",
                                    "\u001b[1;38;5;39mCOMET INFO:\u001b[0m   Metrics [count] (min, max):\n",
                                    "\u001b[1;38;5;39mCOMET INFO:\u001b[0m     lr/pg0 [70]               : (0.003273809523809524, 0.009999120644285004)\n",
                                    "\u001b[1;38;5;39mCOMET INFO:\u001b[0m     lr/pg1 [70]               : (0.003273809523809524, 0.009999120644285004)\n",
                                    "\u001b[1;38;5;39mCOMET INFO:\u001b[0m     lr/pg2 [70]               : (0.003273809523809524, 0.009999120644285004)\n",
                                    "\u001b[1;38;5;39mCOMET INFO:\u001b[0m     metrics/mAP50(B) [70]     : (0.00566, 0.51006)\n",
                                    "\u001b[1;38;5;39mCOMET INFO:\u001b[0m     metrics/mAP50-95(B) [70]  : (0.00241, 0.24409)\n",
                                    "\u001b[1;38;5;39mCOMET INFO:\u001b[0m     metrics/precision(B) [70] : (0.00962, 0.61932)\n",
                                    "\u001b[1;38;5;39mCOMET INFO:\u001b[0m     metrics/recall(B) [70]    : (0.01663, 0.48436)\n",
                                    "\u001b[1;38;5;39mCOMET INFO:\u001b[0m     model/GFLOPs              : 87.317\n",
                                    "\u001b[1;38;5;39mCOMET INFO:\u001b[0m     model/parameters          : 25318961\n",
                                    "\u001b[1;38;5;39mCOMET INFO:\u001b[0m     model/speed_PyTorch(ms)   : 1.142\n",
                                    "\u001b[1;38;5;39mCOMET INFO:\u001b[0m     train/box_loss [69]       : (1.54717, 2.67789)\n",
                                    "\u001b[1;38;5;39mCOMET INFO:\u001b[0m     train/cls_loss [69]       : (1.14045, 4.78945)\n",
                                    "\u001b[1;38;5;39mCOMET INFO:\u001b[0m     train/dfl_loss [69]       : (1.85096, 2.91726)\n",
                                    "\u001b[1;38;5;39mCOMET INFO:\u001b[0m     val/box_loss [69]         : (1.94757, 3.16911)\n",
                                    "\u001b[1;38;5;39mCOMET INFO:\u001b[0m     val/cls_loss [69]         : (1.78338, 17.22391)\n",
                                    "\u001b[1;38;5;39mCOMET INFO:\u001b[0m     val/dfl_loss [69]         : (2.30956, 4.11143)\n",
                                    "\u001b[1;38;5;39mCOMET INFO:\u001b[0m   Others:\n",
                                    "\u001b[1;38;5;39mCOMET INFO:\u001b[0m     Created from                 : ultralytics\n",
                                    "\u001b[1;38;5;39mCOMET INFO:\u001b[0m     Name                         : Urban-Eye-improved\n",
                                    "\u001b[1;38;5;39mCOMET INFO:\u001b[0m     eval_batch_logging_interval  : 1\n",
                                    "\u001b[1;38;5;39mCOMET INFO:\u001b[0m     log_confusion_matrix_on_eval : False\n",
                                    "\u001b[1;38;5;39mCOMET INFO:\u001b[0m     log_image_predictions        : True\n",
                                    "\u001b[1;38;5;39mCOMET INFO:\u001b[0m     max_image_predictions        : 100\n",
                                    "\u001b[1;38;5;39mCOMET INFO:\u001b[0m     offline_experiment           : True\n",
                                    "\u001b[1;38;5;39mCOMET INFO:\u001b[0m   Parameters:\n",
                                    "\u001b[1;38;5;39mCOMET INFO:\u001b[0m     agnostic_nms    : False\n",
                                    "\u001b[1;38;5;39mCOMET INFO:\u001b[0m     amp             : True\n",
                                    "\u001b[1;38;5;39mCOMET INFO:\u001b[0m     augment         : False\n",
                                    "\u001b[1;38;5;39mCOMET INFO:\u001b[0m     auto_augment    : randaugment\n",
                                    "\u001b[1;38;5;39mCOMET INFO:\u001b[0m     batch           : 100\n",
                                    "\u001b[1;38;5;39mCOMET INFO:\u001b[0m     bgr             : 0.0\n",
                                    "\u001b[1;38;5;39mCOMET INFO:\u001b[0m     box             : 7.5\n",
                                    "\u001b[1;38;5;39mCOMET INFO:\u001b[0m     cache           : disk\n",
                                    "\u001b[1;38;5;39mCOMET INFO:\u001b[0m     cfg             : cfg/urbanyet-settings.yaml\n",
                                    "\u001b[1;38;5;39mCOMET INFO:\u001b[0m     classes         : None\n",
                                    "\u001b[1;38;5;39mCOMET INFO:\u001b[0m     close_mosaic    : 10\n",
                                    "\u001b[1;38;5;39mCOMET INFO:\u001b[0m     cls             : 0.5\n",
                                    "\u001b[1;38;5;39mCOMET INFO:\u001b[0m     conf            : 0.25\n",
                                    "\u001b[1;38;5;39mCOMET INFO:\u001b[0m     copy_paste      : 0.1\n",
                                    "\u001b[1;38;5;39mCOMET INFO:\u001b[0m     copy_paste_mode : flip\n",
                                    "\u001b[1;38;5;39mCOMET INFO:\u001b[0m     cos_lr          : True\n",
                                    "\u001b[1;38;5;39mCOMET INFO:\u001b[0m     crop_fraction   : 1.0\n",
                                    "\u001b[1;38;5;39mCOMET INFO:\u001b[0m     data            : /workspace/Smart-Surveillance-for-Cleaner-Cityscapes/ultralytics/cfg/datasets/urbanEye-no-clsw-no-Synth.yaml\n",
                                    "\u001b[1;38;5;39mCOMET INFO:\u001b[0m     degrees         : 0.0\n",
                                    "\u001b[1;38;5;39mCOMET INFO:\u001b[0m     deterministic   : True\n",
                                    "\u001b[1;38;5;39mCOMET INFO:\u001b[0m     device          : 0\n",
                                    "\u001b[1;38;5;39mCOMET INFO:\u001b[0m     dfl             : 1.5\n",
                                    "\u001b[1;38;5;39mCOMET INFO:\u001b[0m     dnn             : False\n",
                                    "\u001b[1;38;5;39mCOMET INFO:\u001b[0m     dropout         : 0.0\n",
                                    "\u001b[1;38;5;39mCOMET INFO:\u001b[0m     dynamic         : False\n",
                                    "\u001b[1;38;5;39mCOMET INFO:\u001b[0m     embed           : None\n",
                                    "\u001b[1;38;5;39mCOMET INFO:\u001b[0m     epochs          : 500\n",
                                    "\u001b[1;38;5;39mCOMET INFO:\u001b[0m     erasing         : 0.4\n",
                                    "\u001b[1;38;5;39mCOMET INFO:\u001b[0m     exist_ok        : False\n",
                                    "\u001b[1;38;5;39mCOMET INFO:\u001b[0m     fliplr          : 0.5\n",
                                    "\u001b[1;38;5;39mCOMET INFO:\u001b[0m     flipud          : 0.0\n",
                                    "\u001b[1;38;5;39mCOMET INFO:\u001b[0m     format          : torchscript\n",
                                    "\u001b[1;38;5;39mCOMET INFO:\u001b[0m     fraction        : 1.0\n",
                                    "\u001b[1;38;5;39mCOMET INFO:\u001b[0m     freeze          : None\n",
                                    "\u001b[1;38;5;39mCOMET INFO:\u001b[0m     half            : False\n",
                                    "\u001b[1;38;5;39mCOMET INFO:\u001b[0m     hsv_h           : 0.015\n",
                                    "\u001b[1;38;5;39mCOMET INFO:\u001b[0m     hsv_s           : 0.7\n",
                                    "\u001b[1;38;5;39mCOMET INFO:\u001b[0m     hsv_v           : 0.4\n",
                                    "\u001b[1;38;5;39mCOMET INFO:\u001b[0m     imgsz           : 640\n",
                                    "\u001b[1;38;5;39mCOMET INFO:\u001b[0m     int8            : False\n",
                                    "\u001b[1;38;5;39mCOMET INFO:\u001b[0m     iou             : 0.65\n",
                                    "\u001b[1;38;5;39mCOMET INFO:\u001b[0m     keras           : False\n",
                                    "\u001b[1;38;5;39mCOMET INFO:\u001b[0m     kobj            : 1.0\n",
                                    "\u001b[1;38;5;39mCOMET INFO:\u001b[0m     line_width      : None\n",
                                    "\u001b[1;38;5;39mCOMET INFO:\u001b[0m     lr0             : 0.001\n",
                                    "\u001b[1;38;5;39mCOMET INFO:\u001b[0m     lrf             : 0.01\n",
                                    "\u001b[1;38;5;39mCOMET INFO:\u001b[0m     mask_ratio      : 4\n",
                                    "\u001b[1;38;5;39mCOMET INFO:\u001b[0m     max_det         : 300\n",
                                    "\u001b[1;38;5;39mCOMET INFO:\u001b[0m     mixup           : 0.05\n",
                                    "\u001b[1;38;5;39mCOMET INFO:\u001b[0m     mode            : train\n",
                                    "\u001b[1;38;5;39mCOMET INFO:\u001b[0m     model           : yolo11l.pt\n",
                                    "\u001b[1;38;5;39mCOMET INFO:\u001b[0m     momentum        : 0.937\n",
                                    "\u001b[1;38;5;39mCOMET INFO:\u001b[0m     mosaic          : 1.0\n",
                                    "\u001b[1;38;5;39mCOMET INFO:\u001b[0m     multi_scale     : False\n",
                                    "\u001b[1;38;5;39mCOMET INFO:\u001b[0m     name            : train51\n",
                                    "\u001b[1;38;5;39mCOMET INFO:\u001b[0m     nbs             : 64\n",
                                    "\u001b[1;38;5;39mCOMET INFO:\u001b[0m     nms             : False\n",
                                    "\u001b[1;38;5;39mCOMET INFO:\u001b[0m     opset           : None\n",
                                    "\u001b[1;38;5;39mCOMET INFO:\u001b[0m     optimize        : False\n",
                                    "\u001b[1;38;5;39mCOMET INFO:\u001b[0m     optimizer       : auto\n",
                                    "\u001b[1;38;5;39mCOMET INFO:\u001b[0m     overlap_mask    : True\n",
                                    "\u001b[1;38;5;39mCOMET INFO:\u001b[0m     patience        : 30\n",
                                    "\u001b[1;38;5;39mCOMET INFO:\u001b[0m     perspective     : 0.0\n",
                                    "\u001b[1;38;5;39mCOMET INFO:\u001b[0m     plots           : True\n",
                                    "\u001b[1;38;5;39mCOMET INFO:\u001b[0m     pose            : 12.0\n",
                                    "\u001b[1;38;5;39mCOMET INFO:\u001b[0m     pretrained      : True\n",
                                    "\u001b[1;38;5;39mCOMET INFO:\u001b[0m     profile         : False\n",
                                    "\u001b[1;38;5;39mCOMET INFO:\u001b[0m     project         : DL504\n",
                                    "\u001b[1;38;5;39mCOMET INFO:\u001b[0m     rect            : True\n",
                                    "\u001b[1;38;5;39mCOMET INFO:\u001b[0m     resume          : False\n",
                                    "\u001b[1;38;5;39mCOMET INFO:\u001b[0m     retina_masks    : False\n",
                                    "\u001b[1;38;5;39mCOMET INFO:\u001b[0m     save            : True\n",
                                    "\u001b[1;38;5;39mCOMET INFO:\u001b[0m     save_conf       : False\n",
                                    "\u001b[1;38;5;39mCOMET INFO:\u001b[0m     save_crop       : False\n",
                                    "\u001b[1;38;5;39mCOMET INFO:\u001b[0m     save_dir        : DL504/train51\n",
                                    "\u001b[1;38;5;39mCOMET INFO:\u001b[0m     save_frames     : False\n",
                                    "\u001b[1;38;5;39mCOMET INFO:\u001b[0m     save_hybrid     : False\n",
                                    "\u001b[1;38;5;39mCOMET INFO:\u001b[0m     save_json       : False\n",
                                    "\u001b[1;38;5;39mCOMET INFO:\u001b[0m     save_period     : -1\n",
                                    "\u001b[1;38;5;39mCOMET INFO:\u001b[0m     save_txt        : False\n",
                                    "\u001b[1;38;5;39mCOMET INFO:\u001b[0m     scale           : 0.5\n",
                                    "\u001b[1;38;5;39mCOMET INFO:\u001b[0m     seed            : 0\n",
                                    "\u001b[1;38;5;39mCOMET INFO:\u001b[0m     shear           : 0.0\n",
                                    "\u001b[1;38;5;39mCOMET INFO:\u001b[0m     show            : False\n",
                                    "\u001b[1;38;5;39mCOMET INFO:\u001b[0m     show_boxes      : True\n",
                                    "\u001b[1;38;5;39mCOMET INFO:\u001b[0m     show_conf       : True\n",
                                    "\u001b[1;38;5;39mCOMET INFO:\u001b[0m     show_labels     : True\n",
                                    "\u001b[1;38;5;39mCOMET INFO:\u001b[0m     simplify        : True\n",
                                    "\u001b[1;38;5;39mCOMET INFO:\u001b[0m     single_cls      : False\n",
                                    "\u001b[1;38;5;39mCOMET INFO:\u001b[0m     source          : None\n",
                                    "\u001b[1;38;5;39mCOMET INFO:\u001b[0m     split           : val\n",
                                    "\u001b[1;38;5;39mCOMET INFO:\u001b[0m     stream_buffer   : False\n",
                                    "\u001b[1;38;5;39mCOMET INFO:\u001b[0m     task            : detect\n",
                                    "\u001b[1;38;5;39mCOMET INFO:\u001b[0m     time            : None\n",
                                    "\u001b[1;38;5;39mCOMET INFO:\u001b[0m     tracker         : botsort.yaml\n",
                                    "\u001b[1;38;5;39mCOMET INFO:\u001b[0m     translate       : 0.1\n",
                                    "\u001b[1;38;5;39mCOMET INFO:\u001b[0m     val             : True\n",
                                    "\u001b[1;38;5;39mCOMET INFO:\u001b[0m     verbose         : True\n",
                                    "\u001b[1;38;5;39mCOMET INFO:\u001b[0m     vid_stride      : 1\n",
                                    "\u001b[1;38;5;39mCOMET INFO:\u001b[0m     visualize       : False\n",
                                    "\u001b[1;38;5;39mCOMET INFO:\u001b[0m     warmup_bias_lr  : 0.1\n",
                                    "\u001b[1;38;5;39mCOMET INFO:\u001b[0m     warmup_epochs   : 3.0\n",
                                    "\u001b[1;38;5;39mCOMET INFO:\u001b[0m     warmup_momentum : 0.8\n",
                                    "\u001b[1;38;5;39mCOMET INFO:\u001b[0m     weight_decay    : 0.0005\n",
                                    "\u001b[1;38;5;39mCOMET INFO:\u001b[0m     workers         : 32\n",
                                    "\u001b[1;38;5;39mCOMET INFO:\u001b[0m     workspace       : 0\n",
                                    "\u001b[1;38;5;39mCOMET INFO:\u001b[0m   Uploads:\n",
                                    "\u001b[1;38;5;39mCOMET INFO:\u001b[0m     confusion-matrix         : 1\n",
                                    "\u001b[1;38;5;39mCOMET INFO:\u001b[0m     environment details      : 1\n",
                                    "\u001b[1;38;5;39mCOMET INFO:\u001b[0m     filename                 : 1\n",
                                    "\u001b[1;38;5;39mCOMET INFO:\u001b[0m     git metadata             : 1\n",
                                    "\u001b[1;38;5;39mCOMET INFO:\u001b[0m     git-patch (uncompressed) : 1 (48.11 KB)\n",
                                    "\u001b[1;38;5;39mCOMET INFO:\u001b[0m     images                   : 17\n",
                                    "\u001b[1;38;5;39mCOMET INFO:\u001b[0m     installed packages       : 1\n",
                                    "\u001b[1;38;5;39mCOMET INFO:\u001b[0m     model-element            : 1 (48.84 MB)\n",
                                    "\u001b[1;38;5;39mCOMET INFO:\u001b[0m     notebook                 : 1\n",
                                    "\u001b[1;38;5;39mCOMET INFO:\u001b[0m     os packages              : 1\n",
                                    "\u001b[1;38;5;39mCOMET INFO:\u001b[0m     source_code              : 1\n",
                                    "\u001b[1;38;5;39mCOMET INFO:\u001b[0m \n",
                                    "\u001b[1;38;5;214mCOMET WARNING:\u001b[0m To get all data logged automatically, import comet_ml before the following modules: torch.\n",
                                    "\u001b[1;38;5;39mCOMET INFO:\u001b[0m Begin archiving the offline data.\n",
                                    "\u001b[1;38;5;39mCOMET INFO:\u001b[0m To upload this offline experiment, run:\n",
                                    "    comet upload /workspace/Smart-Surveillance-for-Cleaner-Cityscapes/.cometml-runs/92b0f2f2f4f147f99ba1026f43bebd01.zip\n"
                              ]
                        }
                  ],
                  "source": [
                        "import os\n",
                        "os.environ.pop(\"COMET_EXPERIMENT_NAME\", None)\n",
                        "os.environ[\"COMET_EXPERIMENT_NAME\"] = \"Urban-Eye-improved\"\n",
                        "from ultralytics import YOLO\n",
                        "# Load a pretrained YOLOv8 model\n",
                        "model = YOLO('yolo11l.pt')  # load an official model\n",
                        "print(\"=========================================================================\")\n",
                        "result = model.train(cfg=\"cfg/urbanyet-settings.yaml\", data=\"urbanEye-no-clsw-no-Synth.yaml\")  # train with custom settings\n",
                        "\n"
                  ]
            },
            {
                  "cell_type": "markdown",
                  "id": "2e57dc73",
                  "metadata": {},
                  "source": [
                        "## 6. Baseline + Customzied Augmentation + Synthetic Images"
                  ]
            },
            {
                  "cell_type": "code",
                  "execution_count": 13,
                  "id": "9d5067e0",
                  "metadata": {},
                  "outputs": [
                        {
                              "name": "stdout",
                              "output_type": "stream",
                              "text": [
                                    "=========================================================================\n",
                                    "New https://pypi.org/project/ultralytics/8.3.114 available 😃 Update with 'pip install -U ultralytics'\n",
                                    "Ultralytics 8.3.72 🚀 Python-3.11.10 torch-2.6.0+cu124 CUDA:0 (NVIDIA H100 80GB HBM3, 81110MiB)\n",
                                    "\u001b[34m\u001b[1mengine/trainer: \u001b[0mtask=detect, mode=train, model=yolo11l.pt, data=urbanEye-synth-no_clsw.yaml, epochs=500, time=None, patience=30, batch=100, imgsz=640, save=True, save_period=-1, cache=disk, device=0, workers=32, project=DL504, name=train52, exist_ok=False, pretrained=True, optimizer=auto, verbose=True, seed=0, deterministic=True, single_cls=False, rect=True, cos_lr=True, close_mosaic=10, resume=False, amp=True, fraction=1.0, profile=False, freeze=None, multi_scale=False, overlap_mask=True, mask_ratio=4, dropout=0.0, val=True, split=val, save_json=False, save_hybrid=False, conf=0.25, iou=0.65, max_det=300, half=False, dnn=False, plots=True, source=None, vid_stride=1, stream_buffer=False, visualize=False, augment=False, agnostic_nms=False, classes=None, retina_masks=False, embed=None, show=False, save_frames=False, save_txt=False, save_conf=False, save_crop=False, show_labels=True, show_conf=True, show_boxes=True, line_width=None, format=torchscript, keras=False, optimize=False, int8=False, dynamic=False, simplify=True, opset=None, workspace=0, nms=False, lr0=0.001, lrf=0.01, momentum=0.937, weight_decay=0.0005, warmup_epochs=3.0, warmup_momentum=0.8, warmup_bias_lr=0.1, box=7.5, cls=0.5, dfl=1.5, pose=12.0, kobj=1.0, nbs=64, hsv_h=0.015, hsv_s=0.7, hsv_v=0.4, degrees=0.0, translate=0.1, scale=0.5, shear=0.0, perspective=0.0, flipud=0.0, fliplr=0.5, bgr=0.0, mosaic=1.0, mixup=0.05, copy_paste=0.1, copy_paste_mode=flip, auto_augment=randaugment, erasing=0.4, crop_fraction=1.0, cfg=cfg/urbanyet-settings.yaml, tracker=botsort.yaml, save_dir=DL504/train52\n",
                                    "Overriding model.yaml nc=80 with nc=11\n",
                                    "\n",
                                    "                   from  n    params  module                                       arguments                     \n",
                                    "  0                  -1  1      1856  ultralytics.nn.modules.conv.Conv             [3, 64, 3, 2]                 \n",
                                    "  1                  -1  1     73984  ultralytics.nn.modules.conv.Conv             [64, 128, 3, 2]               \n",
                                    "  2                  -1  2    173824  ultralytics.nn.modules.block.C3k2            [128, 256, 2, True, 0.25]     \n",
                                    "  3                  -1  1    590336  ultralytics.nn.modules.conv.Conv             [256, 256, 3, 2]              \n",
                                    "  4                  -1  2    691712  ultralytics.nn.modules.block.C3k2            [256, 512, 2, True, 0.25]     \n",
                                    "  5                  -1  1   2360320  ultralytics.nn.modules.conv.Conv             [512, 512, 3, 2]              \n",
                                    "  6                  -1  2   2234368  ultralytics.nn.modules.block.C3k2            [512, 512, 2, True]           \n",
                                    "  7                  -1  1   2360320  ultralytics.nn.modules.conv.Conv             [512, 512, 3, 2]              \n",
                                    "  8                  -1  2   2234368  ultralytics.nn.modules.block.C3k2            [512, 512, 2, True]           \n",
                                    "  9                  -1  1    656896  ultralytics.nn.modules.block.SPPF            [512, 512, 5]                 \n",
                                    " 10                  -1  2   1455616  ultralytics.nn.modules.block.C2PSA           [512, 512, 2]                 \n",
                                    " 11                  -1  1         0  torch.nn.modules.upsampling.Upsample         [None, 2, 'nearest']          \n",
                                    " 12             [-1, 6]  1         0  ultralytics.nn.modules.conv.Concat           [1]                           \n",
                                    " 13                  -1  2   2496512  ultralytics.nn.modules.block.C3k2            [1024, 512, 2, True]          \n",
                                    " 14                  -1  1         0  torch.nn.modules.upsampling.Upsample         [None, 2, 'nearest']          \n",
                                    " 15             [-1, 4]  1         0  ultralytics.nn.modules.conv.Concat           [1]                           \n",
                                    " 16                  -1  2    756736  ultralytics.nn.modules.block.C3k2            [1024, 256, 2, True]          \n",
                                    " 17                  -1  1    590336  ultralytics.nn.modules.conv.Conv             [256, 256, 3, 2]              \n",
                                    " 18            [-1, 13]  1         0  ultralytics.nn.modules.conv.Concat           [1]                           \n",
                                    " 19                  -1  2   2365440  ultralytics.nn.modules.block.C3k2            [768, 512, 2, True]           \n",
                                    " 20                  -1  1   2360320  ultralytics.nn.modules.conv.Conv             [512, 512, 3, 2]              \n",
                                    " 21            [-1, 10]  1         0  ultralytics.nn.modules.conv.Concat           [1]                           \n",
                                    " 22                  -1  2   2496512  ultralytics.nn.modules.block.C3k2            [1024, 512, 2, True]          \n",
                                    " 23        [16, 19, 22]  1   1419505  ultralytics.nn.modules.head.Detect           [11, [256, 512, 512]]         \n",
                                    "YOLO11l summary: 631 layers, 25,318,961 parameters, 25,318,945 gradients, 87.3 GFLOPs\n",
                                    "\n",
                                    "Transferred 1009/1015 items from pretrained weights\n"
                              ]
                        },
                        {
                              "name": "stderr",
                              "output_type": "stream",
                              "text": [
                                    "\u001b[1;38;5;214mCOMET WARNING:\u001b[0m To get all data logged automatically, import comet_ml before the following modules: torch.\n",
                                    "\u001b[1;38;5;214mCOMET WARNING:\u001b[0m As you are running in a Jupyter environment, you will need to call `experiment.end()` when finished to ensure all metrics and code are logged before exiting.\n",
                                    "\u001b[1;38;5;39mCOMET INFO:\u001b[0m Using '/workspace/Smart-Surveillance-for-Cleaner-Cityscapes/.cometml-runs' path as offline directory. Pass 'offline_directory' parameter into constructor or set the 'COMET_OFFLINE_DIRECTORY' environment variable to manually choose where to store offline experiment archives.\n"
                              ]
                        },
                        {
                              "name": "stdout",
                              "output_type": "stream",
                              "text": [
                                    "Class Weights in Use: None\n",
                                    "Freezing layer 'model.23.dfl.conv.weight'\n",
                                    "\u001b[34m\u001b[1mAMP: \u001b[0mrunning Automatic Mixed Precision (AMP) checks...\n",
                                    "\u001b[34m\u001b[1mAMP: \u001b[0mchecks passed ✅\n"
                              ]
                        },
                        {
                              "name": "stderr",
                              "output_type": "stream",
                              "text": [
                                    "\u001b[34m\u001b[1mtrain: \u001b[0mScanning /workspace/datasets/urbanEye/dataset/labels/train... 6674 images, 0 backgrounds, 0 corrupt: 100%|██████████| 6674/6674 [00:05<00:00, 1208.68it/s]\n"
                              ]
                        },
                        {
                              "name": "stdout",
                              "output_type": "stream",
                              "text": [
                                    "\u001b[34m\u001b[1mtrain: \u001b[0mNew cache created: /workspace/datasets/urbanEye/dataset/labels/train.cache\n"
                              ]
                        },
                        {
                              "name": "stderr",
                              "output_type": "stream",
                              "text": [
                                    "\u001b[34m\u001b[1mtrain: \u001b[0mCaching images (7.6GB Disk): 100%|██████████| 6674/6674 [00:00<00:00, 22843.51it/s]"
                              ]
                        },
                        {
                              "name": "stdout",
                              "output_type": "stream",
                              "text": [
                                    "WARNING ⚠️ 'rect=True' is incompatible with DataLoader shuffle, setting shuffle=False\n"
                              ]
                        },
                        {
                              "name": "stderr",
                              "output_type": "stream",
                              "text": [
                                    "\n",
                                    "\u001b[34m\u001b[1mval: \u001b[0mScanning /workspace/datasets/urbanEye/dataset/labels/eval.cache... 1181 images, 0 backgrounds, 0 corrupt: 100%|██████████| 1181/1181 [00:00<?, ?it/s]\n",
                                    "\u001b[34m\u001b[1mval: \u001b[0mCaching images (1.4GB Disk): 100%|██████████| 1181/1181 [00:00<00:00, 23392.14it/s]\n"
                              ]
                        },
                        {
                              "name": "stdout",
                              "output_type": "stream",
                              "text": [
                                    "Plotting labels to DL504/train52/labels.jpg... \n",
                                    "\u001b[34m\u001b[1moptimizer:\u001b[0m 'optimizer=auto' found, ignoring 'lr0=0.001' and 'momentum=0.937' and determining best 'optimizer', 'lr0' and 'momentum' automatically... \n",
                                    "\u001b[34m\u001b[1moptimizer:\u001b[0m SGD(lr=0.01, momentum=0.9) with parameter groups 167 weight(decay=0.0), 174 weight(decay=0.00078125), 173 bias(decay=0.0)\n",
                                    "Image sizes 640 train, 640 val\n",
                                    "Using 32 dataloader workers\n",
                                    "Logging results to \u001b[1mDL504/train52\u001b[0m\n",
                                    "Starting training for 500 epochs...\n",
                                    "\n",
                                    "      Epoch    GPU_mem   box_loss   cls_loss   dfl_loss  Instances       Size\n"
                              ]
                        },
                        {
                              "name": "stderr",
                              "output_type": "stream",
                              "text": [
                                    "      1/500        66G       2.37      4.503      2.638        170        640: 100%|██████████| 67/67 [00:38<00:00,  1.73it/s]\n",
                                    "                 Class     Images  Instances      Box(P          R      mAP50  mAP50-95): 100%|██████████| 6/6 [00:02<00:00,  2.45it/s]"
                              ]
                        },
                        {
                              "name": "stdout",
                              "output_type": "stream",
                              "text": [
                                    "                   all       1181       2981       0.12    0.00799     0.0638     0.0281\n"
                              ]
                        },
                        {
                              "name": "stderr",
                              "output_type": "stream",
                              "text": [
                                    "\n"
                              ]
                        },
                        {
                              "name": "stdout",
                              "output_type": "stream",
                              "text": [
                                    "\n",
                                    "      Epoch    GPU_mem   box_loss   cls_loss   dfl_loss  Instances       Size\n"
                              ]
                        },
                        {
                              "name": "stderr",
                              "output_type": "stream",
                              "text": [
                                    "      2/500      66.1G      1.762      2.614      2.024        167        640: 100%|██████████| 67/67 [00:34<00:00,  1.93it/s]\n",
                                    "                 Class     Images  Instances      Box(P          R      mAP50  mAP50-95): 100%|██████████| 6/6 [00:03<00:00,  1.98it/s]\n"
                              ]
                        },
                        {
                              "name": "stdout",
                              "output_type": "stream",
                              "text": [
                                    "                   all       1181       2981        0.1     0.0386   0.000247   3.68e-05\n",
                                    "\n",
                                    "      Epoch    GPU_mem   box_loss   cls_loss   dfl_loss  Instances       Size\n"
                              ]
                        },
                        {
                              "name": "stderr",
                              "output_type": "stream",
                              "text": [
                                    "      3/500      66.1G      1.887      2.699      2.098        171        640: 100%|██████████| 67/67 [00:34<00:00,  1.95it/s]\n",
                                    "                 Class     Images  Instances      Box(P          R      mAP50  mAP50-95): 100%|██████████| 6/6 [00:02<00:00,  2.02it/s]"
                              ]
                        },
                        {
                              "name": "stdout",
                              "output_type": "stream",
                              "text": [
                                    "                   all       1181       2981   7.07e-05      0.005   3.05e-05   3.05e-06\n"
                              ]
                        },
                        {
                              "name": "stderr",
                              "output_type": "stream",
                              "text": [
                                    "\n"
                              ]
                        },
                        {
                              "name": "stdout",
                              "output_type": "stream",
                              "text": [
                                    "\n",
                                    "      Epoch    GPU_mem   box_loss   cls_loss   dfl_loss  Instances       Size\n"
                              ]
                        },
                        {
                              "name": "stderr",
                              "output_type": "stream",
                              "text": [
                                    "      4/500      66.1G      2.033      2.972       2.29        176        640: 100%|██████████| 67/67 [00:34<00:00,  1.95it/s]\n",
                                    "                 Class     Images  Instances      Box(P          R      mAP50  mAP50-95): 100%|██████████| 6/6 [00:03<00:00,  1.76it/s]\n"
                              ]
                        },
                        {
                              "name": "stdout",
                              "output_type": "stream",
                              "text": [
                                    "                   all       1181       2981      0.101     0.0456    8.3e-05   2.76e-05\n",
                                    "\n",
                                    "      Epoch    GPU_mem   box_loss   cls_loss   dfl_loss  Instances       Size\n"
                              ]
                        },
                        {
                              "name": "stderr",
                              "output_type": "stream",
                              "text": [
                                    "      5/500      66.1G      1.995      2.962        2.3        170        640: 100%|██████████| 67/67 [00:34<00:00,  1.93it/s]\n",
                                    "                 Class     Images  Instances      Box(P          R      mAP50  mAP50-95): 100%|██████████| 6/6 [00:02<00:00,  2.00it/s]"
                              ]
                        },
                        {
                              "name": "stdout",
                              "output_type": "stream",
                              "text": [
                                    "                   all       1181       2981   0.000202     0.0527   0.000108   1.64e-05\n"
                              ]
                        },
                        {
                              "name": "stderr",
                              "output_type": "stream",
                              "text": [
                                    "\n"
                              ]
                        },
                        {
                              "name": "stdout",
                              "output_type": "stream",
                              "text": [
                                    "\n",
                                    "      Epoch    GPU_mem   box_loss   cls_loss   dfl_loss  Instances       Size\n"
                              ]
                        },
                        {
                              "name": "stderr",
                              "output_type": "stream",
                              "text": [
                                    "      6/500      66.1G      1.956      2.805       2.24        171        640: 100%|██████████| 67/67 [00:34<00:00,  1.92it/s]\n",
                                    "                 Class     Images  Instances      Box(P          R      mAP50  mAP50-95): 100%|██████████| 6/6 [00:03<00:00,  1.86it/s]"
                              ]
                        },
                        {
                              "name": "stdout",
                              "output_type": "stream",
                              "text": [
                                    "                   all       1181       2981   0.000603     0.0261   0.000312   5.27e-05\n"
                              ]
                        },
                        {
                              "name": "stderr",
                              "output_type": "stream",
                              "text": [
                                    "\n"
                              ]
                        },
                        {
                              "name": "stdout",
                              "output_type": "stream",
                              "text": [
                                    "\n",
                                    "      Epoch    GPU_mem   box_loss   cls_loss   dfl_loss  Instances       Size\n"
                              ]
                        },
                        {
                              "name": "stderr",
                              "output_type": "stream",
                              "text": [
                                    "      7/500      66.1G      1.893      2.715      2.218        172        640: 100%|██████████| 67/67 [00:34<00:00,  1.94it/s]\n",
                                    "                 Class     Images  Instances      Box(P          R      mAP50  mAP50-95): 100%|██████████| 6/6 [00:03<00:00,  1.93it/s]"
                              ]
                        },
                        {
                              "name": "stdout",
                              "output_type": "stream",
                              "text": [
                                    "                   all       1181       2981   7.92e-05    0.00714   1.44e-05   1.44e-06\n"
                              ]
                        },
                        {
                              "name": "stderr",
                              "output_type": "stream",
                              "text": [
                                    "\n"
                              ]
                        },
                        {
                              "name": "stdout",
                              "output_type": "stream",
                              "text": [
                                    "\n",
                                    "      Epoch    GPU_mem   box_loss   cls_loss   dfl_loss  Instances       Size\n"
                              ]
                        },
                        {
                              "name": "stderr",
                              "output_type": "stream",
                              "text": [
                                    "      8/500      65.7G      1.899      2.605      2.225        171        640: 100%|██████████| 67/67 [00:34<00:00,  1.95it/s]\n",
                                    "                 Class     Images  Instances      Box(P          R      mAP50  mAP50-95): 100%|██████████| 6/6 [00:03<00:00,  1.95it/s]"
                              ]
                        },
                        {
                              "name": "stdout",
                              "output_type": "stream",
                              "text": [
                                    "                   all       1181       2981        0.1     0.0418   7.35e-05   1.05e-05\n"
                              ]
                        },
                        {
                              "name": "stderr",
                              "output_type": "stream",
                              "text": [
                                    "\n"
                              ]
                        },
                        {
                              "name": "stdout",
                              "output_type": "stream",
                              "text": [
                                    "\n",
                                    "      Epoch    GPU_mem   box_loss   cls_loss   dfl_loss  Instances       Size\n"
                              ]
                        },
                        {
                              "name": "stderr",
                              "output_type": "stream",
                              "text": [
                                    "      9/500      66.1G      1.839      2.485      2.144        170        640: 100%|██████████| 67/67 [00:34<00:00,  1.95it/s]\n",
                                    "                 Class     Images  Instances      Box(P          R      mAP50  mAP50-95): 100%|██████████| 6/6 [00:02<00:00,  2.56it/s]"
                              ]
                        },
                        {
                              "name": "stdout",
                              "output_type": "stream",
                              "text": [
                                    "                   all       1181       2981        0.1     0.0418   7.35e-05   1.05e-05\n"
                              ]
                        },
                        {
                              "name": "stderr",
                              "output_type": "stream",
                              "text": [
                                    "\n"
                              ]
                        },
                        {
                              "name": "stdout",
                              "output_type": "stream",
                              "text": [
                                    "\n",
                                    "      Epoch    GPU_mem   box_loss   cls_loss   dfl_loss  Instances       Size\n"
                              ]
                        },
                        {
                              "name": "stderr",
                              "output_type": "stream",
                              "text": [
                                    "     10/500      65.7G       1.82       2.39      2.153        172        640: 100%|██████████| 67/67 [00:34<00:00,  1.95it/s]\n",
                                    "                 Class     Images  Instances      Box(P          R      mAP50  mAP50-95): 100%|██████████| 6/6 [00:02<00:00,  2.05it/s]"
                              ]
                        },
                        {
                              "name": "stdout",
                              "output_type": "stream",
                              "text": [
                                    "                   all       1181       2981      0.212     0.0345     0.0281     0.0185\n"
                              ]
                        },
                        {
                              "name": "stderr",
                              "output_type": "stream",
                              "text": [
                                    "\n"
                              ]
                        },
                        {
                              "name": "stdout",
                              "output_type": "stream",
                              "text": [
                                    "\n",
                                    "      Epoch    GPU_mem   box_loss   cls_loss   dfl_loss  Instances       Size\n"
                              ]
                        },
                        {
                              "name": "stderr",
                              "output_type": "stream",
                              "text": [
                                    "     11/500      66.1G       1.78      2.334        2.1        174        640: 100%|██████████| 67/67 [00:34<00:00,  1.94it/s]\n",
                                    "                 Class     Images  Instances      Box(P          R      mAP50  mAP50-95): 100%|██████████| 6/6 [00:02<00:00,  2.45it/s]"
                              ]
                        },
                        {
                              "name": "stdout",
                              "output_type": "stream",
                              "text": [
                                    "                   all       1181       2981      0.313     0.0571      0.173     0.0502\n"
                              ]
                        },
                        {
                              "name": "stderr",
                              "output_type": "stream",
                              "text": [
                                    "\n"
                              ]
                        },
                        {
                              "name": "stdout",
                              "output_type": "stream",
                              "text": [
                                    "\n",
                                    "      Epoch    GPU_mem   box_loss   cls_loss   dfl_loss  Instances       Size\n"
                              ]
                        },
                        {
                              "name": "stderr",
                              "output_type": "stream",
                              "text": [
                                    "     12/500      65.7G      1.746      2.211      2.091        170        640: 100%|██████████| 67/67 [00:35<00:00,  1.88it/s]\n",
                                    "                 Class     Images  Instances      Box(P          R      mAP50  mAP50-95): 100%|██████████| 6/6 [00:02<00:00,  2.54it/s]"
                              ]
                        },
                        {
                              "name": "stdout",
                              "output_type": "stream",
                              "text": [
                                    "                   all       1181       2981     0.0621     0.0157     0.0374     0.0132\n"
                              ]
                        },
                        {
                              "name": "stderr",
                              "output_type": "stream",
                              "text": [
                                    "\n"
                              ]
                        },
                        {
                              "name": "stdout",
                              "output_type": "stream",
                              "text": [
                                    "\n",
                                    "      Epoch    GPU_mem   box_loss   cls_loss   dfl_loss  Instances       Size\n"
                              ]
                        },
                        {
                              "name": "stderr",
                              "output_type": "stream",
                              "text": [
                                    "     13/500      66.1G      1.715      2.165      2.057        172        640: 100%|██████████| 67/67 [00:34<00:00,  1.95it/s]\n",
                                    "                 Class     Images  Instances      Box(P          R      mAP50  mAP50-95): 100%|██████████| 6/6 [00:02<00:00,  2.60it/s]"
                              ]
                        },
                        {
                              "name": "stdout",
                              "output_type": "stream",
                              "text": [
                                    "                   all       1181       2981      0.331     0.0505      0.187     0.0889\n"
                              ]
                        },
                        {
                              "name": "stderr",
                              "output_type": "stream",
                              "text": [
                                    "\n"
                              ]
                        },
                        {
                              "name": "stdout",
                              "output_type": "stream",
                              "text": [
                                    "\n",
                                    "      Epoch    GPU_mem   box_loss   cls_loss   dfl_loss  Instances       Size\n"
                              ]
                        },
                        {
                              "name": "stderr",
                              "output_type": "stream",
                              "text": [
                                    "     14/500      65.7G      1.726      2.121      2.036        168        640: 100%|██████████| 67/67 [00:34<00:00,  1.95it/s]\n",
                                    "                 Class     Images  Instances      Box(P          R      mAP50  mAP50-95): 100%|██████████| 6/6 [00:02<00:00,  2.11it/s]"
                              ]
                        },
                        {
                              "name": "stdout",
                              "output_type": "stream",
                              "text": [
                                    "                   all       1181       2981      0.165     0.0283     0.0882     0.0559\n"
                              ]
                        },
                        {
                              "name": "stderr",
                              "output_type": "stream",
                              "text": [
                                    "\n"
                              ]
                        },
                        {
                              "name": "stdout",
                              "output_type": "stream",
                              "text": [
                                    "\n",
                                    "      Epoch    GPU_mem   box_loss   cls_loss   dfl_loss  Instances       Size\n"
                              ]
                        },
                        {
                              "name": "stderr",
                              "output_type": "stream",
                              "text": [
                                    "     15/500      66.1G      1.693      2.061       2.03        171        640: 100%|██████████| 67/67 [00:34<00:00,  1.92it/s]\n",
                                    "                 Class     Images  Instances      Box(P          R      mAP50  mAP50-95): 100%|██████████| 6/6 [00:02<00:00,  2.56it/s]"
                              ]
                        },
                        {
                              "name": "stdout",
                              "output_type": "stream",
                              "text": [
                                    "                   all       1181       2981      0.245     0.0674      0.155     0.0728\n"
                              ]
                        },
                        {
                              "name": "stderr",
                              "output_type": "stream",
                              "text": [
                                    "\n"
                              ]
                        },
                        {
                              "name": "stdout",
                              "output_type": "stream",
                              "text": [
                                    "\n",
                                    "      Epoch    GPU_mem   box_loss   cls_loss   dfl_loss  Instances       Size\n"
                              ]
                        },
                        {
                              "name": "stderr",
                              "output_type": "stream",
                              "text": [
                                    "     16/500      65.7G      1.685      2.062          2        171        640: 100%|██████████| 67/67 [00:34<00:00,  1.95it/s]\n",
                                    "                 Class     Images  Instances      Box(P          R      mAP50  mAP50-95): 100%|██████████| 6/6 [00:02<00:00,  2.40it/s]"
                              ]
                        },
                        {
                              "name": "stdout",
                              "output_type": "stream",
                              "text": [
                                    "                   all       1181       2981      0.327     0.0716      0.195     0.0897\n"
                              ]
                        },
                        {
                              "name": "stderr",
                              "output_type": "stream",
                              "text": [
                                    "\n"
                              ]
                        },
                        {
                              "name": "stdout",
                              "output_type": "stream",
                              "text": [
                                    "\n",
                                    "      Epoch    GPU_mem   box_loss   cls_loss   dfl_loss  Instances       Size\n"
                              ]
                        },
                        {
                              "name": "stderr",
                              "output_type": "stream",
                              "text": [
                                    "     17/500      66.1G      1.685      1.996      2.016        173        640: 100%|██████████| 67/67 [00:34<00:00,  1.95it/s]\n",
                                    "                 Class     Images  Instances      Box(P          R      mAP50  mAP50-95): 100%|██████████| 6/6 [00:02<00:00,  2.20it/s]"
                              ]
                        },
                        {
                              "name": "stdout",
                              "output_type": "stream",
                              "text": [
                                    "                   all       1181       2981      0.475      0.147      0.189      0.103\n"
                              ]
                        },
                        {
                              "name": "stderr",
                              "output_type": "stream",
                              "text": [
                                    "\n"
                              ]
                        },
                        {
                              "name": "stdout",
                              "output_type": "stream",
                              "text": [
                                    "\n",
                                    "      Epoch    GPU_mem   box_loss   cls_loss   dfl_loss  Instances       Size\n"
                              ]
                        },
                        {
                              "name": "stderr",
                              "output_type": "stream",
                              "text": [
                                    "     18/500      65.7G      1.678      1.973      2.004        175        640: 100%|██████████| 67/67 [00:34<00:00,  1.95it/s]\n",
                                    "                 Class     Images  Instances      Box(P          R      mAP50  mAP50-95): 100%|██████████| 6/6 [00:02<00:00,  2.46it/s]"
                              ]
                        },
                        {
                              "name": "stdout",
                              "output_type": "stream",
                              "text": [
                                    "                   all       1181       2981      0.263     0.0828      0.165     0.0733\n"
                              ]
                        },
                        {
                              "name": "stderr",
                              "output_type": "stream",
                              "text": [
                                    "\n"
                              ]
                        },
                        {
                              "name": "stdout",
                              "output_type": "stream",
                              "text": [
                                    "\n",
                                    "      Epoch    GPU_mem   box_loss   cls_loss   dfl_loss  Instances       Size\n"
                              ]
                        },
                        {
                              "name": "stderr",
                              "output_type": "stream",
                              "text": [
                                    "     19/500      66.1G      1.658       1.93      1.996        174        640: 100%|██████████| 67/67 [00:34<00:00,  1.95it/s]\n",
                                    "                 Class     Images  Instances      Box(P          R      mAP50  mAP50-95): 100%|██████████| 6/6 [00:02<00:00,  2.30it/s]"
                              ]
                        },
                        {
                              "name": "stdout",
                              "output_type": "stream",
                              "text": [
                                    "                   all       1181       2981      0.333      0.137       0.21     0.0966\n"
                              ]
                        },
                        {
                              "name": "stderr",
                              "output_type": "stream",
                              "text": [
                                    "\n"
                              ]
                        },
                        {
                              "name": "stdout",
                              "output_type": "stream",
                              "text": [
                                    "\n",
                                    "      Epoch    GPU_mem   box_loss   cls_loss   dfl_loss  Instances       Size\n"
                              ]
                        },
                        {
                              "name": "stderr",
                              "output_type": "stream",
                              "text": [
                                    "     20/500      65.7G      1.646      1.896      1.973        171        640: 100%|██████████| 67/67 [00:34<00:00,  1.95it/s]\n",
                                    "                 Class     Images  Instances      Box(P          R      mAP50  mAP50-95): 100%|██████████| 6/6 [00:02<00:00,  2.23it/s]"
                              ]
                        },
                        {
                              "name": "stdout",
                              "output_type": "stream",
                              "text": [
                                    "                   all       1181       2981      0.293        0.2      0.231      0.107\n"
                              ]
                        },
                        {
                              "name": "stderr",
                              "output_type": "stream",
                              "text": [
                                    "\n"
                              ]
                        },
                        {
                              "name": "stdout",
                              "output_type": "stream",
                              "text": [
                                    "\n",
                                    "      Epoch    GPU_mem   box_loss   cls_loss   dfl_loss  Instances       Size\n"
                              ]
                        },
                        {
                              "name": "stderr",
                              "output_type": "stream",
                              "text": [
                                    "     21/500      66.1G      1.641       1.88      1.984        174        640: 100%|██████████| 67/67 [00:34<00:00,  1.94it/s]\n",
                                    "                 Class     Images  Instances      Box(P          R      mAP50  mAP50-95): 100%|██████████| 6/6 [00:02<00:00,  2.15it/s]"
                              ]
                        },
                        {
                              "name": "stdout",
                              "output_type": "stream",
                              "text": [
                                    "                   all       1181       2981      0.207      0.183      0.177     0.0799\n"
                              ]
                        },
                        {
                              "name": "stderr",
                              "output_type": "stream",
                              "text": [
                                    "\n"
                              ]
                        },
                        {
                              "name": "stdout",
                              "output_type": "stream",
                              "text": [
                                    "\n",
                                    "      Epoch    GPU_mem   box_loss   cls_loss   dfl_loss  Instances       Size\n"
                              ]
                        },
                        {
                              "name": "stderr",
                              "output_type": "stream",
                              "text": [
                                    "     22/500      65.7G      1.634      1.871      1.979        171        640: 100%|██████████| 67/67 [00:34<00:00,  1.93it/s]\n",
                                    "                 Class     Images  Instances      Box(P          R      mAP50  mAP50-95): 100%|██████████| 6/6 [00:02<00:00,  2.64it/s]"
                              ]
                        },
                        {
                              "name": "stdout",
                              "output_type": "stream",
                              "text": [
                                    "                   all       1181       2981      0.226     0.0275      0.126     0.0658\n"
                              ]
                        },
                        {
                              "name": "stderr",
                              "output_type": "stream",
                              "text": [
                                    "\n"
                              ]
                        },
                        {
                              "name": "stdout",
                              "output_type": "stream",
                              "text": [
                                    "\n",
                                    "      Epoch    GPU_mem   box_loss   cls_loss   dfl_loss  Instances       Size\n"
                              ]
                        },
                        {
                              "name": "stderr",
                              "output_type": "stream",
                              "text": [
                                    "     23/500        66G      1.623      1.833      1.965        171        640: 100%|██████████| 67/67 [00:34<00:00,  1.95it/s]\n",
                                    "                 Class     Images  Instances      Box(P          R      mAP50  mAP50-95): 100%|██████████| 6/6 [00:02<00:00,  2.46it/s]"
                              ]
                        },
                        {
                              "name": "stdout",
                              "output_type": "stream",
                              "text": [
                                    "                   all       1181       2981      0.289     0.0961      0.188      0.091\n"
                              ]
                        },
                        {
                              "name": "stderr",
                              "output_type": "stream",
                              "text": [
                                    "\n"
                              ]
                        },
                        {
                              "name": "stdout",
                              "output_type": "stream",
                              "text": [
                                    "\n",
                                    "      Epoch    GPU_mem   box_loss   cls_loss   dfl_loss  Instances       Size\n"
                              ]
                        },
                        {
                              "name": "stderr",
                              "output_type": "stream",
                              "text": [
                                    "     24/500      65.7G      1.625      1.816      1.969        169        640: 100%|██████████| 67/67 [00:34<00:00,  1.94it/s]\n",
                                    "                 Class     Images  Instances      Box(P          R      mAP50  mAP50-95): 100%|██████████| 6/6 [00:02<00:00,  2.27it/s]"
                              ]
                        },
                        {
                              "name": "stdout",
                              "output_type": "stream",
                              "text": [
                                    "                   all       1181       2981      0.327       0.16       0.23      0.107\n"
                              ]
                        },
                        {
                              "name": "stderr",
                              "output_type": "stream",
                              "text": [
                                    "\n"
                              ]
                        },
                        {
                              "name": "stdout",
                              "output_type": "stream",
                              "text": [
                                    "\n",
                                    "      Epoch    GPU_mem   box_loss   cls_loss   dfl_loss  Instances       Size\n"
                              ]
                        },
                        {
                              "name": "stderr",
                              "output_type": "stream",
                              "text": [
                                    "     25/500      66.1G      1.613      1.787      1.955        169        640: 100%|██████████| 67/67 [00:34<00:00,  1.95it/s]\n",
                                    "                 Class     Images  Instances      Box(P          R      mAP50  mAP50-95): 100%|██████████| 6/6 [00:03<00:00,  1.94it/s]"
                              ]
                        },
                        {
                              "name": "stdout",
                              "output_type": "stream",
                              "text": [
                                    "                   all       1181       2981      0.387      0.204      0.288      0.138\n"
                              ]
                        },
                        {
                              "name": "stderr",
                              "output_type": "stream",
                              "text": [
                                    "\n"
                              ]
                        },
                        {
                              "name": "stdout",
                              "output_type": "stream",
                              "text": [
                                    "\n",
                                    "      Epoch    GPU_mem   box_loss   cls_loss   dfl_loss  Instances       Size\n"
                              ]
                        },
                        {
                              "name": "stderr",
                              "output_type": "stream",
                              "text": [
                                    "     26/500      65.7G      1.603      1.789      1.949        167        640: 100%|██████████| 67/67 [00:34<00:00,  1.95it/s]\n",
                                    "                 Class     Images  Instances      Box(P          R      mAP50  mAP50-95): 100%|██████████| 6/6 [00:02<00:00,  2.31it/s]"
                              ]
                        },
                        {
                              "name": "stdout",
                              "output_type": "stream",
                              "text": [
                                    "                   all       1181       2981      0.363      0.167      0.245      0.114\n"
                              ]
                        },
                        {
                              "name": "stderr",
                              "output_type": "stream",
                              "text": [
                                    "\n"
                              ]
                        },
                        {
                              "name": "stdout",
                              "output_type": "stream",
                              "text": [
                                    "\n",
                                    "      Epoch    GPU_mem   box_loss   cls_loss   dfl_loss  Instances       Size\n"
                              ]
                        },
                        {
                              "name": "stderr",
                              "output_type": "stream",
                              "text": [
                                    "     27/500        66G      1.603       1.76      1.945        175        640: 100%|██████████| 67/67 [00:34<00:00,  1.93it/s]\n",
                                    "                 Class     Images  Instances      Box(P          R      mAP50  mAP50-95): 100%|██████████| 6/6 [00:02<00:00,  2.29it/s]"
                              ]
                        },
                        {
                              "name": "stdout",
                              "output_type": "stream",
                              "text": [
                                    "                   all       1181       2981      0.363      0.175      0.254      0.118\n"
                              ]
                        },
                        {
                              "name": "stderr",
                              "output_type": "stream",
                              "text": [
                                    "\n"
                              ]
                        },
                        {
                              "name": "stdout",
                              "output_type": "stream",
                              "text": [
                                    "\n",
                                    "      Epoch    GPU_mem   box_loss   cls_loss   dfl_loss  Instances       Size\n"
                              ]
                        },
                        {
                              "name": "stderr",
                              "output_type": "stream",
                              "text": [
                                    "     28/500      65.7G      1.594      1.726      1.947        171        640: 100%|██████████| 67/67 [00:34<00:00,  1.95it/s]\n",
                                    "                 Class     Images  Instances      Box(P          R      mAP50  mAP50-95): 100%|██████████| 6/6 [00:02<00:00,  2.41it/s]"
                              ]
                        },
                        {
                              "name": "stdout",
                              "output_type": "stream",
                              "text": [
                                    "                   all       1181       2981      0.438      0.137      0.279      0.143\n"
                              ]
                        },
                        {
                              "name": "stderr",
                              "output_type": "stream",
                              "text": [
                                    "\n"
                              ]
                        },
                        {
                              "name": "stdout",
                              "output_type": "stream",
                              "text": [
                                    "\n",
                                    "      Epoch    GPU_mem   box_loss   cls_loss   dfl_loss  Instances       Size\n"
                              ]
                        },
                        {
                              "name": "stderr",
                              "output_type": "stream",
                              "text": [
                                    "     29/500      66.1G      1.589      1.726       1.93        169        640: 100%|██████████| 67/67 [00:34<00:00,  1.95it/s]\n",
                                    "                 Class     Images  Instances      Box(P          R      mAP50  mAP50-95): 100%|██████████| 6/6 [00:02<00:00,  2.36it/s]"
                              ]
                        },
                        {
                              "name": "stdout",
                              "output_type": "stream",
                              "text": [
                                    "                   all       1181       2981      0.363       0.21      0.279      0.128\n"
                              ]
                        },
                        {
                              "name": "stderr",
                              "output_type": "stream",
                              "text": [
                                    "\n"
                              ]
                        },
                        {
                              "name": "stdout",
                              "output_type": "stream",
                              "text": [
                                    "\n",
                                    "      Epoch    GPU_mem   box_loss   cls_loss   dfl_loss  Instances       Size\n"
                              ]
                        },
                        {
                              "name": "stderr",
                              "output_type": "stream",
                              "text": [
                                    "     30/500      65.6G      1.586      1.695      1.931        170        640: 100%|██████████| 67/67 [00:34<00:00,  1.96it/s]\n",
                                    "                 Class     Images  Instances      Box(P          R      mAP50  mAP50-95): 100%|██████████| 6/6 [00:02<00:00,  2.49it/s]"
                              ]
                        },
                        {
                              "name": "stdout",
                              "output_type": "stream",
                              "text": [
                                    "                   all       1181       2981      0.274      0.137      0.187     0.0816\n"
                              ]
                        },
                        {
                              "name": "stderr",
                              "output_type": "stream",
                              "text": [
                                    "\n"
                              ]
                        },
                        {
                              "name": "stdout",
                              "output_type": "stream",
                              "text": [
                                    "\n",
                                    "      Epoch    GPU_mem   box_loss   cls_loss   dfl_loss  Instances       Size\n"
                              ]
                        },
                        {
                              "name": "stderr",
                              "output_type": "stream",
                              "text": [
                                    "     31/500      66.1G      1.575      1.676      1.919        170        640: 100%|██████████| 67/67 [00:34<00:00,  1.95it/s]\n",
                                    "                 Class     Images  Instances      Box(P          R      mAP50  mAP50-95): 100%|██████████| 6/6 [00:02<00:00,  2.39it/s]"
                              ]
                        },
                        {
                              "name": "stdout",
                              "output_type": "stream",
                              "text": [
                                    "                   all       1181       2981      0.433      0.187      0.307      0.138\n"
                              ]
                        },
                        {
                              "name": "stderr",
                              "output_type": "stream",
                              "text": [
                                    "\n"
                              ]
                        },
                        {
                              "name": "stdout",
                              "output_type": "stream",
                              "text": [
                                    "\n",
                                    "      Epoch    GPU_mem   box_loss   cls_loss   dfl_loss  Instances       Size\n"
                              ]
                        },
                        {
                              "name": "stderr",
                              "output_type": "stream",
                              "text": [
                                    "     32/500      65.7G      1.588      1.675      1.933        172        640: 100%|██████████| 67/67 [00:34<00:00,  1.95it/s]\n",
                                    "                 Class     Images  Instances      Box(P          R      mAP50  mAP50-95): 100%|██████████| 6/6 [00:02<00:00,  2.34it/s]"
                              ]
                        },
                        {
                              "name": "stdout",
                              "output_type": "stream",
                              "text": [
                                    "                   all       1181       2981      0.424       0.19      0.299      0.141\n"
                              ]
                        },
                        {
                              "name": "stderr",
                              "output_type": "stream",
                              "text": [
                                    "\n"
                              ]
                        },
                        {
                              "name": "stdout",
                              "output_type": "stream",
                              "text": [
                                    "\n",
                                    "      Epoch    GPU_mem   box_loss   cls_loss   dfl_loss  Instances       Size\n"
                              ]
                        },
                        {
                              "name": "stderr",
                              "output_type": "stream",
                              "text": [
                                    "     33/500      66.1G      1.562      1.646      1.916        173        640: 100%|██████████| 67/67 [00:34<00:00,  1.95it/s]\n",
                                    "                 Class     Images  Instances      Box(P          R      mAP50  mAP50-95): 100%|██████████| 6/6 [00:02<00:00,  2.50it/s]"
                              ]
                        },
                        {
                              "name": "stdout",
                              "output_type": "stream",
                              "text": [
                                    "                   all       1181       2981        0.4      0.103      0.248      0.119\n"
                              ]
                        },
                        {
                              "name": "stderr",
                              "output_type": "stream",
                              "text": [
                                    "\n"
                              ]
                        },
                        {
                              "name": "stdout",
                              "output_type": "stream",
                              "text": [
                                    "\n",
                                    "      Epoch    GPU_mem   box_loss   cls_loss   dfl_loss  Instances       Size\n"
                              ]
                        },
                        {
                              "name": "stderr",
                              "output_type": "stream",
                              "text": [
                                    "     34/500      65.7G      1.569      1.625      1.906        168        640: 100%|██████████| 67/67 [00:34<00:00,  1.95it/s]\n",
                                    "                 Class     Images  Instances      Box(P          R      mAP50  mAP50-95): 100%|██████████| 6/6 [00:02<00:00,  2.35it/s]"
                              ]
                        },
                        {
                              "name": "stdout",
                              "output_type": "stream",
                              "text": [
                                    "                   all       1181       2981       0.34      0.131      0.222      0.105\n"
                              ]
                        },
                        {
                              "name": "stderr",
                              "output_type": "stream",
                              "text": [
                                    "\n"
                              ]
                        },
                        {
                              "name": "stdout",
                              "output_type": "stream",
                              "text": [
                                    "\n",
                                    "      Epoch    GPU_mem   box_loss   cls_loss   dfl_loss  Instances       Size\n"
                              ]
                        },
                        {
                              "name": "stderr",
                              "output_type": "stream",
                              "text": [
                                    "     35/500      66.1G      1.555      1.613      1.893        175        640: 100%|██████████| 67/67 [00:34<00:00,  1.95it/s]\n",
                                    "                 Class     Images  Instances      Box(P          R      mAP50  mAP50-95): 100%|██████████| 6/6 [00:02<00:00,  2.26it/s]"
                              ]
                        },
                        {
                              "name": "stdout",
                              "output_type": "stream",
                              "text": [
                                    "                   all       1181       2981      0.458      0.198      0.317      0.148\n"
                              ]
                        },
                        {
                              "name": "stderr",
                              "output_type": "stream",
                              "text": [
                                    "\n"
                              ]
                        },
                        {
                              "name": "stdout",
                              "output_type": "stream",
                              "text": [
                                    "\n",
                                    "      Epoch    GPU_mem   box_loss   cls_loss   dfl_loss  Instances       Size\n"
                              ]
                        },
                        {
                              "name": "stderr",
                              "output_type": "stream",
                              "text": [
                                    "     36/500      65.7G      1.548      1.584      1.899        170        640: 100%|██████████| 67/67 [00:34<00:00,  1.94it/s]\n",
                                    "                 Class     Images  Instances      Box(P          R      mAP50  mAP50-95): 100%|██████████| 6/6 [00:02<00:00,  2.29it/s]"
                              ]
                        },
                        {
                              "name": "stdout",
                              "output_type": "stream",
                              "text": [
                                    "                   all       1181       2981      0.397       0.21      0.294      0.133\n"
                              ]
                        },
                        {
                              "name": "stderr",
                              "output_type": "stream",
                              "text": [
                                    "\n"
                              ]
                        },
                        {
                              "name": "stdout",
                              "output_type": "stream",
                              "text": [
                                    "\n",
                                    "      Epoch    GPU_mem   box_loss   cls_loss   dfl_loss  Instances       Size\n"
                              ]
                        },
                        {
                              "name": "stderr",
                              "output_type": "stream",
                              "text": [
                                    "     37/500      66.1G      1.548       1.59      1.905        167        640: 100%|██████████| 67/67 [00:34<00:00,  1.94it/s]\n",
                                    "                 Class     Images  Instances      Box(P          R      mAP50  mAP50-95): 100%|██████████| 6/6 [00:02<00:00,  2.46it/s]"
                              ]
                        },
                        {
                              "name": "stdout",
                              "output_type": "stream",
                              "text": [
                                    "                   all       1181       2981      0.438      0.127      0.278       0.13\n"
                              ]
                        },
                        {
                              "name": "stderr",
                              "output_type": "stream",
                              "text": [
                                    "\n"
                              ]
                        },
                        {
                              "name": "stdout",
                              "output_type": "stream",
                              "text": [
                                    "\n",
                                    "      Epoch    GPU_mem   box_loss   cls_loss   dfl_loss  Instances       Size\n"
                              ]
                        },
                        {
                              "name": "stderr",
                              "output_type": "stream",
                              "text": [
                                    "     38/500      65.7G      1.544      1.579      1.902        166        640: 100%|██████████| 67/67 [00:34<00:00,  1.95it/s]\n",
                                    "                 Class     Images  Instances      Box(P          R      mAP50  mAP50-95): 100%|██████████| 6/6 [00:02<00:00,  2.29it/s]"
                              ]
                        },
                        {
                              "name": "stdout",
                              "output_type": "stream",
                              "text": [
                                    "                   all       1181       2981      0.397      0.204      0.299      0.146\n"
                              ]
                        },
                        {
                              "name": "stderr",
                              "output_type": "stream",
                              "text": [
                                    "\n"
                              ]
                        },
                        {
                              "name": "stdout",
                              "output_type": "stream",
                              "text": [
                                    "\n",
                                    "      Epoch    GPU_mem   box_loss   cls_loss   dfl_loss  Instances       Size\n"
                              ]
                        },
                        {
                              "name": "stderr",
                              "output_type": "stream",
                              "text": [
                                    "     39/500      66.1G      1.544      1.552      1.889        169        640: 100%|██████████| 67/67 [00:34<00:00,  1.95it/s]\n",
                                    "                 Class     Images  Instances      Box(P          R      mAP50  mAP50-95): 100%|██████████| 6/6 [00:02<00:00,  2.34it/s]"
                              ]
                        },
                        {
                              "name": "stdout",
                              "output_type": "stream",
                              "text": [
                                    "                   all       1181       2981      0.464      0.206      0.339      0.167\n"
                              ]
                        },
                        {
                              "name": "stderr",
                              "output_type": "stream",
                              "text": [
                                    "\n"
                              ]
                        },
                        {
                              "name": "stdout",
                              "output_type": "stream",
                              "text": [
                                    "\n",
                                    "      Epoch    GPU_mem   box_loss   cls_loss   dfl_loss  Instances       Size\n"
                              ]
                        },
                        {
                              "name": "stderr",
                              "output_type": "stream",
                              "text": [
                                    "     40/500      65.7G      1.532      1.537      1.888        169        640: 100%|██████████| 67/67 [00:34<00:00,  1.95it/s]\n",
                                    "                 Class     Images  Instances      Box(P          R      mAP50  mAP50-95): 100%|██████████| 6/6 [00:02<00:00,  2.36it/s]"
                              ]
                        },
                        {
                              "name": "stdout",
                              "output_type": "stream",
                              "text": [
                                    "                   all       1181       2981      0.652      0.187      0.417      0.184\n"
                              ]
                        },
                        {
                              "name": "stderr",
                              "output_type": "stream",
                              "text": [
                                    "\n"
                              ]
                        },
                        {
                              "name": "stdout",
                              "output_type": "stream",
                              "text": [
                                    "\n",
                                    "      Epoch    GPU_mem   box_loss   cls_loss   dfl_loss  Instances       Size\n"
                              ]
                        },
                        {
                              "name": "stderr",
                              "output_type": "stream",
                              "text": [
                                    "     41/500      66.1G       1.52      1.524      1.877        171        640: 100%|██████████| 67/67 [00:34<00:00,  1.95it/s]\n",
                                    "                 Class     Images  Instances      Box(P          R      mAP50  mAP50-95): 100%|██████████| 6/6 [00:02<00:00,  2.32it/s]"
                              ]
                        },
                        {
                              "name": "stdout",
                              "output_type": "stream",
                              "text": [
                                    "                   all       1181       2981      0.547       0.19      0.366      0.168\n"
                              ]
                        },
                        {
                              "name": "stderr",
                              "output_type": "stream",
                              "text": [
                                    "\n"
                              ]
                        },
                        {
                              "name": "stdout",
                              "output_type": "stream",
                              "text": [
                                    "\n",
                                    "      Epoch    GPU_mem   box_loss   cls_loss   dfl_loss  Instances       Size\n"
                              ]
                        },
                        {
                              "name": "stderr",
                              "output_type": "stream",
                              "text": [
                                    "     42/500      65.7G      1.528      1.516      1.871        173        640: 100%|██████████| 67/67 [00:34<00:00,  1.92it/s]\n",
                                    "                 Class     Images  Instances      Box(P          R      mAP50  mAP50-95): 100%|██████████| 6/6 [00:02<00:00,  2.26it/s]"
                              ]
                        },
                        {
                              "name": "stdout",
                              "output_type": "stream",
                              "text": [
                                    "                   all       1181       2981      0.438      0.216      0.318      0.159\n"
                              ]
                        },
                        {
                              "name": "stderr",
                              "output_type": "stream",
                              "text": [
                                    "\n"
                              ]
                        },
                        {
                              "name": "stdout",
                              "output_type": "stream",
                              "text": [
                                    "\n",
                                    "      Epoch    GPU_mem   box_loss   cls_loss   dfl_loss  Instances       Size\n"
                              ]
                        },
                        {
                              "name": "stderr",
                              "output_type": "stream",
                              "text": [
                                    "     43/500      66.1G       1.53      1.508      1.874        170        640: 100%|██████████| 67/67 [00:34<00:00,  1.93it/s]\n",
                                    "                 Class     Images  Instances      Box(P          R      mAP50  mAP50-95): 100%|██████████| 6/6 [00:03<00:00,  1.92it/s]"
                              ]
                        },
                        {
                              "name": "stdout",
                              "output_type": "stream",
                              "text": [
                                    "                   all       1181       2981      0.523      0.262      0.389      0.195\n"
                              ]
                        },
                        {
                              "name": "stderr",
                              "output_type": "stream",
                              "text": [
                                    "\n"
                              ]
                        },
                        {
                              "name": "stdout",
                              "output_type": "stream",
                              "text": [
                                    "\n",
                                    "      Epoch    GPU_mem   box_loss   cls_loss   dfl_loss  Instances       Size\n"
                              ]
                        },
                        {
                              "name": "stderr",
                              "output_type": "stream",
                              "text": [
                                    "     44/500      65.7G      1.529      1.504      1.884        171        640: 100%|██████████| 67/67 [00:34<00:00,  1.95it/s]\n",
                                    "                 Class     Images  Instances      Box(P          R      mAP50  mAP50-95): 100%|██████████| 6/6 [00:02<00:00,  2.30it/s]"
                              ]
                        },
                        {
                              "name": "stdout",
                              "output_type": "stream",
                              "text": [
                                    "                   all       1181       2981      0.547       0.27        0.4      0.188\n"
                              ]
                        },
                        {
                              "name": "stderr",
                              "output_type": "stream",
                              "text": [
                                    "\n"
                              ]
                        },
                        {
                              "name": "stdout",
                              "output_type": "stream",
                              "text": [
                                    "\n",
                                    "      Epoch    GPU_mem   box_loss   cls_loss   dfl_loss  Instances       Size\n"
                              ]
                        },
                        {
                              "name": "stderr",
                              "output_type": "stream",
                              "text": [
                                    "     45/500      66.1G      1.518      1.473      1.864        170        640: 100%|██████████| 67/67 [00:34<00:00,  1.95it/s]\n",
                                    "                 Class     Images  Instances      Box(P          R      mAP50  mAP50-95): 100%|██████████| 6/6 [00:02<00:00,  2.26it/s]"
                              ]
                        },
                        {
                              "name": "stdout",
                              "output_type": "stream",
                              "text": [
                                    "                   all       1181       2981        0.4      0.242       0.32      0.146\n"
                              ]
                        },
                        {
                              "name": "stderr",
                              "output_type": "stream",
                              "text": [
                                    "\n"
                              ]
                        },
                        {
                              "name": "stdout",
                              "output_type": "stream",
                              "text": [
                                    "\n",
                                    "      Epoch    GPU_mem   box_loss   cls_loss   dfl_loss  Instances       Size\n"
                              ]
                        },
                        {
                              "name": "stderr",
                              "output_type": "stream",
                              "text": [
                                    "     46/500      65.7G      1.515      1.455      1.869        171        640: 100%|██████████| 67/67 [00:34<00:00,  1.96it/s]\n",
                                    "                 Class     Images  Instances      Box(P          R      mAP50  mAP50-95): 100%|██████████| 6/6 [00:02<00:00,  2.14it/s]"
                              ]
                        },
                        {
                              "name": "stdout",
                              "output_type": "stream",
                              "text": [
                                    "                   all       1181       2981      0.464      0.302      0.374      0.171\n"
                              ]
                        },
                        {
                              "name": "stderr",
                              "output_type": "stream",
                              "text": [
                                    "\n"
                              ]
                        },
                        {
                              "name": "stdout",
                              "output_type": "stream",
                              "text": [
                                    "\n",
                                    "      Epoch    GPU_mem   box_loss   cls_loss   dfl_loss  Instances       Size\n"
                              ]
                        },
                        {
                              "name": "stderr",
                              "output_type": "stream",
                              "text": [
                                    "     47/500      66.1G      1.499      1.443      1.852        169        640: 100%|██████████| 67/67 [00:34<00:00,  1.95it/s]\n",
                                    "                 Class     Images  Instances      Box(P          R      mAP50  mAP50-95): 100%|██████████| 6/6 [00:02<00:00,  2.31it/s]"
                              ]
                        },
                        {
                              "name": "stdout",
                              "output_type": "stream",
                              "text": [
                                    "                   all       1181       2981      0.507      0.174      0.336      0.156\n"
                              ]
                        },
                        {
                              "name": "stderr",
                              "output_type": "stream",
                              "text": [
                                    "\n"
                              ]
                        },
                        {
                              "name": "stdout",
                              "output_type": "stream",
                              "text": [
                                    "\n",
                                    "      Epoch    GPU_mem   box_loss   cls_loss   dfl_loss  Instances       Size\n"
                              ]
                        },
                        {
                              "name": "stderr",
                              "output_type": "stream",
                              "text": [
                                    "     48/500      65.7G      1.501      1.426      1.858        170        640: 100%|██████████| 67/67 [00:35<00:00,  1.90it/s]\n",
                                    "                 Class     Images  Instances      Box(P          R      mAP50  mAP50-95): 100%|██████████| 6/6 [00:02<00:00,  2.05it/s]"
                              ]
                        },
                        {
                              "name": "stdout",
                              "output_type": "stream",
                              "text": [
                                    "                   all       1181       2981      0.529      0.239      0.378      0.201\n"
                              ]
                        },
                        {
                              "name": "stderr",
                              "output_type": "stream",
                              "text": [
                                    "\n"
                              ]
                        },
                        {
                              "name": "stdout",
                              "output_type": "stream",
                              "text": [
                                    "\n",
                                    "      Epoch    GPU_mem   box_loss   cls_loss   dfl_loss  Instances       Size\n"
                              ]
                        },
                        {
                              "name": "stderr",
                              "output_type": "stream",
                              "text": [
                                    "     49/500      66.1G      1.507      1.438      1.864        173        640: 100%|██████████| 67/67 [00:34<00:00,  1.96it/s]\n",
                                    "                 Class     Images  Instances      Box(P          R      mAP50  mAP50-95): 100%|██████████| 6/6 [00:03<00:00,  1.89it/s]"
                              ]
                        },
                        {
                              "name": "stdout",
                              "output_type": "stream",
                              "text": [
                                    "                   all       1181       2981      0.563      0.297      0.433      0.217\n"
                              ]
                        },
                        {
                              "name": "stderr",
                              "output_type": "stream",
                              "text": [
                                    "\n"
                              ]
                        },
                        {
                              "name": "stdout",
                              "output_type": "stream",
                              "text": [
                                    "\n",
                                    "      Epoch    GPU_mem   box_loss   cls_loss   dfl_loss  Instances       Size\n"
                              ]
                        },
                        {
                              "name": "stderr",
                              "output_type": "stream",
                              "text": [
                                    "     50/500      65.7G      1.499      1.413      1.856        174        640: 100%|██████████| 67/67 [00:34<00:00,  1.95it/s]\n",
                                    "                 Class     Images  Instances      Box(P          R      mAP50  mAP50-95): 100%|██████████| 6/6 [00:02<00:00,  2.19it/s]"
                              ]
                        },
                        {
                              "name": "stdout",
                              "output_type": "stream",
                              "text": [
                                    "                   all       1181       2981      0.482      0.254      0.369      0.163\n"
                              ]
                        },
                        {
                              "name": "stderr",
                              "output_type": "stream",
                              "text": [
                                    "\n"
                              ]
                        },
                        {
                              "name": "stdout",
                              "output_type": "stream",
                              "text": [
                                    "\n",
                                    "      Epoch    GPU_mem   box_loss   cls_loss   dfl_loss  Instances       Size\n"
                              ]
                        },
                        {
                              "name": "stderr",
                              "output_type": "stream",
                              "text": [
                                    "     51/500      66.1G      1.487      1.401       1.84        171        640: 100%|██████████| 67/67 [00:34<00:00,  1.95it/s]\n",
                                    "                 Class     Images  Instances      Box(P          R      mAP50  mAP50-95): 100%|██████████| 6/6 [00:02<00:00,  2.15it/s]"
                              ]
                        },
                        {
                              "name": "stdout",
                              "output_type": "stream",
                              "text": [
                                    "                   all       1181       2981      0.476      0.296       0.36      0.187\n"
                              ]
                        },
                        {
                              "name": "stderr",
                              "output_type": "stream",
                              "text": [
                                    "\n"
                              ]
                        },
                        {
                              "name": "stdout",
                              "output_type": "stream",
                              "text": [
                                    "\n",
                                    "      Epoch    GPU_mem   box_loss   cls_loss   dfl_loss  Instances       Size\n"
                              ]
                        },
                        {
                              "name": "stderr",
                              "output_type": "stream",
                              "text": [
                                    "     52/500      65.7G       1.49       1.39      1.854        177        640: 100%|██████████| 67/67 [00:34<00:00,  1.95it/s]\n",
                                    "                 Class     Images  Instances      Box(P          R      mAP50  mAP50-95): 100%|██████████| 6/6 [00:02<00:00,  2.25it/s]"
                              ]
                        },
                        {
                              "name": "stdout",
                              "output_type": "stream",
                              "text": [
                                    "                   all       1181       2981       0.34      0.174      0.247      0.119\n"
                              ]
                        },
                        {
                              "name": "stderr",
                              "output_type": "stream",
                              "text": [
                                    "\n"
                              ]
                        },
                        {
                              "name": "stdout",
                              "output_type": "stream",
                              "text": [
                                    "\n",
                                    "      Epoch    GPU_mem   box_loss   cls_loss   dfl_loss  Instances       Size\n"
                              ]
                        },
                        {
                              "name": "stderr",
                              "output_type": "stream",
                              "text": [
                                    "     53/500      66.1G       1.48      1.378      1.833        172        640: 100%|██████████| 67/67 [00:35<00:00,  1.91it/s]\n",
                                    "                 Class     Images  Instances      Box(P          R      mAP50  mAP50-95): 100%|██████████| 6/6 [00:02<00:00,  2.30it/s]"
                              ]
                        },
                        {
                              "name": "stdout",
                              "output_type": "stream",
                              "text": [
                                    "                   all       1181       2981      0.564      0.232      0.383      0.196\n"
                              ]
                        },
                        {
                              "name": "stderr",
                              "output_type": "stream",
                              "text": [
                                    "\n"
                              ]
                        },
                        {
                              "name": "stdout",
                              "output_type": "stream",
                              "text": [
                                    "\n",
                                    "      Epoch    GPU_mem   box_loss   cls_loss   dfl_loss  Instances       Size\n"
                              ]
                        },
                        {
                              "name": "stderr",
                              "output_type": "stream",
                              "text": [
                                    "     54/500      65.7G      1.482      1.353      1.832        172        640: 100%|██████████| 67/67 [00:34<00:00,  1.96it/s]\n",
                                    "                 Class     Images  Instances      Box(P          R      mAP50  mAP50-95): 100%|██████████| 6/6 [00:02<00:00,  2.27it/s]"
                              ]
                        },
                        {
                              "name": "stdout",
                              "output_type": "stream",
                              "text": [
                                    "                   all       1181       2981      0.563      0.256      0.415      0.206\n"
                              ]
                        },
                        {
                              "name": "stderr",
                              "output_type": "stream",
                              "text": [
                                    "\n"
                              ]
                        },
                        {
                              "name": "stdout",
                              "output_type": "stream",
                              "text": [
                                    "\n",
                                    "      Epoch    GPU_mem   box_loss   cls_loss   dfl_loss  Instances       Size\n"
                              ]
                        },
                        {
                              "name": "stderr",
                              "output_type": "stream",
                              "text": [
                                    "     55/500      66.1G      1.478      1.367      1.837        174        640: 100%|██████████| 67/67 [00:34<00:00,  1.96it/s]\n",
                                    "                 Class     Images  Instances      Box(P          R      mAP50  mAP50-95): 100%|██████████| 6/6 [00:02<00:00,  2.18it/s]"
                              ]
                        },
                        {
                              "name": "stdout",
                              "output_type": "stream",
                              "text": [
                                    "                   all       1181       2981      0.664      0.304      0.475      0.234\n"
                              ]
                        },
                        {
                              "name": "stderr",
                              "output_type": "stream",
                              "text": [
                                    "\n"
                              ]
                        },
                        {
                              "name": "stdout",
                              "output_type": "stream",
                              "text": [
                                    "\n",
                                    "      Epoch    GPU_mem   box_loss   cls_loss   dfl_loss  Instances       Size\n"
                              ]
                        },
                        {
                              "name": "stderr",
                              "output_type": "stream",
                              "text": [
                                    "     56/500      65.7G      1.477      1.344      1.835        170        640: 100%|██████████| 67/67 [00:34<00:00,  1.96it/s]\n",
                                    "                 Class     Images  Instances      Box(P          R      mAP50  mAP50-95): 100%|██████████| 6/6 [00:02<00:00,  2.14it/s]"
                              ]
                        },
                        {
                              "name": "stdout",
                              "output_type": "stream",
                              "text": [
                                    "                   all       1181       2981      0.537      0.339      0.434       0.22\n"
                              ]
                        },
                        {
                              "name": "stderr",
                              "output_type": "stream",
                              "text": [
                                    "\n"
                              ]
                        },
                        {
                              "name": "stdout",
                              "output_type": "stream",
                              "text": [
                                    "\n",
                                    "      Epoch    GPU_mem   box_loss   cls_loss   dfl_loss  Instances       Size\n"
                              ]
                        },
                        {
                              "name": "stderr",
                              "output_type": "stream",
                              "text": [
                                    "     57/500      66.1G      1.472      1.323      1.835        169        640: 100%|██████████| 67/67 [00:34<00:00,  1.96it/s]\n",
                                    "                 Class     Images  Instances      Box(P          R      mAP50  mAP50-95): 100%|██████████| 6/6 [00:02<00:00,  2.16it/s]"
                              ]
                        },
                        {
                              "name": "stdout",
                              "output_type": "stream",
                              "text": [
                                    "                   all       1181       2981       0.58      0.337      0.445      0.212\n"
                              ]
                        },
                        {
                              "name": "stderr",
                              "output_type": "stream",
                              "text": [
                                    "\n"
                              ]
                        },
                        {
                              "name": "stdout",
                              "output_type": "stream",
                              "text": [
                                    "\n",
                                    "      Epoch    GPU_mem   box_loss   cls_loss   dfl_loss  Instances       Size\n"
                              ]
                        },
                        {
                              "name": "stderr",
                              "output_type": "stream",
                              "text": [
                                    "     58/500      65.7G      1.464      1.306      1.822        172        640: 100%|██████████| 67/67 [00:34<00:00,  1.96it/s]\n",
                                    "                 Class     Images  Instances      Box(P          R      mAP50  mAP50-95): 100%|██████████| 6/6 [00:02<00:00,  2.16it/s]"
                              ]
                        },
                        {
                              "name": "stdout",
                              "output_type": "stream",
                              "text": [
                                    "                   all       1181       2981      0.585      0.329      0.463      0.219\n"
                              ]
                        },
                        {
                              "name": "stderr",
                              "output_type": "stream",
                              "text": [
                                    "\n"
                              ]
                        },
                        {
                              "name": "stdout",
                              "output_type": "stream",
                              "text": [
                                    "\n",
                                    "      Epoch    GPU_mem   box_loss   cls_loss   dfl_loss  Instances       Size\n"
                              ]
                        },
                        {
                              "name": "stderr",
                              "output_type": "stream",
                              "text": [
                                    "     59/500        66G      1.467        1.3      1.829        171        640: 100%|██████████| 67/67 [00:34<00:00,  1.96it/s]\n",
                                    "                 Class     Images  Instances      Box(P          R      mAP50  mAP50-95): 100%|██████████| 6/6 [00:02<00:00,  2.15it/s]"
                              ]
                        },
                        {
                              "name": "stdout",
                              "output_type": "stream",
                              "text": [
                                    "                   all       1181       2981      0.579      0.379      0.479      0.232\n"
                              ]
                        },
                        {
                              "name": "stderr",
                              "output_type": "stream",
                              "text": [
                                    "\n"
                              ]
                        },
                        {
                              "name": "stdout",
                              "output_type": "stream",
                              "text": [
                                    "\n",
                                    "      Epoch    GPU_mem   box_loss   cls_loss   dfl_loss  Instances       Size\n"
                              ]
                        },
                        {
                              "name": "stderr",
                              "output_type": "stream",
                              "text": [
                                    "     60/500      65.7G      1.467      1.304      1.829        169        640: 100%|██████████| 67/67 [00:34<00:00,  1.95it/s]\n",
                                    "                 Class     Images  Instances      Box(P          R      mAP50  mAP50-95): 100%|██████████| 6/6 [00:02<00:00,  2.08it/s]"
                              ]
                        },
                        {
                              "name": "stdout",
                              "output_type": "stream",
                              "text": [
                                    "                   all       1181       2981       0.56      0.308      0.433      0.215\n"
                              ]
                        },
                        {
                              "name": "stderr",
                              "output_type": "stream",
                              "text": [
                                    "\n"
                              ]
                        },
                        {
                              "name": "stdout",
                              "output_type": "stream",
                              "text": [
                                    "\n",
                                    "      Epoch    GPU_mem   box_loss   cls_loss   dfl_loss  Instances       Size\n"
                              ]
                        },
                        {
                              "name": "stderr",
                              "output_type": "stream",
                              "text": [
                                    "     61/500      66.1G       1.46      1.267      1.813        176        640: 100%|██████████| 67/67 [00:34<00:00,  1.93it/s]\n",
                                    "                 Class     Images  Instances      Box(P          R      mAP50  mAP50-95): 100%|██████████| 6/6 [00:02<00:00,  2.13it/s]"
                              ]
                        },
                        {
                              "name": "stdout",
                              "output_type": "stream",
                              "text": [
                                    "                   all       1181       2981      0.668      0.325      0.496      0.266\n"
                              ]
                        },
                        {
                              "name": "stderr",
                              "output_type": "stream",
                              "text": [
                                    "\n"
                              ]
                        },
                        {
                              "name": "stdout",
                              "output_type": "stream",
                              "text": [
                                    "\n",
                                    "      Epoch    GPU_mem   box_loss   cls_loss   dfl_loss  Instances       Size\n"
                              ]
                        },
                        {
                              "name": "stderr",
                              "output_type": "stream",
                              "text": [
                                    "     62/500      65.7G      1.445      1.268      1.816        174        640: 100%|██████████| 67/67 [00:34<00:00,  1.92it/s]\n",
                                    "                 Class     Images  Instances      Box(P          R      mAP50  mAP50-95): 100%|██████████| 6/6 [00:02<00:00,  2.14it/s]"
                              ]
                        },
                        {
                              "name": "stdout",
                              "output_type": "stream",
                              "text": [
                                    "                   all       1181       2981      0.573      0.312      0.439      0.204\n"
                              ]
                        },
                        {
                              "name": "stderr",
                              "output_type": "stream",
                              "text": [
                                    "\n"
                              ]
                        },
                        {
                              "name": "stdout",
                              "output_type": "stream",
                              "text": [
                                    "\n",
                                    "      Epoch    GPU_mem   box_loss   cls_loss   dfl_loss  Instances       Size\n"
                              ]
                        },
                        {
                              "name": "stderr",
                              "output_type": "stream",
                              "text": [
                                    "     63/500      66.1G      1.438      1.251      1.812        171        640: 100%|██████████| 67/67 [00:35<00:00,  1.91it/s]\n",
                                    "                 Class     Images  Instances      Box(P          R      mAP50  mAP50-95): 100%|██████████| 6/6 [00:02<00:00,  2.19it/s]"
                              ]
                        },
                        {
                              "name": "stdout",
                              "output_type": "stream",
                              "text": [
                                    "                   all       1181       2981      0.509       0.24      0.369      0.174\n"
                              ]
                        },
                        {
                              "name": "stderr",
                              "output_type": "stream",
                              "text": [
                                    "\n"
                              ]
                        },
                        {
                              "name": "stdout",
                              "output_type": "stream",
                              "text": [
                                    "\n",
                                    "      Epoch    GPU_mem   box_loss   cls_loss   dfl_loss  Instances       Size\n"
                              ]
                        },
                        {
                              "name": "stderr",
                              "output_type": "stream",
                              "text": [
                                    "     64/500      65.7G      1.443      1.241      1.803        168        640: 100%|██████████| 67/67 [00:34<00:00,  1.95it/s]\n",
                                    "                 Class     Images  Instances      Box(P          R      mAP50  mAP50-95): 100%|██████████| 6/6 [00:02<00:00,  2.09it/s]"
                              ]
                        },
                        {
                              "name": "stdout",
                              "output_type": "stream",
                              "text": [
                                    "                   all       1181       2981      0.592       0.36      0.466      0.223\n"
                              ]
                        },
                        {
                              "name": "stderr",
                              "output_type": "stream",
                              "text": [
                                    "\n"
                              ]
                        },
                        {
                              "name": "stdout",
                              "output_type": "stream",
                              "text": [
                                    "\n",
                                    "      Epoch    GPU_mem   box_loss   cls_loss   dfl_loss  Instances       Size\n"
                              ]
                        },
                        {
                              "name": "stderr",
                              "output_type": "stream",
                              "text": [
                                    "     65/500      66.1G      1.433      1.226      1.797        173        640: 100%|██████████| 67/67 [00:34<00:00,  1.95it/s]\n",
                                    "                 Class     Images  Instances      Box(P          R      mAP50  mAP50-95): 100%|██████████| 6/6 [00:02<00:00,  2.10it/s]"
                              ]
                        },
                        {
                              "name": "stdout",
                              "output_type": "stream",
                              "text": [
                                    "                   all       1181       2981      0.586      0.321      0.449      0.225\n"
                              ]
                        },
                        {
                              "name": "stderr",
                              "output_type": "stream",
                              "text": [
                                    "\n"
                              ]
                        },
                        {
                              "name": "stdout",
                              "output_type": "stream",
                              "text": [
                                    "\n",
                                    "      Epoch    GPU_mem   box_loss   cls_loss   dfl_loss  Instances       Size\n"
                              ]
                        },
                        {
                              "name": "stderr",
                              "output_type": "stream",
                              "text": [
                                    "     66/500      65.7G      1.435      1.219      1.789        170        640: 100%|██████████| 67/67 [00:34<00:00,  1.95it/s]\n",
                                    "                 Class     Images  Instances      Box(P          R      mAP50  mAP50-95): 100%|██████████| 6/6 [00:02<00:00,  2.10it/s]"
                              ]
                        },
                        {
                              "name": "stdout",
                              "output_type": "stream",
                              "text": [
                                    "                   all       1181       2981       0.63      0.341       0.48      0.238\n"
                              ]
                        },
                        {
                              "name": "stderr",
                              "output_type": "stream",
                              "text": [
                                    "\n"
                              ]
                        },
                        {
                              "name": "stdout",
                              "output_type": "stream",
                              "text": [
                                    "\n",
                                    "      Epoch    GPU_mem   box_loss   cls_loss   dfl_loss  Instances       Size\n"
                              ]
                        },
                        {
                              "name": "stderr",
                              "output_type": "stream",
                              "text": [
                                    "     67/500      66.1G      1.426      1.204      1.792        176        640: 100%|██████████| 67/67 [00:34<00:00,  1.93it/s]\n",
                                    "                 Class     Images  Instances      Box(P          R      mAP50  mAP50-95): 100%|██████████| 6/6 [00:02<00:00,  2.26it/s]"
                              ]
                        },
                        {
                              "name": "stdout",
                              "output_type": "stream",
                              "text": [
                                    "                   all       1181       2981      0.649      0.285      0.464      0.237\n"
                              ]
                        },
                        {
                              "name": "stderr",
                              "output_type": "stream",
                              "text": [
                                    "\n"
                              ]
                        },
                        {
                              "name": "stdout",
                              "output_type": "stream",
                              "text": [
                                    "\n",
                                    "      Epoch    GPU_mem   box_loss   cls_loss   dfl_loss  Instances       Size\n"
                              ]
                        },
                        {
                              "name": "stderr",
                              "output_type": "stream",
                              "text": [
                                    "     68/500      65.7G      1.423      1.209      1.787        169        640: 100%|██████████| 67/67 [00:34<00:00,  1.97it/s]\n",
                                    "                 Class     Images  Instances      Box(P          R      mAP50  mAP50-95): 100%|██████████| 6/6 [00:02<00:00,  2.09it/s]"
                              ]
                        },
                        {
                              "name": "stdout",
                              "output_type": "stream",
                              "text": [
                                    "                   all       1181       2981      0.593      0.343      0.459       0.23\n"
                              ]
                        },
                        {
                              "name": "stderr",
                              "output_type": "stream",
                              "text": [
                                    "\n"
                              ]
                        },
                        {
                              "name": "stdout",
                              "output_type": "stream",
                              "text": [
                                    "\n",
                                    "      Epoch    GPU_mem   box_loss   cls_loss   dfl_loss  Instances       Size\n"
                              ]
                        },
                        {
                              "name": "stderr",
                              "output_type": "stream",
                              "text": [
                                    "     69/500      66.1G      1.416      1.201      1.783        174        640: 100%|██████████| 67/67 [00:34<00:00,  1.95it/s]\n",
                                    "                 Class     Images  Instances      Box(P          R      mAP50  mAP50-95): 100%|██████████| 6/6 [00:02<00:00,  2.06it/s]"
                              ]
                        },
                        {
                              "name": "stdout",
                              "output_type": "stream",
                              "text": [
                                    "                   all       1181       2981      0.587      0.375      0.479      0.219\n"
                              ]
                        },
                        {
                              "name": "stderr",
                              "output_type": "stream",
                              "text": [
                                    "\n"
                              ]
                        },
                        {
                              "name": "stdout",
                              "output_type": "stream",
                              "text": [
                                    "\n",
                                    "      Epoch    GPU_mem   box_loss   cls_loss   dfl_loss  Instances       Size\n"
                              ]
                        },
                        {
                              "name": "stderr",
                              "output_type": "stream",
                              "text": [
                                    "     70/500      65.7G      1.415      1.181      1.784        171        640: 100%|██████████| 67/67 [00:34<00:00,  1.91it/s]\n",
                                    "                 Class     Images  Instances      Box(P          R      mAP50  mAP50-95): 100%|██████████| 6/6 [00:02<00:00,  2.20it/s]"
                              ]
                        },
                        {
                              "name": "stdout",
                              "output_type": "stream",
                              "text": [
                                    "                   all       1181       2981      0.504      0.221      0.366      0.189\n"
                              ]
                        },
                        {
                              "name": "stderr",
                              "output_type": "stream",
                              "text": [
                                    "\n"
                              ]
                        },
                        {
                              "name": "stdout",
                              "output_type": "stream",
                              "text": [
                                    "\n",
                                    "      Epoch    GPU_mem   box_loss   cls_loss   dfl_loss  Instances       Size\n"
                              ]
                        },
                        {
                              "name": "stderr",
                              "output_type": "stream",
                              "text": [
                                    "     71/500      66.1G       1.41      1.162      1.776        169        640: 100%|██████████| 67/67 [00:34<00:00,  1.95it/s]\n",
                                    "                 Class     Images  Instances      Box(P          R      mAP50  mAP50-95): 100%|██████████| 6/6 [00:02<00:00,  2.13it/s]"
                              ]
                        },
                        {
                              "name": "stdout",
                              "output_type": "stream",
                              "text": [
                                    "                   all       1181       2981      0.653      0.329      0.489      0.257\n"
                              ]
                        },
                        {
                              "name": "stderr",
                              "output_type": "stream",
                              "text": [
                                    "\n"
                              ]
                        },
                        {
                              "name": "stdout",
                              "output_type": "stream",
                              "text": [
                                    "\n",
                                    "      Epoch    GPU_mem   box_loss   cls_loss   dfl_loss  Instances       Size\n"
                              ]
                        },
                        {
                              "name": "stderr",
                              "output_type": "stream",
                              "text": [
                                    "     72/500      65.7G      1.404      1.156      1.767        169        640: 100%|██████████| 67/67 [00:34<00:00,  1.95it/s]\n",
                                    "                 Class     Images  Instances      Box(P          R      mAP50  mAP50-95): 100%|██████████| 6/6 [00:02<00:00,  2.14it/s]"
                              ]
                        },
                        {
                              "name": "stdout",
                              "output_type": "stream",
                              "text": [
                                    "                   all       1181       2981      0.566        0.3      0.434       0.23\n"
                              ]
                        },
                        {
                              "name": "stderr",
                              "output_type": "stream",
                              "text": [
                                    "\n"
                              ]
                        },
                        {
                              "name": "stdout",
                              "output_type": "stream",
                              "text": [
                                    "\n",
                                    "      Epoch    GPU_mem   box_loss   cls_loss   dfl_loss  Instances       Size\n"
                              ]
                        },
                        {
                              "name": "stderr",
                              "output_type": "stream",
                              "text": [
                                    "     73/500      66.1G      1.402      1.146      1.767        173        640: 100%|██████████| 67/67 [00:34<00:00,  1.95it/s]\n",
                                    "                 Class     Images  Instances      Box(P          R      mAP50  mAP50-95): 100%|██████████| 6/6 [00:02<00:00,  2.12it/s]"
                              ]
                        },
                        {
                              "name": "stdout",
                              "output_type": "stream",
                              "text": [
                                    "                   all       1181       2981      0.626      0.381       0.51      0.244\n"
                              ]
                        },
                        {
                              "name": "stderr",
                              "output_type": "stream",
                              "text": [
                                    "\n"
                              ]
                        },
                        {
                              "name": "stdout",
                              "output_type": "stream",
                              "text": [
                                    "\n",
                                    "      Epoch    GPU_mem   box_loss   cls_loss   dfl_loss  Instances       Size\n"
                              ]
                        },
                        {
                              "name": "stderr",
                              "output_type": "stream",
                              "text": [
                                    "     74/500      65.7G      1.395      1.135      1.768        176        640: 100%|██████████| 67/67 [00:34<00:00,  1.95it/s]\n",
                                    "                 Class     Images  Instances      Box(P          R      mAP50  mAP50-95): 100%|██████████| 6/6 [00:03<00:00,  1.85it/s]"
                              ]
                        },
                        {
                              "name": "stdout",
                              "output_type": "stream",
                              "text": [
                                    "                   all       1181       2981       0.62      0.379      0.499      0.235\n"
                              ]
                        },
                        {
                              "name": "stderr",
                              "output_type": "stream",
                              "text": [
                                    "\n"
                              ]
                        },
                        {
                              "name": "stdout",
                              "output_type": "stream",
                              "text": [
                                    "\n",
                                    "      Epoch    GPU_mem   box_loss   cls_loss   dfl_loss  Instances       Size\n"
                              ]
                        },
                        {
                              "name": "stderr",
                              "output_type": "stream",
                              "text": [
                                    "     75/500        66G      1.377      1.113      1.757        176        640: 100%|██████████| 67/67 [00:34<00:00,  1.95it/s]\n",
                                    "                 Class     Images  Instances      Box(P          R      mAP50  mAP50-95): 100%|██████████| 6/6 [00:02<00:00,  2.08it/s]"
                              ]
                        },
                        {
                              "name": "stdout",
                              "output_type": "stream",
                              "text": [
                                    "                   all       1181       2981      0.585      0.414      0.493      0.238\n"
                              ]
                        },
                        {
                              "name": "stderr",
                              "output_type": "stream",
                              "text": [
                                    "\n"
                              ]
                        },
                        {
                              "name": "stdout",
                              "output_type": "stream",
                              "text": [
                                    "\n",
                                    "      Epoch    GPU_mem   box_loss   cls_loss   dfl_loss  Instances       Size\n"
                              ]
                        },
                        {
                              "name": "stderr",
                              "output_type": "stream",
                              "text": [
                                    "     76/500      65.7G      1.389      1.116      1.756        171        640: 100%|██████████| 67/67 [00:34<00:00,  1.96it/s]\n",
                                    "                 Class     Images  Instances      Box(P          R      mAP50  mAP50-95): 100%|██████████| 6/6 [00:02<00:00,  2.09it/s]"
                              ]
                        },
                        {
                              "name": "stdout",
                              "output_type": "stream",
                              "text": [
                                    "                   all       1181       2981      0.589       0.44      0.511      0.243\n"
                              ]
                        },
                        {
                              "name": "stderr",
                              "output_type": "stream",
                              "text": [
                                    "\n"
                              ]
                        },
                        {
                              "name": "stdout",
                              "output_type": "stream",
                              "text": [
                                    "\n",
                                    "      Epoch    GPU_mem   box_loss   cls_loss   dfl_loss  Instances       Size\n"
                              ]
                        },
                        {
                              "name": "stderr",
                              "output_type": "stream",
                              "text": [
                                    "     77/500      66.1G      1.383      1.093      1.752        169        640: 100%|██████████| 67/67 [00:34<00:00,  1.95it/s]\n",
                                    "                 Class     Images  Instances      Box(P          R      mAP50  mAP50-95): 100%|██████████| 6/6 [00:02<00:00,  2.10it/s]"
                              ]
                        },
                        {
                              "name": "stdout",
                              "output_type": "stream",
                              "text": [
                                    "                   all       1181       2981      0.584      0.395       0.48      0.221\n"
                              ]
                        },
                        {
                              "name": "stderr",
                              "output_type": "stream",
                              "text": [
                                    "\n"
                              ]
                        },
                        {
                              "name": "stdout",
                              "output_type": "stream",
                              "text": [
                                    "\n",
                                    "      Epoch    GPU_mem   box_loss   cls_loss   dfl_loss  Instances       Size\n"
                              ]
                        },
                        {
                              "name": "stderr",
                              "output_type": "stream",
                              "text": [
                                    "     78/500      65.6G      1.371      1.094      1.741        170        640: 100%|██████████| 67/67 [00:34<00:00,  1.93it/s]\n",
                                    "                 Class     Images  Instances      Box(P          R      mAP50  mAP50-95): 100%|██████████| 6/6 [00:02<00:00,  2.07it/s]"
                              ]
                        },
                        {
                              "name": "stdout",
                              "output_type": "stream",
                              "text": [
                                    "                   all       1181       2981      0.518      0.376       0.44      0.213\n"
                              ]
                        },
                        {
                              "name": "stderr",
                              "output_type": "stream",
                              "text": [
                                    "\n"
                              ]
                        },
                        {
                              "name": "stdout",
                              "output_type": "stream",
                              "text": [
                                    "\n",
                                    "      Epoch    GPU_mem   box_loss   cls_loss   dfl_loss  Instances       Size\n"
                              ]
                        },
                        {
                              "name": "stderr",
                              "output_type": "stream",
                              "text": [
                                    "     79/500      66.1G       1.37      1.079      1.737        175        640: 100%|██████████| 67/67 [00:34<00:00,  1.95it/s]\n",
                                    "                 Class     Images  Instances      Box(P          R      mAP50  mAP50-95): 100%|██████████| 6/6 [00:02<00:00,  2.08it/s]"
                              ]
                        },
                        {
                              "name": "stdout",
                              "output_type": "stream",
                              "text": [
                                    "                   all       1181       2981       0.56      0.411      0.482      0.215\n"
                              ]
                        },
                        {
                              "name": "stderr",
                              "output_type": "stream",
                              "text": [
                                    "\n"
                              ]
                        },
                        {
                              "name": "stdout",
                              "output_type": "stream",
                              "text": [
                                    "\n",
                                    "      Epoch    GPU_mem   box_loss   cls_loss   dfl_loss  Instances       Size\n"
                              ]
                        },
                        {
                              "name": "stderr",
                              "output_type": "stream",
                              "text": [
                                    "     80/500      65.7G      1.374      1.061       1.75        166        640: 100%|██████████| 67/67 [00:34<00:00,  1.96it/s]\n",
                                    "                 Class     Images  Instances      Box(P          R      mAP50  mAP50-95): 100%|██████████| 6/6 [00:02<00:00,  2.07it/s]"
                              ]
                        },
                        {
                              "name": "stdout",
                              "output_type": "stream",
                              "text": [
                                    "                   all       1181       2981        0.6      0.423      0.508      0.256\n"
                              ]
                        },
                        {
                              "name": "stderr",
                              "output_type": "stream",
                              "text": [
                                    "\n"
                              ]
                        },
                        {
                              "name": "stdout",
                              "output_type": "stream",
                              "text": [
                                    "\n",
                                    "      Epoch    GPU_mem   box_loss   cls_loss   dfl_loss  Instances       Size\n"
                              ]
                        },
                        {
                              "name": "stderr",
                              "output_type": "stream",
                              "text": [
                                    "     81/500      66.1G      1.361      1.059      1.735        174        640: 100%|██████████| 67/67 [00:34<00:00,  1.95it/s]\n",
                                    "                 Class     Images  Instances      Box(P          R      mAP50  mAP50-95): 100%|██████████| 6/6 [00:02<00:00,  2.08it/s]"
                              ]
                        },
                        {
                              "name": "stdout",
                              "output_type": "stream",
                              "text": [
                                    "                   all       1181       2981      0.631      0.421       0.52      0.256\n"
                              ]
                        },
                        {
                              "name": "stderr",
                              "output_type": "stream",
                              "text": [
                                    "\n"
                              ]
                        },
                        {
                              "name": "stdout",
                              "output_type": "stream",
                              "text": [
                                    "\n",
                                    "      Epoch    GPU_mem   box_loss   cls_loss   dfl_loss  Instances       Size\n"
                              ]
                        },
                        {
                              "name": "stderr",
                              "output_type": "stream",
                              "text": [
                                    "     82/500      65.7G      1.359      1.051      1.731        167        640: 100%|██████████| 67/67 [00:34<00:00,  1.95it/s]\n",
                                    "                 Class     Images  Instances      Box(P          R      mAP50  mAP50-95): 100%|██████████| 6/6 [00:02<00:00,  2.12it/s]"
                              ]
                        },
                        {
                              "name": "stdout",
                              "output_type": "stream",
                              "text": [
                                    "                   all       1181       2981      0.543       0.37      0.463      0.227\n"
                              ]
                        },
                        {
                              "name": "stderr",
                              "output_type": "stream",
                              "text": [
                                    "\n"
                              ]
                        },
                        {
                              "name": "stdout",
                              "output_type": "stream",
                              "text": [
                                    "\n",
                                    "      Epoch    GPU_mem   box_loss   cls_loss   dfl_loss  Instances       Size\n"
                              ]
                        },
                        {
                              "name": "stderr",
                              "output_type": "stream",
                              "text": [
                                    "     83/500      66.1G      1.355      1.037      1.723        172        640: 100%|██████████| 67/67 [00:34<00:00,  1.95it/s]\n",
                                    "                 Class     Images  Instances      Box(P          R      mAP50  mAP50-95): 100%|██████████| 6/6 [00:02<00:00,  2.07it/s]"
                              ]
                        },
                        {
                              "name": "stdout",
                              "output_type": "stream",
                              "text": [
                                    "                   all       1181       2981      0.526      0.414      0.476      0.217\n"
                              ]
                        },
                        {
                              "name": "stderr",
                              "output_type": "stream",
                              "text": [
                                    "\n"
                              ]
                        },
                        {
                              "name": "stdout",
                              "output_type": "stream",
                              "text": [
                                    "\n",
                                    "      Epoch    GPU_mem   box_loss   cls_loss   dfl_loss  Instances       Size\n"
                              ]
                        },
                        {
                              "name": "stderr",
                              "output_type": "stream",
                              "text": [
                                    "     84/500      65.7G      1.342      1.027      1.723        172        640: 100%|██████████| 67/67 [00:34<00:00,  1.96it/s]\n",
                                    "                 Class     Images  Instances      Box(P          R      mAP50  mAP50-95): 100%|██████████| 6/6 [00:02<00:00,  2.06it/s]"
                              ]
                        },
                        {
                              "name": "stdout",
                              "output_type": "stream",
                              "text": [
                                    "                   all       1181       2981      0.572      0.441      0.505       0.25\n"
                              ]
                        },
                        {
                              "name": "stderr",
                              "output_type": "stream",
                              "text": [
                                    "\n"
                              ]
                        },
                        {
                              "name": "stdout",
                              "output_type": "stream",
                              "text": [
                                    "\n",
                                    "      Epoch    GPU_mem   box_loss   cls_loss   dfl_loss  Instances       Size\n"
                              ]
                        },
                        {
                              "name": "stderr",
                              "output_type": "stream",
                              "text": [
                                    "     85/500        66G      1.341      1.029      1.719        172        640: 100%|██████████| 67/67 [00:34<00:00,  1.96it/s]\n",
                                    "                 Class     Images  Instances      Box(P          R      mAP50  mAP50-95): 100%|██████████| 6/6 [00:02<00:00,  2.08it/s]"
                              ]
                        },
                        {
                              "name": "stdout",
                              "output_type": "stream",
                              "text": [
                                    "                   all       1181       2981      0.542      0.431       0.49      0.227\n"
                              ]
                        },
                        {
                              "name": "stderr",
                              "output_type": "stream",
                              "text": [
                                    "\n"
                              ]
                        },
                        {
                              "name": "stdout",
                              "output_type": "stream",
                              "text": [
                                    "\n",
                                    "      Epoch    GPU_mem   box_loss   cls_loss   dfl_loss  Instances       Size\n"
                              ]
                        },
                        {
                              "name": "stderr",
                              "output_type": "stream",
                              "text": [
                                    "     86/500      65.7G      1.336      1.011       1.72        173        640: 100%|██████████| 67/67 [00:34<00:00,  1.96it/s]\n",
                                    "                 Class     Images  Instances      Box(P          R      mAP50  mAP50-95): 100%|██████████| 6/6 [00:02<00:00,  2.15it/s]"
                              ]
                        },
                        {
                              "name": "stdout",
                              "output_type": "stream",
                              "text": [
                                    "                   all       1181       2981      0.481       0.38      0.432      0.198\n"
                              ]
                        },
                        {
                              "name": "stderr",
                              "output_type": "stream",
                              "text": [
                                    "\n"
                              ]
                        },
                        {
                              "name": "stdout",
                              "output_type": "stream",
                              "text": [
                                    "\n",
                                    "      Epoch    GPU_mem   box_loss   cls_loss   dfl_loss  Instances       Size\n"
                              ]
                        },
                        {
                              "name": "stderr",
                              "output_type": "stream",
                              "text": [
                                    "     87/500      66.1G      1.337     0.9958      1.709        171        640: 100%|██████████| 67/67 [00:34<00:00,  1.96it/s]\n",
                                    "                 Class     Images  Instances      Box(P          R      mAP50  mAP50-95): 100%|██████████| 6/6 [00:02<00:00,  2.07it/s]"
                              ]
                        },
                        {
                              "name": "stdout",
                              "output_type": "stream",
                              "text": [
                                    "                   all       1181       2981      0.527      0.448      0.485      0.223\n"
                              ]
                        },
                        {
                              "name": "stderr",
                              "output_type": "stream",
                              "text": [
                                    "\n"
                              ]
                        },
                        {
                              "name": "stdout",
                              "output_type": "stream",
                              "text": [
                                    "\n",
                                    "      Epoch    GPU_mem   box_loss   cls_loss   dfl_loss  Instances       Size\n"
                              ]
                        },
                        {
                              "name": "stderr",
                              "output_type": "stream",
                              "text": [
                                    "     88/500      65.7G      1.332     0.9823      1.701        175        640: 100%|██████████| 67/67 [00:34<00:00,  1.95it/s]\n",
                                    "                 Class     Images  Instances      Box(P          R      mAP50  mAP50-95): 100%|██████████| 6/6 [00:02<00:00,  2.07it/s]"
                              ]
                        },
                        {
                              "name": "stdout",
                              "output_type": "stream",
                              "text": [
                                    "                   all       1181       2981      0.562      0.438      0.493      0.243\n"
                              ]
                        },
                        {
                              "name": "stderr",
                              "output_type": "stream",
                              "text": [
                                    "\n"
                              ]
                        },
                        {
                              "name": "stdout",
                              "output_type": "stream",
                              "text": [
                                    "\n",
                                    "      Epoch    GPU_mem   box_loss   cls_loss   dfl_loss  Instances       Size\n"
                              ]
                        },
                        {
                              "name": "stderr",
                              "output_type": "stream",
                              "text": [
                                    "     89/500      66.1G      1.333      0.983      1.703        178        640: 100%|██████████| 67/67 [00:34<00:00,  1.96it/s]\n",
                                    "                 Class     Images  Instances      Box(P          R      mAP50  mAP50-95): 100%|██████████| 6/6 [00:02<00:00,  2.07it/s]"
                              ]
                        },
                        {
                              "name": "stdout",
                              "output_type": "stream",
                              "text": [
                                    "                   all       1181       2981      0.579      0.456       0.51      0.228\n"
                              ]
                        },
                        {
                              "name": "stderr",
                              "output_type": "stream",
                              "text": [
                                    "\n"
                              ]
                        },
                        {
                              "name": "stdout",
                              "output_type": "stream",
                              "text": [
                                    "\n",
                                    "      Epoch    GPU_mem   box_loss   cls_loss   dfl_loss  Instances       Size\n"
                              ]
                        },
                        {
                              "name": "stderr",
                              "output_type": "stream",
                              "text": [
                                    "     90/500      65.7G       1.32     0.9738      1.702        173        640: 100%|██████████| 67/67 [00:34<00:00,  1.95it/s]\n",
                                    "                 Class     Images  Instances      Box(P          R      mAP50  mAP50-95): 100%|██████████| 6/6 [00:02<00:00,  2.07it/s]"
                              ]
                        },
                        {
                              "name": "stdout",
                              "output_type": "stream",
                              "text": [
                                    "                   all       1181       2981      0.602      0.459      0.531      0.238\n"
                              ]
                        },
                        {
                              "name": "stderr",
                              "output_type": "stream",
                              "text": [
                                    "\n"
                              ]
                        },
                        {
                              "name": "stdout",
                              "output_type": "stream",
                              "text": [
                                    "\n",
                                    "      Epoch    GPU_mem   box_loss   cls_loss   dfl_loss  Instances       Size\n"
                              ]
                        },
                        {
                              "name": "stderr",
                              "output_type": "stream",
                              "text": [
                                    "     91/500      66.1G      1.326     0.9874      1.701        171        640: 100%|██████████| 67/67 [00:34<00:00,  1.95it/s]\n",
                                    "                 Class     Images  Instances      Box(P          R      mAP50  mAP50-95): 100%|██████████| 6/6 [00:02<00:00,  2.08it/s]"
                              ]
                        },
                        {
                              "name": "stdout",
                              "output_type": "stream",
                              "text": [
                                    "                   all       1181       2981      0.538      0.462      0.494      0.234\n",
                                    "\u001b[34m\u001b[1mEarlyStopping: \u001b[0mTraining stopped early as no improvement observed in last 30 epochs. Best results observed at epoch 61, best model saved as best.pt.\n",
                                    "To update EarlyStopping(patience=30) pass a new patience value, i.e. `patience=300` or use `patience=0` to disable EarlyStopping.\n"
                              ]
                        },
                        {
                              "name": "stderr",
                              "output_type": "stream",
                              "text": [
                                    "\n"
                              ]
                        },
                        {
                              "name": "stdout",
                              "output_type": "stream",
                              "text": [
                                    "\n",
                                    "91 epochs completed in 0.969 hours.\n",
                                    "Optimizer stripped from DL504/train52/weights/last.pt, 51.2MB\n",
                                    "Optimizer stripped from DL504/train52/weights/best.pt, 51.2MB\n",
                                    "\n",
                                    "Validating DL504/train52/weights/best.pt...\n",
                                    "Ultralytics 8.3.72 🚀 Python-3.11.10 torch-2.6.0+cu124 CUDA:0 (NVIDIA H100 80GB HBM3, 81110MiB)\n",
                                    "YOLO11l summary (fused): 464 layers, 25,287,793 parameters, 0 gradients, 86.6 GFLOPs\n"
                              ]
                        },
                        {
                              "name": "stderr",
                              "output_type": "stream",
                              "text": [
                                    "                 Class     Images  Instances      Box(P          R      mAP50  mAP50-95): 100%|██████████| 6/6 [00:04<00:00,  1.48it/s]\n"
                              ]
                        },
                        {
                              "name": "stdout",
                              "output_type": "stream",
                              "text": [
                                    "                   all       1181       2981      0.669      0.325      0.496      0.266\n",
                                    "              GRAFFITI         90        174        0.8      0.299      0.545      0.284\n",
                                    "         FADED_SIGNAGE         10         11      0.444      0.364      0.399      0.184\n",
                                    "              POTHOLES        168        373      0.466       0.22      0.336      0.149\n",
                                    "               GARBAGE        573       1315      0.695      0.215      0.438      0.198\n",
                                    "     CONSTRUCTION_ROAD        164        421      0.707      0.648      0.695      0.302\n",
                                    "        BROKEN_SIGNAGE         10         14          1     0.0714      0.536      0.482\n",
                                    "         BAD_BILLBOARD        146        225       0.61      0.418      0.528        0.3\n",
                                    "          SAND_ON_ROAD         77        112      0.489      0.196      0.326      0.165\n",
                                    "      CLUTTER_SIDEWALK        163        316      0.642      0.573      0.603        0.3\n",
                                    "         UNKEPT_FACADE         10         20      0.833       0.25      0.553      0.294\n",
                                    "Speed: 0.0ms preprocess, 1.1ms inference, 0.0ms loss, 0.6ms postprocess per image\n",
                                    "Results saved to \u001b[1mDL504/train52\u001b[0m\n"
                              ]
                        },
                        {
                              "name": "stderr",
                              "output_type": "stream",
                              "text": [
                                    "\u001b[1;38;5;39mCOMET INFO:\u001b[0m ---------------------------------------------------------------------------------------\n",
                                    "\u001b[1;38;5;39mCOMET INFO:\u001b[0m Comet.ml OfflineExperiment Summary\n",
                                    "\u001b[1;38;5;39mCOMET INFO:\u001b[0m ---------------------------------------------------------------------------------------\n",
                                    "\u001b[1;38;5;39mCOMET INFO:\u001b[0m   Data:\n",
                                    "\u001b[1;38;5;39mCOMET INFO:\u001b[0m     display_summary_level : 1\n",
                                    "\u001b[1;38;5;39mCOMET INFO:\u001b[0m     name                  : Urban-Eye-improved-synth\n",
                                    "\u001b[1;38;5;39mCOMET INFO:\u001b[0m     url                   : [OfflineExperiment will get URL after upload]\n",
                                    "\u001b[1;38;5;39mCOMET INFO:\u001b[0m   Metrics [count] (min, max):\n",
                                    "\u001b[1;38;5;39mCOMET INFO:\u001b[0m     lr/pg0 [92]               : (0.0032835820895522386, 0.009999120644285004)\n",
                                    "\u001b[1;38;5;39mCOMET INFO:\u001b[0m     lr/pg1 [92]               : (0.0032835820895522386, 0.009999120644285004)\n",
                                    "\u001b[1;38;5;39mCOMET INFO:\u001b[0m     lr/pg2 [92]               : (0.0032835820895522386, 0.009999120644285004)\n",
                                    "\u001b[1;38;5;39mCOMET INFO:\u001b[0m     metrics/mAP50(B) [92]     : (1e-05, 0.53071)\n",
                                    "\u001b[1;38;5;39mCOMET INFO:\u001b[0m     metrics/mAP50-95(B) [92]  : (0.0, 0.2658418176767533)\n",
                                    "\u001b[1;38;5;39mCOMET INFO:\u001b[0m     metrics/precision(B) [92] : (7e-05, 0.6687394920938632)\n",
                                    "\u001b[1;38;5;39mCOMET INFO:\u001b[0m     metrics/recall(B) [92]    : (0.005, 0.46197)\n",
                                    "\u001b[1;38;5;39mCOMET INFO:\u001b[0m     model/GFLOPs              : 87.317\n",
                                    "\u001b[1;38;5;39mCOMET INFO:\u001b[0m     model/parameters          : 25318961\n",
                                    "\u001b[1;38;5;39mCOMET INFO:\u001b[0m     model/speed_PyTorch(ms)   : 1.139\n",
                                    "\u001b[1;38;5;39mCOMET INFO:\u001b[0m     train/box_loss [91]       : (1.31961, 2.37038)\n",
                                    "\u001b[1;38;5;39mCOMET INFO:\u001b[0m     train/cls_loss [91]       : (0.97376, 4.50274)\n",
                                    "\u001b[1;38;5;39mCOMET INFO:\u001b[0m     train/dfl_loss [91]       : (1.70079, 2.63813)\n",
                                    "\u001b[1;38;5;39mCOMET INFO:\u001b[0m     val/box_loss [91]         : (2.00324, 3.58034)\n",
                                    "\u001b[1;38;5;39mCOMET INFO:\u001b[0m     val/cls_loss [91]         : (1.75352, inf)\n",
                                    "\u001b[1;38;5;39mCOMET INFO:\u001b[0m     val/dfl_loss [91]         : (2.39891, 6.60415)\n",
                                    "\u001b[1;38;5;39mCOMET INFO:\u001b[0m   Others:\n",
                                    "\u001b[1;38;5;39mCOMET INFO:\u001b[0m     Created from                 : ultralytics\n",
                                    "\u001b[1;38;5;39mCOMET INFO:\u001b[0m     Name                         : Urban-Eye-improved-synth\n",
                                    "\u001b[1;38;5;39mCOMET INFO:\u001b[0m     eval_batch_logging_interval  : 1\n",
                                    "\u001b[1;38;5;39mCOMET INFO:\u001b[0m     log_confusion_matrix_on_eval : False\n",
                                    "\u001b[1;38;5;39mCOMET INFO:\u001b[0m     log_image_predictions        : True\n",
                                    "\u001b[1;38;5;39mCOMET INFO:\u001b[0m     max_image_predictions        : 100\n",
                                    "\u001b[1;38;5;39mCOMET INFO:\u001b[0m     offline_experiment           : True\n",
                                    "\u001b[1;38;5;39mCOMET INFO:\u001b[0m   Parameters:\n",
                                    "\u001b[1;38;5;39mCOMET INFO:\u001b[0m     agnostic_nms    : False\n",
                                    "\u001b[1;38;5;39mCOMET INFO:\u001b[0m     amp             : True\n",
                                    "\u001b[1;38;5;39mCOMET INFO:\u001b[0m     augment         : False\n",
                                    "\u001b[1;38;5;39mCOMET INFO:\u001b[0m     auto_augment    : randaugment\n",
                                    "\u001b[1;38;5;39mCOMET INFO:\u001b[0m     batch           : 100\n",
                                    "\u001b[1;38;5;39mCOMET INFO:\u001b[0m     bgr             : 0.0\n",
                                    "\u001b[1;38;5;39mCOMET INFO:\u001b[0m     box             : 7.5\n",
                                    "\u001b[1;38;5;39mCOMET INFO:\u001b[0m     cache           : disk\n",
                                    "\u001b[1;38;5;39mCOMET INFO:\u001b[0m     cfg             : cfg/urbanyet-settings.yaml\n",
                                    "\u001b[1;38;5;39mCOMET INFO:\u001b[0m     classes         : None\n",
                                    "\u001b[1;38;5;39mCOMET INFO:\u001b[0m     close_mosaic    : 10\n",
                                    "\u001b[1;38;5;39mCOMET INFO:\u001b[0m     cls             : 0.5\n",
                                    "\u001b[1;38;5;39mCOMET INFO:\u001b[0m     conf            : 0.25\n",
                                    "\u001b[1;38;5;39mCOMET INFO:\u001b[0m     copy_paste      : 0.1\n",
                                    "\u001b[1;38;5;39mCOMET INFO:\u001b[0m     copy_paste_mode : flip\n",
                                    "\u001b[1;38;5;39mCOMET INFO:\u001b[0m     cos_lr          : True\n",
                                    "\u001b[1;38;5;39mCOMET INFO:\u001b[0m     crop_fraction   : 1.0\n",
                                    "\u001b[1;38;5;39mCOMET INFO:\u001b[0m     data            : /workspace/Smart-Surveillance-for-Cleaner-Cityscapes/ultralytics/cfg/datasets/urbanEye-synth-no_clsw.yaml\n",
                                    "\u001b[1;38;5;39mCOMET INFO:\u001b[0m     degrees         : 0.0\n",
                                    "\u001b[1;38;5;39mCOMET INFO:\u001b[0m     deterministic   : True\n",
                                    "\u001b[1;38;5;39mCOMET INFO:\u001b[0m     device          : 0\n",
                                    "\u001b[1;38;5;39mCOMET INFO:\u001b[0m     dfl             : 1.5\n",
                                    "\u001b[1;38;5;39mCOMET INFO:\u001b[0m     dnn             : False\n",
                                    "\u001b[1;38;5;39mCOMET INFO:\u001b[0m     dropout         : 0.0\n",
                                    "\u001b[1;38;5;39mCOMET INFO:\u001b[0m     dynamic         : False\n",
                                    "\u001b[1;38;5;39mCOMET INFO:\u001b[0m     embed           : None\n",
                                    "\u001b[1;38;5;39mCOMET INFO:\u001b[0m     epochs          : 500\n",
                                    "\u001b[1;38;5;39mCOMET INFO:\u001b[0m     erasing         : 0.4\n",
                                    "\u001b[1;38;5;39mCOMET INFO:\u001b[0m     exist_ok        : False\n",
                                    "\u001b[1;38;5;39mCOMET INFO:\u001b[0m     fliplr          : 0.5\n",
                                    "\u001b[1;38;5;39mCOMET INFO:\u001b[0m     flipud          : 0.0\n",
                                    "\u001b[1;38;5;39mCOMET INFO:\u001b[0m     format          : torchscript\n",
                                    "\u001b[1;38;5;39mCOMET INFO:\u001b[0m     fraction        : 1.0\n",
                                    "\u001b[1;38;5;39mCOMET INFO:\u001b[0m     freeze          : None\n",
                                    "\u001b[1;38;5;39mCOMET INFO:\u001b[0m     half            : False\n",
                                    "\u001b[1;38;5;39mCOMET INFO:\u001b[0m     hsv_h           : 0.015\n",
                                    "\u001b[1;38;5;39mCOMET INFO:\u001b[0m     hsv_s           : 0.7\n",
                                    "\u001b[1;38;5;39mCOMET INFO:\u001b[0m     hsv_v           : 0.4\n",
                                    "\u001b[1;38;5;39mCOMET INFO:\u001b[0m     imgsz           : 640\n",
                                    "\u001b[1;38;5;39mCOMET INFO:\u001b[0m     int8            : False\n",
                                    "\u001b[1;38;5;39mCOMET INFO:\u001b[0m     iou             : 0.65\n",
                                    "\u001b[1;38;5;39mCOMET INFO:\u001b[0m     keras           : False\n",
                                    "\u001b[1;38;5;39mCOMET INFO:\u001b[0m     kobj            : 1.0\n",
                                    "\u001b[1;38;5;39mCOMET INFO:\u001b[0m     line_width      : None\n",
                                    "\u001b[1;38;5;39mCOMET INFO:\u001b[0m     lr0             : 0.001\n",
                                    "\u001b[1;38;5;39mCOMET INFO:\u001b[0m     lrf             : 0.01\n",
                                    "\u001b[1;38;5;39mCOMET INFO:\u001b[0m     mask_ratio      : 4\n",
                                    "\u001b[1;38;5;39mCOMET INFO:\u001b[0m     max_det         : 300\n",
                                    "\u001b[1;38;5;39mCOMET INFO:\u001b[0m     mixup           : 0.05\n",
                                    "\u001b[1;38;5;39mCOMET INFO:\u001b[0m     mode            : train\n",
                                    "\u001b[1;38;5;39mCOMET INFO:\u001b[0m     model           : yolo11l.pt\n",
                                    "\u001b[1;38;5;39mCOMET INFO:\u001b[0m     momentum        : 0.937\n",
                                    "\u001b[1;38;5;39mCOMET INFO:\u001b[0m     mosaic          : 1.0\n",
                                    "\u001b[1;38;5;39mCOMET INFO:\u001b[0m     multi_scale     : False\n",
                                    "\u001b[1;38;5;39mCOMET INFO:\u001b[0m     name            : train52\n",
                                    "\u001b[1;38;5;39mCOMET INFO:\u001b[0m     nbs             : 64\n",
                                    "\u001b[1;38;5;39mCOMET INFO:\u001b[0m     nms             : False\n",
                                    "\u001b[1;38;5;39mCOMET INFO:\u001b[0m     opset           : None\n",
                                    "\u001b[1;38;5;39mCOMET INFO:\u001b[0m     optimize        : False\n",
                                    "\u001b[1;38;5;39mCOMET INFO:\u001b[0m     optimizer       : auto\n",
                                    "\u001b[1;38;5;39mCOMET INFO:\u001b[0m     overlap_mask    : True\n",
                                    "\u001b[1;38;5;39mCOMET INFO:\u001b[0m     patience        : 30\n",
                                    "\u001b[1;38;5;39mCOMET INFO:\u001b[0m     perspective     : 0.0\n",
                                    "\u001b[1;38;5;39mCOMET INFO:\u001b[0m     plots           : True\n",
                                    "\u001b[1;38;5;39mCOMET INFO:\u001b[0m     pose            : 12.0\n",
                                    "\u001b[1;38;5;39mCOMET INFO:\u001b[0m     pretrained      : True\n",
                                    "\u001b[1;38;5;39mCOMET INFO:\u001b[0m     profile         : False\n",
                                    "\u001b[1;38;5;39mCOMET INFO:\u001b[0m     project         : DL504\n",
                                    "\u001b[1;38;5;39mCOMET INFO:\u001b[0m     rect            : True\n",
                                    "\u001b[1;38;5;39mCOMET INFO:\u001b[0m     resume          : False\n",
                                    "\u001b[1;38;5;39mCOMET INFO:\u001b[0m     retina_masks    : False\n",
                                    "\u001b[1;38;5;39mCOMET INFO:\u001b[0m     save            : True\n",
                                    "\u001b[1;38;5;39mCOMET INFO:\u001b[0m     save_conf       : False\n",
                                    "\u001b[1;38;5;39mCOMET INFO:\u001b[0m     save_crop       : False\n",
                                    "\u001b[1;38;5;39mCOMET INFO:\u001b[0m     save_dir        : DL504/train52\n",
                                    "\u001b[1;38;5;39mCOMET INFO:\u001b[0m     save_frames     : False\n",
                                    "\u001b[1;38;5;39mCOMET INFO:\u001b[0m     save_hybrid     : False\n",
                                    "\u001b[1;38;5;39mCOMET INFO:\u001b[0m     save_json       : False\n",
                                    "\u001b[1;38;5;39mCOMET INFO:\u001b[0m     save_period     : -1\n",
                                    "\u001b[1;38;5;39mCOMET INFO:\u001b[0m     save_txt        : False\n",
                                    "\u001b[1;38;5;39mCOMET INFO:\u001b[0m     scale           : 0.5\n",
                                    "\u001b[1;38;5;39mCOMET INFO:\u001b[0m     seed            : 0\n",
                                    "\u001b[1;38;5;39mCOMET INFO:\u001b[0m     shear           : 0.0\n",
                                    "\u001b[1;38;5;39mCOMET INFO:\u001b[0m     show            : False\n",
                                    "\u001b[1;38;5;39mCOMET INFO:\u001b[0m     show_boxes      : True\n",
                                    "\u001b[1;38;5;39mCOMET INFO:\u001b[0m     show_conf       : True\n",
                                    "\u001b[1;38;5;39mCOMET INFO:\u001b[0m     show_labels     : True\n",
                                    "\u001b[1;38;5;39mCOMET INFO:\u001b[0m     simplify        : True\n",
                                    "\u001b[1;38;5;39mCOMET INFO:\u001b[0m     single_cls      : False\n",
                                    "\u001b[1;38;5;39mCOMET INFO:\u001b[0m     source          : None\n",
                                    "\u001b[1;38;5;39mCOMET INFO:\u001b[0m     split           : val\n",
                                    "\u001b[1;38;5;39mCOMET INFO:\u001b[0m     stream_buffer   : False\n",
                                    "\u001b[1;38;5;39mCOMET INFO:\u001b[0m     task            : detect\n",
                                    "\u001b[1;38;5;39mCOMET INFO:\u001b[0m     time            : None\n",
                                    "\u001b[1;38;5;39mCOMET INFO:\u001b[0m     tracker         : botsort.yaml\n",
                                    "\u001b[1;38;5;39mCOMET INFO:\u001b[0m     translate       : 0.1\n",
                                    "\u001b[1;38;5;39mCOMET INFO:\u001b[0m     val             : True\n",
                                    "\u001b[1;38;5;39mCOMET INFO:\u001b[0m     verbose         : True\n",
                                    "\u001b[1;38;5;39mCOMET INFO:\u001b[0m     vid_stride      : 1\n",
                                    "\u001b[1;38;5;39mCOMET INFO:\u001b[0m     visualize       : False\n",
                                    "\u001b[1;38;5;39mCOMET INFO:\u001b[0m     warmup_bias_lr  : 0.1\n",
                                    "\u001b[1;38;5;39mCOMET INFO:\u001b[0m     warmup_epochs   : 3.0\n",
                                    "\u001b[1;38;5;39mCOMET INFO:\u001b[0m     warmup_momentum : 0.8\n",
                                    "\u001b[1;38;5;39mCOMET INFO:\u001b[0m     weight_decay    : 0.0005\n",
                                    "\u001b[1;38;5;39mCOMET INFO:\u001b[0m     workers         : 32\n",
                                    "\u001b[1;38;5;39mCOMET INFO:\u001b[0m     workspace       : 0\n",
                                    "\u001b[1;38;5;39mCOMET INFO:\u001b[0m   Uploads:\n",
                                    "\u001b[1;38;5;39mCOMET INFO:\u001b[0m     confusion-matrix         : 1\n",
                                    "\u001b[1;38;5;39mCOMET INFO:\u001b[0m     environment details      : 1\n",
                                    "\u001b[1;38;5;39mCOMET INFO:\u001b[0m     filename                 : 1\n",
                                    "\u001b[1;38;5;39mCOMET INFO:\u001b[0m     git metadata             : 1\n",
                                    "\u001b[1;38;5;39mCOMET INFO:\u001b[0m     git-patch (uncompressed) : 1 (48.11 KB)\n",
                                    "\u001b[1;38;5;39mCOMET INFO:\u001b[0m     images                   : 17\n",
                                    "\u001b[1;38;5;39mCOMET INFO:\u001b[0m     installed packages       : 1\n",
                                    "\u001b[1;38;5;39mCOMET INFO:\u001b[0m     model-element            : 1 (48.84 MB)\n",
                                    "\u001b[1;38;5;39mCOMET INFO:\u001b[0m     notebook                 : 1\n",
                                    "\u001b[1;38;5;39mCOMET INFO:\u001b[0m     os packages              : 1\n",
                                    "\u001b[1;38;5;39mCOMET INFO:\u001b[0m     source_code              : 1\n",
                                    "\u001b[1;38;5;39mCOMET INFO:\u001b[0m \n",
                                    "\u001b[1;38;5;214mCOMET WARNING:\u001b[0m To get all data logged automatically, import comet_ml before the following modules: torch.\n",
                                    "\u001b[1;38;5;39mCOMET INFO:\u001b[0m Begin archiving the offline data.\n",
                                    "\u001b[1;38;5;39mCOMET INFO:\u001b[0m To upload this offline experiment, run:\n",
                                    "    comet upload /workspace/Smart-Surveillance-for-Cleaner-Cityscapes/.cometml-runs/223fa4f96dba47fc80d3b87d24f2975b.zip\n"
                              ]
                        }
                  ],
                  "source": [
                        "import os\n",
                        "os.environ.pop(\"COMET_EXPERIMENT_NAME\", None)\n",
                        "os.environ[\"COMET_EXPERIMENT_NAME\"] = \"Urban-Eye-improved-synth\"\n",
                        "from ultralytics import YOLO\n",
                        "# Load a pretrained YOLOv8 model\n",
                        "model = YOLO('yolo11l.pt')  # load an official model\n",
                        "print(\"=========================================================================\")\n",
                        "result = model.train(cfg=\"cfg/urbanyet-settings.yaml\", data=\"urbanEye-synth-no_clsw.yaml\")  # train with custom settings\n",
                        "\n"
                  ]
            },
            {
                  "attachments": {
                        "image-2.png": {
                              "image/png": "[encoded data removed]"
                        },
                        "image.png": {
                              "image/png": "[encoded data removed]"
                        }
                  },
                  "cell_type": "markdown",
                  "id": "96796c08",
                  "metadata": {},
                  "source": [
                        "## 6. Baseline + Customzied Augmentation + Synthetic Images + Customized Loss calculation \n",
                        "\n",
                        "### Default Detection Loss Calculation\n",
                        "![image.png](attachment:image.png)\n",
                        "\n",
                        "### Update Detection Loss Calculation\n",
                        "This formulation emphasizes learning for minority classes by increasing their contribution to the overall loss, helping the model better classify rare pollution types like \"broken signage\" or \"bad streetlights.\"\n",
                        "![image-2.png](attachment:image-2.png)"
                  ]
            },
            {
                  "cell_type": "code",
                  "execution_count": null,
                  "id": "8044ebb8",
                  "metadata": {},
                  "outputs": [
                        {
                              "name": "stdout",
                              "output_type": "stream",
                              "text": [
                                    "=========================================================================\n",
                                    "New https://pypi.org/project/ultralytics/8.3.114 available 😃 Update with 'pip install -U ultralytics'\n",
                                    "Ultralytics 8.3.72 🚀 Python-3.11.10 torch-2.6.0+cu124 CUDA:0 (NVIDIA H100 80GB HBM3, 81110MiB)\n",
                                    "\u001b[34m\u001b[1mengine/trainer: \u001b[0mtask=detect, mode=train, model=yolo11l.pt, data=urbanEye_synth_clsw.yaml, epochs=500, time=None, patience=30, batch=100, imgsz=640, save=True, save_period=-1, cache=disk, device=0, workers=32, project=DL504, name=train53, exist_ok=False, pretrained=True, optimizer=auto, verbose=True, seed=0, deterministic=True, single_cls=False, rect=True, cos_lr=True, close_mosaic=10, resume=False, amp=True, fraction=1.0, profile=False, freeze=None, multi_scale=False, overlap_mask=True, mask_ratio=4, dropout=0.0, val=True, split=val, save_json=False, save_hybrid=False, conf=0.25, iou=0.65, max_det=300, half=False, dnn=False, plots=True, source=None, vid_stride=1, stream_buffer=False, visualize=False, augment=False, agnostic_nms=False, classes=None, retina_masks=False, embed=None, show=False, save_frames=False, save_txt=False, save_conf=False, save_crop=False, show_labels=True, show_conf=True, show_boxes=True, line_width=None, format=torchscript, keras=False, optimize=False, int8=False, dynamic=False, simplify=True, opset=None, workspace=0, nms=False, lr0=0.001, lrf=0.01, momentum=0.937, weight_decay=0.0005, warmup_epochs=3.0, warmup_momentum=0.8, warmup_bias_lr=0.1, box=7.5, cls=0.5, dfl=1.5, pose=12.0, kobj=1.0, nbs=64, hsv_h=0.015, hsv_s=0.7, hsv_v=0.4, degrees=0.0, translate=0.1, scale=0.5, shear=0.0, perspective=0.0, flipud=0.0, fliplr=0.5, bgr=0.0, mosaic=1.0, mixup=0.05, copy_paste=0.1, copy_paste_mode=flip, auto_augment=randaugment, erasing=0.4, crop_fraction=1.0, cfg=cfg/urbanyet-settings.yaml, tracker=botsort.yaml, save_dir=DL504/train53\n",
                                    "Overriding model.yaml nc=80 with nc=11\n",
                                    "\n",
                                    "                   from  n    params  module                                       arguments                     \n",
                                    "  0                  -1  1      1856  ultralytics.nn.modules.conv.Conv             [3, 64, 3, 2]                 \n",
                                    "  1                  -1  1     73984  ultralytics.nn.modules.conv.Conv             [64, 128, 3, 2]               \n",
                                    "  2                  -1  2    173824  ultralytics.nn.modules.block.C3k2            [128, 256, 2, True, 0.25]     \n",
                                    "  3                  -1  1    590336  ultralytics.nn.modules.conv.Conv             [256, 256, 3, 2]              \n",
                                    "  4                  -1  2    691712  ultralytics.nn.modules.block.C3k2            [256, 512, 2, True, 0.25]     \n",
                                    "  5                  -1  1   2360320  ultralytics.nn.modules.conv.Conv             [512, 512, 3, 2]              \n",
                                    "  6                  -1  2   2234368  ultralytics.nn.modules.block.C3k2            [512, 512, 2, True]           \n",
                                    "  7                  -1  1   2360320  ultralytics.nn.modules.conv.Conv             [512, 512, 3, 2]              \n",
                                    "  8                  -1  2   2234368  ultralytics.nn.modules.block.C3k2            [512, 512, 2, True]           \n",
                                    "  9                  -1  1    656896  ultralytics.nn.modules.block.SPPF            [512, 512, 5]                 \n",
                                    " 10                  -1  2   1455616  ultralytics.nn.modules.block.C2PSA           [512, 512, 2]                 \n",
                                    " 11                  -1  1         0  torch.nn.modules.upsampling.Upsample         [None, 2, 'nearest']          \n",
                                    " 12             [-1, 6]  1         0  ultralytics.nn.modules.conv.Concat           [1]                           \n",
                                    " 13                  -1  2   2496512  ultralytics.nn.modules.block.C3k2            [1024, 512, 2, True]          \n",
                                    " 14                  -1  1         0  torch.nn.modules.upsampling.Upsample         [None, 2, 'nearest']          \n",
                                    " 15             [-1, 4]  1         0  ultralytics.nn.modules.conv.Concat           [1]                           \n",
                                    " 16                  -1  2    756736  ultralytics.nn.modules.block.C3k2            [1024, 256, 2, True]          \n",
                                    " 17                  -1  1    590336  ultralytics.nn.modules.conv.Conv             [256, 256, 3, 2]              \n",
                                    " 18            [-1, 13]  1         0  ultralytics.nn.modules.conv.Concat           [1]                           \n",
                                    " 19                  -1  2   2365440  ultralytics.nn.modules.block.C3k2            [768, 512, 2, True]           \n",
                                    " 20                  -1  1   2360320  ultralytics.nn.modules.conv.Conv             [512, 512, 3, 2]              \n",
                                    " 21            [-1, 10]  1         0  ultralytics.nn.modules.conv.Concat           [1]                           \n",
                                    " 22                  -1  2   2496512  ultralytics.nn.modules.block.C3k2            [1024, 512, 2, True]          \n",
                                    " 23        [16, 19, 22]  1   1419505  ultralytics.nn.modules.head.Detect           [11, [256, 512, 512]]         \n",
                                    "YOLO11l summary: 631 layers, 25,318,961 parameters, 25,318,945 gradients, 87.3 GFLOPs\n",
                                    "\n",
                                    "Transferred 1009/1015 items from pretrained weights\n"
                              ]
                        },
                        {
                              "name": "stderr",
                              "output_type": "stream",
                              "text": [
                                    "\u001b[1;38;5;214mCOMET WARNING:\u001b[0m To get all data logged automatically, import comet_ml before the following modules: torch.\n",
                                    "\u001b[1;38;5;214mCOMET WARNING:\u001b[0m As you are running in a Jupyter environment, you will need to call `experiment.end()` when finished to ensure all metrics and code are logged before exiting.\n",
                                    "\u001b[1;38;5;39mCOMET INFO:\u001b[0m Using '/workspace/Smart-Surveillance-for-Cleaner-Cityscapes/.cometml-runs' path as offline directory. Pass 'offline_directory' parameter into constructor or set the 'COMET_OFFLINE_DIRECTORY' environment variable to manually choose where to store offline experiment archives.\n"
                              ]
                        },
                        {
                              "name": "stdout",
                              "output_type": "stream",
                              "text": [
                                    "Class Weights in Use: [1.113, 1.2724, 0.7967, 0.4402, 0.7812, 1.2749, 0.0, 1.0351, 1.1652, 0.8599, 1.2614]\n",
                                    "Freezing layer 'model.23.dfl.conv.weight'\n",
                                    "\u001b[34m\u001b[1mAMP: \u001b[0mrunning Automatic Mixed Precision (AMP) checks...\n",
                                    "\u001b[34m\u001b[1mAMP: \u001b[0mchecks passed ✅\n"
                              ]
                        },
                        {
                              "name": "stderr",
                              "output_type": "stream",
                              "text": [
                                    "\u001b[34m\u001b[1mtrain: \u001b[0mScanning /workspace/datasets/urbanEye/dataset/labels/train.cache... 6674 images, 0 backgrounds, 0 corrupt: 100%|██████████| 6674/6674 [00:00<?, ?it/s]\n",
                                    "\u001b[34m\u001b[1mtrain: \u001b[0mCaching images (7.6GB Disk): 100%|██████████| 6674/6674 [00:00<00:00, 21337.59it/s]"
                              ]
                        },
                        {
                              "name": "stdout",
                              "output_type": "stream",
                              "text": [
                                    "WARNING ⚠️ 'rect=True' is incompatible with DataLoader shuffle, setting shuffle=False\n"
                              ]
                        },
                        {
                              "name": "stderr",
                              "output_type": "stream",
                              "text": [
                                    "\n",
                                    "\u001b[34m\u001b[1mval: \u001b[0mScanning /workspace/datasets/urbanEye/dataset/labels/eval.cache... 1181 images, 0 backgrounds, 0 corrupt: 100%|██████████| 1181/1181 [00:00<?, ?it/s]\n",
                                    "\u001b[34m\u001b[1mval: \u001b[0mCaching images (1.4GB Disk): 100%|██████████| 1181/1181 [00:00<00:00, 16491.07it/s]\n"
                              ]
                        },
                        {
                              "name": "stdout",
                              "output_type": "stream",
                              "text": [
                                    "Plotting labels to DL504/train53/labels.jpg... \n",
                                    "\u001b[34m\u001b[1moptimizer:\u001b[0m 'optimizer=auto' found, ignoring 'lr0=0.001' and 'momentum=0.937' and determining best 'optimizer', 'lr0' and 'momentum' automatically... \n",
                                    "\u001b[34m\u001b[1moptimizer:\u001b[0m SGD(lr=0.01, momentum=0.9) with parameter groups 167 weight(decay=0.0), 174 weight(decay=0.00078125), 173 bias(decay=0.0)\n",
                                    "Image sizes 640 train, 640 val\n",
                                    "Using 32 dataloader workers\n",
                                    "Logging results to \u001b[1mDL504/train53\u001b[0m\n",
                                    "Starting training for 500 epochs...\n",
                                    "\n",
                                    "      Epoch    GPU_mem   box_loss   cls_loss   dfl_loss  Instances       Size\n"
                              ]
                        },
                        {
                              "name": "stderr",
                              "output_type": "stream",
                              "text": [
                                    "      1/500        66G      2.382      4.051      2.653        170        640: 100%|██████████| 67/67 [00:37<00:00,  1.78it/s]\n",
                                    "                 Class     Images  Instances      Box(P          R      mAP50  mAP50-95): 100%|██████████| 6/6 [00:02<00:00,  2.14it/s]"
                              ]
                        },
                        {
                              "name": "stdout",
                              "output_type": "stream",
                              "text": [
                                    "                   all       1181       2981      0.103     0.0121     0.0506     0.0152\n"
                              ]
                        },
                        {
                              "name": "stderr",
                              "output_type": "stream",
                              "text": [
                                    "\n"
                              ]
                        },
                        {
                              "name": "stdout",
                              "output_type": "stream",
                              "text": [
                                    "\n",
                                    "      Epoch    GPU_mem   box_loss   cls_loss   dfl_loss  Instances       Size\n"
                              ]
                        },
                        {
                              "name": "stderr",
                              "output_type": "stream",
                              "text": [
                                    "      2/500      66.1G      1.786       2.27      2.025        167        640: 100%|██████████| 67/67 [00:34<00:00,  1.96it/s]\n",
                                    "                 Class     Images  Instances      Box(P          R      mAP50  mAP50-95): 100%|██████████| 6/6 [00:02<00:00,  2.01it/s]"
                              ]
                        },
                        {
                              "name": "stdout",
                              "output_type": "stream",
                              "text": [
                                    "                   all       1181       2981      0.101     0.0264   0.000205   7.89e-05\n"
                              ]
                        },
                        {
                              "name": "stderr",
                              "output_type": "stream",
                              "text": [
                                    "\n"
                              ]
                        },
                        {
                              "name": "stdout",
                              "output_type": "stream",
                              "text": [
                                    "\n",
                                    "      Epoch    GPU_mem   box_loss   cls_loss   dfl_loss  Instances       Size\n"
                              ]
                        },
                        {
                              "name": "stderr",
                              "output_type": "stream",
                              "text": [
                                    "      3/500      66.1G      1.939      2.358      2.125        171        640: 100%|██████████| 67/67 [00:34<00:00,  1.96it/s]\n",
                                    "                 Class     Images  Instances      Box(P          R      mAP50  mAP50-95): 100%|██████████| 6/6 [00:02<00:00,  2.01it/s]"
                              ]
                        },
                        {
                              "name": "stdout",
                              "output_type": "stream",
                              "text": [
                                    "                   all       1181       2981   0.000155     0.0109   3.93e-05    1.5e-05\n"
                              ]
                        },
                        {
                              "name": "stderr",
                              "output_type": "stream",
                              "text": [
                                    "\n"
                              ]
                        },
                        {
                              "name": "stdout",
                              "output_type": "stream",
                              "text": [
                                    "\n",
                                    "      Epoch    GPU_mem   box_loss   cls_loss   dfl_loss  Instances       Size\n"
                              ]
                        },
                        {
                              "name": "stderr",
                              "output_type": "stream",
                              "text": [
                                    "      4/500      66.1G      2.083      2.551      2.283        176        640: 100%|██████████| 67/67 [00:34<00:00,  1.96it/s]\n",
                                    "                 Class     Images  Instances      Box(P          R      mAP50  mAP50-95): 100%|██████████| 6/6 [00:03<00:00,  1.84it/s]\n"
                              ]
                        },
                        {
                              "name": "stdout",
                              "output_type": "stream",
                              "text": [
                                    "                   all       1181       2981   3.56e-05     0.0739   1.75e-05   4.15e-06\n",
                                    "\n",
                                    "      Epoch    GPU_mem   box_loss   cls_loss   dfl_loss  Instances       Size\n"
                              ]
                        },
                        {
                              "name": "stderr",
                              "output_type": "stream",
                              "text": [
                                    "      5/500      66.1G      2.076      2.554      2.354        170        640: 100%|██████████| 67/67 [00:34<00:00,  1.94it/s]\n",
                                    "                 Class     Images  Instances      Box(P          R      mAP50  mAP50-95): 100%|██████████| 6/6 [00:03<00:00,  1.86it/s]\n"
                              ]
                        },
                        {
                              "name": "stdout",
                              "output_type": "stream",
                              "text": [
                                    "                   all       1181       2981        0.1     0.0218   4.73e-05   1.29e-05\n",
                                    "\n",
                                    "      Epoch    GPU_mem   box_loss   cls_loss   dfl_loss  Instances       Size\n"
                              ]
                        },
                        {
                              "name": "stderr",
                              "output_type": "stream",
                              "text": [
                                    "      6/500      66.1G      1.993      2.474      2.293        171        640: 100%|██████████| 67/67 [00:34<00:00,  1.96it/s]\n",
                                    "                 Class     Images  Instances      Box(P          R      mAP50  mAP50-95): 100%|██████████| 6/6 [00:02<00:00,  2.00it/s]"
                              ]
                        },
                        {
                              "name": "stdout",
                              "output_type": "stream",
                              "text": [
                                    "                   all       1181       2981    0.00121     0.0711   0.000298   9.25e-05\n"
                              ]
                        },
                        {
                              "name": "stderr",
                              "output_type": "stream",
                              "text": [
                                    "\n"
                              ]
                        },
                        {
                              "name": "stdout",
                              "output_type": "stream",
                              "text": [
                                    "\n",
                                    "      Epoch    GPU_mem   box_loss   cls_loss   dfl_loss  Instances       Size\n"
                              ]
                        },
                        {
                              "name": "stderr",
                              "output_type": "stream",
                              "text": [
                                    "      7/500      66.1G      1.968      2.338      2.253        172        640: 100%|██████████| 67/67 [00:34<00:00,  1.96it/s]\n",
                                    "                 Class     Images  Instances      Box(P          R      mAP50  mAP50-95): 100%|██████████| 6/6 [00:02<00:00,  2.02it/s]"
                              ]
                        },
                        {
                              "name": "stdout",
                              "output_type": "stream",
                              "text": [
                                    "                   all       1181       2981     0.0279      0.023      0.014    0.00517\n"
                              ]
                        },
                        {
                              "name": "stderr",
                              "output_type": "stream",
                              "text": [
                                    "\n"
                              ]
                        },
                        {
                              "name": "stdout",
                              "output_type": "stream",
                              "text": [
                                    "\n",
                                    "      Epoch    GPU_mem   box_loss   cls_loss   dfl_loss  Instances       Size\n"
                              ]
                        },
                        {
                              "name": "stderr",
                              "output_type": "stream",
                              "text": [
                                    "      8/500      66.1G      1.901      2.237      2.204        171        640: 100%|██████████| 67/67 [00:34<00:00,  1.96it/s]\n",
                                    "                 Class     Images  Instances      Box(P          R      mAP50  mAP50-95): 100%|██████████| 6/6 [00:02<00:00,  2.05it/s]"
                              ]
                        },
                        {
                              "name": "stdout",
                              "output_type": "stream",
                              "text": [
                                    "                   all       1181       2981      0.203     0.0343    0.00322   0.000581\n"
                              ]
                        },
                        {
                              "name": "stderr",
                              "output_type": "stream",
                              "text": [
                                    "\n"
                              ]
                        },
                        {
                              "name": "stdout",
                              "output_type": "stream",
                              "text": [
                                    "\n",
                                    "      Epoch    GPU_mem   box_loss   cls_loss   dfl_loss  Instances       Size\n"
                              ]
                        },
                        {
                              "name": "stderr",
                              "output_type": "stream",
                              "text": [
                                    "      9/500      65.7G      1.888      2.219      2.197        170        640: 100%|██████████| 67/67 [00:34<00:00,  1.96it/s]\n",
                                    "                 Class     Images  Instances      Box(P          R      mAP50  mAP50-95): 100%|██████████| 6/6 [00:02<00:00,  2.01it/s]"
                              ]
                        },
                        {
                              "name": "stdout",
                              "output_type": "stream",
                              "text": [
                                    "                   all       1181       2981      0.109      0.082     0.0215    0.00284\n"
                              ]
                        },
                        {
                              "name": "stderr",
                              "output_type": "stream",
                              "text": [
                                    "\n"
                              ]
                        },
                        {
                              "name": "stdout",
                              "output_type": "stream",
                              "text": [
                                    "\n",
                                    "      Epoch    GPU_mem   box_loss   cls_loss   dfl_loss  Instances       Size\n"
                              ]
                        },
                        {
                              "name": "stderr",
                              "output_type": "stream",
                              "text": [
                                    "     10/500      66.1G       1.83      2.031      2.138        172        640: 100%|██████████| 67/67 [00:34<00:00,  1.96it/s]\n",
                                    "                 Class     Images  Instances      Box(P          R      mAP50  mAP50-95): 100%|██████████| 6/6 [00:02<00:00,  2.49it/s]"
                              ]
                        },
                        {
                              "name": "stdout",
                              "output_type": "stream",
                              "text": [
                                    "                   all       1181       2981      0.125    0.00268    0.00323     0.0011\n"
                              ]
                        },
                        {
                              "name": "stderr",
                              "output_type": "stream",
                              "text": [
                                    "\n"
                              ]
                        },
                        {
                              "name": "stdout",
                              "output_type": "stream",
                              "text": [
                                    "\n",
                                    "      Epoch    GPU_mem   box_loss   cls_loss   dfl_loss  Instances       Size\n"
                              ]
                        },
                        {
                              "name": "stderr",
                              "output_type": "stream",
                              "text": [
                                    "     11/500      66.1G      1.805      2.006      2.139        174        640: 100%|██████████| 67/67 [00:34<00:00,  1.96it/s]\n",
                                    "                 Class     Images  Instances      Box(P          R      mAP50  mAP50-95): 100%|██████████| 6/6 [00:02<00:00,  2.07it/s]"
                              ]
                        },
                        {
                              "name": "stdout",
                              "output_type": "stream",
                              "text": [
                                    "                   all       1181       2981      0.268       0.11      0.156     0.0541\n"
                              ]
                        },
                        {
                              "name": "stderr",
                              "output_type": "stream",
                              "text": [
                                    "\n"
                              ]
                        },
                        {
                              "name": "stdout",
                              "output_type": "stream",
                              "text": [
                                    "\n",
                                    "      Epoch    GPU_mem   box_loss   cls_loss   dfl_loss  Instances       Size\n"
                              ]
                        },
                        {
                              "name": "stderr",
                              "output_type": "stream",
                              "text": [
                                    "     12/500      66.1G      1.803      1.895      2.129        170        640: 100%|██████████| 67/67 [00:33<00:00,  1.98it/s]\n",
                                    "                 Class     Images  Instances      Box(P          R      mAP50  mAP50-95): 100%|██████████| 6/6 [00:02<00:00,  2.18it/s]"
                              ]
                        },
                        {
                              "name": "stdout",
                              "output_type": "stream",
                              "text": [
                                    "                   all       1181       2981     0.0501     0.0154     0.0252    0.00756\n"
                              ]
                        },
                        {
                              "name": "stderr",
                              "output_type": "stream",
                              "text": [
                                    "\n"
                              ]
                        },
                        {
                              "name": "stdout",
                              "output_type": "stream",
                              "text": [
                                    "\n",
                                    "      Epoch    GPU_mem   box_loss   cls_loss   dfl_loss  Instances       Size\n"
                              ]
                        },
                        {
                              "name": "stderr",
                              "output_type": "stream",
                              "text": [
                                    "     13/500      66.1G      1.743      1.829      2.068        172        640: 100%|██████████| 67/67 [00:34<00:00,  1.96it/s]\n",
                                    "                 Class     Images  Instances      Box(P          R      mAP50  mAP50-95): 100%|██████████| 6/6 [00:02<00:00,  2.59it/s]"
                              ]
                        },
                        {
                              "name": "stdout",
                              "output_type": "stream",
                              "text": [
                                    "                   all       1181       2981      0.272     0.0507      0.159     0.0627\n"
                              ]
                        },
                        {
                              "name": "stderr",
                              "output_type": "stream",
                              "text": [
                                    "\n"
                              ]
                        },
                        {
                              "name": "stdout",
                              "output_type": "stream",
                              "text": [
                                    "\n",
                                    "      Epoch    GPU_mem   box_loss   cls_loss   dfl_loss  Instances       Size\n"
                              ]
                        },
                        {
                              "name": "stderr",
                              "output_type": "stream",
                              "text": [
                                    "     14/500      66.1G      1.754      1.805      2.063        168        640: 100%|██████████| 67/67 [00:34<00:00,  1.94it/s]\n",
                                    "                 Class     Images  Instances      Box(P          R      mAP50  mAP50-95): 100%|██████████| 6/6 [00:02<00:00,  2.57it/s]"
                              ]
                        },
                        {
                              "name": "stdout",
                              "output_type": "stream",
                              "text": [
                                    "                   all       1181       2981      0.118     0.0502      0.072      0.037\n"
                              ]
                        },
                        {
                              "name": "stderr",
                              "output_type": "stream",
                              "text": [
                                    "\n"
                              ]
                        },
                        {
                              "name": "stdout",
                              "output_type": "stream",
                              "text": [
                                    "\n",
                                    "      Epoch    GPU_mem   box_loss   cls_loss   dfl_loss  Instances       Size\n"
                              ]
                        },
                        {
                              "name": "stderr",
                              "output_type": "stream",
                              "text": [
                                    "     15/500      66.1G      1.731      1.779      2.043        171        640: 100%|██████████| 67/67 [00:34<00:00,  1.95it/s]\n",
                                    "                 Class     Images  Instances      Box(P          R      mAP50  mAP50-95): 100%|██████████| 6/6 [00:02<00:00,  2.31it/s]"
                              ]
                        },
                        {
                              "name": "stdout",
                              "output_type": "stream",
                              "text": [
                                    "                   all       1181       2981      0.397      0.216      0.235     0.0912\n"
                              ]
                        },
                        {
                              "name": "stderr",
                              "output_type": "stream",
                              "text": [
                                    "\n"
                              ]
                        },
                        {
                              "name": "stdout",
                              "output_type": "stream",
                              "text": [
                                    "\n",
                                    "      Epoch    GPU_mem   box_loss   cls_loss   dfl_loss  Instances       Size\n"
                              ]
                        },
                        {
                              "name": "stderr",
                              "output_type": "stream",
                              "text": [
                                    "     16/500      66.1G      1.719      1.726      2.024        171        640: 100%|██████████| 67/67 [00:34<00:00,  1.93it/s]\n",
                                    "                 Class     Images  Instances      Box(P          R      mAP50  mAP50-95): 100%|██████████| 6/6 [00:02<00:00,  2.44it/s]"
                              ]
                        },
                        {
                              "name": "stdout",
                              "output_type": "stream",
                              "text": [
                                    "                   all       1181       2981      0.308      0.067      0.181     0.0767\n"
                              ]
                        },
                        {
                              "name": "stderr",
                              "output_type": "stream",
                              "text": [
                                    "\n"
                              ]
                        },
                        {
                              "name": "stdout",
                              "output_type": "stream",
                              "text": [
                                    "\n",
                                    "      Epoch    GPU_mem   box_loss   cls_loss   dfl_loss  Instances       Size\n"
                              ]
                        },
                        {
                              "name": "stderr",
                              "output_type": "stream",
                              "text": [
                                    "     17/500      66.1G      1.701      1.682      2.021        173        640: 100%|██████████| 67/67 [00:34<00:00,  1.92it/s]\n",
                                    "                 Class     Images  Instances      Box(P          R      mAP50  mAP50-95): 100%|██████████| 6/6 [00:02<00:00,  2.63it/s]"
                              ]
                        },
                        {
                              "name": "stdout",
                              "output_type": "stream",
                              "text": [
                                    "                   all       1181       2981      0.372     0.0482      0.206     0.0951\n"
                              ]
                        },
                        {
                              "name": "stderr",
                              "output_type": "stream",
                              "text": [
                                    "\n"
                              ]
                        },
                        {
                              "name": "stdout",
                              "output_type": "stream",
                              "text": [
                                    "\n",
                                    "      Epoch    GPU_mem   box_loss   cls_loss   dfl_loss  Instances       Size\n"
                              ]
                        },
                        {
                              "name": "stderr",
                              "output_type": "stream",
                              "text": [
                                    "     18/500      66.1G      1.696       1.66      2.008        175        640: 100%|██████████| 67/67 [00:34<00:00,  1.96it/s]\n",
                                    "                 Class     Images  Instances      Box(P          R      mAP50  mAP50-95): 100%|██████████| 6/6 [00:02<00:00,  2.45it/s]"
                              ]
                        },
                        {
                              "name": "stdout",
                              "output_type": "stream",
                              "text": [
                                    "                   all       1181       2981      0.191     0.0824      0.122     0.0582\n"
                              ]
                        },
                        {
                              "name": "stderr",
                              "output_type": "stream",
                              "text": [
                                    "\n"
                              ]
                        },
                        {
                              "name": "stdout",
                              "output_type": "stream",
                              "text": [
                                    "\n",
                                    "      Epoch    GPU_mem   box_loss   cls_loss   dfl_loss  Instances       Size\n"
                              ]
                        },
                        {
                              "name": "stderr",
                              "output_type": "stream",
                              "text": [
                                    "     19/500      66.1G      1.678      1.632      2.006        174        640: 100%|██████████| 67/67 [00:34<00:00,  1.96it/s]\n",
                                    "                 Class     Images  Instances      Box(P          R      mAP50  mAP50-95): 100%|██████████| 6/6 [00:02<00:00,  2.37it/s]"
                              ]
                        },
                        {
                              "name": "stdout",
                              "output_type": "stream",
                              "text": [
                                    "                   all       1181       2981      0.255      0.101      0.167     0.0811\n"
                              ]
                        },
                        {
                              "name": "stderr",
                              "output_type": "stream",
                              "text": [
                                    "\n"
                              ]
                        },
                        {
                              "name": "stdout",
                              "output_type": "stream",
                              "text": [
                                    "\n",
                                    "      Epoch    GPU_mem   box_loss   cls_loss   dfl_loss  Instances       Size\n"
                              ]
                        },
                        {
                              "name": "stderr",
                              "output_type": "stream",
                              "text": [
                                    "     20/500      66.1G      1.686      1.606      2.009        171        640: 100%|██████████| 67/67 [00:34<00:00,  1.94it/s]\n",
                                    "                 Class     Images  Instances      Box(P          R      mAP50  mAP50-95): 100%|██████████| 6/6 [00:02<00:00,  2.13it/s]"
                              ]
                        },
                        {
                              "name": "stdout",
                              "output_type": "stream",
                              "text": [
                                    "                   all       1181       2981      0.271      0.116      0.178     0.0741\n"
                              ]
                        },
                        {
                              "name": "stderr",
                              "output_type": "stream",
                              "text": [
                                    "\n"
                              ]
                        },
                        {
                              "name": "stdout",
                              "output_type": "stream",
                              "text": [
                                    "\n",
                                    "      Epoch    GPU_mem   box_loss   cls_loss   dfl_loss  Instances       Size\n"
                              ]
                        },
                        {
                              "name": "stderr",
                              "output_type": "stream",
                              "text": [
                                    "     21/500      66.1G      1.666      1.584      2.009        174        640: 100%|██████████| 67/67 [00:34<00:00,  1.96it/s]\n",
                                    "                 Class     Images  Instances      Box(P          R      mAP50  mAP50-95): 100%|██████████| 6/6 [00:02<00:00,  2.40it/s]"
                              ]
                        },
                        {
                              "name": "stdout",
                              "output_type": "stream",
                              "text": [
                                    "                   all       1181       2981      0.263     0.0954      0.174     0.0786\n"
                              ]
                        },
                        {
                              "name": "stderr",
                              "output_type": "stream",
                              "text": [
                                    "\n"
                              ]
                        },
                        {
                              "name": "stdout",
                              "output_type": "stream",
                              "text": [
                                    "\n",
                                    "      Epoch    GPU_mem   box_loss   cls_loss   dfl_loss  Instances       Size\n"
                              ]
                        },
                        {
                              "name": "stderr",
                              "output_type": "stream",
                              "text": [
                                    "     22/500      66.1G      1.662      1.561      1.995        171        640: 100%|██████████| 67/67 [00:34<00:00,  1.96it/s]\n",
                                    "                 Class     Images  Instances      Box(P          R      mAP50  mAP50-95): 100%|██████████| 6/6 [00:02<00:00,  2.50it/s]"
                              ]
                        },
                        {
                              "name": "stdout",
                              "output_type": "stream",
                              "text": [
                                    "                   all       1181       2981      0.422      0.112      0.256      0.107\n"
                              ]
                        },
                        {
                              "name": "stderr",
                              "output_type": "stream",
                              "text": [
                                    "\n"
                              ]
                        },
                        {
                              "name": "stdout",
                              "output_type": "stream",
                              "text": [
                                    "\n",
                                    "      Epoch    GPU_mem   box_loss   cls_loss   dfl_loss  Instances       Size\n"
                              ]
                        },
                        {
                              "name": "stderr",
                              "output_type": "stream",
                              "text": [
                                    "     23/500      66.1G      1.647      1.577      1.982        171        640: 100%|██████████| 67/67 [00:34<00:00,  1.96it/s]\n",
                                    "                 Class     Images  Instances      Box(P          R      mAP50  mAP50-95): 100%|██████████| 6/6 [00:02<00:00,  2.55it/s]"
                              ]
                        },
                        {
                              "name": "stdout",
                              "output_type": "stream",
                              "text": [
                                    "                   all       1181       2981      0.413      0.105      0.258      0.119\n"
                              ]
                        },
                        {
                              "name": "stderr",
                              "output_type": "stream",
                              "text": [
                                    "\n"
                              ]
                        },
                        {
                              "name": "stdout",
                              "output_type": "stream",
                              "text": [
                                    "\n",
                                    "      Epoch    GPU_mem   box_loss   cls_loss   dfl_loss  Instances       Size\n"
                              ]
                        },
                        {
                              "name": "stderr",
                              "output_type": "stream",
                              "text": [
                                    "     24/500      66.1G      1.646      1.508      1.973        169        640: 100%|██████████| 67/67 [00:34<00:00,  1.96it/s]\n",
                                    "                 Class     Images  Instances      Box(P          R      mAP50  mAP50-95): 100%|██████████| 6/6 [00:02<00:00,  2.45it/s]"
                              ]
                        },
                        {
                              "name": "stdout",
                              "output_type": "stream",
                              "text": [
                                    "                   all       1181       2981      0.325       0.14      0.223      0.106\n"
                              ]
                        },
                        {
                              "name": "stderr",
                              "output_type": "stream",
                              "text": [
                                    "\n"
                              ]
                        },
                        {
                              "name": "stdout",
                              "output_type": "stream",
                              "text": [
                                    "\n",
                                    "      Epoch    GPU_mem   box_loss   cls_loss   dfl_loss  Instances       Size\n"
                              ]
                        },
                        {
                              "name": "stderr",
                              "output_type": "stream",
                              "text": [
                                    "     25/500      66.1G      1.642      1.509       1.98        169        640: 100%|██████████| 67/67 [00:34<00:00,  1.96it/s]\n",
                                    "                 Class     Images  Instances      Box(P          R      mAP50  mAP50-95): 100%|██████████| 6/6 [00:02<00:00,  2.56it/s]"
                              ]
                        },
                        {
                              "name": "stdout",
                              "output_type": "stream",
                              "text": [
                                    "                   all       1181       2981      0.285      0.108      0.197     0.0934\n"
                              ]
                        },
                        {
                              "name": "stderr",
                              "output_type": "stream",
                              "text": [
                                    "\n"
                              ]
                        },
                        {
                              "name": "stdout",
                              "output_type": "stream",
                              "text": [
                                    "\n",
                                    "      Epoch    GPU_mem   box_loss   cls_loss   dfl_loss  Instances       Size\n"
                              ]
                        },
                        {
                              "name": "stderr",
                              "output_type": "stream",
                              "text": [
                                    "     26/500      66.1G       1.62      1.456       1.96        167        640: 100%|██████████| 67/67 [00:34<00:00,  1.96it/s]\n",
                                    "                 Class     Images  Instances      Box(P          R      mAP50  mAP50-95): 100%|██████████| 6/6 [00:02<00:00,  2.51it/s]"
                              ]
                        },
                        {
                              "name": "stdout",
                              "output_type": "stream",
                              "text": [
                                    "                   all       1181       2981      0.363      0.115      0.229      0.101\n"
                              ]
                        },
                        {
                              "name": "stderr",
                              "output_type": "stream",
                              "text": [
                                    "\n"
                              ]
                        },
                        {
                              "name": "stdout",
                              "output_type": "stream",
                              "text": [
                                    "\n",
                                    "      Epoch    GPU_mem   box_loss   cls_loss   dfl_loss  Instances       Size\n"
                              ]
                        },
                        {
                              "name": "stderr",
                              "output_type": "stream",
                              "text": [
                                    "     27/500        66G      1.621      1.473      1.966        175        640: 100%|██████████| 67/67 [00:34<00:00,  1.96it/s]\n",
                                    "                 Class     Images  Instances      Box(P          R      mAP50  mAP50-95): 100%|██████████| 6/6 [00:02<00:00,  2.39it/s]"
                              ]
                        },
                        {
                              "name": "stdout",
                              "output_type": "stream",
                              "text": [
                                    "                   all       1181       2981      0.207      0.165      0.171     0.0794\n"
                              ]
                        },
                        {
                              "name": "stderr",
                              "output_type": "stream",
                              "text": [
                                    "\n"
                              ]
                        },
                        {
                              "name": "stdout",
                              "output_type": "stream",
                              "text": [
                                    "\n",
                                    "      Epoch    GPU_mem   box_loss   cls_loss   dfl_loss  Instances       Size\n"
                              ]
                        },
                        {
                              "name": "stderr",
                              "output_type": "stream",
                              "text": [
                                    "     28/500      66.1G      1.623      1.449      1.964        171        640: 100%|██████████| 67/67 [00:34<00:00,  1.96it/s]\n",
                                    "                 Class     Images  Instances      Box(P          R      mAP50  mAP50-95): 100%|██████████| 6/6 [00:02<00:00,  2.60it/s]"
                              ]
                        },
                        {
                              "name": "stdout",
                              "output_type": "stream",
                              "text": [
                                    "                   all       1181       2981      0.476     0.0788      0.269      0.149\n"
                              ]
                        },
                        {
                              "name": "stderr",
                              "output_type": "stream",
                              "text": [
                                    "\n"
                              ]
                        },
                        {
                              "name": "stdout",
                              "output_type": "stream",
                              "text": [
                                    "\n",
                                    "      Epoch    GPU_mem   box_loss   cls_loss   dfl_loss  Instances       Size\n"
                              ]
                        },
                        {
                              "name": "stderr",
                              "output_type": "stream",
                              "text": [
                                    "     29/500      66.1G      1.621       1.44      1.959        169        640: 100%|██████████| 67/67 [00:33<00:00,  1.97it/s]\n",
                                    "                 Class     Images  Instances      Box(P          R      mAP50  mAP50-95): 100%|██████████| 6/6 [00:02<00:00,  2.53it/s]"
                              ]
                        },
                        {
                              "name": "stdout",
                              "output_type": "stream",
                              "text": [
                                    "                   all       1181       2981      0.289      0.115      0.192     0.0945\n"
                              ]
                        },
                        {
                              "name": "stderr",
                              "output_type": "stream",
                              "text": [
                                    "\n"
                              ]
                        },
                        {
                              "name": "stdout",
                              "output_type": "stream",
                              "text": [
                                    "\n",
                                    "      Epoch    GPU_mem   box_loss   cls_loss   dfl_loss  Instances       Size\n"
                              ]
                        },
                        {
                              "name": "stderr",
                              "output_type": "stream",
                              "text": [
                                    "     30/500        66G       1.61      1.419      1.947        170        640: 100%|██████████| 67/67 [00:34<00:00,  1.96it/s]\n",
                                    "                 Class     Images  Instances      Box(P          R      mAP50  mAP50-95): 100%|██████████| 6/6 [00:02<00:00,  2.52it/s]"
                              ]
                        },
                        {
                              "name": "stdout",
                              "output_type": "stream",
                              "text": [
                                    "                   all       1181       2981      0.416      0.102      0.253      0.112\n"
                              ]
                        },
                        {
                              "name": "stderr",
                              "output_type": "stream",
                              "text": [
                                    "\n"
                              ]
                        },
                        {
                              "name": "stdout",
                              "output_type": "stream",
                              "text": [
                                    "\n",
                                    "      Epoch    GPU_mem   box_loss   cls_loss   dfl_loss  Instances       Size\n"
                              ]
                        },
                        {
                              "name": "stderr",
                              "output_type": "stream",
                              "text": [
                                    "     31/500      66.1G       1.61      1.385      1.946        170        640: 100%|██████████| 67/67 [00:34<00:00,  1.96it/s]\n",
                                    "                 Class     Images  Instances      Box(P          R      mAP50  mAP50-95): 100%|██████████| 6/6 [00:02<00:00,  2.52it/s]"
                              ]
                        },
                        {
                              "name": "stdout",
                              "output_type": "stream",
                              "text": [
                                    "                   all       1181       2981       0.33     0.0914      0.207      0.108\n"
                              ]
                        },
                        {
                              "name": "stderr",
                              "output_type": "stream",
                              "text": [
                                    "\n"
                              ]
                        },
                        {
                              "name": "stdout",
                              "output_type": "stream",
                              "text": [
                                    "\n",
                                    "      Epoch    GPU_mem   box_loss   cls_loss   dfl_loss  Instances       Size\n"
                              ]
                        },
                        {
                              "name": "stderr",
                              "output_type": "stream",
                              "text": [
                                    "     32/500      65.7G      1.599      1.381      1.938        172        640: 100%|██████████| 67/67 [00:34<00:00,  1.96it/s]\n",
                                    "                 Class     Images  Instances      Box(P          R      mAP50  mAP50-95): 100%|██████████| 6/6 [00:02<00:00,  2.55it/s]"
                              ]
                        },
                        {
                              "name": "stdout",
                              "output_type": "stream",
                              "text": [
                                    "                   all       1181       2981      0.519      0.104      0.309      0.165\n"
                              ]
                        },
                        {
                              "name": "stderr",
                              "output_type": "stream",
                              "text": [
                                    "\n"
                              ]
                        },
                        {
                              "name": "stdout",
                              "output_type": "stream",
                              "text": [
                                    "\n",
                                    "      Epoch    GPU_mem   box_loss   cls_loss   dfl_loss  Instances       Size\n"
                              ]
                        },
                        {
                              "name": "stderr",
                              "output_type": "stream",
                              "text": [
                                    "     33/500      66.1G        1.6      1.375      1.935        173        640: 100%|██████████| 67/67 [00:34<00:00,  1.96it/s]\n",
                                    "                 Class     Images  Instances      Box(P          R      mAP50  mAP50-95): 100%|██████████| 6/6 [00:02<00:00,  2.46it/s]"
                              ]
                        },
                        {
                              "name": "stdout",
                              "output_type": "stream",
                              "text": [
                                    "                   all       1181       2981      0.278      0.124      0.194     0.0892\n"
                              ]
                        },
                        {
                              "name": "stderr",
                              "output_type": "stream",
                              "text": [
                                    "\n"
                              ]
                        },
                        {
                              "name": "stdout",
                              "output_type": "stream",
                              "text": [
                                    "\n",
                                    "      Epoch    GPU_mem   box_loss   cls_loss   dfl_loss  Instances       Size\n"
                              ]
                        },
                        {
                              "name": "stderr",
                              "output_type": "stream",
                              "text": [
                                    "     34/500      66.1G      1.581      1.354      1.925        168        640: 100%|██████████| 67/67 [00:34<00:00,  1.96it/s]\n",
                                    "                 Class     Images  Instances      Box(P          R      mAP50  mAP50-95): 100%|██████████| 6/6 [00:02<00:00,  2.58it/s]"
                              ]
                        },
                        {
                              "name": "stdout",
                              "output_type": "stream",
                              "text": [
                                    "                   all       1181       2981      0.261     0.0751      0.166     0.0807\n"
                              ]
                        },
                        {
                              "name": "stderr",
                              "output_type": "stream",
                              "text": [
                                    "\n"
                              ]
                        },
                        {
                              "name": "stdout",
                              "output_type": "stream",
                              "text": [
                                    "\n",
                                    "      Epoch    GPU_mem   box_loss   cls_loss   dfl_loss  Instances       Size\n"
                              ]
                        },
                        {
                              "name": "stderr",
                              "output_type": "stream",
                              "text": [
                                    "     35/500      66.1G      1.579      1.339      1.924        175        640: 100%|██████████| 67/67 [00:34<00:00,  1.96it/s]\n",
                                    "                 Class     Images  Instances      Box(P          R      mAP50  mAP50-95): 100%|██████████| 6/6 [00:02<00:00,  2.52it/s]"
                              ]
                        },
                        {
                              "name": "stdout",
                              "output_type": "stream",
                              "text": [
                                    "                   all       1181       2981      0.429      0.101      0.263      0.135\n"
                              ]
                        },
                        {
                              "name": "stderr",
                              "output_type": "stream",
                              "text": [
                                    "\n"
                              ]
                        },
                        {
                              "name": "stdout",
                              "output_type": "stream",
                              "text": [
                                    "\n",
                                    "      Epoch    GPU_mem   box_loss   cls_loss   dfl_loss  Instances       Size\n"
                              ]
                        },
                        {
                              "name": "stderr",
                              "output_type": "stream",
                              "text": [
                                    "     36/500      66.1G      1.577      1.324      1.924        170        640: 100%|██████████| 67/67 [00:34<00:00,  1.95it/s]\n",
                                    "                 Class     Images  Instances      Box(P          R      mAP50  mAP50-95): 100%|██████████| 6/6 [00:02<00:00,  2.35it/s]"
                              ]
                        },
                        {
                              "name": "stdout",
                              "output_type": "stream",
                              "text": [
                                    "                   all       1181       2981      0.423      0.177      0.296       0.15\n"
                              ]
                        },
                        {
                              "name": "stderr",
                              "output_type": "stream",
                              "text": [
                                    "\n"
                              ]
                        },
                        {
                              "name": "stdout",
                              "output_type": "stream",
                              "text": [
                                    "\n",
                                    "      Epoch    GPU_mem   box_loss   cls_loss   dfl_loss  Instances       Size\n"
                              ]
                        },
                        {
                              "name": "stderr",
                              "output_type": "stream",
                              "text": [
                                    "     37/500      66.1G       1.57      1.316       1.92        167        640: 100%|██████████| 67/67 [00:34<00:00,  1.92it/s]\n",
                                    "                 Class     Images  Instances      Box(P          R      mAP50  mAP50-95): 100%|██████████| 6/6 [00:02<00:00,  2.70it/s]"
                              ]
                        },
                        {
                              "name": "stdout",
                              "output_type": "stream",
                              "text": [
                                    "                   all       1181       2981      0.155     0.0248     0.0891     0.0404\n"
                              ]
                        },
                        {
                              "name": "stderr",
                              "output_type": "stream",
                              "text": [
                                    "\n"
                              ]
                        },
                        {
                              "name": "stdout",
                              "output_type": "stream",
                              "text": [
                                    "\n",
                                    "      Epoch    GPU_mem   box_loss   cls_loss   dfl_loss  Instances       Size\n"
                              ]
                        },
                        {
                              "name": "stderr",
                              "output_type": "stream",
                              "text": [
                                    "     38/500      66.1G      1.573      1.324      1.922        166        640: 100%|██████████| 67/67 [00:34<00:00,  1.96it/s]\n",
                                    "                 Class     Images  Instances      Box(P          R      mAP50  mAP50-95): 100%|██████████| 6/6 [00:02<00:00,  2.46it/s]"
                              ]
                        },
                        {
                              "name": "stdout",
                              "output_type": "stream",
                              "text": [
                                    "                   all       1181       2981       0.43      0.157      0.282      0.137\n"
                              ]
                        },
                        {
                              "name": "stderr",
                              "output_type": "stream",
                              "text": [
                                    "\n"
                              ]
                        },
                        {
                              "name": "stdout",
                              "output_type": "stream",
                              "text": [
                                    "\n",
                                    "      Epoch    GPU_mem   box_loss   cls_loss   dfl_loss  Instances       Size\n"
                              ]
                        },
                        {
                              "name": "stderr",
                              "output_type": "stream",
                              "text": [
                                    "     39/500      66.1G      1.572      1.291      1.908        169        640: 100%|██████████| 67/67 [00:34<00:00,  1.96it/s]\n",
                                    "                 Class     Images  Instances      Box(P          R      mAP50  mAP50-95): 100%|██████████| 6/6 [00:02<00:00,  2.57it/s]"
                              ]
                        },
                        {
                              "name": "stdout",
                              "output_type": "stream",
                              "text": [
                                    "                   all       1181       2981      0.461      0.134      0.299      0.147\n"
                              ]
                        },
                        {
                              "name": "stderr",
                              "output_type": "stream",
                              "text": [
                                    "\n"
                              ]
                        },
                        {
                              "name": "stdout",
                              "output_type": "stream",
                              "text": [
                                    "\n",
                                    "      Epoch    GPU_mem   box_loss   cls_loss   dfl_loss  Instances       Size\n"
                              ]
                        },
                        {
                              "name": "stderr",
                              "output_type": "stream",
                              "text": [
                                    "     40/500      66.1G      1.558      1.286      1.907        169        640: 100%|██████████| 67/67 [00:35<00:00,  1.91it/s]\n",
                                    "                 Class     Images  Instances      Box(P          R      mAP50  mAP50-95): 100%|██████████| 6/6 [00:02<00:00,  2.19it/s]"
                              ]
                        },
                        {
                              "name": "stdout",
                              "output_type": "stream",
                              "text": [
                                    "                   all       1181       2981      0.502      0.132      0.312      0.164\n"
                              ]
                        },
                        {
                              "name": "stderr",
                              "output_type": "stream",
                              "text": [
                                    "\n"
                              ]
                        },
                        {
                              "name": "stdout",
                              "output_type": "stream",
                              "text": [
                                    "\n",
                                    "      Epoch    GPU_mem   box_loss   cls_loss   dfl_loss  Instances       Size\n"
                              ]
                        },
                        {
                              "name": "stderr",
                              "output_type": "stream",
                              "text": [
                                    "     41/500      66.1G      1.548      1.274      1.904        171        640: 100%|██████████| 67/67 [00:35<00:00,  1.89it/s]\n",
                                    "                 Class     Images  Instances      Box(P          R      mAP50  mAP50-95): 100%|██████████| 6/6 [00:02<00:00,  2.31it/s]"
                              ]
                        },
                        {
                              "name": "stdout",
                              "output_type": "stream",
                              "text": [
                                    "                   all       1181       2981      0.354      0.169      0.257      0.124\n"
                              ]
                        },
                        {
                              "name": "stderr",
                              "output_type": "stream",
                              "text": [
                                    "\n"
                              ]
                        },
                        {
                              "name": "stdout",
                              "output_type": "stream",
                              "text": [
                                    "\n",
                                    "      Epoch    GPU_mem   box_loss   cls_loss   dfl_loss  Instances       Size\n"
                              ]
                        },
                        {
                              "name": "stderr",
                              "output_type": "stream",
                              "text": [
                                    "     42/500      66.1G      1.558      1.265      1.897        173        640: 100%|██████████| 67/67 [00:34<00:00,  1.93it/s]\n",
                                    "                 Class     Images  Instances      Box(P          R      mAP50  mAP50-95): 100%|██████████| 6/6 [00:02<00:00,  2.32it/s]"
                              ]
                        },
                        {
                              "name": "stdout",
                              "output_type": "stream",
                              "text": [
                                    "                   all       1181       2981      0.418      0.135      0.271      0.135\n"
                              ]
                        },
                        {
                              "name": "stderr",
                              "output_type": "stream",
                              "text": [
                                    "\n"
                              ]
                        },
                        {
                              "name": "stdout",
                              "output_type": "stream",
                              "text": [
                                    "\n",
                                    "      Epoch    GPU_mem   box_loss   cls_loss   dfl_loss  Instances       Size\n"
                              ]
                        },
                        {
                              "name": "stderr",
                              "output_type": "stream",
                              "text": [
                                    "     43/500      66.1G      1.552      1.249      1.897        170        640: 100%|██████████| 67/67 [00:34<00:00,  1.92it/s]\n",
                                    "                 Class     Images  Instances      Box(P          R      mAP50  mAP50-95): 100%|██████████| 6/6 [00:02<00:00,  2.29it/s]"
                              ]
                        },
                        {
                              "name": "stdout",
                              "output_type": "stream",
                              "text": [
                                    "                   all       1181       2981      0.519      0.174      0.339      0.179\n"
                              ]
                        },
                        {
                              "name": "stderr",
                              "output_type": "stream",
                              "text": [
                                    "\n"
                              ]
                        },
                        {
                              "name": "stdout",
                              "output_type": "stream",
                              "text": [
                                    "\n",
                                    "      Epoch    GPU_mem   box_loss   cls_loss   dfl_loss  Instances       Size\n"
                              ]
                        },
                        {
                              "name": "stderr",
                              "output_type": "stream",
                              "text": [
                                    "     44/500      66.1G      1.546      1.252      1.894        171        640: 100%|██████████| 67/67 [00:34<00:00,  1.92it/s]\n",
                                    "                 Class     Images  Instances      Box(P          R      mAP50  mAP50-95): 100%|██████████| 6/6 [00:02<00:00,  2.31it/s]"
                              ]
                        },
                        {
                              "name": "stdout",
                              "output_type": "stream",
                              "text": [
                                    "                   all       1181       2981      0.443      0.154      0.299      0.147\n"
                              ]
                        },
                        {
                              "name": "stderr",
                              "output_type": "stream",
                              "text": [
                                    "\n"
                              ]
                        },
                        {
                              "name": "stdout",
                              "output_type": "stream",
                              "text": [
                                    "\n",
                                    "      Epoch    GPU_mem   box_loss   cls_loss   dfl_loss  Instances       Size\n"
                              ]
                        },
                        {
                              "name": "stderr",
                              "output_type": "stream",
                              "text": [
                                    "     45/500      66.1G      1.546      1.221      1.891        170        640: 100%|██████████| 67/67 [00:34<00:00,  1.92it/s]\n",
                                    "                 Class     Images  Instances      Box(P          R      mAP50  mAP50-95): 100%|██████████| 6/6 [00:02<00:00,  2.35it/s]"
                              ]
                        },
                        {
                              "name": "stdout",
                              "output_type": "stream",
                              "text": [
                                    "                   all       1181       2981      0.512      0.169      0.339      0.162\n"
                              ]
                        },
                        {
                              "name": "stderr",
                              "output_type": "stream",
                              "text": [
                                    "\n"
                              ]
                        },
                        {
                              "name": "stdout",
                              "output_type": "stream",
                              "text": [
                                    "\n",
                                    "      Epoch    GPU_mem   box_loss   cls_loss   dfl_loss  Instances       Size\n"
                              ]
                        },
                        {
                              "name": "stderr",
                              "output_type": "stream",
                              "text": [
                                    "     46/500      66.1G      1.537      1.216      1.888        171        640: 100%|██████████| 67/67 [00:34<00:00,  1.93it/s]\n",
                                    "                 Class     Images  Instances      Box(P          R      mAP50  mAP50-95): 100%|██████████| 6/6 [00:02<00:00,  2.23it/s]"
                              ]
                        },
                        {
                              "name": "stdout",
                              "output_type": "stream",
                              "text": [
                                    "                   all       1181       2981        0.5      0.246      0.372      0.186\n"
                              ]
                        },
                        {
                              "name": "stderr",
                              "output_type": "stream",
                              "text": [
                                    "\n"
                              ]
                        },
                        {
                              "name": "stdout",
                              "output_type": "stream",
                              "text": [
                                    "\n",
                                    "      Epoch    GPU_mem   box_loss   cls_loss   dfl_loss  Instances       Size\n"
                              ]
                        },
                        {
                              "name": "stderr",
                              "output_type": "stream",
                              "text": [
                                    "     47/500      66.1G      1.532      1.199      1.883        169        640: 100%|██████████| 67/67 [00:34<00:00,  1.93it/s]\n",
                                    "                 Class     Images  Instances      Box(P          R      mAP50  mAP50-95): 100%|██████████| 6/6 [00:02<00:00,  2.35it/s]"
                              ]
                        },
                        {
                              "name": "stdout",
                              "output_type": "stream",
                              "text": [
                                    "                   all       1181       2981      0.589      0.198      0.382      0.202\n"
                              ]
                        },
                        {
                              "name": "stderr",
                              "output_type": "stream",
                              "text": [
                                    "\n"
                              ]
                        },
                        {
                              "name": "stdout",
                              "output_type": "stream",
                              "text": [
                                    "\n",
                                    "      Epoch    GPU_mem   box_loss   cls_loss   dfl_loss  Instances       Size\n"
                              ]
                        },
                        {
                              "name": "stderr",
                              "output_type": "stream",
                              "text": [
                                    "     48/500      66.1G      1.536      1.196      1.881        170        640: 100%|██████████| 67/67 [00:34<00:00,  1.92it/s]\n",
                                    "                 Class     Images  Instances      Box(P          R      mAP50  mAP50-95): 100%|██████████| 6/6 [00:02<00:00,  2.33it/s]"
                              ]
                        },
                        {
                              "name": "stdout",
                              "output_type": "stream",
                              "text": [
                                    "                   all       1181       2981      0.607      0.192      0.395      0.191\n"
                              ]
                        },
                        {
                              "name": "stderr",
                              "output_type": "stream",
                              "text": [
                                    "\n"
                              ]
                        },
                        {
                              "name": "stdout",
                              "output_type": "stream",
                              "text": [
                                    "\n",
                                    "      Epoch    GPU_mem   box_loss   cls_loss   dfl_loss  Instances       Size\n"
                              ]
                        },
                        {
                              "name": "stderr",
                              "output_type": "stream",
                              "text": [
                                    "     49/500      66.1G      1.523      1.196      1.875        173        640: 100%|██████████| 67/67 [00:34<00:00,  1.93it/s]\n",
                                    "                 Class     Images  Instances      Box(P          R      mAP50  mAP50-95): 100%|██████████| 6/6 [00:02<00:00,  2.17it/s]"
                              ]
                        },
                        {
                              "name": "stdout",
                              "output_type": "stream",
                              "text": [
                                    "                   all       1181       2981      0.526       0.24      0.374      0.176\n"
                              ]
                        },
                        {
                              "name": "stderr",
                              "output_type": "stream",
                              "text": [
                                    "\n"
                              ]
                        },
                        {
                              "name": "stdout",
                              "output_type": "stream",
                              "text": [
                                    "\n",
                                    "      Epoch    GPU_mem   box_loss   cls_loss   dfl_loss  Instances       Size\n"
                              ]
                        },
                        {
                              "name": "stderr",
                              "output_type": "stream",
                              "text": [
                                    "     50/500      66.1G      1.524      1.176      1.869        174        640: 100%|██████████| 67/67 [00:34<00:00,  1.92it/s]\n",
                                    "                 Class     Images  Instances      Box(P          R      mAP50  mAP50-95): 100%|██████████| 6/6 [00:02<00:00,  2.24it/s]"
                              ]
                        },
                        {
                              "name": "stdout",
                              "output_type": "stream",
                              "text": [
                                    "                   all       1181       2981       0.61      0.234      0.411      0.202\n"
                              ]
                        },
                        {
                              "name": "stderr",
                              "output_type": "stream",
                              "text": [
                                    "\n"
                              ]
                        },
                        {
                              "name": "stdout",
                              "output_type": "stream",
                              "text": [
                                    "\n",
                                    "      Epoch    GPU_mem   box_loss   cls_loss   dfl_loss  Instances       Size\n"
                              ]
                        },
                        {
                              "name": "stderr",
                              "output_type": "stream",
                              "text": [
                                    "     51/500      66.1G      1.509      1.159      1.866        171        640: 100%|██████████| 67/67 [00:34<00:00,  1.92it/s]\n",
                                    "                 Class     Images  Instances      Box(P          R      mAP50  mAP50-95): 100%|██████████| 6/6 [00:02<00:00,  2.19it/s]"
                              ]
                        },
                        {
                              "name": "stdout",
                              "output_type": "stream",
                              "text": [
                                    "                   all       1181       2981      0.529      0.247      0.378      0.187\n"
                              ]
                        },
                        {
                              "name": "stderr",
                              "output_type": "stream",
                              "text": [
                                    "\n"
                              ]
                        },
                        {
                              "name": "stdout",
                              "output_type": "stream",
                              "text": [
                                    "\n",
                                    "      Epoch    GPU_mem   box_loss   cls_loss   dfl_loss  Instances       Size\n"
                              ]
                        },
                        {
                              "name": "stderr",
                              "output_type": "stream",
                              "text": [
                                    "     52/500      66.1G      1.511      1.143      1.868        177        640: 100%|██████████| 67/67 [00:34<00:00,  1.92it/s]\n",
                                    "                 Class     Images  Instances      Box(P          R      mAP50  mAP50-95): 100%|██████████| 6/6 [00:02<00:00,  2.23it/s]"
                              ]
                        },
                        {
                              "name": "stdout",
                              "output_type": "stream",
                              "text": [
                                    "                   all       1181       2981      0.594      0.258      0.406      0.194\n"
                              ]
                        },
                        {
                              "name": "stderr",
                              "output_type": "stream",
                              "text": [
                                    "\n"
                              ]
                        },
                        {
                              "name": "stdout",
                              "output_type": "stream",
                              "text": [
                                    "\n",
                                    "      Epoch    GPU_mem   box_loss   cls_loss   dfl_loss  Instances       Size\n"
                              ]
                        },
                        {
                              "name": "stderr",
                              "output_type": "stream",
                              "text": [
                                    "     53/500      66.1G      1.511      1.156      1.867        172        640: 100%|██████████| 67/67 [00:34<00:00,  1.92it/s]\n",
                                    "                 Class     Images  Instances      Box(P          R      mAP50  mAP50-95): 100%|██████████| 6/6 [00:02<00:00,  2.14it/s]"
                              ]
                        },
                        {
                              "name": "stdout",
                              "output_type": "stream",
                              "text": [
                                    "                   all       1181       2981      0.515      0.274      0.376      0.183\n"
                              ]
                        },
                        {
                              "name": "stderr",
                              "output_type": "stream",
                              "text": [
                                    "\n"
                              ]
                        },
                        {
                              "name": "stdout",
                              "output_type": "stream",
                              "text": [
                                    "\n",
                                    "      Epoch    GPU_mem   box_loss   cls_loss   dfl_loss  Instances       Size\n"
                              ]
                        },
                        {
                              "name": "stderr",
                              "output_type": "stream",
                              "text": [
                                    "     54/500      66.1G      1.502      1.141      1.856        172        640: 100%|██████████| 67/67 [00:34<00:00,  1.92it/s]\n",
                                    "                 Class     Images  Instances      Box(P          R      mAP50  mAP50-95): 100%|██████████| 6/6 [00:02<00:00,  2.20it/s]"
                              ]
                        },
                        {
                              "name": "stdout",
                              "output_type": "stream",
                              "text": [
                                    "                   all       1181       2981      0.596      0.251      0.427      0.214\n"
                              ]
                        },
                        {
                              "name": "stderr",
                              "output_type": "stream",
                              "text": [
                                    "\n"
                              ]
                        },
                        {
                              "name": "stdout",
                              "output_type": "stream",
                              "text": [
                                    "\n",
                                    "      Epoch    GPU_mem   box_loss   cls_loss   dfl_loss  Instances       Size\n"
                              ]
                        },
                        {
                              "name": "stderr",
                              "output_type": "stream",
                              "text": [
                                    "     55/500      65.7G      1.496       1.12      1.854        174        640: 100%|██████████| 67/67 [00:34<00:00,  1.92it/s]\n",
                                    "                 Class     Images  Instances      Box(P          R      mAP50  mAP50-95): 100%|██████████| 6/6 [00:02<00:00,  2.25it/s]"
                              ]
                        },
                        {
                              "name": "stdout",
                              "output_type": "stream",
                              "text": [
                                    "                   all       1181       2981       0.46      0.202      0.318      0.156\n"
                              ]
                        },
                        {
                              "name": "stderr",
                              "output_type": "stream",
                              "text": [
                                    "\n"
                              ]
                        },
                        {
                              "name": "stdout",
                              "output_type": "stream",
                              "text": [
                                    "\n",
                                    "      Epoch    GPU_mem   box_loss   cls_loss   dfl_loss  Instances       Size\n"
                              ]
                        },
                        {
                              "name": "stderr",
                              "output_type": "stream",
                              "text": [
                                    "     56/500      66.1G      1.499      1.118      1.855        170        640: 100%|██████████| 67/67 [00:34<00:00,  1.92it/s]\n",
                                    "                 Class     Images  Instances      Box(P          R      mAP50  mAP50-95): 100%|██████████| 6/6 [00:02<00:00,  2.14it/s]"
                              ]
                        },
                        {
                              "name": "stdout",
                              "output_type": "stream",
                              "text": [
                                    "                   all       1181       2981      0.562      0.273      0.415      0.192\n"
                              ]
                        },
                        {
                              "name": "stderr",
                              "output_type": "stream",
                              "text": [
                                    "\n"
                              ]
                        },
                        {
                              "name": "stdout",
                              "output_type": "stream",
                              "text": [
                                    "\n",
                                    "      Epoch    GPU_mem   box_loss   cls_loss   dfl_loss  Instances       Size\n"
                              ]
                        },
                        {
                              "name": "stderr",
                              "output_type": "stream",
                              "text": [
                                    "     57/500      66.1G      1.494      1.088      1.855        169        640: 100%|██████████| 67/67 [00:34<00:00,  1.92it/s]\n",
                                    "                 Class     Images  Instances      Box(P          R      mAP50  mAP50-95): 100%|██████████| 6/6 [00:02<00:00,  2.10it/s]"
                              ]
                        },
                        {
                              "name": "stdout",
                              "output_type": "stream",
                              "text": [
                                    "                   all       1181       2981       0.61       0.31      0.448      0.205\n"
                              ]
                        },
                        {
                              "name": "stderr",
                              "output_type": "stream",
                              "text": [
                                    "\n"
                              ]
                        },
                        {
                              "name": "stdout",
                              "output_type": "stream",
                              "text": [
                                    "\n",
                                    "      Epoch    GPU_mem   box_loss   cls_loss   dfl_loss  Instances       Size\n"
                              ]
                        },
                        {
                              "name": "stderr",
                              "output_type": "stream",
                              "text": [
                                    "     58/500      66.1G      1.481       1.08      1.839        172        640: 100%|██████████| 67/67 [00:35<00:00,  1.91it/s]\n",
                                    "                 Class     Images  Instances      Box(P          R      mAP50  mAP50-95): 100%|██████████| 6/6 [00:03<00:00,  1.96it/s]"
                              ]
                        },
                        {
                              "name": "stdout",
                              "output_type": "stream",
                              "text": [
                                    "                   all       1181       2981      0.585      0.294      0.418       0.21\n"
                              ]
                        },
                        {
                              "name": "stderr",
                              "output_type": "stream",
                              "text": [
                                    "\n"
                              ]
                        },
                        {
                              "name": "stdout",
                              "output_type": "stream",
                              "text": [
                                    "\n",
                                    "      Epoch    GPU_mem   box_loss   cls_loss   dfl_loss  Instances       Size\n"
                              ]
                        },
                        {
                              "name": "stderr",
                              "output_type": "stream",
                              "text": [
                                    "     59/500        66G      1.481      1.076      1.838        171        640: 100%|██████████| 67/67 [00:34<00:00,  1.95it/s]\n",
                                    "                 Class     Images  Instances      Box(P          R      mAP50  mAP50-95): 100%|██████████| 6/6 [00:02<00:00,  2.20it/s]"
                              ]
                        },
                        {
                              "name": "stdout",
                              "output_type": "stream",
                              "text": [
                                    "                   all       1181       2981      0.603      0.292      0.432       0.22\n"
                              ]
                        },
                        {
                              "name": "stderr",
                              "output_type": "stream",
                              "text": [
                                    "\n"
                              ]
                        },
                        {
                              "name": "stdout",
                              "output_type": "stream",
                              "text": [
                                    "\n",
                                    "      Epoch    GPU_mem   box_loss   cls_loss   dfl_loss  Instances       Size\n"
                              ]
                        },
                        {
                              "name": "stderr",
                              "output_type": "stream",
                              "text": [
                                    "     60/500      66.1G      1.486      1.076      1.842        169        640: 100%|██████████| 67/67 [00:34<00:00,  1.96it/s]\n",
                                    "                 Class     Images  Instances      Box(P          R      mAP50  mAP50-95): 100%|██████████| 6/6 [00:02<00:00,  2.25it/s]"
                              ]
                        },
                        {
                              "name": "stdout",
                              "output_type": "stream",
                              "text": [
                                    "                   all       1181       2981       0.63      0.306      0.461      0.206\n"
                              ]
                        },
                        {
                              "name": "stderr",
                              "output_type": "stream",
                              "text": [
                                    "\n"
                              ]
                        },
                        {
                              "name": "stdout",
                              "output_type": "stream",
                              "text": [
                                    "\n",
                                    "      Epoch    GPU_mem   box_loss   cls_loss   dfl_loss  Instances       Size\n"
                              ]
                        },
                        {
                              "name": "stderr",
                              "output_type": "stream",
                              "text": [
                                    "     61/500      66.1G      1.478       1.07      1.826        176        640: 100%|██████████| 67/67 [00:34<00:00,  1.96it/s]\n",
                                    "                 Class     Images  Instances      Box(P          R      mAP50  mAP50-95): 100%|██████████| 6/6 [00:02<00:00,  2.36it/s]"
                              ]
                        },
                        {
                              "name": "stdout",
                              "output_type": "stream",
                              "text": [
                                    "                   all       1181       2981      0.554      0.238      0.404      0.193\n"
                              ]
                        },
                        {
                              "name": "stderr",
                              "output_type": "stream",
                              "text": [
                                    "\n"
                              ]
                        },
                        {
                              "name": "stdout",
                              "output_type": "stream",
                              "text": [
                                    "\n",
                                    "      Epoch    GPU_mem   box_loss   cls_loss   dfl_loss  Instances       Size\n"
                              ]
                        },
                        {
                              "name": "stderr",
                              "output_type": "stream",
                              "text": [
                                    "     62/500      66.1G      1.465      1.066      1.834        174        640: 100%|██████████| 67/67 [00:34<00:00,  1.96it/s]\n",
                                    "                 Class     Images  Instances      Box(P          R      mAP50  mAP50-95): 100%|██████████| 6/6 [00:02<00:00,  2.31it/s]"
                              ]
                        },
                        {
                              "name": "stdout",
                              "output_type": "stream",
                              "text": [
                                    "                   all       1181       2981      0.651      0.318      0.471      0.242\n"
                              ]
                        },
                        {
                              "name": "stderr",
                              "output_type": "stream",
                              "text": [
                                    "\n"
                              ]
                        },
                        {
                              "name": "stdout",
                              "output_type": "stream",
                              "text": [
                                    "\n",
                                    "      Epoch    GPU_mem   box_loss   cls_loss   dfl_loss  Instances       Size\n"
                              ]
                        },
                        {
                              "name": "stderr",
                              "output_type": "stream",
                              "text": [
                                    "     63/500      66.1G      1.466      1.054       1.83        171        640: 100%|██████████| 67/67 [00:34<00:00,  1.96it/s]\n",
                                    "                 Class     Images  Instances      Box(P          R      mAP50  mAP50-95): 100%|██████████| 6/6 [00:02<00:00,  2.31it/s]"
                              ]
                        },
                        {
                              "name": "stdout",
                              "output_type": "stream",
                              "text": [
                                    "                   all       1181       2981       0.58      0.272      0.419      0.216\n"
                              ]
                        },
                        {
                              "name": "stderr",
                              "output_type": "stream",
                              "text": [
                                    "\n"
                              ]
                        },
                        {
                              "name": "stdout",
                              "output_type": "stream",
                              "text": [
                                    "\n",
                                    "      Epoch    GPU_mem   box_loss   cls_loss   dfl_loss  Instances       Size\n"
                              ]
                        },
                        {
                              "name": "stderr",
                              "output_type": "stream",
                              "text": [
                                    "     64/500      66.1G       1.47      1.044      1.826        168        640: 100%|██████████| 67/67 [00:33<00:00,  1.97it/s]\n",
                                    "                 Class     Images  Instances      Box(P          R      mAP50  mAP50-95): 100%|██████████| 6/6 [00:02<00:00,  2.20it/s]"
                              ]
                        },
                        {
                              "name": "stdout",
                              "output_type": "stream",
                              "text": [
                                    "                   all       1181       2981      0.524      0.286      0.404      0.207\n"
                              ]
                        },
                        {
                              "name": "stderr",
                              "output_type": "stream",
                              "text": [
                                    "\n"
                              ]
                        },
                        {
                              "name": "stdout",
                              "output_type": "stream",
                              "text": [
                                    "\n",
                                    "      Epoch    GPU_mem   box_loss   cls_loss   dfl_loss  Instances       Size\n"
                              ]
                        },
                        {
                              "name": "stderr",
                              "output_type": "stream",
                              "text": [
                                    "     65/500      66.1G      1.455      1.037      1.821        173        640: 100%|██████████| 67/67 [00:34<00:00,  1.96it/s]\n",
                                    "                 Class     Images  Instances      Box(P          R      mAP50  mAP50-95): 100%|██████████| 6/6 [00:02<00:00,  2.24it/s]"
                              ]
                        },
                        {
                              "name": "stdout",
                              "output_type": "stream",
                              "text": [
                                    "                   all       1181       2981      0.651      0.291      0.469      0.249\n"
                              ]
                        },
                        {
                              "name": "stderr",
                              "output_type": "stream",
                              "text": [
                                    "\n"
                              ]
                        },
                        {
                              "name": "stdout",
                              "output_type": "stream",
                              "text": [
                                    "\n",
                                    "      Epoch    GPU_mem   box_loss   cls_loss   dfl_loss  Instances       Size\n"
                              ]
                        },
                        {
                              "name": "stderr",
                              "output_type": "stream",
                              "text": [
                                    "     66/500      66.1G      1.456      1.023      1.811        170        640: 100%|██████████| 67/67 [00:34<00:00,  1.96it/s]\n",
                                    "                 Class     Images  Instances      Box(P          R      mAP50  mAP50-95): 100%|██████████| 6/6 [00:02<00:00,  2.24it/s]"
                              ]
                        },
                        {
                              "name": "stdout",
                              "output_type": "stream",
                              "text": [
                                    "                   all       1181       2981      0.644      0.315      0.489      0.253\n"
                              ]
                        },
                        {
                              "name": "stderr",
                              "output_type": "stream",
                              "text": [
                                    "\n"
                              ]
                        },
                        {
                              "name": "stdout",
                              "output_type": "stream",
                              "text": [
                                    "\n",
                                    "      Epoch    GPU_mem   box_loss   cls_loss   dfl_loss  Instances       Size\n"
                              ]
                        },
                        {
                              "name": "stderr",
                              "output_type": "stream",
                              "text": [
                                    "     67/500      66.1G      1.441      1.004      1.806        176        640: 100%|██████████| 67/67 [00:34<00:00,  1.96it/s]\n",
                                    "                 Class     Images  Instances      Box(P          R      mAP50  mAP50-95): 100%|██████████| 6/6 [00:02<00:00,  2.27it/s]"
                              ]
                        },
                        {
                              "name": "stdout",
                              "output_type": "stream",
                              "text": [
                                    "                   all       1181       2981      0.605      0.271       0.44      0.221\n"
                              ]
                        },
                        {
                              "name": "stderr",
                              "output_type": "stream",
                              "text": [
                                    "\n"
                              ]
                        },
                        {
                              "name": "stdout",
                              "output_type": "stream",
                              "text": [
                                    "\n",
                                    "      Epoch    GPU_mem   box_loss   cls_loss   dfl_loss  Instances       Size\n"
                              ]
                        },
                        {
                              "name": "stderr",
                              "output_type": "stream",
                              "text": [
                                    "     68/500      66.1G      1.441      1.002      1.799        169        640: 100%|██████████| 67/67 [00:34<00:00,  1.94it/s]\n",
                                    "                 Class     Images  Instances      Box(P          R      mAP50  mAP50-95): 100%|██████████| 6/6 [00:02<00:00,  2.21it/s]"
                              ]
                        },
                        {
                              "name": "stdout",
                              "output_type": "stream",
                              "text": [
                                    "                   all       1181       2981      0.578      0.313      0.448      0.224\n"
                              ]
                        },
                        {
                              "name": "stderr",
                              "output_type": "stream",
                              "text": [
                                    "\n"
                              ]
                        },
                        {
                              "name": "stdout",
                              "output_type": "stream",
                              "text": [
                                    "\n",
                                    "      Epoch    GPU_mem   box_loss   cls_loss   dfl_loss  Instances       Size\n"
                              ]
                        },
                        {
                              "name": "stderr",
                              "output_type": "stream",
                              "text": [
                                    "     69/500      66.1G      1.444     0.9992      1.806        174        640: 100%|██████████| 67/67 [00:34<00:00,  1.96it/s]\n",
                                    "                 Class     Images  Instances      Box(P          R      mAP50  mAP50-95): 100%|██████████| 6/6 [00:02<00:00,  2.19it/s]"
                              ]
                        },
                        {
                              "name": "stdout",
                              "output_type": "stream",
                              "text": [
                                    "                   all       1181       2981      0.509       0.34      0.422       0.19\n"
                              ]
                        },
                        {
                              "name": "stderr",
                              "output_type": "stream",
                              "text": [
                                    "\n"
                              ]
                        },
                        {
                              "name": "stdout",
                              "output_type": "stream",
                              "text": [
                                    "\n",
                                    "      Epoch    GPU_mem   box_loss   cls_loss   dfl_loss  Instances       Size\n"
                              ]
                        },
                        {
                              "name": "stderr",
                              "output_type": "stream",
                              "text": [
                                    "     70/500      66.1G      1.432     0.9993        1.8        171        640: 100%|██████████| 67/67 [00:34<00:00,  1.96it/s]\n",
                                    "                 Class     Images  Instances      Box(P          R      mAP50  mAP50-95): 100%|██████████| 6/6 [00:02<00:00,  2.24it/s]"
                              ]
                        },
                        {
                              "name": "stdout",
                              "output_type": "stream",
                              "text": [
                                    "                   all       1181       2981      0.634      0.338      0.487      0.256\n"
                              ]
                        },
                        {
                              "name": "stderr",
                              "output_type": "stream",
                              "text": [
                                    "\n"
                              ]
                        },
                        {
                              "name": "stdout",
                              "output_type": "stream",
                              "text": [
                                    "\n",
                                    "      Epoch    GPU_mem   box_loss   cls_loss   dfl_loss  Instances       Size\n"
                              ]
                        },
                        {
                              "name": "stderr",
                              "output_type": "stream",
                              "text": [
                                    "     71/500      66.1G      1.427     0.9778      1.792        169        640: 100%|██████████| 67/67 [00:34<00:00,  1.96it/s]\n",
                                    "                 Class     Images  Instances      Box(P          R      mAP50  mAP50-95): 100%|██████████| 6/6 [00:02<00:00,  2.17it/s]"
                              ]
                        },
                        {
                              "name": "stdout",
                              "output_type": "stream",
                              "text": [
                                    "                   all       1181       2981      0.598      0.387      0.496      0.239\n"
                              ]
                        },
                        {
                              "name": "stderr",
                              "output_type": "stream",
                              "text": [
                                    "\n"
                              ]
                        },
                        {
                              "name": "stdout",
                              "output_type": "stream",
                              "text": [
                                    "\n",
                                    "      Epoch    GPU_mem   box_loss   cls_loss   dfl_loss  Instances       Size\n"
                              ]
                        },
                        {
                              "name": "stderr",
                              "output_type": "stream",
                              "text": [
                                    "     72/500      66.1G      1.423     0.9618      1.784        169        640: 100%|██████████| 67/67 [00:34<00:00,  1.95it/s]\n",
                                    "                 Class     Images  Instances      Box(P          R      mAP50  mAP50-95): 100%|██████████| 6/6 [00:02<00:00,  2.10it/s]"
                              ]
                        },
                        {
                              "name": "stdout",
                              "output_type": "stream",
                              "text": [
                                    "                   all       1181       2981      0.625      0.316      0.476      0.228\n"
                              ]
                        },
                        {
                              "name": "stderr",
                              "output_type": "stream",
                              "text": [
                                    "\n"
                              ]
                        },
                        {
                              "name": "stdout",
                              "output_type": "stream",
                              "text": [
                                    "\n",
                                    "      Epoch    GPU_mem   box_loss   cls_loss   dfl_loss  Instances       Size\n"
                              ]
                        },
                        {
                              "name": "stderr",
                              "output_type": "stream",
                              "text": [
                                    "     73/500      66.1G      1.424     0.9618      1.795        173        640: 100%|██████████| 67/67 [00:34<00:00,  1.96it/s]\n",
                                    "                 Class     Images  Instances      Box(P          R      mAP50  mAP50-95): 100%|██████████| 6/6 [00:02<00:00,  2.21it/s]"
                              ]
                        },
                        {
                              "name": "stdout",
                              "output_type": "stream",
                              "text": [
                                    "                   all       1181       2981      0.614      0.328      0.467      0.237\n"
                              ]
                        },
                        {
                              "name": "stderr",
                              "output_type": "stream",
                              "text": [
                                    "\n"
                              ]
                        },
                        {
                              "name": "stdout",
                              "output_type": "stream",
                              "text": [
                                    "\n",
                                    "      Epoch    GPU_mem   box_loss   cls_loss   dfl_loss  Instances       Size\n"
                              ]
                        },
                        {
                              "name": "stderr",
                              "output_type": "stream",
                              "text": [
                                    "     74/500      66.1G      1.415     0.9498      1.789        176        640: 100%|██████████| 67/67 [00:34<00:00,  1.92it/s]\n",
                                    "                 Class     Images  Instances      Box(P          R      mAP50  mAP50-95): 100%|██████████| 6/6 [00:02<00:00,  2.20it/s]"
                              ]
                        },
                        {
                              "name": "stdout",
                              "output_type": "stream",
                              "text": [
                                    "                   all       1181       2981      0.561      0.303      0.424      0.209\n"
                              ]
                        },
                        {
                              "name": "stderr",
                              "output_type": "stream",
                              "text": [
                                    "\n"
                              ]
                        },
                        {
                              "name": "stdout",
                              "output_type": "stream",
                              "text": [
                                    "\n",
                                    "      Epoch    GPU_mem   box_loss   cls_loss   dfl_loss  Instances       Size\n"
                              ]
                        },
                        {
                              "name": "stderr",
                              "output_type": "stream",
                              "text": [
                                    "     75/500        66G      1.413     0.9376      1.785        176        640: 100%|██████████| 67/67 [00:34<00:00,  1.96it/s]\n",
                                    "                 Class     Images  Instances      Box(P          R      mAP50  mAP50-95): 100%|██████████| 6/6 [00:02<00:00,  2.15it/s]"
                              ]
                        },
                        {
                              "name": "stdout",
                              "output_type": "stream",
                              "text": [
                                    "                   all       1181       2981      0.643       0.38      0.506      0.239\n"
                              ]
                        },
                        {
                              "name": "stderr",
                              "output_type": "stream",
                              "text": [
                                    "\n"
                              ]
                        },
                        {
                              "name": "stdout",
                              "output_type": "stream",
                              "text": [
                                    "\n",
                                    "      Epoch    GPU_mem   box_loss   cls_loss   dfl_loss  Instances       Size\n"
                              ]
                        },
                        {
                              "name": "stderr",
                              "output_type": "stream",
                              "text": [
                                    "     76/500      66.1G      1.401     0.9305      1.773        171        640: 100%|██████████| 67/67 [00:34<00:00,  1.96it/s]\n",
                                    "                 Class     Images  Instances      Box(P          R      mAP50  mAP50-95): 100%|██████████| 6/6 [00:02<00:00,  2.19it/s]"
                              ]
                        },
                        {
                              "name": "stdout",
                              "output_type": "stream",
                              "text": [
                                    "                   all       1181       2981      0.648      0.381      0.515      0.249\n"
                              ]
                        },
                        {
                              "name": "stderr",
                              "output_type": "stream",
                              "text": [
                                    "\n"
                              ]
                        },
                        {
                              "name": "stdout",
                              "output_type": "stream",
                              "text": [
                                    "\n",
                                    "      Epoch    GPU_mem   box_loss   cls_loss   dfl_loss  Instances       Size\n"
                              ]
                        },
                        {
                              "name": "stderr",
                              "output_type": "stream",
                              "text": [
                                    "     77/500      66.1G      1.404      0.919      1.767        169        640: 100%|██████████| 67/67 [00:34<00:00,  1.96it/s]\n",
                                    "                 Class     Images  Instances      Box(P          R      mAP50  mAP50-95): 100%|██████████| 6/6 [00:02<00:00,  2.16it/s]"
                              ]
                        },
                        {
                              "name": "stdout",
                              "output_type": "stream",
                              "text": [
                                    "                   all       1181       2981      0.633      0.348      0.501      0.251\n"
                              ]
                        },
                        {
                              "name": "stderr",
                              "output_type": "stream",
                              "text": [
                                    "\n"
                              ]
                        },
                        {
                              "name": "stdout",
                              "output_type": "stream",
                              "text": [
                                    "\n",
                                    "      Epoch    GPU_mem   box_loss   cls_loss   dfl_loss  Instances       Size\n"
                              ]
                        },
                        {
                              "name": "stderr",
                              "output_type": "stream",
                              "text": [
                                    "     78/500      65.6G      1.391     0.9037      1.761        170        640: 100%|██████████| 67/67 [00:34<00:00,  1.93it/s]\n",
                                    "                 Class     Images  Instances      Box(P          R      mAP50  mAP50-95): 100%|██████████| 6/6 [00:03<00:00,  1.96it/s]"
                              ]
                        },
                        {
                              "name": "stdout",
                              "output_type": "stream",
                              "text": [
                                    "                   all       1181       2981      0.611      0.399      0.505      0.237\n"
                              ]
                        },
                        {
                              "name": "stderr",
                              "output_type": "stream",
                              "text": [
                                    "\n"
                              ]
                        },
                        {
                              "name": "stdout",
                              "output_type": "stream",
                              "text": [
                                    "\n",
                                    "      Epoch    GPU_mem   box_loss   cls_loss   dfl_loss  Instances       Size\n"
                              ]
                        },
                        {
                              "name": "stderr",
                              "output_type": "stream",
                              "text": [
                                    "     79/500      66.1G      1.389     0.9073      1.754        175        640: 100%|██████████| 67/67 [00:35<00:00,  1.88it/s]\n",
                                    "                 Class     Images  Instances      Box(P          R      mAP50  mAP50-95): 100%|██████████| 6/6 [00:02<00:00,  2.15it/s]"
                              ]
                        },
                        {
                              "name": "stdout",
                              "output_type": "stream",
                              "text": [
                                    "                   all       1181       2981      0.563      0.358      0.462      0.213\n"
                              ]
                        },
                        {
                              "name": "stderr",
                              "output_type": "stream",
                              "text": [
                                    "\n"
                              ]
                        },
                        {
                              "name": "stdout",
                              "output_type": "stream",
                              "text": [
                                    "\n",
                                    "      Epoch    GPU_mem   box_loss   cls_loss   dfl_loss  Instances       Size\n"
                              ]
                        },
                        {
                              "name": "stderr",
                              "output_type": "stream",
                              "text": [
                                    "     80/500      66.1G       1.39     0.8938      1.766        166        640: 100%|██████████| 67/67 [00:34<00:00,  1.96it/s]\n",
                                    "                 Class     Images  Instances      Box(P          R      mAP50  mAP50-95): 100%|██████████| 6/6 [00:02<00:00,  2.18it/s]"
                              ]
                        },
                        {
                              "name": "stdout",
                              "output_type": "stream",
                              "text": [
                                    "                   all       1181       2981      0.577      0.354      0.465      0.207\n"
                              ]
                        },
                        {
                              "name": "stderr",
                              "output_type": "stream",
                              "text": [
                                    "\n"
                              ]
                        },
                        {
                              "name": "stdout",
                              "output_type": "stream",
                              "text": [
                                    "\n",
                                    "      Epoch    GPU_mem   box_loss   cls_loss   dfl_loss  Instances       Size\n"
                              ]
                        },
                        {
                              "name": "stderr",
                              "output_type": "stream",
                              "text": [
                                    "     81/500      66.1G       1.37     0.8924      1.753        174        640: 100%|██████████| 67/67 [00:34<00:00,  1.96it/s]\n",
                                    "                 Class     Images  Instances      Box(P          R      mAP50  mAP50-95): 100%|██████████| 6/6 [00:02<00:00,  2.15it/s]"
                              ]
                        },
                        {
                              "name": "stdout",
                              "output_type": "stream",
                              "text": [
                                    "                   all       1181       2981      0.612      0.403      0.501      0.238\n"
                              ]
                        },
                        {
                              "name": "stderr",
                              "output_type": "stream",
                              "text": [
                                    "\n"
                              ]
                        },
                        {
                              "name": "stdout",
                              "output_type": "stream",
                              "text": [
                                    "\n",
                                    "      Epoch    GPU_mem   box_loss   cls_loss   dfl_loss  Instances       Size\n"
                              ]
                        },
                        {
                              "name": "stderr",
                              "output_type": "stream",
                              "text": [
                                    "     82/500      66.1G      1.364     0.8667      1.744        167        640: 100%|██████████| 67/67 [00:34<00:00,  1.96it/s]\n",
                                    "                 Class     Images  Instances      Box(P          R      mAP50  mAP50-95): 100%|██████████| 6/6 [00:02<00:00,  2.18it/s]"
                              ]
                        },
                        {
                              "name": "stdout",
                              "output_type": "stream",
                              "text": [
                                    "                   all       1181       2981      0.586      0.347      0.467      0.215\n"
                              ]
                        },
                        {
                              "name": "stderr",
                              "output_type": "stream",
                              "text": [
                                    "\n"
                              ]
                        },
                        {
                              "name": "stdout",
                              "output_type": "stream",
                              "text": [
                                    "\n",
                                    "      Epoch    GPU_mem   box_loss   cls_loss   dfl_loss  Instances       Size\n"
                              ]
                        },
                        {
                              "name": "stderr",
                              "output_type": "stream",
                              "text": [
                                    "     83/500      66.1G      1.378     0.8801      1.747        172        640: 100%|██████████| 67/67 [00:34<00:00,  1.94it/s]\n",
                                    "                 Class     Images  Instances      Box(P          R      mAP50  mAP50-95): 100%|██████████| 6/6 [00:02<00:00,  2.15it/s]"
                              ]
                        },
                        {
                              "name": "stdout",
                              "output_type": "stream",
                              "text": [
                                    "                   all       1181       2981      0.668      0.333        0.5      0.236\n"
                              ]
                        },
                        {
                              "name": "stderr",
                              "output_type": "stream",
                              "text": [
                                    "\n"
                              ]
                        },
                        {
                              "name": "stdout",
                              "output_type": "stream",
                              "text": [
                                    "\n",
                                    "      Epoch    GPU_mem   box_loss   cls_loss   dfl_loss  Instances       Size\n"
                              ]
                        },
                        {
                              "name": "stderr",
                              "output_type": "stream",
                              "text": [
                                    "     84/500      66.1G       1.35      0.864      1.734        172        640: 100%|██████████| 67/67 [00:34<00:00,  1.96it/s]\n",
                                    "                 Class     Images  Instances      Box(P          R      mAP50  mAP50-95): 100%|██████████| 6/6 [00:02<00:00,  2.08it/s]"
                              ]
                        },
                        {
                              "name": "stdout",
                              "output_type": "stream",
                              "text": [
                                    "                   all       1181       2981      0.649      0.384      0.516       0.25\n"
                              ]
                        },
                        {
                              "name": "stderr",
                              "output_type": "stream",
                              "text": [
                                    "\n"
                              ]
                        },
                        {
                              "name": "stdout",
                              "output_type": "stream",
                              "text": [
                                    "\n",
                                    "      Epoch    GPU_mem   box_loss   cls_loss   dfl_loss  Instances       Size\n"
                              ]
                        },
                        {
                              "name": "stderr",
                              "output_type": "stream",
                              "text": [
                                    "     85/500      66.1G      1.353     0.8539       1.73        172        640: 100%|██████████| 67/67 [00:34<00:00,  1.96it/s]\n",
                                    "                 Class     Images  Instances      Box(P          R      mAP50  mAP50-95): 100%|██████████| 6/6 [00:02<00:00,  2.11it/s]"
                              ]
                        },
                        {
                              "name": "stdout",
                              "output_type": "stream",
                              "text": [
                                    "                   all       1181       2981      0.581      0.392      0.491      0.232\n"
                              ]
                        },
                        {
                              "name": "stderr",
                              "output_type": "stream",
                              "text": [
                                    "\n"
                              ]
                        },
                        {
                              "name": "stdout",
                              "output_type": "stream",
                              "text": [
                                    "\n",
                                    "      Epoch    GPU_mem   box_loss   cls_loss   dfl_loss  Instances       Size\n"
                              ]
                        },
                        {
                              "name": "stderr",
                              "output_type": "stream",
                              "text": [
                                    "     86/500      66.1G      1.345     0.8373      1.729        173        640: 100%|██████████| 67/67 [00:34<00:00,  1.95it/s]\n",
                                    "                 Class     Images  Instances      Box(P          R      mAP50  mAP50-95): 100%|██████████| 6/6 [00:02<00:00,  2.10it/s]"
                              ]
                        },
                        {
                              "name": "stdout",
                              "output_type": "stream",
                              "text": [
                                    "                   all       1181       2981      0.598      0.417      0.514       0.24\n"
                              ]
                        },
                        {
                              "name": "stderr",
                              "output_type": "stream",
                              "text": [
                                    "\n"
                              ]
                        },
                        {
                              "name": "stdout",
                              "output_type": "stream",
                              "text": [
                                    "\n",
                                    "      Epoch    GPU_mem   box_loss   cls_loss   dfl_loss  Instances       Size\n"
                              ]
                        },
                        {
                              "name": "stderr",
                              "output_type": "stream",
                              "text": [
                                    "     87/500      66.1G       1.35     0.8394      1.723        171        640: 100%|██████████| 67/67 [00:34<00:00,  1.96it/s]\n",
                                    "                 Class     Images  Instances      Box(P          R      mAP50  mAP50-95): 100%|██████████| 6/6 [00:02<00:00,  2.12it/s]"
                              ]
                        },
                        {
                              "name": "stdout",
                              "output_type": "stream",
                              "text": [
                                    "                   all       1181       2981      0.618      0.406      0.508      0.237\n"
                              ]
                        },
                        {
                              "name": "stderr",
                              "output_type": "stream",
                              "text": [
                                    "\n"
                              ]
                        },
                        {
                              "name": "stdout",
                              "output_type": "stream",
                              "text": [
                                    "\n",
                                    "      Epoch    GPU_mem   box_loss   cls_loss   dfl_loss  Instances       Size\n"
                              ]
                        },
                        {
                              "name": "stderr",
                              "output_type": "stream",
                              "text": [
                                    "     88/500      66.1G      1.344     0.8409      1.718        175        640: 100%|██████████| 67/67 [00:34<00:00,  1.96it/s]\n",
                                    "                 Class     Images  Instances      Box(P          R      mAP50  mAP50-95): 100%|██████████| 6/6 [00:02<00:00,  2.13it/s]"
                              ]
                        },
                        {
                              "name": "stdout",
                              "output_type": "stream",
                              "text": [
                                    "                   all       1181       2981      0.617      0.399       0.51      0.239\n"
                              ]
                        },
                        {
                              "name": "stderr",
                              "output_type": "stream",
                              "text": [
                                    "\n"
                              ]
                        },
                        {
                              "name": "stdout",
                              "output_type": "stream",
                              "text": [
                                    "\n",
                                    "      Epoch    GPU_mem   box_loss   cls_loss   dfl_loss  Instances       Size\n"
                              ]
                        },
                        {
                              "name": "stderr",
                              "output_type": "stream",
                              "text": [
                                    "     89/500      66.1G      1.337     0.8169      1.714        178        640: 100%|██████████| 67/67 [00:34<00:00,  1.93it/s]\n",
                                    "                 Class     Images  Instances      Box(P          R      mAP50  mAP50-95): 100%|██████████| 6/6 [00:02<00:00,  2.12it/s]"
                              ]
                        },
                        {
                              "name": "stdout",
                              "output_type": "stream",
                              "text": [
                                    "                   all       1181       2981      0.578      0.403      0.495      0.237\n"
                              ]
                        },
                        {
                              "name": "stderr",
                              "output_type": "stream",
                              "text": [
                                    "\n"
                              ]
                        },
                        {
                              "name": "stdout",
                              "output_type": "stream",
                              "text": [
                                    "\n",
                                    "      Epoch    GPU_mem   box_loss   cls_loss   dfl_loss  Instances       Size\n"
                              ]
                        },
                        {
                              "name": "stderr",
                              "output_type": "stream",
                              "text": [
                                    "     90/500      66.1G      1.328     0.8238      1.707        173        640: 100%|██████████| 67/67 [00:34<00:00,  1.96it/s]\n",
                                    "                 Class     Images  Instances      Box(P          R      mAP50  mAP50-95): 100%|██████████| 6/6 [00:02<00:00,  2.13it/s]"
                              ]
                        },
                        {
                              "name": "stdout",
                              "output_type": "stream",
                              "text": [
                                    "                   all       1181       2981      0.572      0.402      0.493       0.25\n"
                              ]
                        },
                        {
                              "name": "stderr",
                              "output_type": "stream",
                              "text": [
                                    "\n"
                              ]
                        },
                        {
                              "name": "stdout",
                              "output_type": "stream",
                              "text": [
                                    "\n",
                                    "      Epoch    GPU_mem   box_loss   cls_loss   dfl_loss  Instances       Size\n"
                              ]
                        },
                        {
                              "name": "stderr",
                              "output_type": "stream",
                              "text": [
                                    "     91/500      66.1G      1.335     0.8165      1.715        171        640: 100%|██████████| 67/67 [00:34<00:00,  1.96it/s]\n",
                                    "                 Class     Images  Instances      Box(P          R      mAP50  mAP50-95): 100%|██████████| 6/6 [00:02<00:00,  2.11it/s]"
                              ]
                        },
                        {
                              "name": "stdout",
                              "output_type": "stream",
                              "text": [
                                    "                   all       1181       2981       0.53      0.419       0.48      0.226\n"
                              ]
                        },
                        {
                              "name": "stderr",
                              "output_type": "stream",
                              "text": [
                                    "\n"
                              ]
                        },
                        {
                              "name": "stdout",
                              "output_type": "stream",
                              "text": [
                                    "\n",
                                    "      Epoch    GPU_mem   box_loss   cls_loss   dfl_loss  Instances       Size\n"
                              ]
                        },
                        {
                              "name": "stderr",
                              "output_type": "stream",
                              "text": [
                                    "     92/500        66G      1.309     0.8035      1.694        170        640: 100%|██████████| 67/67 [00:34<00:00,  1.96it/s]\n",
                                    "                 Class     Images  Instances      Box(P          R      mAP50  mAP50-95): 100%|██████████| 6/6 [00:02<00:00,  2.12it/s]"
                              ]
                        },
                        {
                              "name": "stdout",
                              "output_type": "stream",
                              "text": [
                                    "                   all       1181       2981      0.615      0.428      0.521      0.252\n"
                              ]
                        },
                        {
                              "name": "stderr",
                              "output_type": "stream",
                              "text": [
                                    "\n"
                              ]
                        },
                        {
                              "name": "stdout",
                              "output_type": "stream",
                              "text": [
                                    "\n",
                                    "      Epoch    GPU_mem   box_loss   cls_loss   dfl_loss  Instances       Size\n"
                              ]
                        },
                        {
                              "name": "stderr",
                              "output_type": "stream",
                              "text": [
                                    "     93/500      66.1G      1.329     0.7996      1.701        174        640: 100%|██████████| 67/67 [00:34<00:00,  1.96it/s]\n",
                                    "                 Class     Images  Instances      Box(P          R      mAP50  mAP50-95): 100%|██████████| 6/6 [00:02<00:00,  2.12it/s]"
                              ]
                        },
                        {
                              "name": "stdout",
                              "output_type": "stream",
                              "text": [
                                    "                   all       1181       2981      0.604      0.415      0.522      0.245\n"
                              ]
                        },
                        {
                              "name": "stderr",
                              "output_type": "stream",
                              "text": [
                                    "\n"
                              ]
                        },
                        {
                              "name": "stdout",
                              "output_type": "stream",
                              "text": [
                                    "\n",
                                    "      Epoch    GPU_mem   box_loss   cls_loss   dfl_loss  Instances       Size\n"
                              ]
                        },
                        {
                              "name": "stderr",
                              "output_type": "stream",
                              "text": [
                                    "     94/500      66.1G      1.308     0.7825      1.689        173        640: 100%|██████████| 67/67 [00:34<00:00,  1.96it/s]\n",
                                    "                 Class     Images  Instances      Box(P          R      mAP50  mAP50-95): 100%|██████████| 6/6 [00:02<00:00,  2.12it/s]"
                              ]
                        },
                        {
                              "name": "stdout",
                              "output_type": "stream",
                              "text": [
                                    "                   all       1181       2981      0.638      0.442      0.552      0.261\n"
                              ]
                        },
                        {
                              "name": "stderr",
                              "output_type": "stream",
                              "text": [
                                    "\n"
                              ]
                        },
                        {
                              "name": "stdout",
                              "output_type": "stream",
                              "text": [
                                    "\n",
                                    "      Epoch    GPU_mem   box_loss   cls_loss   dfl_loss  Instances       Size\n"
                              ]
                        },
                        {
                              "name": "stderr",
                              "output_type": "stream",
                              "text": [
                                    "     95/500      66.1G       1.31     0.7878       1.69        169        640: 100%|██████████| 67/67 [00:34<00:00,  1.95it/s]\n",
                                    "                 Class     Images  Instances      Box(P          R      mAP50  mAP50-95): 100%|██████████| 6/6 [00:02<00:00,  2.12it/s]"
                              ]
                        },
                        {
                              "name": "stdout",
                              "output_type": "stream",
                              "text": [
                                    "                   all       1181       2981      0.596      0.429      0.511      0.249\n"
                              ]
                        },
                        {
                              "name": "stderr",
                              "output_type": "stream",
                              "text": [
                                    "\n"
                              ]
                        },
                        {
                              "name": "stdout",
                              "output_type": "stream",
                              "text": [
                                    "\n",
                                    "      Epoch    GPU_mem   box_loss   cls_loss   dfl_loss  Instances       Size\n"
                              ]
                        },
                        {
                              "name": "stderr",
                              "output_type": "stream",
                              "text": [
                                    "     96/500      66.1G      1.304     0.7646      1.677        173        640: 100%|██████████| 67/67 [00:34<00:00,  1.96it/s]\n",
                                    "                 Class     Images  Instances      Box(P          R      mAP50  mAP50-95): 100%|██████████| 6/6 [00:02<00:00,  2.09it/s]"
                              ]
                        },
                        {
                              "name": "stdout",
                              "output_type": "stream",
                              "text": [
                                    "                   all       1181       2981      0.596      0.426      0.508      0.236\n"
                              ]
                        },
                        {
                              "name": "stderr",
                              "output_type": "stream",
                              "text": [
                                    "\n"
                              ]
                        },
                        {
                              "name": "stdout",
                              "output_type": "stream",
                              "text": [
                                    "\n",
                                    "      Epoch    GPU_mem   box_loss   cls_loss   dfl_loss  Instances       Size\n"
                              ]
                        },
                        {
                              "name": "stderr",
                              "output_type": "stream",
                              "text": [
                                    "     97/500      66.1G      1.293     0.7637      1.671        170        640: 100%|██████████| 67/67 [00:34<00:00,  1.96it/s]\n",
                                    "                 Class     Images  Instances      Box(P          R      mAP50  mAP50-95): 100%|██████████| 6/6 [00:02<00:00,  2.06it/s]"
                              ]
                        },
                        {
                              "name": "stdout",
                              "output_type": "stream",
                              "text": [
                                    "                   all       1181       2981       0.57      0.429        0.5      0.232\n"
                              ]
                        },
                        {
                              "name": "stderr",
                              "output_type": "stream",
                              "text": [
                                    "\n"
                              ]
                        },
                        {
                              "name": "stdout",
                              "output_type": "stream",
                              "text": [
                                    "\n",
                                    "      Epoch    GPU_mem   box_loss   cls_loss   dfl_loss  Instances       Size\n"
                              ]
                        },
                        {
                              "name": "stderr",
                              "output_type": "stream",
                              "text": [
                                    "     98/500      66.1G       1.29     0.7549      1.667        176        640: 100%|██████████| 67/67 [00:34<00:00,  1.96it/s]\n",
                                    "                 Class     Images  Instances      Box(P          R      mAP50  mAP50-95): 100%|██████████| 6/6 [00:02<00:00,  2.19it/s]"
                              ]
                        },
                        {
                              "name": "stdout",
                              "output_type": "stream",
                              "text": [
                                    "                   all       1181       2981      0.642      0.455      0.562       0.25\n"
                              ]
                        },
                        {
                              "name": "stderr",
                              "output_type": "stream",
                              "text": [
                                    "\n"
                              ]
                        },
                        {
                              "name": "stdout",
                              "output_type": "stream",
                              "text": [
                                    "\n",
                                    "      Epoch    GPU_mem   box_loss   cls_loss   dfl_loss  Instances       Size\n"
                              ]
                        },
                        {
                              "name": "stderr",
                              "output_type": "stream",
                              "text": [
                                    "     99/500      66.1G      1.284      0.756      1.671        172        640: 100%|██████████| 67/67 [00:34<00:00,  1.97it/s]\n",
                                    "                 Class     Images  Instances      Box(P          R      mAP50  mAP50-95): 100%|██████████| 6/6 [00:02<00:00,  2.09it/s]"
                              ]
                        },
                        {
                              "name": "stdout",
                              "output_type": "stream",
                              "text": [
                                    "                   all       1181       2981       0.64      0.437      0.547      0.249\n"
                              ]
                        },
                        {
                              "name": "stderr",
                              "output_type": "stream",
                              "text": [
                                    "\n"
                              ]
                        },
                        {
                              "name": "stdout",
                              "output_type": "stream",
                              "text": [
                                    "\n",
                                    "      Epoch    GPU_mem   box_loss   cls_loss   dfl_loss  Instances       Size\n"
                              ]
                        },
                        {
                              "name": "stderr",
                              "output_type": "stream",
                              "text": [
                                    "    100/500      66.1G       1.27     0.7491      1.655        171        640: 100%|██████████| 67/67 [00:34<00:00,  1.92it/s]\n",
                                    "                 Class     Images  Instances      Box(P          R      mAP50  mAP50-95): 100%|██████████| 6/6 [00:02<00:00,  2.10it/s]"
                              ]
                        },
                        {
                              "name": "stdout",
                              "output_type": "stream",
                              "text": [
                                    "                   all       1181       2981      0.597      0.411      0.513      0.235\n"
                              ]
                        },
                        {
                              "name": "stderr",
                              "output_type": "stream",
                              "text": [
                                    "\n"
                              ]
                        },
                        {
                              "name": "stdout",
                              "output_type": "stream",
                              "text": [
                                    "\n",
                                    "      Epoch    GPU_mem   box_loss   cls_loss   dfl_loss  Instances       Size\n"
                              ]
                        },
                        {
                              "name": "stderr",
                              "output_type": "stream",
                              "text": [
                                    "    101/500      65.7G      1.271     0.7493      1.657        173        640: 100%|██████████| 67/67 [00:34<00:00,  1.96it/s]\n",
                                    "                 Class     Images  Instances      Box(P          R      mAP50  mAP50-95): 100%|██████████| 6/6 [00:02<00:00,  2.08it/s]"
                              ]
                        },
                        {
                              "name": "stdout",
                              "output_type": "stream",
                              "text": [
                                    "                   all       1181       2981      0.589      0.414       0.51      0.243\n"
                              ]
                        },
                        {
                              "name": "stderr",
                              "output_type": "stream",
                              "text": [
                                    "\n"
                              ]
                        },
                        {
                              "name": "stdout",
                              "output_type": "stream",
                              "text": [
                                    "\n",
                                    "      Epoch    GPU_mem   box_loss   cls_loss   dfl_loss  Instances       Size\n"
                              ]
                        },
                        {
                              "name": "stderr",
                              "output_type": "stream",
                              "text": [
                                    "    102/500      66.1G      1.257     0.7358      1.646        173        640: 100%|██████████| 67/67 [00:34<00:00,  1.96it/s]\n",
                                    "                 Class     Images  Instances      Box(P          R      mAP50  mAP50-95): 100%|██████████| 6/6 [00:02<00:00,  2.10it/s]"
                              ]
                        },
                        {
                              "name": "stdout",
                              "output_type": "stream",
                              "text": [
                                    "                   all       1181       2981      0.628      0.441       0.54      0.245\n"
                              ]
                        },
                        {
                              "name": "stderr",
                              "output_type": "stream",
                              "text": [
                                    "\n"
                              ]
                        },
                        {
                              "name": "stdout",
                              "output_type": "stream",
                              "text": [
                                    "\n",
                                    "      Epoch    GPU_mem   box_loss   cls_loss   dfl_loss  Instances       Size\n"
                              ]
                        },
                        {
                              "name": "stderr",
                              "output_type": "stream",
                              "text": [
                                    "    103/500      66.1G      1.254      0.734      1.648        173        640: 100%|██████████| 67/67 [00:34<00:00,  1.96it/s]\n",
                                    "                 Class     Images  Instances      Box(P          R      mAP50  mAP50-95): 100%|██████████| 6/6 [00:02<00:00,  2.09it/s]"
                              ]
                        },
                        {
                              "name": "stdout",
                              "output_type": "stream",
                              "text": [
                                    "                   all       1181       2981      0.602       0.45      0.532      0.241\n"
                              ]
                        },
                        {
                              "name": "stderr",
                              "output_type": "stream",
                              "text": [
                                    "\n"
                              ]
                        },
                        {
                              "name": "stdout",
                              "output_type": "stream",
                              "text": [
                                    "\n",
                                    "      Epoch    GPU_mem   box_loss   cls_loss   dfl_loss  Instances       Size\n"
                              ]
                        },
                        {
                              "name": "stderr",
                              "output_type": "stream",
                              "text": [
                                    "    104/500      66.1G      1.247     0.7156      1.635        173        640: 100%|██████████| 67/67 [00:34<00:00,  1.96it/s]\n",
                                    "                 Class     Images  Instances      Box(P          R      mAP50  mAP50-95): 100%|██████████| 6/6 [00:02<00:00,  2.11it/s]"
                              ]
                        },
                        {
                              "name": "stdout",
                              "output_type": "stream",
                              "text": [
                                    "                   all       1181       2981      0.561      0.416      0.496      0.231\n"
                              ]
                        },
                        {
                              "name": "stderr",
                              "output_type": "stream",
                              "text": [
                                    "\n"
                              ]
                        },
                        {
                              "name": "stdout",
                              "output_type": "stream",
                              "text": [
                                    "\n",
                                    "      Epoch    GPU_mem   box_loss   cls_loss   dfl_loss  Instances       Size\n"
                              ]
                        },
                        {
                              "name": "stderr",
                              "output_type": "stream",
                              "text": [
                                    "    105/500      66.1G      1.255     0.7221      1.635        174        640: 100%|██████████| 67/67 [00:34<00:00,  1.96it/s]\n",
                                    "                 Class     Images  Instances      Box(P          R      mAP50  mAP50-95): 100%|██████████| 6/6 [00:02<00:00,  2.12it/s]"
                              ]
                        },
                        {
                              "name": "stdout",
                              "output_type": "stream",
                              "text": [
                                    "                   all       1181       2981      0.591      0.431      0.523      0.247\n"
                              ]
                        },
                        {
                              "name": "stderr",
                              "output_type": "stream",
                              "text": [
                                    "\n"
                              ]
                        },
                        {
                              "name": "stdout",
                              "output_type": "stream",
                              "text": [
                                    "\n",
                                    "      Epoch    GPU_mem   box_loss   cls_loss   dfl_loss  Instances       Size\n"
                              ]
                        },
                        {
                              "name": "stderr",
                              "output_type": "stream",
                              "text": [
                                    "    106/500      66.1G       1.25     0.7226      1.641        172        640: 100%|██████████| 67/67 [00:34<00:00,  1.95it/s]\n",
                                    "                 Class     Images  Instances      Box(P          R      mAP50  mAP50-95): 100%|██████████| 6/6 [00:02<00:00,  2.10it/s]"
                              ]
                        },
                        {
                              "name": "stdout",
                              "output_type": "stream",
                              "text": [
                                    "                   all       1181       2981      0.596      0.465      0.535      0.242\n"
                              ]
                        },
                        {
                              "name": "stderr",
                              "output_type": "stream",
                              "text": [
                                    "\n"
                              ]
                        },
                        {
                              "name": "stdout",
                              "output_type": "stream",
                              "text": [
                                    "\n",
                                    "      Epoch    GPU_mem   box_loss   cls_loss   dfl_loss  Instances       Size\n"
                              ]
                        },
                        {
                              "name": "stderr",
                              "output_type": "stream",
                              "text": [
                                    "    107/500      66.1G      1.248     0.7163      1.633        174        640: 100%|██████████| 67/67 [00:34<00:00,  1.96it/s]\n",
                                    "                 Class     Images  Instances      Box(P          R      mAP50  mAP50-95): 100%|██████████| 6/6 [00:02<00:00,  2.10it/s]"
                              ]
                        },
                        {
                              "name": "stdout",
                              "output_type": "stream",
                              "text": [
                                    "                   all       1181       2981      0.649      0.432      0.537       0.26\n"
                              ]
                        },
                        {
                              "name": "stderr",
                              "output_type": "stream",
                              "text": [
                                    "\n"
                              ]
                        },
                        {
                              "name": "stdout",
                              "output_type": "stream",
                              "text": [
                                    "\n",
                                    "      Epoch    GPU_mem   box_loss   cls_loss   dfl_loss  Instances       Size\n"
                              ]
                        },
                        {
                              "name": "stderr",
                              "output_type": "stream",
                              "text": [
                                    "    108/500      66.1G       1.23     0.7032      1.624        171        640: 100%|██████████| 67/67 [00:34<00:00,  1.96it/s]\n",
                                    "                 Class     Images  Instances      Box(P          R      mAP50  mAP50-95): 100%|██████████| 6/6 [00:02<00:00,  2.11it/s]"
                              ]
                        },
                        {
                              "name": "stdout",
                              "output_type": "stream",
                              "text": [
                                    "                   all       1181       2981      0.631       0.44      0.546      0.256\n"
                              ]
                        },
                        {
                              "name": "stderr",
                              "output_type": "stream",
                              "text": [
                                    "\n"
                              ]
                        },
                        {
                              "name": "stdout",
                              "output_type": "stream",
                              "text": [
                                    "\n",
                                    "      Epoch    GPU_mem   box_loss   cls_loss   dfl_loss  Instances       Size\n"
                              ]
                        },
                        {
                              "name": "stderr",
                              "output_type": "stream",
                              "text": [
                                    "    109/500      66.1G      1.227     0.7038      1.612        170        640: 100%|██████████| 67/67 [00:34<00:00,  1.96it/s]\n",
                                    "                 Class     Images  Instances      Box(P          R      mAP50  mAP50-95): 100%|██████████| 6/6 [00:02<00:00,  2.11it/s]"
                              ]
                        },
                        {
                              "name": "stdout",
                              "output_type": "stream",
                              "text": [
                                    "                   all       1181       2981      0.637      0.445      0.545      0.242\n"
                              ]
                        },
                        {
                              "name": "stderr",
                              "output_type": "stream",
                              "text": [
                                    "\n"
                              ]
                        },
                        {
                              "name": "stdout",
                              "output_type": "stream",
                              "text": [
                                    "\n",
                                    "      Epoch    GPU_mem   box_loss   cls_loss   dfl_loss  Instances       Size\n"
                              ]
                        },
                        {
                              "name": "stderr",
                              "output_type": "stream",
                              "text": [
                                    "    110/500      66.1G      1.221     0.6998      1.615        172        640: 100%|██████████| 67/67 [00:34<00:00,  1.96it/s]\n",
                                    "                 Class     Images  Instances      Box(P          R      mAP50  mAP50-95): 100%|██████████| 6/6 [00:02<00:00,  2.10it/s]"
                              ]
                        },
                        {
                              "name": "stdout",
                              "output_type": "stream",
                              "text": [
                                    "                   all       1181       2981      0.608      0.441      0.519      0.237\n"
                              ]
                        },
                        {
                              "name": "stderr",
                              "output_type": "stream",
                              "text": [
                                    "\n"
                              ]
                        },
                        {
                              "name": "stdout",
                              "output_type": "stream",
                              "text": [
                                    "\n",
                                    "      Epoch    GPU_mem   box_loss   cls_loss   dfl_loss  Instances       Size\n"
                              ]
                        },
                        {
                              "name": "stderr",
                              "output_type": "stream",
                              "text": [
                                    "    111/500      66.1G      1.215     0.6887      1.612        171        640: 100%|██████████| 67/67 [00:34<00:00,  1.96it/s]\n",
                                    "                 Class     Images  Instances      Box(P          R      mAP50  mAP50-95): 100%|██████████| 6/6 [00:02<00:00,  2.10it/s]"
                              ]
                        },
                        {
                              "name": "stdout",
                              "output_type": "stream",
                              "text": [
                                    "                   all       1181       2981      0.614       0.45      0.545      0.251\n"
                              ]
                        },
                        {
                              "name": "stderr",
                              "output_type": "stream",
                              "text": [
                                    "\n"
                              ]
                        },
                        {
                              "name": "stdout",
                              "output_type": "stream",
                              "text": [
                                    "\n",
                                    "      Epoch    GPU_mem   box_loss   cls_loss   dfl_loss  Instances       Size\n"
                              ]
                        },
                        {
                              "name": "stderr",
                              "output_type": "stream",
                              "text": [
                                    "    112/500      66.1G      1.217     0.6903       1.61        169        640: 100%|██████████| 67/67 [00:34<00:00,  1.92it/s]\n",
                                    "                 Class     Images  Instances      Box(P          R      mAP50  mAP50-95): 100%|██████████| 6/6 [00:02<00:00,  2.09it/s]"
                              ]
                        },
                        {
                              "name": "stdout",
                              "output_type": "stream",
                              "text": [
                                    "                   all       1181       2981      0.594      0.444       0.53      0.257\n"
                              ]
                        },
                        {
                              "name": "stderr",
                              "output_type": "stream",
                              "text": [
                                    "\n"
                              ]
                        },
                        {
                              "name": "stdout",
                              "output_type": "stream",
                              "text": [
                                    "\n",
                                    "      Epoch    GPU_mem   box_loss   cls_loss   dfl_loss  Instances       Size\n"
                              ]
                        },
                        {
                              "name": "stderr",
                              "output_type": "stream",
                              "text": [
                                    "    113/500      66.1G      1.212     0.6872      1.604        167        640: 100%|██████████| 67/67 [00:34<00:00,  1.92it/s]\n",
                                    "                 Class     Images  Instances      Box(P          R      mAP50  mAP50-95): 100%|██████████| 6/6 [00:02<00:00,  2.09it/s]"
                              ]
                        },
                        {
                              "name": "stdout",
                              "output_type": "stream",
                              "text": [
                                    "                   all       1181       2981      0.615      0.439      0.526      0.247\n"
                              ]
                        },
                        {
                              "name": "stderr",
                              "output_type": "stream",
                              "text": [
                                    "\n"
                              ]
                        },
                        {
                              "name": "stdout",
                              "output_type": "stream",
                              "text": [
                                    "\n",
                                    "      Epoch    GPU_mem   box_loss   cls_loss   dfl_loss  Instances       Size\n"
                              ]
                        },
                        {
                              "name": "stderr",
                              "output_type": "stream",
                              "text": [
                                    "    114/500      66.1G      1.199     0.6797      1.603        170        640: 100%|██████████| 67/67 [00:34<00:00,  1.96it/s]\n",
                                    "                 Class     Images  Instances      Box(P          R      mAP50  mAP50-95): 100%|██████████| 6/6 [00:02<00:00,  2.09it/s]"
                              ]
                        },
                        {
                              "name": "stdout",
                              "output_type": "stream",
                              "text": [
                                    "                   all       1181       2981      0.613      0.464      0.547      0.248\n"
                              ]
                        },
                        {
                              "name": "stderr",
                              "output_type": "stream",
                              "text": [
                                    "\n"
                              ]
                        },
                        {
                              "name": "stdout",
                              "output_type": "stream",
                              "text": [
                                    "\n",
                                    "      Epoch    GPU_mem   box_loss   cls_loss   dfl_loss  Instances       Size\n"
                              ]
                        },
                        {
                              "name": "stderr",
                              "output_type": "stream",
                              "text": [
                                    "    115/500      66.1G      1.199     0.6717       1.59        172        640: 100%|██████████| 67/67 [00:34<00:00,  1.92it/s]\n",
                                    "                 Class     Images  Instances      Box(P          R      mAP50  mAP50-95): 100%|██████████| 6/6 [00:02<00:00,  2.10it/s]"
                              ]
                        },
                        {
                              "name": "stdout",
                              "output_type": "stream",
                              "text": [
                                    "                   all       1181       2981      0.575      0.441      0.493      0.229\n"
                              ]
                        },
                        {
                              "name": "stderr",
                              "output_type": "stream",
                              "text": [
                                    "\n"
                              ]
                        },
                        {
                              "name": "stdout",
                              "output_type": "stream",
                              "text": [
                                    "\n",
                                    "      Epoch    GPU_mem   box_loss   cls_loss   dfl_loss  Instances       Size\n"
                              ]
                        },
                        {
                              "name": "stderr",
                              "output_type": "stream",
                              "text": [
                                    "    116/500      66.1G       1.19     0.6633      1.584        173        640: 100%|██████████| 67/67 [00:34<00:00,  1.96it/s]\n",
                                    "                 Class     Images  Instances      Box(P          R      mAP50  mAP50-95): 100%|██████████| 6/6 [00:02<00:00,  2.18it/s]"
                              ]
                        },
                        {
                              "name": "stdout",
                              "output_type": "stream",
                              "text": [
                                    "                   all       1181       2981      0.609      0.447      0.528      0.246\n"
                              ]
                        },
                        {
                              "name": "stderr",
                              "output_type": "stream",
                              "text": [
                                    "\n"
                              ]
                        },
                        {
                              "name": "stdout",
                              "output_type": "stream",
                              "text": [
                                    "\n",
                                    "      Epoch    GPU_mem   box_loss   cls_loss   dfl_loss  Instances       Size\n"
                              ]
                        },
                        {
                              "name": "stderr",
                              "output_type": "stream",
                              "text": [
                                    "    117/500      66.1G      1.184     0.6663      1.578        176        640: 100%|██████████| 67/67 [00:34<00:00,  1.97it/s]\n",
                                    "                 Class     Images  Instances      Box(P          R      mAP50  mAP50-95): 100%|██████████| 6/6 [00:02<00:00,  2.09it/s]"
                              ]
                        },
                        {
                              "name": "stdout",
                              "output_type": "stream",
                              "text": [
                                    "                   all       1181       2981      0.637      0.449       0.54      0.259\n"
                              ]
                        },
                        {
                              "name": "stderr",
                              "output_type": "stream",
                              "text": [
                                    "\n"
                              ]
                        },
                        {
                              "name": "stdout",
                              "output_type": "stream",
                              "text": [
                                    "\n",
                                    "      Epoch    GPU_mem   box_loss   cls_loss   dfl_loss  Instances       Size\n"
                              ]
                        },
                        {
                              "name": "stderr",
                              "output_type": "stream",
                              "text": [
                                    "    118/500      66.1G      1.184     0.6554      1.575        174        640: 100%|██████████| 67/67 [00:34<00:00,  1.96it/s]\n",
                                    "                 Class     Images  Instances      Box(P          R      mAP50  mAP50-95): 100%|██████████| 6/6 [00:02<00:00,  2.09it/s]"
                              ]
                        },
                        {
                              "name": "stdout",
                              "output_type": "stream",
                              "text": [
                                    "                   all       1181       2981      0.617      0.463      0.539      0.245\n"
                              ]
                        },
                        {
                              "name": "stderr",
                              "output_type": "stream",
                              "text": [
                                    "\n"
                              ]
                        },
                        {
                              "name": "stdout",
                              "output_type": "stream",
                              "text": [
                                    "\n",
                                    "      Epoch    GPU_mem   box_loss   cls_loss   dfl_loss  Instances       Size\n"
                              ]
                        },
                        {
                              "name": "stderr",
                              "output_type": "stream",
                              "text": [
                                    "    119/500        66G      1.185     0.6431      1.584        170        640: 100%|██████████| 67/67 [00:34<00:00,  1.95it/s]\n",
                                    "                 Class     Images  Instances      Box(P          R      mAP50  mAP50-95): 100%|██████████| 6/6 [00:02<00:00,  2.07it/s]"
                              ]
                        },
                        {
                              "name": "stdout",
                              "output_type": "stream",
                              "text": [
                                    "                   all       1181       2981      0.621      0.432      0.532      0.252\n"
                              ]
                        },
                        {
                              "name": "stderr",
                              "output_type": "stream",
                              "text": [
                                    "\n"
                              ]
                        },
                        {
                              "name": "stdout",
                              "output_type": "stream",
                              "text": [
                                    "\n",
                                    "      Epoch    GPU_mem   box_loss   cls_loss   dfl_loss  Instances       Size\n"
                              ]
                        },
                        {
                              "name": "stderr",
                              "output_type": "stream",
                              "text": [
                                    "    120/500      66.1G      1.162     0.6363      1.561        175        640: 100%|██████████| 67/67 [00:34<00:00,  1.96it/s]\n",
                                    "                 Class     Images  Instances      Box(P          R      mAP50  mAP50-95): 100%|██████████| 6/6 [00:02<00:00,  2.09it/s]"
                              ]
                        },
                        {
                              "name": "stdout",
                              "output_type": "stream",
                              "text": [
                                    "                   all       1181       2981      0.596      0.443      0.529      0.254\n"
                              ]
                        },
                        {
                              "name": "stderr",
                              "output_type": "stream",
                              "text": [
                                    "\n"
                              ]
                        },
                        {
                              "name": "stdout",
                              "output_type": "stream",
                              "text": [
                                    "\n",
                                    "      Epoch    GPU_mem   box_loss   cls_loss   dfl_loss  Instances       Size\n"
                              ]
                        },
                        {
                              "name": "stderr",
                              "output_type": "stream",
                              "text": [
                                    "    121/500      66.1G      1.172     0.6404      1.564        168        640: 100%|██████████| 67/67 [00:34<00:00,  1.93it/s]\n",
                                    "                 Class     Images  Instances      Box(P          R      mAP50  mAP50-95): 100%|██████████| 6/6 [00:02<00:00,  2.11it/s]"
                              ]
                        },
                        {
                              "name": "stdout",
                              "output_type": "stream",
                              "text": [
                                    "                   all       1181       2981      0.633      0.453      0.545      0.256\n"
                              ]
                        },
                        {
                              "name": "stderr",
                              "output_type": "stream",
                              "text": [
                                    "\n"
                              ]
                        },
                        {
                              "name": "stdout",
                              "output_type": "stream",
                              "text": [
                                    "\n",
                                    "      Epoch    GPU_mem   box_loss   cls_loss   dfl_loss  Instances       Size\n"
                              ]
                        },
                        {
                              "name": "stderr",
                              "output_type": "stream",
                              "text": [
                                    "    122/500      66.1G      1.171     0.6458      1.557        168        640: 100%|██████████| 67/67 [00:34<00:00,  1.96it/s]\n",
                                    "                 Class     Images  Instances      Box(P          R      mAP50  mAP50-95): 100%|██████████| 6/6 [00:02<00:00,  2.10it/s]"
                              ]
                        },
                        {
                              "name": "stdout",
                              "output_type": "stream",
                              "text": [
                                    "                   all       1181       2981      0.603      0.444      0.524      0.245\n"
                              ]
                        },
                        {
                              "name": "stderr",
                              "output_type": "stream",
                              "text": [
                                    "\n"
                              ]
                        },
                        {
                              "name": "stdout",
                              "output_type": "stream",
                              "text": [
                                    "\n",
                                    "      Epoch    GPU_mem   box_loss   cls_loss   dfl_loss  Instances       Size\n"
                              ]
                        },
                        {
                              "name": "stderr",
                              "output_type": "stream",
                              "text": [
                                    "    123/500      66.1G      1.147     0.6421      1.546        171        640: 100%|██████████| 67/67 [00:34<00:00,  1.95it/s]\n",
                                    "                 Class     Images  Instances      Box(P          R      mAP50  mAP50-95): 100%|██████████| 6/6 [00:02<00:00,  2.12it/s]"
                              ]
                        },
                        {
                              "name": "stdout",
                              "output_type": "stream",
                              "text": [
                                    "                   all       1181       2981      0.609      0.443      0.519      0.243\n"
                              ]
                        },
                        {
                              "name": "stderr",
                              "output_type": "stream",
                              "text": [
                                    "\n"
                              ]
                        },
                        {
                              "name": "stdout",
                              "output_type": "stream",
                              "text": [
                                    "\n",
                                    "      Epoch    GPU_mem   box_loss   cls_loss   dfl_loss  Instances       Size\n"
                              ]
                        },
                        {
                              "name": "stderr",
                              "output_type": "stream",
                              "text": [
                                    "    124/500      65.7G      1.145     0.6279      1.552        174        640: 100%|██████████| 67/67 [00:34<00:00,  1.96it/s]\n",
                                    "                 Class     Images  Instances      Box(P          R      mAP50  mAP50-95): 100%|██████████| 6/6 [00:02<00:00,  2.12it/s]"
                              ]
                        },
                        {
                              "name": "stdout",
                              "output_type": "stream",
                              "text": [
                                    "                   all       1181       2981      0.629       0.45      0.531      0.248\n",
                                    "\u001b[34m\u001b[1mEarlyStopping: \u001b[0mTraining stopped early as no improvement observed in last 30 epochs. Best results observed at epoch 94, best model saved as best.pt.\n",
                                    "To update EarlyStopping(patience=30) pass a new patience value, i.e. `patience=300` or use `patience=0` to disable EarlyStopping.\n"
                              ]
                        },
                        {
                              "name": "stderr",
                              "output_type": "stream",
                              "text": [
                                    "\n"
                              ]
                        },
                        {
                              "name": "stdout",
                              "output_type": "stream",
                              "text": [
                                    "\n",
                                    "124 epochs completed in 1.315 hours.\n",
                                    "Optimizer stripped from DL504/train53/weights/last.pt, 51.2MB\n",
                                    "Optimizer stripped from DL504/train53/weights/best.pt, 51.2MB\n",
                                    "\n",
                                    "Validating DL504/train53/weights/best.pt...\n",
                                    "Ultralytics 8.3.72 🚀 Python-3.11.10 torch-2.6.0+cu124 CUDA:0 (NVIDIA H100 80GB HBM3, 81110MiB)\n",
                                    "YOLO11l summary (fused): 464 layers, 25,287,793 parameters, 0 gradients, 86.6 GFLOPs\n"
                              ]
                        },
                        {
                              "name": "stderr",
                              "output_type": "stream",
                              "text": [
                                    "                 Class     Images  Instances      Box(P          R      mAP50  mAP50-95): 100%|██████████| 6/6 [00:04<00:00,  1.50it/s]\n"
                              ]
                        },
                        {
                              "name": "stdout",
                              "output_type": "stream",
                              "text": [
                                    "                   all       1181       2981      0.637      0.442      0.552      0.262\n",
                                    "              GRAFFITI         90        174      0.634      0.586      0.634      0.326\n",
                                    "         FADED_SIGNAGE         10         11        0.4      0.364      0.492      0.227\n",
                                    "              POTHOLES        168        373      0.531      0.298      0.367      0.141\n",
                                    "               GARBAGE        573       1315      0.683      0.335       0.49      0.223\n",
                                    "     CONSTRUCTION_ROAD        164        421      0.691      0.632      0.679      0.309\n",
                                    "        BROKEN_SIGNAGE         10         14        0.8      0.286      0.571      0.269\n",
                                    "         BAD_BILLBOARD        146        225      0.595      0.458      0.547       0.31\n",
                                    "          SAND_ON_ROAD         77        112      0.577      0.366      0.471      0.209\n",
                                    "      CLUTTER_SIDEWALK        163        316      0.662      0.693      0.682       0.33\n",
                                    "         UNKEPT_FACADE         10         20        0.8        0.4      0.589      0.271\n",
                                    "Speed: 0.0ms preprocess, 1.1ms inference, 0.0ms loss, 0.5ms postprocess per image\n",
                                    "Results saved to \u001b[1mDL504/train53\u001b[0m\n"
                              ]
                        },
                        {
                              "name": "stderr",
                              "output_type": "stream",
                              "text": [
                                    "\u001b[1;38;5;39mCOMET INFO:\u001b[0m ---------------------------------------------------------------------------------------\n",
                                    "\u001b[1;38;5;39mCOMET INFO:\u001b[0m Comet.ml OfflineExperiment Summary\n",
                                    "\u001b[1;38;5;39mCOMET INFO:\u001b[0m ---------------------------------------------------------------------------------------\n",
                                    "\u001b[1;38;5;39mCOMET INFO:\u001b[0m   Data:\n",
                                    "\u001b[1;38;5;39mCOMET INFO:\u001b[0m     display_summary_level : 1\n",
                                    "\u001b[1;38;5;39mCOMET INFO:\u001b[0m     name                  : Urban-Eye-improved-synth-clsw\n",
                                    "\u001b[1;38;5;39mCOMET INFO:\u001b[0m     url                   : [OfflineExperiment will get URL after upload]\n",
                                    "\u001b[1;38;5;39mCOMET INFO:\u001b[0m   Metrics [count] (min, max):\n",
                                    "\u001b[1;38;5;39mCOMET INFO:\u001b[0m     lr/pg0 [125]               : (0.0032835820895522386, 0.009999120644285004)\n",
                                    "\u001b[1;38;5;39mCOMET INFO:\u001b[0m     lr/pg1 [125]               : (0.0032835820895522386, 0.009999120644285004)\n",
                                    "\u001b[1;38;5;39mCOMET INFO:\u001b[0m     lr/pg2 [125]               : (0.0032835820895522386, 0.009999120644285004)\n",
                                    "\u001b[1;38;5;39mCOMET INFO:\u001b[0m     metrics/mAP50(B) [125]     : (2e-05, 0.56202)\n",
                                    "\u001b[1;38;5;39mCOMET INFO:\u001b[0m     metrics/mAP50-95(B) [125]  : (0.0, 0.26151944884065065)\n",
                                    "\u001b[1;38;5;39mCOMET INFO:\u001b[0m     metrics/precision(B) [125] : (4e-05, 0.6678)\n",
                                    "\u001b[1;38;5;39mCOMET INFO:\u001b[0m     metrics/recall(B) [125]    : (0.00268, 0.46541)\n",
                                    "\u001b[1;38;5;39mCOMET INFO:\u001b[0m     model/GFLOPs               : 87.317\n",
                                    "\u001b[1;38;5;39mCOMET INFO:\u001b[0m     model/parameters           : 25318961\n",
                                    "\u001b[1;38;5;39mCOMET INFO:\u001b[0m     model/speed_PyTorch(ms)    : 1.143\n",
                                    "\u001b[1;38;5;39mCOMET INFO:\u001b[0m     train/box_loss [124]       : (1.14491, 2.38226)\n",
                                    "\u001b[1;38;5;39mCOMET INFO:\u001b[0m     train/cls_loss [124]       : (0.62792, 4.0513)\n",
                                    "\u001b[1;38;5;39mCOMET INFO:\u001b[0m     train/dfl_loss [124]       : (1.54598, 2.65316)\n",
                                    "\u001b[1;38;5;39mCOMET INFO:\u001b[0m     val/box_loss [124]         : (2.01284, 3.92944)\n",
                                    "\u001b[1;38;5;39mCOMET INFO:\u001b[0m     val/cls_loss [124]         : (1.33166, 482.54562)\n",
                                    "\u001b[1;38;5;39mCOMET INFO:\u001b[0m     val/dfl_loss [124]         : (2.40703, 7.1521)\n",
                                    "\u001b[1;38;5;39mCOMET INFO:\u001b[0m   Others:\n",
                                    "\u001b[1;38;5;39mCOMET INFO:\u001b[0m     Created from                 : ultralytics\n",
                                    "\u001b[1;38;5;39mCOMET INFO:\u001b[0m     Name                         : Urban-Eye-improved-synth-clsw\n",
                                    "\u001b[1;38;5;39mCOMET INFO:\u001b[0m     eval_batch_logging_interval  : 1\n",
                                    "\u001b[1;38;5;39mCOMET INFO:\u001b[0m     log_confusion_matrix_on_eval : False\n",
                                    "\u001b[1;38;5;39mCOMET INFO:\u001b[0m     log_image_predictions        : True\n",
                                    "\u001b[1;38;5;39mCOMET INFO:\u001b[0m     max_image_predictions        : 100\n",
                                    "\u001b[1;38;5;39mCOMET INFO:\u001b[0m     offline_experiment           : True\n",
                                    "\u001b[1;38;5;39mCOMET INFO:\u001b[0m   Parameters:\n",
                                    "\u001b[1;38;5;39mCOMET INFO:\u001b[0m     agnostic_nms    : False\n",
                                    "\u001b[1;38;5;39mCOMET INFO:\u001b[0m     amp             : True\n",
                                    "\u001b[1;38;5;39mCOMET INFO:\u001b[0m     augment         : False\n",
                                    "\u001b[1;38;5;39mCOMET INFO:\u001b[0m     auto_augment    : randaugment\n",
                                    "\u001b[1;38;5;39mCOMET INFO:\u001b[0m     batch           : 100\n",
                                    "\u001b[1;38;5;39mCOMET INFO:\u001b[0m     bgr             : 0.0\n",
                                    "\u001b[1;38;5;39mCOMET INFO:\u001b[0m     box             : 7.5\n",
                                    "\u001b[1;38;5;39mCOMET INFO:\u001b[0m     cache           : disk\n",
                                    "\u001b[1;38;5;39mCOMET INFO:\u001b[0m     cfg             : cfg/urbanyet-settings.yaml\n",
                                    "\u001b[1;38;5;39mCOMET INFO:\u001b[0m     classes         : None\n",
                                    "\u001b[1;38;5;39mCOMET INFO:\u001b[0m     close_mosaic    : 10\n",
                                    "\u001b[1;38;5;39mCOMET INFO:\u001b[0m     cls             : 0.5\n",
                                    "\u001b[1;38;5;39mCOMET INFO:\u001b[0m     conf            : 0.25\n",
                                    "\u001b[1;38;5;39mCOMET INFO:\u001b[0m     copy_paste      : 0.1\n",
                                    "\u001b[1;38;5;39mCOMET INFO:\u001b[0m     copy_paste_mode : flip\n",
                                    "\u001b[1;38;5;39mCOMET INFO:\u001b[0m     cos_lr          : True\n",
                                    "\u001b[1;38;5;39mCOMET INFO:\u001b[0m     crop_fraction   : 1.0\n",
                                    "\u001b[1;38;5;39mCOMET INFO:\u001b[0m     data            : /workspace/Smart-Surveillance-for-Cleaner-Cityscapes/ultralytics/cfg/datasets/urbanEye_synth_clsw.yaml\n",
                                    "\u001b[1;38;5;39mCOMET INFO:\u001b[0m     degrees         : 0.0\n",
                                    "\u001b[1;38;5;39mCOMET INFO:\u001b[0m     deterministic   : True\n",
                                    "\u001b[1;38;5;39mCOMET INFO:\u001b[0m     device          : 0\n",
                                    "\u001b[1;38;5;39mCOMET INFO:\u001b[0m     dfl             : 1.5\n",
                                    "\u001b[1;38;5;39mCOMET INFO:\u001b[0m     dnn             : False\n",
                                    "\u001b[1;38;5;39mCOMET INFO:\u001b[0m     dropout         : 0.0\n",
                                    "\u001b[1;38;5;39mCOMET INFO:\u001b[0m     dynamic         : False\n",
                                    "\u001b[1;38;5;39mCOMET INFO:\u001b[0m     embed           : None\n",
                                    "\u001b[1;38;5;39mCOMET INFO:\u001b[0m     epochs          : 500\n",
                                    "\u001b[1;38;5;39mCOMET INFO:\u001b[0m     erasing         : 0.4\n",
                                    "\u001b[1;38;5;39mCOMET INFO:\u001b[0m     exist_ok        : False\n",
                                    "\u001b[1;38;5;39mCOMET INFO:\u001b[0m     fliplr          : 0.5\n",
                                    "\u001b[1;38;5;39mCOMET INFO:\u001b[0m     flipud          : 0.0\n",
                                    "\u001b[1;38;5;39mCOMET INFO:\u001b[0m     format          : torchscript\n",
                                    "\u001b[1;38;5;39mCOMET INFO:\u001b[0m     fraction        : 1.0\n",
                                    "\u001b[1;38;5;39mCOMET INFO:\u001b[0m     freeze          : None\n",
                                    "\u001b[1;38;5;39mCOMET INFO:\u001b[0m     half            : False\n",
                                    "\u001b[1;38;5;39mCOMET INFO:\u001b[0m     hsv_h           : 0.015\n",
                                    "\u001b[1;38;5;39mCOMET INFO:\u001b[0m     hsv_s           : 0.7\n",
                                    "\u001b[1;38;5;39mCOMET INFO:\u001b[0m     hsv_v           : 0.4\n",
                                    "\u001b[1;38;5;39mCOMET INFO:\u001b[0m     imgsz           : 640\n",
                                    "\u001b[1;38;5;39mCOMET INFO:\u001b[0m     int8            : False\n",
                                    "\u001b[1;38;5;39mCOMET INFO:\u001b[0m     iou             : 0.65\n",
                                    "\u001b[1;38;5;39mCOMET INFO:\u001b[0m     keras           : False\n",
                                    "\u001b[1;38;5;39mCOMET INFO:\u001b[0m     kobj            : 1.0\n",
                                    "\u001b[1;38;5;39mCOMET INFO:\u001b[0m     line_width      : None\n",
                                    "\u001b[1;38;5;39mCOMET INFO:\u001b[0m     lr0             : 0.001\n",
                                    "\u001b[1;38;5;39mCOMET INFO:\u001b[0m     lrf             : 0.01\n",
                                    "\u001b[1;38;5;39mCOMET INFO:\u001b[0m     mask_ratio      : 4\n",
                                    "\u001b[1;38;5;39mCOMET INFO:\u001b[0m     max_det         : 300\n",
                                    "\u001b[1;38;5;39mCOMET INFO:\u001b[0m     mixup           : 0.05\n",
                                    "\u001b[1;38;5;39mCOMET INFO:\u001b[0m     mode            : train\n",
                                    "\u001b[1;38;5;39mCOMET INFO:\u001b[0m     model           : yolo11l.pt\n",
                                    "\u001b[1;38;5;39mCOMET INFO:\u001b[0m     momentum        : 0.937\n",
                                    "\u001b[1;38;5;39mCOMET INFO:\u001b[0m     mosaic          : 1.0\n",
                                    "\u001b[1;38;5;39mCOMET INFO:\u001b[0m     multi_scale     : False\n",
                                    "\u001b[1;38;5;39mCOMET INFO:\u001b[0m     name            : train53\n",
                                    "\u001b[1;38;5;39mCOMET INFO:\u001b[0m     nbs             : 64\n",
                                    "\u001b[1;38;5;39mCOMET INFO:\u001b[0m     nms             : False\n",
                                    "\u001b[1;38;5;39mCOMET INFO:\u001b[0m     opset           : None\n",
                                    "\u001b[1;38;5;39mCOMET INFO:\u001b[0m     optimize        : False\n",
                                    "\u001b[1;38;5;39mCOMET INFO:\u001b[0m     optimizer       : auto\n",
                                    "\u001b[1;38;5;39mCOMET INFO:\u001b[0m     overlap_mask    : True\n",
                                    "\u001b[1;38;5;39mCOMET INFO:\u001b[0m     patience        : 30\n",
                                    "\u001b[1;38;5;39mCOMET INFO:\u001b[0m     perspective     : 0.0\n",
                                    "\u001b[1;38;5;39mCOMET INFO:\u001b[0m     plots           : True\n",
                                    "\u001b[1;38;5;39mCOMET INFO:\u001b[0m     pose            : 12.0\n",
                                    "\u001b[1;38;5;39mCOMET INFO:\u001b[0m     pretrained      : True\n",
                                    "\u001b[1;38;5;39mCOMET INFO:\u001b[0m     profile         : False\n",
                                    "\u001b[1;38;5;39mCOMET INFO:\u001b[0m     project         : DL504\n",
                                    "\u001b[1;38;5;39mCOMET INFO:\u001b[0m     rect            : True\n",
                                    "\u001b[1;38;5;39mCOMET INFO:\u001b[0m     resume          : False\n",
                                    "\u001b[1;38;5;39mCOMET INFO:\u001b[0m     retina_masks    : False\n",
                                    "\u001b[1;38;5;39mCOMET INFO:\u001b[0m     save            : True\n",
                                    "\u001b[1;38;5;39mCOMET INFO:\u001b[0m     save_conf       : False\n",
                                    "\u001b[1;38;5;39mCOMET INFO:\u001b[0m     save_crop       : False\n",
                                    "\u001b[1;38;5;39mCOMET INFO:\u001b[0m     save_dir        : DL504/train53\n",
                                    "\u001b[1;38;5;39mCOMET INFO:\u001b[0m     save_frames     : False\n",
                                    "\u001b[1;38;5;39mCOMET INFO:\u001b[0m     save_hybrid     : False\n",
                                    "\u001b[1;38;5;39mCOMET INFO:\u001b[0m     save_json       : False\n",
                                    "\u001b[1;38;5;39mCOMET INFO:\u001b[0m     save_period     : -1\n",
                                    "\u001b[1;38;5;39mCOMET INFO:\u001b[0m     save_txt        : False\n",
                                    "\u001b[1;38;5;39mCOMET INFO:\u001b[0m     scale           : 0.5\n",
                                    "\u001b[1;38;5;39mCOMET INFO:\u001b[0m     seed            : 0\n",
                                    "\u001b[1;38;5;39mCOMET INFO:\u001b[0m     shear           : 0.0\n",
                                    "\u001b[1;38;5;39mCOMET INFO:\u001b[0m     show            : False\n",
                                    "\u001b[1;38;5;39mCOMET INFO:\u001b[0m     show_boxes      : True\n",
                                    "\u001b[1;38;5;39mCOMET INFO:\u001b[0m     show_conf       : True\n",
                                    "\u001b[1;38;5;39mCOMET INFO:\u001b[0m     show_labels     : True\n",
                                    "\u001b[1;38;5;39mCOMET INFO:\u001b[0m     simplify        : True\n",
                                    "\u001b[1;38;5;39mCOMET INFO:\u001b[0m     single_cls      : False\n",
                                    "\u001b[1;38;5;39mCOMET INFO:\u001b[0m     source          : None\n",
                                    "\u001b[1;38;5;39mCOMET INFO:\u001b[0m     split           : val\n",
                                    "\u001b[1;38;5;39mCOMET INFO:\u001b[0m     stream_buffer   : False\n",
                                    "\u001b[1;38;5;39mCOMET INFO:\u001b[0m     task            : detect\n",
                                    "\u001b[1;38;5;39mCOMET INFO:\u001b[0m     time            : None\n",
                                    "\u001b[1;38;5;39mCOMET INFO:\u001b[0m     tracker         : botsort.yaml\n",
                                    "\u001b[1;38;5;39mCOMET INFO:\u001b[0m     translate       : 0.1\n",
                                    "\u001b[1;38;5;39mCOMET INFO:\u001b[0m     val             : True\n",
                                    "\u001b[1;38;5;39mCOMET INFO:\u001b[0m     verbose         : True\n",
                                    "\u001b[1;38;5;39mCOMET INFO:\u001b[0m     vid_stride      : 1\n",
                                    "\u001b[1;38;5;39mCOMET INFO:\u001b[0m     visualize       : False\n",
                                    "\u001b[1;38;5;39mCOMET INFO:\u001b[0m     warmup_bias_lr  : 0.1\n",
                                    "\u001b[1;38;5;39mCOMET INFO:\u001b[0m     warmup_epochs   : 3.0\n",
                                    "\u001b[1;38;5;39mCOMET INFO:\u001b[0m     warmup_momentum : 0.8\n",
                                    "\u001b[1;38;5;39mCOMET INFO:\u001b[0m     weight_decay    : 0.0005\n",
                                    "\u001b[1;38;5;39mCOMET INFO:\u001b[0m     workers         : 32\n",
                                    "\u001b[1;38;5;39mCOMET INFO:\u001b[0m     workspace       : 0\n",
                                    "\u001b[1;38;5;39mCOMET INFO:\u001b[0m   Uploads:\n",
                                    "\u001b[1;38;5;39mCOMET INFO:\u001b[0m     confusion-matrix         : 1\n",
                                    "\u001b[1;38;5;39mCOMET INFO:\u001b[0m     environment details      : 1\n",
                                    "\u001b[1;38;5;39mCOMET INFO:\u001b[0m     filename                 : 1\n",
                                    "\u001b[1;38;5;39mCOMET INFO:\u001b[0m     git metadata             : 1\n",
                                    "\u001b[1;38;5;39mCOMET INFO:\u001b[0m     git-patch (uncompressed) : 1 (373.69 KB)\n",
                                    "\u001b[1;38;5;39mCOMET INFO:\u001b[0m     images                   : 17\n",
                                    "\u001b[1;38;5;39mCOMET INFO:\u001b[0m     installed packages       : 1\n",
                                    "\u001b[1;38;5;39mCOMET INFO:\u001b[0m     model-element            : 1 (48.85 MB)\n",
                                    "\u001b[1;38;5;39mCOMET INFO:\u001b[0m     notebook                 : 1\n",
                                    "\u001b[1;38;5;39mCOMET INFO:\u001b[0m     os packages              : 1\n",
                                    "\u001b[1;38;5;39mCOMET INFO:\u001b[0m     source_code              : 1\n",
                                    "\u001b[1;38;5;39mCOMET INFO:\u001b[0m \n",
                                    "\u001b[1;38;5;214mCOMET WARNING:\u001b[0m To get all data logged automatically, import comet_ml before the following modules: torch.\n",
                                    "\u001b[1;38;5;39mCOMET INFO:\u001b[0m Begin archiving the offline data.\n",
                                    "\u001b[1;38;5;39mCOMET INFO:\u001b[0m To upload this offline experiment, run:\n",
                                    "    comet upload /workspace/Smart-Surveillance-for-Cleaner-Cityscapes/.cometml-runs/38636536254b4cae8f0cd429dfbd8f32.zip\n"
                              ]
                        }
                  ],
                  "source": [
                        "import os\n",
                        "os.environ.pop(\"COMET_EXPERIMENT_NAME\", None)\n",
                        "os.environ[\"COMET_EXPERIMENT_NAME\"] = \"Urban-Eye-improved-synth-clsw\"\n",
                        "from ultralytics import YOLO\n",
                        "# Load a pretrained YOLOv8 model\n",
                        "model = YOLO('yolo11l.pt')  # load an official model\n",
                        "print(\"=========================================================================\")\n",
                        "result = model.train(cfg=\"cfg/urbanyet-settings.yaml\", data=\"urbanEye_synth_clsw.yaml\")  # train with custom settings\n",
                        "\n"
                  ]
            },
            {
                  "cell_type": "markdown",
                  "id": "967afe74",
                  "metadata": {},
                  "source": [
                        "## 7. Models Evaluation on Test Split\n",
                        "\n",
                        "This cell performs the following steps:\n",
                        "\n",
                        "1. **Import dependencies**  \n",
                        "   - Loads the Ultralytics `YOLO` class for model inference  \n",
                        "   - Uses `pandas` for organizing results and `tabulate` for pretty-printing tables  \n",
                        "\n",
                        "2. **Define model checkpoints**  \n",
                        "   Maps descriptive names (e.g. “Urban-Eye-baseline”, “Urban-Eye-improved-synth-clsw”) to the corresponding `.pt` weight files.\n",
                        "\n",
                        "3. **Set evaluation thresholds**  \n",
                        "   - `conf_thresholds`: list of confidence thresholds  \n",
                        "   - `iou_thresholds`: list of IoU thresholds  \n",
                        "\n",
                        "4. **Run validation loop**  \n",
                        "   For each model and each combination of confidence and IoU threshold:\n",
                        "   - Calls `model.val(...)` on the `\"test\"` split  \n",
                        "   - Retrieves metrics:  \n",
                        "     - `mAP50` (AP at IoU=0.5)  \n",
                        "     - `mAP50-95` (AP averaged over IoU=0.5:0.95)  \n",
                        "     - `precision` (mean precision)  \n",
                        "     - `recall` (mean recall)  \n",
                        "   - Records the results and the output directory for each run  \n",
                        "\n",
                        "5. **Aggregate and display results**  \n",
                        "   - Constructs a `DataFrame` from the collected records  \n",
                        "   - Prints a formatted results table showing each model’s performance metrics  \n",
                        "\n"
                  ]
            },
            {
                  "cell_type": "code",
                  "execution_count": null,
                  "id": "b3464ec4",
                  "metadata": {},
                  "outputs": [
                        {
                              "name": "stdout",
                              "output_type": "stream",
                              "text": [
                                    "▶ Evaluating Urban-Eye-baseline\n",
                                    "Ultralytics 8.3.72  Python-3.10.16 torch-2.6.0+cu126 CUDA:0 (NVIDIA GeForce RTX 3070, 8192MiB)\n",
                                    "YOLO11l summary (fused): 464 layers, 25,287,793 parameters, 0 gradients, 86.6 GFLOPs\n"
                              ]
                        },
                        {
                              "name": "stderr",
                              "output_type": "stream",
                              "text": [
                                    "\u001b[34m\u001b[1mval: \u001b[0mScanning E:\\python\\datasets\\urbanEye\\dataset\\labels\\test.cache... 1181 images, 0 backgrounds, 0 corrupt: 100%|██████████| 1181/1181 [00:00<?, ?it/s]\n",
                                    "\u001b[34m\u001b[1mval: \u001b[0mCaching images (1.4GB Disk): 100%|██████████| 1181/1181 [00:00<00:00, 21664.19it/s]\n",
                                    "                 Class     Images  Instances      Box(P          R      mAP50  mAP50-95): 100%|██████████| 74/74 [00:21<00:00,  3.38it/s]\n"
                              ]
                        },
                        {
                              "name": "stdout",
                              "output_type": "stream",
                              "text": [
                                    "                   all       1181       3027      0.471      0.188      0.318       0.16\n",
                                    "              GRAFFITI         97        171      0.778      0.287      0.521      0.279\n",
                                    "         FADED_SIGNAGE         12         18      0.571      0.222      0.349      0.198\n",
                                    "              POTHOLES        169        388      0.347     0.0438      0.187     0.0785\n",
                                    "               GARBAGE        581       1310      0.597      0.193      0.386      0.177\n",
                                    "     CONSTRUCTION_ROAD        157        401      0.733      0.329      0.533      0.236\n",
                                    "        BROKEN_SIGNAGE          9         11          0          0          0          0\n",
                                    "         BAD_BILLBOARD        165        233      0.667      0.292       0.48      0.275\n",
                                    "          SAND_ON_ROAD         74        115      0.292     0.0609      0.167     0.0654\n",
                                    "      CLUTTER_SIDEWALK        172        353      0.725      0.456      0.555      0.291\n",
                                    "         UNKEPT_FACADE         14         27          0          0          0          0\n",
                                    "Speed: 0.3ms preprocess, 13.5ms inference, 0.0ms loss, 1.2ms postprocess per image\n",
                                    "Results saved to \u001b[1me:\\python\\Smart-Surveillance-for-Cleaner-Cityscapes\\runs\\detect\\val54\u001b[0m\n",
                                    "▶ Evaluating Urban-Eye-baseline-with-synth\n",
                                    "Ultralytics 8.3.72  Python-3.10.16 torch-2.6.0+cu126 CUDA:0 (NVIDIA GeForce RTX 3070, 8192MiB)\n",
                                    "YOLO11l summary (fused): 464 layers, 25,287,793 parameters, 0 gradients, 86.6 GFLOPs\n"
                              ]
                        },
                        {
                              "name": "stderr",
                              "output_type": "stream",
                              "text": [
                                    "\u001b[34m\u001b[1mval: \u001b[0mScanning E:\\python\\datasets\\urbanEye\\dataset\\labels\\test.cache... 1181 images, 0 backgrounds, 0 corrupt: 100%|██████████| 1181/1181 [00:00<?, ?it/s]\n",
                                    "\u001b[34m\u001b[1mval: \u001b[0mCaching images (1.4GB Disk): 100%|██████████| 1181/1181 [00:00<00:00, 23549.28it/s]\n",
                                    "                 Class     Images  Instances      Box(P          R      mAP50  mAP50-95): 100%|██████████| 74/74 [00:20<00:00,  3.62it/s]\n"
                              ]
                        },
                        {
                              "name": "stdout",
                              "output_type": "stream",
                              "text": [
                                    "                   all       1181       3027      0.484      0.221      0.344      0.164\n",
                                    "              GRAFFITI         97        171       0.69      0.351      0.536      0.259\n",
                                    "         FADED_SIGNAGE         12         18      0.444      0.222      0.284      0.167\n",
                                    "              POTHOLES        169        388      0.232     0.0335      0.126     0.0619\n",
                                    "               GARBAGE        581       1310      0.637      0.201      0.408      0.178\n",
                                    "     CONSTRUCTION_ROAD        157        401      0.689      0.441      0.556      0.212\n",
                                    "        BROKEN_SIGNAGE          9         11        0.5     0.0909       0.32       0.16\n",
                                    "         BAD_BILLBOARD        165        233      0.539      0.326      0.408      0.218\n",
                                    "          SAND_ON_ROAD         74        115       0.22     0.0783      0.145     0.0681\n",
                                    "      CLUTTER_SIDEWALK        172        353      0.639      0.431      0.499       0.24\n",
                                    "         UNKEPT_FACADE         14         27       0.25      0.037      0.156     0.0779\n",
                                    "Speed: 0.3ms preprocess, 12.9ms inference, 0.0ms loss, 0.7ms postprocess per image\n",
                                    "Results saved to \u001b[1me:\\python\\Smart-Surveillance-for-Cleaner-Cityscapes\\runs\\detect\\val55\u001b[0m\n",
                                    "▶ Evaluating Urban-Eye-improved\n",
                                    "Ultralytics 8.3.72  Python-3.10.16 torch-2.6.0+cu126 CUDA:0 (NVIDIA GeForce RTX 3070, 8192MiB)\n",
                                    "YOLO11l summary (fused): 464 layers, 25,287,793 parameters, 0 gradients, 86.6 GFLOPs\n"
                              ]
                        },
                        {
                              "name": "stderr",
                              "output_type": "stream",
                              "text": [
                                    "\u001b[34m\u001b[1mval: \u001b[0mScanning E:\\python\\datasets\\urbanEye\\dataset\\labels\\test.cache... 1181 images, 0 backgrounds, 0 corrupt: 100%|██████████| 1181/1181 [00:00<?, ?it/s]\n",
                                    "\u001b[34m\u001b[1mval: \u001b[0mCaching images (1.4GB Disk): 100%|██████████| 1181/1181 [00:00<00:00, 25109.10it/s]\n",
                                    "                 Class     Images  Instances      Box(P          R      mAP50  mAP50-95): 100%|██████████| 74/74 [00:21<00:00,  3.38it/s]\n"
                              ]
                        },
                        {
                              "name": "stdout",
                              "output_type": "stream",
                              "text": [
                                    "                   all       1181       3027      0.553      0.358      0.432       0.24\n",
                                    "              GRAFFITI         97        171      0.645      0.456       0.57        0.3\n",
                                    "         FADED_SIGNAGE         12         18      0.375      0.167      0.239      0.168\n",
                                    "              POTHOLES        169        388      0.437      0.222      0.313      0.142\n",
                                    "               GARBAGE        581       1310       0.52      0.462      0.467      0.198\n",
                                    "     CONSTRUCTION_ROAD        157        401      0.564      0.613      0.575      0.247\n",
                                    "        BROKEN_SIGNAGE          9         11          1     0.0909      0.545      0.545\n",
                                    "         BAD_BILLBOARD        165        233      0.587      0.536      0.537      0.272\n",
                                    "          SAND_ON_ROAD         74        115        0.4      0.191      0.266      0.101\n",
                                    "      CLUTTER_SIDEWALK        172        353      0.602      0.694      0.544       0.27\n",
                                    "         UNKEPT_FACADE         14         27        0.4      0.148       0.26       0.16\n",
                                    "Speed: 0.3ms preprocess, 13.4ms inference, 0.0ms loss, 1.0ms postprocess per image\n",
                                    "Results saved to \u001b[1me:\\python\\Smart-Surveillance-for-Cleaner-Cityscapes\\runs\\detect\\val56\u001b[0m\n",
                                    "▶ Evaluating Urban-Eye-improved-synth\n",
                                    "Ultralytics 8.3.72  Python-3.10.16 torch-2.6.0+cu126 CUDA:0 (NVIDIA GeForce RTX 3070, 8192MiB)\n",
                                    "YOLO11l summary (fused): 464 layers, 25,287,793 parameters, 0 gradients, 86.6 GFLOPs\n"
                              ]
                        },
                        {
                              "name": "stderr",
                              "output_type": "stream",
                              "text": [
                                    "\u001b[34m\u001b[1mval: \u001b[0mScanning E:\\python\\datasets\\urbanEye\\dataset\\labels\\test.cache... 1181 images, 0 backgrounds, 0 corrupt: 100%|██████████| 1181/1181 [00:00<?, ?it/s]\n",
                                    "\u001b[34m\u001b[1mval: \u001b[0mCaching images (1.4GB Disk): 100%|██████████| 1181/1181 [00:00<00:00, 23087.09it/s]\n",
                                    "                 Class     Images  Instances      Box(P          R      mAP50  mAP50-95): 100%|██████████| 74/74 [00:20<00:00,  3.52it/s]\n"
                              ]
                        },
                        {
                              "name": "stdout",
                              "output_type": "stream",
                              "text": [
                                    "                   all       1181       3027        0.6      0.293      0.443      0.211\n",
                                    "              GRAFFITI         97        171      0.804      0.263      0.531      0.268\n",
                                    "         FADED_SIGNAGE         12         18        0.5      0.222      0.372      0.198\n",
                                    "              POTHOLES        169        388      0.467      0.219      0.317      0.126\n",
                                    "               GARBAGE        581       1310       0.75      0.224      0.471       0.21\n",
                                    "     CONSTRUCTION_ROAD        157        401      0.647      0.646      0.649      0.266\n",
                                    "        BROKEN_SIGNAGE          9         11          1     0.0909      0.545      0.218\n",
                                    "         BAD_BILLBOARD        165        233      0.624      0.421      0.524      0.293\n",
                                    "          SAND_ON_ROAD         74        115       0.37      0.174      0.266      0.124\n",
                                    "      CLUTTER_SIDEWALK        172        353      0.667      0.635      0.643      0.333\n",
                                    "         UNKEPT_FACADE         14         27      0.167      0.037      0.116     0.0694\n",
                                    "Speed: 0.3ms preprocess, 13.2ms inference, 0.0ms loss, 0.8ms postprocess per image\n",
                                    "Results saved to \u001b[1me:\\python\\Smart-Surveillance-for-Cleaner-Cityscapes\\runs\\detect\\val57\u001b[0m\n",
                                    "▶ Evaluating Urban-Eye-improved-synth-clsw\n",
                                    "Ultralytics 8.3.72  Python-3.10.16 torch-2.6.0+cu126 CUDA:0 (NVIDIA GeForce RTX 3070, 8192MiB)\n",
                                    "YOLO11l summary (fused): 464 layers, 25,287,793 parameters, 0 gradients, 86.6 GFLOPs\n"
                              ]
                        },
                        {
                              "name": "stderr",
                              "output_type": "stream",
                              "text": [
                                    "\u001b[34m\u001b[1mval: \u001b[0mScanning E:\\python\\datasets\\urbanEye\\dataset\\labels\\test.cache... 1181 images, 0 backgrounds, 0 corrupt: 100%|██████████| 1181/1181 [00:00<?, ?it/s]\n",
                                    "\u001b[34m\u001b[1mval: \u001b[0mCaching images (1.4GB Disk): 100%|██████████| 1181/1181 [00:00<00:00, 23853.77it/s]\n",
                                    "                 Class     Images  Instances      Box(P          R      mAP50  mAP50-95): 100%|██████████| 74/74 [00:21<00:00,  3.43it/s]\n"
                              ]
                        },
                        {
                              "name": "stdout",
                              "output_type": "stream",
                              "text": [
                                    "                   all       1181       3027       0.65      0.397      0.513       0.26\n",
                                    "              GRAFFITI         97        171      0.611      0.532      0.587      0.314\n",
                                    "         FADED_SIGNAGE         12         18        0.6      0.333        0.4      0.209\n",
                                    "              POTHOLES        169        388      0.472      0.216      0.314      0.133\n",
                                    "               GARBAGE        581       1310      0.703      0.329      0.502      0.219\n",
                                    "     CONSTRUCTION_ROAD        157        401      0.663      0.671      0.659      0.277\n",
                                    "        BROKEN_SIGNAGE          9         11      0.667      0.182      0.426      0.298\n",
                                    "         BAD_BILLBOARD        165        233      0.645      0.468      0.556      0.311\n",
                                    "          SAND_ON_ROAD         74        115      0.463      0.383      0.412      0.186\n",
                                    "      CLUTTER_SIDEWALK        172        353      0.681      0.745       0.72      0.356\n",
                                    "         UNKEPT_FACADE         14         27          1      0.111      0.556      0.299\n",
                                    "Speed: 0.3ms preprocess, 13.4ms inference, 0.0ms loss, 0.9ms postprocess per image\n",
                                    "Results saved to \u001b[1me:\\python\\Smart-Surveillance-for-Cleaner-Cityscapes\\runs\\detect\\val58\u001b[0m\n",
                                    "+----+-------------------------------+---------+------------+-------------+----------+-----------------------------------------------------------------------+\n",
                                    "|    | model                         |   mAP50 |   mAP50-95 |   precision |   recall | Dir                                                                   |\n",
                                    "+====+===============================+=========+============+=============+==========+=======================================================================+\n",
                                    "|  0 | Urban-Eye-baseline            |   0.318 |      0.160 |       0.471 |    0.188 | e:\\python\\Smart-Surveillance-for-Cleaner-Cityscapes\\runs\\detect\\val54 |\n",
                                    "+----+-------------------------------+---------+------------+-------------+----------+-----------------------------------------------------------------------+\n",
                                    "|  1 | Urban-Eye-baseline-with-synth |   0.344 |      0.164 |       0.484 |    0.221 | e:\\python\\Smart-Surveillance-for-Cleaner-Cityscapes\\runs\\detect\\val55 |\n",
                                    "+----+-------------------------------+---------+------------+-------------+----------+-----------------------------------------------------------------------+\n",
                                    "|  2 | Urban-Eye-improved            |   0.432 |      0.240 |       0.553 |    0.358 | e:\\python\\Smart-Surveillance-for-Cleaner-Cityscapes\\runs\\detect\\val56 |\n",
                                    "+----+-------------------------------+---------+------------+-------------+----------+-----------------------------------------------------------------------+\n",
                                    "|  3 | Urban-Eye-improved-synth      |   0.443 |      0.211 |       0.600 |    0.293 | e:\\python\\Smart-Surveillance-for-Cleaner-Cityscapes\\runs\\detect\\val57 |\n",
                                    "+----+-------------------------------+---------+------------+-------------+----------+-----------------------------------------------------------------------+\n",
                                    "|  4 | Urban-Eye-improved-synth-clsw |   0.513 |      0.260 |       0.650 |    0.397 | e:\\python\\Smart-Surveillance-for-Cleaner-Cityscapes\\runs\\detect\\val58 |\n",
                                    "+----+-------------------------------+---------+------------+-------------+----------+-----------------------------------------------------------------------+\n"
                              ]
                        },
                        {
                              "data": {
                                    "text/plain": [
                                          "<Figure size 640x480 with 1 Axes>"
                                    ]
                              },
                              "metadata": {},
                              "output_type": "display_data"
                        },
                        {
                              "data": {
                                    "text/plain": [
                                          "<Figure size 640x480 with 1 Axes>"
                                    ]
                              },
                              "metadata": {},
                              "output_type": "display_data"
                        },
                        {
                              "data": {
                                    "text/plain": [
                                          "<Figure size 640x480 with 1 Axes>"
                                    ]
                              },
                              "metadata": {},
                              "output_type": "display_data"
                        },
                        {
                              "data": {
                                    "text/plain": [
                                          "<Figure size 640x480 with 1 Axes>"
                                    ]
                              },
                              "metadata": {},
                              "output_type": "display_data"
                        }
                  ],
                  "source": [
                        "from ultralytics import YOLO\n",
                        "import pandas as pd\n",
                        "from tabulate import tabulate\n",
                        "# Map descriptive names to your weight files\n",
                        "# models = {\n",
                        "#     \"Urban-Eye-baseline\":            YOLO(\"DL504/train49/weights/best.pt\"),\n",
                        "#     \"Urban-Eye-baseline-with-synth\": YOLO(\"DL504/train50/weights/best.pt\"),\n",
                        "#     \"Urban-Eye-improved\":            YOLO(\"DL504/train51/weights/best.pt\"),\n",
                        "#     \"Urban-Eye-improved-synth\":      YOLO(\"DL504/train52/weights/best.pt\"),\n",
                        "#     \"Urban-Eye-improved-synth-clsw\": YOLO(\"DL504/train53/weights/best.pt\"),\n",
                        "# }\n",
                        "models = {\n",
                        "    \"Urban-Eye-baseline\":            YOLO(\"weights/urbanEye-1-baseline.pt\"),\n",
                        "    \"Urban-Eye-baseline-with-synth\": YOLO(\"weights/urbanEye-2-baseline-synth.pt\"),\n",
                        "    \"Urban-Eye-improved\":            YOLO(\"weights/urbanEye-3-augmented.pt\"),\n",
                        "    \"Urban-Eye-improved-synth\":      YOLO(\"weights/urbanEye-4-improved-synth.pt\"),\n",
                        "    \"Urban-Eye-improved-synth-clsw\": YOLO(\"weights/urbanEye-5-improved-synth-updated_loss.pt\"),\n",
                        "}\n",
                        "\n",
                        "# conf_thresholds = [0.25, 0.40, 0.55, 0.75]\n",
                        "# iou_thresholds = [0.30, 0.40, 0.50, 0.60]\n",
                        "\n",
                        "conf_thresholds = [0.25]\n",
                        "iou_thresholds = [0.65]\n",
                        "\n",
                        "# conf_thresholds = [0.25, 0.5, 0.75]\n",
                        "# iou_thresholds = [0.45, 0.5, 0.6]\n",
                        "\n",
                        "records = []\n",
                        "\n",
                        "for name, model in models.items():\n",
                        "    for conf in conf_thresholds:\n",
                        "        for iou in iou_thresholds:\n",
                        "            print(f\"▶ Evaluating {name}\")\n",
                        "            metrics  = model.val(\n",
                        "                data=\"urbanEye_synth_clsw.yaml\", \n",
                        "                cache=\"disk\",\n",
                        "                split=\"test\",\n",
                        "                conf=conf,\n",
                        "                iou=iou,\n",
                        "                plots=True\n",
                        "            )\n",
                        "            results = metrics.results_dict\n",
                        "            record = {\n",
                        "                \"model\": name,\n",
                        "                # \"conf\": conf,\n",
                        "                # \"iou\": iou,\n",
                        "                \"mAP50\": round(metrics.box.map50, 3),\n",
                        "                \"mAP50-95\": round(metrics.box.map, 3),\n",
                        "                \"precision\": round(metrics.box.mp, 3),\n",
                        "                \"recall\": round(metrics.box.mr, 3),\n",
                        "                \"Dir\": metrics.save_dir\n",
                        "            }\n",
                        "\n",
                        "\n",
                        "            records.append(record)\n",
                        "\n",
                        "df = pd.DataFrame(records)\n",
                        "print(tabulate(df, headers=\"keys\", tablefmt=\"grid\", floatfmt=\".3f\"))\n"
                  ]
            },
            {
                  "cell_type": "code",
                  "execution_count": 5,
                  "id": "9f3c2b89",
                  "metadata": {},
                  "outputs": [
                        {
                              "data": {
                                    "image/png": "[encoded data removed]",
                                    "text/plain": [
                                          "<Figure size 1400x1000 with 4 Axes>"
                                    ]
                              },
                              "metadata": {},
                              "output_type": "display_data"
                        }
                  ],
                  "source": [
                        "%matplotlib inline\n",
                        "import matplotlib.pyplot as plt\n",
                        "\n",
                        "# List of metrics and model names\n",
                        "metrics = ['mAP50', 'mAP50-95', 'precision', 'recall']\n",
                        "models_list = df['model'].tolist()\n",
                        "\n",
                        "# Assign a distinct color to each model\n",
                        "colors = plt.cm.tab10.colors[:len(models_list)]\n",
                        "color_map = dict(zip(models_list, colors))\n",
                        "\n",
                        "# Create 2x2 subplots\n",
                        "fig, axes = plt.subplots(2, 2, figsize=(14, 10))\n",
                        "axes = axes.flatten()\n",
                        "\n",
                        "for ax, metric in zip(axes, metrics):\n",
                        "    # Plot each model as its own colored bar\n",
                        "    for model in models_list:\n",
                        "        value = df.loc[df['model'] == model, metric].values[0]\n",
                        "        ax.bar(model, value, color=color_map[model])\n",
                        "    ax.set_title(metric)\n",
                        "    ax.set_xlabel('Model')\n",
                        "    ax.set_ylabel(metric)\n",
                        "    ax.tick_params(axis='x', rotation=45)\n",
                        "\n",
                        "# Add a single legend for all subplots\n",
                        "handles = [plt.Rectangle((0,0),1,1, color=color_map[m]) for m in models_list]\n",
                        "fig.legend(handles, models_list, title='Model', loc='upper center', ncol=len(models_list))\n",
                        "\n",
                        "plt.tight_layout(rect=[0, 0, 1, 0.94])\n",
                        "plt.show()\n"
                  ]
            },
            {
                  "cell_type": "markdown",
                  "id": "22858d89",
                  "metadata": {},
                  "source": [
                        "## 8. Best Model (`urbanEye-final.pt`) Evaluation on both Val & Test Splits"
                  ]
            },
            {
                  "cell_type": "code",
                  "execution_count": 6,
                  "id": "705ce276",
                  "metadata": {},
                  "outputs": [
                        {
                              "name": "stdout",
                              "output_type": "stream",
                              "text": [
                                    "Ultralytics 8.3.72  Python-3.10.16 torch-2.6.0+cu126 CUDA:0 (NVIDIA GeForce RTX 3070, 8192MiB)\n",
                                    "YOLO11l summary (fused): 464 layers, 25,287,793 parameters, 0 gradients, 86.6 GFLOPs\n"
                              ]
                        },
                        {
                              "name": "stderr",
                              "output_type": "stream",
                              "text": [
                                    "\u001b[34m\u001b[1mval: \u001b[0mScanning E:\\python\\datasets\\urbanEye\\dataset\\labels\\eval... 1181 images, 0 backgrounds, 0 corrupt: 100%|██████████| 1181/1181 [00:02<00:00, 555.15it/s]\n"
                              ]
                        },
                        {
                              "name": "stdout",
                              "output_type": "stream",
                              "text": [
                                    "\u001b[34m\u001b[1mval: \u001b[0mNew cache created: E:\\python\\datasets\\urbanEye\\dataset\\labels\\eval.cache\n"
                              ]
                        },
                        {
                              "name": "stderr",
                              "output_type": "stream",
                              "text": [
                                    "                 Class     Images  Instances      Box(P          R      mAP50  mAP50-95): 100%|██████████| 74/74 [00:20<00:00,  3.56it/s]\n"
                              ]
                        },
                        {
                              "name": "stdout",
                              "output_type": "stream",
                              "text": [
                                    "                   all       1181       2981      0.691      0.375      0.544      0.264\n",
                                    "              GRAFFITI         90        174       0.66      0.546      0.626      0.328\n",
                                    "         FADED_SIGNAGE         10         11      0.444      0.364      0.506      0.234\n",
                                    "              POTHOLES        168        373      0.579      0.188      0.354       0.14\n",
                                    "               GARBAGE        573       1315      0.733      0.268      0.484      0.224\n",
                                    "     CONSTRUCTION_ROAD        164        421      0.753      0.551      0.662      0.312\n",
                                    "        BROKEN_SIGNAGE         10         14          1      0.214      0.607      0.301\n",
                                    "         BAD_BILLBOARD        146        225       0.63      0.409      0.542      0.313\n",
                                    "          SAND_ON_ROAD         77        112      0.667      0.286      0.474       0.22\n",
                                    "      CLUTTER_SIDEWALK        163        316       0.69       0.62      0.662      0.327\n",
                                    "         UNKEPT_FACADE         10         20       0.75        0.3      0.526      0.241\n",
                                    "Speed: 0.3ms preprocess, 12.9ms inference, 0.0ms loss, 0.8ms postprocess per image\n",
                                    "Results saved to \u001b[1me:\\python\\Smart-Surveillance-for-Cleaner-Cityscapes\\runs\\detect\\val59\u001b[0m\n",
                                    "Ultralytics 8.3.72  Python-3.10.16 torch-2.6.0+cu126 CUDA:0 (NVIDIA GeForce RTX 3070, 8192MiB)\n"
                              ]
                        },
                        {
                              "name": "stderr",
                              "output_type": "stream",
                              "text": [
                                    "\u001b[34m\u001b[1mval: \u001b[0mScanning E:\\python\\datasets\\urbanEye\\dataset\\labels\\test.cache... 1181 images, 0 backgrounds, 0 corrupt: 100%|██████████| 1181/1181 [00:00<?, ?it/s]\n",
                                    "                 Class     Images  Instances      Box(P          R      mAP50  mAP50-95): 100%|██████████| 74/74 [00:21<00:00,  3.41it/s]\n"
                              ]
                        },
                        {
                              "name": "stdout",
                              "output_type": "stream",
                              "text": [
                                    "                   all       1181       3027       0.69      0.357      0.512      0.264\n",
                                    "              GRAFFITI         97        171      0.685      0.509      0.598      0.324\n",
                                    "         FADED_SIGNAGE         12         18        0.6      0.333        0.4      0.209\n",
                                    "              POTHOLES        169        388      0.538      0.144      0.323      0.154\n",
                                    "               GARBAGE        581       1310      0.729       0.26      0.486      0.219\n",
                                    "     CONSTRUCTION_ROAD        157        401      0.716      0.608      0.648      0.277\n",
                                    "        BROKEN_SIGNAGE          9         11      0.667      0.182      0.426      0.298\n",
                                    "         BAD_BILLBOARD        165        233      0.676      0.403      0.543      0.312\n",
                                    "          SAND_ON_ROAD         74        115      0.554      0.313      0.424      0.193\n",
                                    "      CLUTTER_SIDEWALK        172        353      0.737      0.705      0.714      0.354\n",
                                    "         UNKEPT_FACADE         14         27          1      0.111      0.556      0.299\n",
                                    "Speed: 0.3ms preprocess, 13.6ms inference, 0.0ms loss, 0.9ms postprocess per image\n",
                                    "Results saved to \u001b[1me:\\python\\Smart-Surveillance-for-Cleaner-Cityscapes\\runs\\detect\\val60\u001b[0m\n"
                              ]
                        }
                  ],
                  "source": [
                        "from ultralytics import YOLO\n",
                        "\n",
                        "\n",
                        "model = YOLO(\"urbanEye-final.pt\")\n",
                        "# res = model.val(\n",
                        "#     data=\"urbanEye_synth_clsw.yaml\",\n",
                        "#     split=\"test\",\n",
                        "#     plots=True\n",
                        "# )\n",
                        "res = model.val(\n",
                        "    data=\"urbanEye_synth_clsw.yaml\",\n",
                        "    split=\"val\",\n",
                        "    conf=0.35,\n",
                        "    iou=0.65\n",
                        ")\n",
                        "\n",
                        "res = model.val(\n",
                        "    data=\"urbanEye_synth_clsw.yaml\",\n",
                        "    split=\"test\",\n",
                        "    conf=0.35,\n",
                        "    iou=0.65\n",
                        ")"
                  ]
            }
      ],
      "metadata": {
            "kernelspec": {
                  "display_name": "pycuda",
                  "language": "python",
                  "name": "python3"
            },
            "language_info": {
                  "codemirror_mode": {
                        "name": "ipython",
                        "version": 3
                  },
                  "file_extension": ".py",
                  "mimetype": "text/x-python",
                  "name": "python",
                  "nbconvert_exporter": "python",
                  "pygments_lexer": "ipython3",
                  "version": "3.10.16"
            }
      },
      "nbformat": 4,
      "nbformat_minor": 5
}
