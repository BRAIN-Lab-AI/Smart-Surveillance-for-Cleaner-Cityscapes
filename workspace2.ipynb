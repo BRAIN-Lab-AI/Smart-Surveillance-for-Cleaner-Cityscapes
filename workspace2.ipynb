{
 "cells": [
  {
   "cell_type": "code",
   "execution_count": null,
   "id": "df6cdce4",
   "metadata": {},
   "outputs": [],
   "source": [
    "!nvidia-smi"
   ]
  },
  {
   "cell_type": "code",
   "execution_count": null,
   "id": "92e0faac",
   "metadata": {},
   "outputs": [],
   "source": [
    "import ultralytics"
   ]
  },
  {
   "cell_type": "code",
   "execution_count": null,
   "id": "afd6291d",
   "metadata": {},
   "outputs": [],
   "source": [
    "ultralytics.checks()"
   ]
  },
  {
   "cell_type": "code",
   "execution_count": null,
   "id": "8e9fe185",
   "metadata": {},
   "outputs": [],
   "source": [
    "#@title Select YOLO11 🚀 logger {run: 'auto'}\n",
    "logger = 'Comet' #@param ['Comet', 'TensorBoard']\n",
    "\n",
    "if logger == 'Comet':\n",
    "  %pip install -q comet_ml\n",
    "  import comet_ml; comet_ml.init()\n",
    "elif logger == 'TensorBoard':\n",
    "  %load_ext tensorboard\n",
    "  %tensorboard --logdir ."
   ]
  },
  {
   "cell_type": "markdown",
   "id": "82a24294",
   "metadata": {},
   "source": [
    "Baseline with resized images\n",
    "Baseline with resized images and synthetic images\n",
    "improved with resized images\n",
    "improved with resized images and synthetic images\n",
    "improved with resized images and synthetic images and class weights\n",
    "\n",
    "Datasets yamls:  \n",
    "    urbanEye_synth_clsw.yaml  \n",
    "    urbanEye-no-clsw-no-Synth.yaml  \n",
    "    urbanEye-synth-no_clsw.yaml  \n",
    "    urbanEye-no_synth-clws.yaml  \n",
    "\n",
    "experiment 1: baseline model with resized images\n"
   ]
  },
  {
   "cell_type": "code",
   "execution_count": null,
   "id": "7887a4ae",
   "metadata": {},
   "outputs": [],
   "source": [
    "import os\n",
    "os.environ.pop(\"COMET_EXPERIMENT_NAME\", None)\n",
    "os.environ[\"COMET_EXPERIMENT_NAME\"] = \"Urban-Eye-baseline\"\n",
    "from ultralytics import YOLO\n",
    "# Load a pretrained YOLOv8 model\n",
    "model = YOLO('yolo11l.pt')  # load an official model\n",
    "print(\"=========================================================================\")\n",
    "result = model.train(cfg=\"cfg/default-no-reg.yaml\", data=\"urbanEye-no-clsw-no-Synth.yaml\")  # train with custom settings\n",
    "\n"
   ]
  },
  {
   "cell_type": "code",
   "execution_count": null,
   "id": "38d9b872",
   "metadata": {},
   "outputs": [],
   "source": [
    "import os\n",
    "os.environ.pop(\"COMET_EXPERIMENT_NAME\", None)\n",
    "os.environ[\"COMET_EXPERIMENT_NAME\"] = \"Urban-Eye-baseline-with-synth\"\n",
    "from ultralytics import YOLO\n",
    "# Load a pretrained YOLOv8 model\n",
    "model = YOLO('yolo11l.pt')  # load an official model\n",
    "print(\"=========================================================================\")\n",
    "result = model.train(cfg=\"cfg/default-no-reg.yaml\", data=\"urbanEye-synth-no_clsw.yaml\")  # train with custom settings\n",
    "\n"
   ]
  },
  {
   "cell_type": "code",
   "execution_count": null,
   "id": "ebd160db",
   "metadata": {},
   "outputs": [],
   "source": [
    "import os\n",
    "os.environ.pop(\"COMET_EXPERIMENT_NAME\", None)\n",
    "os.environ[\"COMET_EXPERIMENT_NAME\"] = \"Urban-Eye-improved\"\n",
    "from ultralytics import YOLO\n",
    "# Load a pretrained YOLOv8 model\n",
    "model = YOLO('yolo11l.pt')  # load an official model\n",
    "print(\"=========================================================================\")\n",
    "result = model.train(cfg=\"cfg/urbanyet-settings.yaml\", data=\"urbanEye-no-clsw-no-Synth.yaml\")  # train with custom settings\n",
    "\n"
   ]
  },
  {
   "cell_type": "code",
   "execution_count": null,
   "id": "9d5067e0",
   "metadata": {},
   "outputs": [],
   "source": [
    "import os\n",
    "os.environ.pop(\"COMET_EXPERIMENT_NAME\", None)\n",
    "os.environ[\"COMET_EXPERIMENT_NAME\"] = \"Urban-Eye-improved-synth\"\n",
    "from ultralytics import YOLO\n",
    "# Load a pretrained YOLOv8 model\n",
    "model = YOLO('yolo11l.pt')  # load an official model\n",
    "print(\"=========================================================================\")\n",
    "result = model.train(cfg=\"cfg/urbanyet-settings.yaml\", data=\"urbanEye-synth-no_clsw.yaml\")  # train with custom settings\n",
    "\n"
   ]
  },
  {
   "cell_type": "code",
   "execution_count": null,
   "id": "8044ebb8",
   "metadata": {},
   "outputs": [],
   "source": [
    "import os\n",
    "os.environ.pop(\"COMET_EXPERIMENT_NAME\", None)\n",
    "os.environ[\"COMET_EXPERIMENT_NAME\"] = \"Urban-Eye-improved-synth-clsw\"\n",
    "from ultralytics import YOLO\n",
    "# Load a pretrained YOLOv8 model\n",
    "model = YOLO('yolo11l.pt')  # load an official model\n",
    "print(\"=========================================================================\")\n",
    "result = model.train(cfg=\"cfg/urbanyet-settings.yaml\", data=\"urbanEye_synth_clsw.yaml\")  # train with custom settings\n",
    "\n"
   ]
  }
 ],
 "metadata": {
  "language_info": {
   "name": "python"
  }
 },
 "nbformat": 4,
 "nbformat_minor": 5
}
