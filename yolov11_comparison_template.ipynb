{
 "cells": [
  {
   "cell_type": "markdown",
   "id": "ec58ee85",
   "metadata": {},
   "source": [
    "# 🧠 Deep Learning Project: YOLOv11 Performance Comparison\n",
    "\n",
    "This notebook documents baseline and improved performance of a YOLOv11 object detection model on the `urbanEye` dataset."
   ]
  },
  {
   "cell_type": "markdown",
   "id": "9f2659ef",
   "metadata": {},
   "source": [
    "## 1. 🎯 Objective\n",
    "- **Dataset**: urbanEye (11-class urban visual pollution dataset)\n",
    "- **Task**: Object detection using YOLOv11\n",
    "- **Goal**: Establish a baseline, apply preprocessing and tuning, and compare performance."
   ]
  },
  {
   "cell_type": "markdown",
   "id": "e1ae86f0",
   "metadata": {},
   "source": [
    "## 2. ⚙️ Baseline Model Training\n",
    "- No class filtering or augmentation\n",
    "- Raw CSV labels directly converted\n",
    "- Standard YOLOv11 hyperparameters\n",
    "\n",
    "```yaml\n",
    "mosaic: 1.0\n",
    "mixup: 0.3\n",
    "copy_paste: 0.5\n",
    "```\n",
    "\n",
    "- Trained for 100 epochs\n",
    "- Metrics logged below:"
   ]
  },
  {
   "cell_type": "code",
   "execution_count": null,
   "id": "2b8ca094",
   "metadata": {},
   "outputs": [],
   "source": [
    "# 📊 Baseline results\n",
    "# Replace this with your actual metrics\n",
    "baseline_metrics = {\n",
    "    'mAP@0.5': 0.41,\n",
    "    'Precision': 0.55,\n",
    "    'Recall': 0.48,\n",
    "    'F1': 0.51\n",
    "}\n",
    "print(baseline_metrics)"
   ]
  },
  {
   "cell_type": "markdown",
   "id": "905e8581",
   "metadata": {},
   "source": [
    "## 3. 🛠 Improvements & Tuning\n",
    "| Step | Change Made | Reason |\n",
    "|------|-------------|--------|\n",
    "| 1 | Dropped classes with <2 boxes | Remove noisy/rare labels |\n",
    "| 2 | Synthetic image generation | Balance class distribution |\n",
    "| 3 | Applied class weights | Prioritize underrepresented classes |\n",
    "| 4 | Disabled mixup for synthetic | Avoid overblending weak samples |\n",
    "| 5 | Lowered mixup, disabled shear | Improve box precision |"
   ]
  },
  {
   "cell_type": "code",
   "execution_count": null,
   "id": "84bbf1eb",
   "metadata": {},
   "outputs": [],
   "source": [
    "# 📋 Final training config (hyp)\n",
    "hyp = {\n",
    "    'mosaic': 1.0,\n",
    "    'mixup': 0.15,\n",
    "    'copy_paste': 0.1,\n",
    "    'hsv_h': 0.015,\n",
    "    'hsv_s': 0.7,\n",
    "    'hsv_v': 0.4,\n",
    "    'degrees': 0.0,\n",
    "    'translate': 0.1,\n",
    "    'scale': 0.5,\n",
    "    'shear': 0.0,\n",
    "    'perspective': 0.0,\n",
    "    'flipud': 0.0,\n",
    "    'fliplr': 0.5,\n",
    "    'copy_paste_mode': 'flip'\n",
    "}\n",
    "hyp"
   ]
  },
  {
   "cell_type": "markdown",
   "id": "850e7f03",
   "metadata": {},
   "source": [
    "## 4. 🚀 Improved Model Training\n",
    "- Cleaned dataset (invalid classes removed)\n",
    "- Synthetic samples added\n",
    "- Adjusted augmentation via `hyp`\n",
    "- Trained for 500 epochs\n",
    "- Class weights added to loss function\n",
    "\n",
    "Results below:"
   ]
  },
  {
   "cell_type": "code",
   "execution_count": null,
   "id": "9dd9818f",
   "metadata": {},
   "outputs": [],
   "source": [
    "# 📊 Improved model results\n",
    "# Replace with your actual improved metrics\n",
    "improved_metrics = {\n",
    "    'mAP@0.5': 0.65,\n",
    "    'Precision': 0.72,\n",
    "    'Recall': 0.69,\n",
    "    'F1': 0.70\n",
    "}\n",
    "print(improved_metrics)"
   ]
  },
  {
   "cell_type": "markdown",
   "id": "9f18c6bb",
   "metadata": {},
   "source": [
    "## 5. 🔍 Comparison Table"
   ]
  },
  {
   "cell_type": "code",
   "execution_count": null,
   "id": "70822fe8",
   "metadata": {},
   "outputs": [],
   "source": [
    "# 📊 Side-by-side metric comparison\n",
    "import pandas as pd\n",
    "pd.DataFrame([\n",
    "    ['mAP@0.5', 0.41, 0.65],\n",
    "    ['Precision', 0.55, 0.72],\n",
    "    ['Recall', 0.48, 0.69],\n",
    "    ['F1 Score', 0.51, 0.70]\n",
    "], columns=[\"Metric\", \"Baseline\", \"Improved\"])"
   ]
  },
  {
   "cell_type": "markdown",
   "id": "81b4775e",
   "metadata": {},
   "source": [
    "## 6. 📸 Visual Comparison (Optional)\n",
    "Insert side-by-side image predictions here to visually showcase model improvement."
   ]
  }
 ],
 "metadata": {
  "language_info": {
   "name": "python"
  }
 },
 "nbformat": 4,
 "nbformat_minor": 5
}
